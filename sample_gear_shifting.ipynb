{
 "cells": [
  {
   "cell_type": "markdown",
   "metadata": {},
   "source": [
    "# Different gear shifting"
   ]
  },
  {
   "cell_type": "code",
   "execution_count": 2,
   "metadata": {},
   "outputs": [
    {
     "data": {
      "text/html": [
       "        <script type=\"text/javascript\">\n",
       "        window.PlotlyConfig = {MathJaxConfig: 'local'};\n",
       "        if (window.MathJax) {MathJax.Hub.Config({SVG: {font: \"STIX-Web\"}});}\n",
       "        if (typeof require !== 'undefined') {\n",
       "        require.undef(\"plotly\");\n",
       "        requirejs.config({\n",
       "            paths: {\n",
       "                'plotly': ['https://cdn.plot.ly/plotly-latest.min']\n",
       "            }\n",
       "        });\n",
       "        require(['plotly'], function(Plotly) {\n",
       "            window._Plotly = Plotly;\n",
       "        });\n",
       "        }\n",
       "        </script>\n",
       "        "
      ]
     },
     "metadata": {},
     "output_type": "display_data"
    }
   ],
   "source": [
    "import numpy as np\n",
    "import schedula as sh\n",
    "from plotly import graph_objs as go\n",
    "from co2mpas_driver import dsp as driver\n",
    "from plotly.offline import download_plotlyjs, init_notebook_mode, plot, iplot\n",
    "init_notebook_mode(connected=True)"
   ]
  },
  {
   "cell_type": "markdown",
   "metadata": {},
   "source": [
    "# Processing chain model"
   ]
  },
  {
   "cell_type": "code",
   "execution_count": 3,
   "metadata": {},
   "outputs": [
    {
     "name": "stdout",
     "output_type": "stream",
     "text": [
      " * Serving Flask app \"C:\\Users\\Ashenafi\\AppData\\Local\\Temp\\tmp6ox9aga6\" (lazy loading)\n",
      " * Environment: production\n",
      "   WARNING: Do not use the development server in a production environment.\n",
      "   Use a production WSGI server instead.\n",
      " * Debug mode: off\n"
     ]
    },
    {
     "name": "stderr",
     "output_type": "stream",
     "text": [
      " * Running on http://localhost:60040/ (Press CTRL+C to quit)\n"
     ]
    },
    {
     "data": {
      "text/html": [
       "\n",
       "        <iframe\n",
       "            width=\"100%\"\n",
       "            height=\"500\"\n",
       "            src=\"http://localhost:60040\"\n",
       "            frameborder=\"0\"\n",
       "            allowfullscreen\n",
       "        ></iframe>\n",
       "        "
      ],
      "text/plain": [
       "Site(SiteMap([(Dispatcher 2396912011584, SiteMap([(load, SiteMap()), (model, SiteMap()), (plot, SiteMap())]))]), host='localhost', port=0, depth=-1, index=False, root_path=None)"
      ]
     },
     "execution_count": 3,
     "metadata": {},
     "output_type": "execute_result"
    },
    {
     "name": "stderr",
     "output_type": "stream",
     "text": [
      "127.0.0.1 - - [07/Oct/2019 13:31:58] \"GET / HTTP/1.1\" 200 -\n"
     ]
    }
   ],
   "source": [
    "driver.plot(view=False).site(index=False)  # Click on the graph to see the model."
   ]
  },
  {
   "cell_type": "code",
   "execution_count": 4,
   "metadata": {},
   "outputs": [
    {
     "name": "stdout",
     "output_type": "stream",
     "text": [
      " * Serving Flask app \"C:\\Users\\Ashenafi\\AppData\\Local\\Temp\\tmp0zzu0gop\" (lazy loading)\n",
      " * Environment: production\n",
      "   WARNING: Do not use the development server in a production environment.\n",
      "   Use a production WSGI server instead.\n",
      " * Debug mode: off\n"
     ]
    },
    {
     "name": "stderr",
     "output_type": "stream",
     "text": [
      " * Running on http://localhost:60051/ (Press CTRL+C to quit)\n"
     ]
    },
    {
     "data": {
      "text/html": [
       "\n",
       "        <iframe\n",
       "            width=\"100%\"\n",
       "            height=\"500\"\n",
       "            src=\"http://localhost:60051\"\n",
       "            frameborder=\"0\"\n",
       "            allowfullscreen\n",
       "        ></iframe>\n",
       "        "
      ],
      "text/plain": [
       "Site(SiteMap([(model, SiteMap())]), host='localhost', port=0, depth=-1, index=False, root_path=None)"
      ]
     },
     "execution_count": 4,
     "metadata": {},
     "output_type": "execute_result"
    },
    {
     "name": "stderr",
     "output_type": "stream",
     "text": [
      "127.0.0.1 - - [07/Oct/2019 13:32:01] \"GET / HTTP/1.1\" 200 -\n"
     ]
    }
   ],
   "source": [
    "driver.get_node('model')[0].plot(view=False).site(index=False)  # Click on the graph to see the model."
   ]
  },
  {
   "cell_type": "code",
   "execution_count": 5,
   "metadata": {},
   "outputs": [
    {
     "name": "stdout",
     "output_type": "stream",
     "text": [
      " * Serving Flask app \"C:\\Users\\Ashenafi\\AppData\\Local\\Temp\\tmp40gag50f\" (lazy loading)\n",
      " * Environment: production\n",
      "   WARNING: Do not use the development server in a production environment.\n",
      "   Use a production WSGI server instead.\n",
      " * Debug mode: off\n"
     ]
    },
    {
     "name": "stderr",
     "output_type": "stream",
     "text": [
      " * Running on http://localhost:60058/ (Press CTRL+C to quit)\n"
     ]
    },
    {
     "data": {
      "text/html": [
       "\n",
       "        <iframe\n",
       "            width=\"100%\"\n",
       "            height=\"500\"\n",
       "            src=\"http://localhost:60058\"\n",
       "            frameborder=\"0\"\n",
       "            allowfullscreen\n",
       "        ></iframe>\n",
       "        "
      ],
      "text/plain": [
       "Site(SiteMap([(Dispatcher 2396912011584, SiteMap([(load, SiteMap()), (model, SiteMap()), (plot, SiteMap())]))]), host='localhost', port=0, depth=-1, index=False, root_path=None)"
      ]
     },
     "execution_count": 5,
     "metadata": {},
     "output_type": "execute_result"
    },
    {
     "name": "stderr",
     "output_type": "stream",
     "text": [
      "127.0.0.1 - - [07/Oct/2019 13:32:03] \"GET / HTTP/1.1\" 200 -\n"
     ]
    }
   ],
   "source": [
    "# user inputs to co2mpas driver model in order to extract the drivers acceleration behavior.\n",
    "sol = driver(dict(vehicle_id=27748, inputs=dict(inputs={'gear_shifting_style': 1, 'desired_velocity': 40})))\n",
    "sol.plot(view=False).site(index=False)"
   ]
  },
  {
   "cell_type": "code",
   "execution_count": 6,
   "metadata": {},
   "outputs": [
    {
     "data": {
      "text/plain": [
       "['ignition_type',\n",
       " 'full_load_curve',\n",
       " 'engine_max_power',\n",
       " 'engine_max_speed_at_max_power',\n",
       " 'idle_engine_speed',\n",
       " 'full_load_speeds',\n",
       " 'full_load_powers',\n",
       " 'full_load_torques',\n",
       " 'vehicle_mass',\n",
       " 'r_dynamic',\n",
       " 'car_type',\n",
       " 'final_drive',\n",
       " 'gear_box_ratios',\n",
       " 'veh_params',\n",
       " 'engine_max_torque',\n",
       " 'fuel_eng_capacity',\n",
       " 'speed',\n",
       " 'acceleration',\n",
       " 'max_power',\n",
       " 'fuel_engine_stroke',\n",
       " 'fuel_type',\n",
       " 'fuel_turbo',\n",
       " 'hardcoded_params',\n",
       " 'road_loads',\n",
       " 'slope',\n",
       " 'gear',\n",
       " 'gear_count',\n",
       " 'sim_step',\n",
       " 'fc',\n",
       " 'gearbox_type',\n",
       " 'gb_type',\n",
       " 'type_of_car',\n",
       " 'car_width',\n",
       " 'car_height',\n",
       " 'sp',\n",
       " 'gs',\n",
       " 'fp',\n",
       " 'tyre_radius',\n",
       " 'driveline_slippage',\n",
       " 'final_drive_ratio',\n",
       " 'driveline_efficiency',\n",
       " 'speed_per_gear',\n",
       " 'acc_per_gear',\n",
       " 'degree',\n",
       " 'coefs_per_gear',\n",
       " 'motor_max_power',\n",
       " 'motor_max_torque',\n",
       " 'vehicle_max_speed',\n",
       " 'poly_spline',\n",
       " 'start',\n",
       " 'stop',\n",
       " 'use_cubic',\n",
       " 'sp_bins',\n",
       " 'discrete_poly_spline',\n",
       " 'car_res_curve_force',\n",
       " 'discrete_car_res_curve_force',\n",
       " 'car_res_curve',\n",
       " 'discrete_car_res_curve',\n",
       " 'Alimit',\n",
       " 'curves',\n",
       " 'discrete_acceleration_curves',\n",
       " 'gear_shifting_style',\n",
       " 'use_linear_gs',\n",
       " 'idle_engine_speed_median',\n",
       " 'idle_engine_speed_std',\n",
       " 'Tans',\n",
       " 'tans',\n",
       " 'duration',\n",
       " 'times',\n",
       " 'transmission',\n",
       " 'starting_speed',\n",
       " 'desired_velocity',\n",
       " 'driver_style',\n",
       " 'gears',\n",
       " 'velocities',\n",
       " 'accelerations']"
      ]
     },
     "execution_count": 6,
     "metadata": {},
     "output_type": "execute_result"
    }
   ],
   "source": [
    "list(driver.get_node('model')[0].dsp.data_nodes)"
   ]
  },
  {
   "cell_type": "code",
   "execution_count": 7,
   "metadata": {},
   "outputs": [
    {
     "data": {
      "application/vnd.plotly.v1+json": {
       "config": {
        "linkText": "Export to plot.ly",
        "plotlyServerURL": "https://plot.ly",
        "showLink": false
       },
       "data": [
        {
         "name": "gear 0",
         "type": "scatter",
         "uid": "72903b04-5623-4bc5-8f9f-449342a71e96",
         "x": [
          1.966588756273578,
          2.798607076235476,
          3.6306253961973747,
          4.462643716159273,
          5.294662036121171,
          6.12668035608307,
          6.9586986760449685,
          7.790716996006866,
          8.622735315968765,
          9.454753635930663,
          10.286771955892563,
          11.11879027585446
         ],
         "y": [
          4.435345706200401,
          4.765903936018543,
          4.970109080077352,
          5.096646394073965,
          5.16316878423973,
          5.194622822520967,
          5.18981175551143,
          5.092856918347369,
          4.913825169320956,
          4.634513501174569,
          4.077826536435578,
          3.3636752805040087
         ]
        },
        {
         "name": "gear 1",
         "type": "scatter",
         "uid": "686787ad-e8e4-4caa-b2f7-bbf18c3c1f5f",
         "x": [
          3.7328768058896618,
          5.312170839150672,
          6.8914648724116825,
          8.470758905672692,
          10.050052938933703,
          11.629346972194714,
          13.208641005455725,
          14.787935038716736,
          16.367229071977746,
          17.946523105238754,
          19.52581713849977,
          21.10511117176078
         ],
         "y": [
          2.3366699330226504,
          2.510817683365867,
          2.6183989299919705,
          2.6850624905365286,
          2.720108432672639,
          2.7366793406451926,
          2.734144729732851,
          2.683066083812273,
          2.588746918471528,
          2.4415973567163585,
          2.148318370414841,
          1.772082586802112
         ]
        },
        {
         "name": "gear 2",
         "type": "scatter",
         "uid": "a3d83a16-f542-4b66-aef0-e938b5308de4",
         "x": [
          6.017174552777365,
          8.562902248183173,
          11.108629943588982,
          13.654357638994789,
          16.200085334400594,
          18.745813029806406,
          21.29154072521221,
          23.83726842061802,
          26.38299611602383,
          28.928723811429634,
          31.47445150683545,
          34.02017920224125
         ],
         "y": [
          1.4496007917825702,
          1.557636896162158,
          1.6243771139765004,
          1.6657332117217354,
          1.6874746758246926,
          1.697754776140999,
          1.6961823786305652,
          1.664494700142799,
          1.6059818846073368,
          1.5146946564814445,
          1.3327530631277256,
          1.09934753070131
         ]
        },
        {
         "name": "gear 3",
         "type": "scatter",
         "uid": "6eadda94-4a09-4632-aaff-99c3f14ab2d0",
         "x": [
          8.312385464661515,
          11.829163930479847,
          15.345942396298181,
          18.862720862116515,
          22.379499327934845,
          25.896277793753182,
          29.413056259571512,
          32.929834725389846,
          36.44661319120818,
          39.96339165702651,
          43.480170122844854,
          46.99694858866318
         ],
         "y": [
          1.0493378865888754,
          1.1275431263263382,
          1.1758550750426906,
          1.2057919517687188,
          1.221530175783546,
          1.2289717409378873,
          1.2278335128892897,
          1.2048954172675486,
          1.162539125424714,
          1.0964580722291053,
          0.9647540830103685,
          0.7957963468509484
         ]
        },
        {
         "name": "gear 4",
         "type": "scatter",
         "uid": "5a1a3f17-2c99-4815-b73b-47c1443db08e",
         "x": [
          10.471446624313856,
          14.901674042292793,
          19.331901460271734,
          23.76212887825067,
          28.192356296229608,
          32.62258371420855,
          37.052811132187486,
          41.48303855016643,
          45.91326596814537,
          50.3434933861243,
          54.773720804103256,
          59.20394822208219
         ],
         "y": [
          0.8329795594571485,
          0.8950600074961655,
          0.9334107296730637,
          0.9571750544968182,
          0.969668283869413,
          0.9755755056929623,
          0.9746719638399517,
          0.9564633724701159,
          0.9228403366773504,
          0.8703842429035167,
          0.7658357153793647,
          0.6317146258507529
         ]
        },
        {
         "name": "gear 0",
         "type": "scatter",
         "uid": "95dc6aa2-c37e-4518-b6e0-cd8a040d69e8",
         "x": [
          1.966588756273578,
          2.798607076235476,
          3.6306253961973747,
          4.462643716159273,
          5.294662036121171,
          6.12668035608307,
          6.9586986760449685,
          7.790716996006866,
          8.622735315968765,
          9.454753635930663,
          10.286771955892563,
          11.11879027585446
         ],
         "y": [
          4.439136767921206,
          4.760036835807604,
          4.967449507042438,
          5.096868394467874,
          5.170967854733329,
          5.199602988295464,
          5.179809639418184,
          5.0958043961726425,
          4.918984590437239,
          4.607928297897619,
          4.108394338046667,
          3.3533222741845274
         ]
        },
        {
         "name": "gear 1",
         "type": "scatter",
         "uid": "7d64ee8c-daeb-48e4-a491-4f4c2314649e",
         "x": [
          3.7328768058896618,
          5.312170839150672,
          6.8914648724116825,
          8.470758905672692,
          10.050052938933703,
          11.629346972194714,
          13.208641005455725,
          14.787935038716736,
          16.367229071977746,
          17.946523105238754,
          19.52581713849977,
          21.10511117176078
         ],
         "y": [
          2.338667175295072,
          2.5077267232547387,
          2.6169977890760174,
          2.6851794468416137,
          2.724217211274146,
          2.739303037736148,
          2.7288753222300706,
          2.684618901398274,
          2.591465052523038,
          2.4275914935265552,
          2.164422382970929,
          1.766628320058189
         ]
        },
        {
         "name": "gear 2",
         "type": "scatter",
         "uid": "f46c64b9-67d1-4ae7-b470-5f1a030a34da",
         "x": [
          6.017174552777365,
          8.562902248183173,
          11.108629943588982,
          13.654357638994789,
          16.200085334400594,
          18.745813029806406,
          21.29154072521221,
          23.83726842061802,
          26.38299611602383,
          28.928723811429634,
          31.47445150683545,
          34.02017920224125
         ],
         "y": [
          1.4508398217108334,
          1.5557193560932183,
          1.6235078876675302,
          1.6658057679480394,
          1.6900236403274809,
          1.699382440077057,
          1.6929133943464338,
          1.6654580221637452,
          1.6076681344355879,
          1.506005833947028,
          1.342743515361593,
          1.0959638652212806
         ]
        },
        {
         "name": "gear 3",
         "type": "scatter",
         "uid": "22c04aa3-1975-4a12-b39e-13a549f12917",
         "x": [
          8.312385464661515,
          11.829163930479847,
          15.345942396298181,
          18.862720862116515,
          22.379499327934845,
          25.896277793753182,
          29.413056259571512,
          32.929834725389846,
          36.44661319120818,
          39.96339165702651,
          43.480170122844854,
          46.99694858866318
         ],
         "y": [
          1.0502347963130672,
          1.1261550562764346,
          1.1752258589832123,
          1.205844473813133,
          1.2233753217295944,
          1.2301499752796605,
          1.2254671585940604,
          1.2055927473871881,
          1.1637597689571046,
          1.0901684021855347,
          0.9719859775378699,
          0.7933469770631677
         ]
        },
        {
         "name": "gear 4",
         "type": "scatter",
         "uid": "f21b330d-d0e5-4a47-abcc-ae9e32231f2a",
         "x": [
          10.471446624313856,
          14.901674042292793,
          19.331901460271734,
          23.76212887825067,
          28.192356296229608,
          32.62258371420855,
          37.052811132187486,
          41.48303855016643,
          45.91326596814537,
          50.3434933861243,
          54.773720804103256,
          59.20394822208219
         ],
         "y": [
          0.8336915393412976,
          0.8939581374565495,
          0.9329112488835797,
          0.9572167472537227,
          0.9711329873523569,
          0.976510805118904,
          0.9727935176468294,
          0.957016923183643,
          0.9238093011308965,
          0.8653914120441878,
          0.7715764976331556,
          0.6297702807614847
         ]
        },
        {
         "line": {
          "color": "#0D1A00"
         },
         "type": "scatter",
         "uid": "398c7e1d-56b0-4c83-abab-e3fd44d24c68",
         "x": [
          11.11879027585446,
          11.11879027585446
         ],
         "y": [
          0,
          5
         ]
        },
        {
         "line": {
          "color": "#0D1A00"
         },
         "type": "scatter",
         "uid": "e2a8363f-4dcc-415e-93c7-ccc3737828cb",
         "x": [
          21.10511117176078,
          21.10511117176078
         ],
         "y": [
          0,
          5
         ]
        },
        {
         "line": {
          "color": "#0D1A00"
         },
         "type": "scatter",
         "uid": "c2a7dd40-15fc-41db-b1fa-b32b06657f5a",
         "x": [
          34.02017920224125,
          34.02017920224125
         ],
         "y": [
          0,
          5
         ]
        },
        {
         "line": {
          "color": "#0D1A00"
         },
         "type": "scatter",
         "uid": "8e240ad3-ee4f-401d-ad27-801a62a16a66",
         "x": [
          46.99694858866318,
          46.99694858866318
         ],
         "y": [
          0,
          5
         ]
        }
       ],
       "layout": {
        "title": {
         "text": "Acceleration-Velocity per gear"
        },
        "xaxis": {
         "title": {
          "text": "velocity (in m/s)"
         }
        },
        "yaxis": {
         "title": {
          "text": "Acceleration (in m/s2"
         }
        }
       }
      },
      "text/html": [
       "<div>\n",
       "        \n",
       "        \n",
       "            <div id=\"7dfa958c-ef1d-42fb-b5ad-d87d786e1fff\" class=\"plotly-graph-div\" style=\"height:525px; width:100%;\"></div>\n",
       "            <script type=\"text/javascript\">\n",
       "                require([\"plotly\"], function(Plotly) {\n",
       "                    window.PLOTLYENV=window.PLOTLYENV || {};\n",
       "                    window.PLOTLYENV.BASE_URL='https://plot.ly';\n",
       "                    \n",
       "                if (document.getElementById(\"7dfa958c-ef1d-42fb-b5ad-d87d786e1fff\")) {\n",
       "                    Plotly.newPlot(\n",
       "                        '7dfa958c-ef1d-42fb-b5ad-d87d786e1fff',\n",
       "                        [{\"name\": \"gear 0\", \"type\": \"scatter\", \"uid\": \"72903b04-5623-4bc5-8f9f-449342a71e96\", \"x\": [1.966588756273578, 2.798607076235476, 3.6306253961973747, 4.462643716159273, 5.294662036121171, 6.12668035608307, 6.9586986760449685, 7.790716996006866, 8.622735315968765, 9.454753635930663, 10.286771955892563, 11.11879027585446], \"y\": [4.435345706200401, 4.765903936018543, 4.970109080077352, 5.096646394073965, 5.16316878423973, 5.194622822520967, 5.18981175551143, 5.092856918347369, 4.913825169320956, 4.634513501174569, 4.077826536435578, 3.3636752805040087]}, {\"name\": \"gear 1\", \"type\": \"scatter\", \"uid\": \"686787ad-e8e4-4caa-b2f7-bbf18c3c1f5f\", \"x\": [3.7328768058896618, 5.312170839150672, 6.8914648724116825, 8.470758905672692, 10.050052938933703, 11.629346972194714, 13.208641005455725, 14.787935038716736, 16.367229071977746, 17.946523105238754, 19.52581713849977, 21.10511117176078], \"y\": [2.3366699330226504, 2.510817683365867, 2.6183989299919705, 2.6850624905365286, 2.720108432672639, 2.7366793406451926, 2.734144729732851, 2.683066083812273, 2.588746918471528, 2.4415973567163585, 2.148318370414841, 1.772082586802112]}, {\"name\": \"gear 2\", \"type\": \"scatter\", \"uid\": \"a3d83a16-f542-4b66-aef0-e938b5308de4\", \"x\": [6.017174552777365, 8.562902248183173, 11.108629943588982, 13.654357638994789, 16.200085334400594, 18.745813029806406, 21.29154072521221, 23.83726842061802, 26.38299611602383, 28.928723811429634, 31.47445150683545, 34.02017920224125], \"y\": [1.4496007917825702, 1.557636896162158, 1.6243771139765004, 1.6657332117217354, 1.6874746758246926, 1.697754776140999, 1.6961823786305652, 1.664494700142799, 1.6059818846073368, 1.5146946564814445, 1.3327530631277256, 1.09934753070131]}, {\"name\": \"gear 3\", \"type\": \"scatter\", \"uid\": \"6eadda94-4a09-4632-aaff-99c3f14ab2d0\", \"x\": [8.312385464661515, 11.829163930479847, 15.345942396298181, 18.862720862116515, 22.379499327934845, 25.896277793753182, 29.413056259571512, 32.929834725389846, 36.44661319120818, 39.96339165702651, 43.480170122844854, 46.99694858866318], \"y\": [1.0493378865888754, 1.1275431263263382, 1.1758550750426906, 1.2057919517687188, 1.221530175783546, 1.2289717409378873, 1.2278335128892897, 1.2048954172675486, 1.162539125424714, 1.0964580722291053, 0.9647540830103685, 0.7957963468509484]}, {\"name\": \"gear 4\", \"type\": \"scatter\", \"uid\": \"5a1a3f17-2c99-4815-b73b-47c1443db08e\", \"x\": [10.471446624313856, 14.901674042292793, 19.331901460271734, 23.76212887825067, 28.192356296229608, 32.62258371420855, 37.052811132187486, 41.48303855016643, 45.91326596814537, 50.3434933861243, 54.773720804103256, 59.20394822208219], \"y\": [0.8329795594571485, 0.8950600074961655, 0.9334107296730637, 0.9571750544968182, 0.969668283869413, 0.9755755056929623, 0.9746719638399517, 0.9564633724701159, 0.9228403366773504, 0.8703842429035167, 0.7658357153793647, 0.6317146258507529]}, {\"name\": \"gear 0\", \"type\": \"scatter\", \"uid\": \"95dc6aa2-c37e-4518-b6e0-cd8a040d69e8\", \"x\": [1.966588756273578, 2.798607076235476, 3.6306253961973747, 4.462643716159273, 5.294662036121171, 6.12668035608307, 6.9586986760449685, 7.790716996006866, 8.622735315968765, 9.454753635930663, 10.286771955892563, 11.11879027585446], \"y\": [4.439136767921206, 4.760036835807604, 4.967449507042438, 5.096868394467874, 5.170967854733329, 5.199602988295464, 5.179809639418184, 5.0958043961726425, 4.918984590437239, 4.607928297897619, 4.108394338046667, 3.3533222741845274]}, {\"name\": \"gear 1\", \"type\": \"scatter\", \"uid\": \"7d64ee8c-daeb-48e4-a491-4f4c2314649e\", \"x\": [3.7328768058896618, 5.312170839150672, 6.8914648724116825, 8.470758905672692, 10.050052938933703, 11.629346972194714, 13.208641005455725, 14.787935038716736, 16.367229071977746, 17.946523105238754, 19.52581713849977, 21.10511117176078], \"y\": [2.338667175295072, 2.5077267232547387, 2.6169977890760174, 2.6851794468416137, 2.724217211274146, 2.739303037736148, 2.7288753222300706, 2.684618901398274, 2.591465052523038, 2.4275914935265552, 2.164422382970929, 1.766628320058189]}, {\"name\": \"gear 2\", \"type\": \"scatter\", \"uid\": \"f46c64b9-67d1-4ae7-b470-5f1a030a34da\", \"x\": [6.017174552777365, 8.562902248183173, 11.108629943588982, 13.654357638994789, 16.200085334400594, 18.745813029806406, 21.29154072521221, 23.83726842061802, 26.38299611602383, 28.928723811429634, 31.47445150683545, 34.02017920224125], \"y\": [1.4508398217108334, 1.5557193560932183, 1.6235078876675302, 1.6658057679480394, 1.6900236403274809, 1.699382440077057, 1.6929133943464338, 1.6654580221637452, 1.6076681344355879, 1.506005833947028, 1.342743515361593, 1.0959638652212806]}, {\"name\": \"gear 3\", \"type\": \"scatter\", \"uid\": \"22c04aa3-1975-4a12-b39e-13a549f12917\", \"x\": [8.312385464661515, 11.829163930479847, 15.345942396298181, 18.862720862116515, 22.379499327934845, 25.896277793753182, 29.413056259571512, 32.929834725389846, 36.44661319120818, 39.96339165702651, 43.480170122844854, 46.99694858866318], \"y\": [1.0502347963130672, 1.1261550562764346, 1.1752258589832123, 1.205844473813133, 1.2233753217295944, 1.2301499752796605, 1.2254671585940604, 1.2055927473871881, 1.1637597689571046, 1.0901684021855347, 0.9719859775378699, 0.7933469770631677]}, {\"name\": \"gear 4\", \"type\": \"scatter\", \"uid\": \"f21b330d-d0e5-4a47-abcc-ae9e32231f2a\", \"x\": [10.471446624313856, 14.901674042292793, 19.331901460271734, 23.76212887825067, 28.192356296229608, 32.62258371420855, 37.052811132187486, 41.48303855016643, 45.91326596814537, 50.3434933861243, 54.773720804103256, 59.20394822208219], \"y\": [0.8336915393412976, 0.8939581374565495, 0.9329112488835797, 0.9572167472537227, 0.9711329873523569, 0.976510805118904, 0.9727935176468294, 0.957016923183643, 0.9238093011308965, 0.8653914120441878, 0.7715764976331556, 0.6297702807614847]}, {\"line\": {\"color\": \"#0D1A00\"}, \"type\": \"scatter\", \"uid\": \"398c7e1d-56b0-4c83-abab-e3fd44d24c68\", \"x\": [11.11879027585446, 11.11879027585446], \"y\": [0, 5]}, {\"line\": {\"color\": \"#0D1A00\"}, \"type\": \"scatter\", \"uid\": \"e2a8363f-4dcc-415e-93c7-ccc3737828cb\", \"x\": [21.10511117176078, 21.10511117176078], \"y\": [0, 5]}, {\"line\": {\"color\": \"#0D1A00\"}, \"type\": \"scatter\", \"uid\": \"c2a7dd40-15fc-41db-b1fa-b32b06657f5a\", \"x\": [34.02017920224125, 34.02017920224125], \"y\": [0, 5]}, {\"line\": {\"color\": \"#0D1A00\"}, \"type\": \"scatter\", \"uid\": \"8e240ad3-ee4f-401d-ad27-801a62a16a66\", \"x\": [46.99694858866318, 46.99694858866318], \"y\": [0, 5]}],\n",
       "                        {\"title\": {\"text\": \"Acceleration-Velocity per gear\"}, \"xaxis\": {\"title\": {\"text\": \"velocity (in m/s)\"}}, \"yaxis\": {\"title\": {\"text\": \"Acceleration (in m/s2\"}}},\n",
       "                        {\"showLink\": false, \"linkText\": \"Export to plot.ly\", \"plotlyServerURL\": \"https://plot.ly\", \"responsive\": true}\n",
       "                    ).then(function(){\n",
       "                            \n",
       "var gd = document.getElementById('7dfa958c-ef1d-42fb-b5ad-d87d786e1fff');\n",
       "var x = new MutationObserver(function (mutations, observer) {{\n",
       "        var display = window.getComputedStyle(gd).display;\n",
       "        if (!display || display === 'none') {{\n",
       "            console.log([gd, 'removed!']);\n",
       "            Plotly.purge(gd);\n",
       "            observer.disconnect();\n",
       "        }}\n",
       "}});\n",
       "\n",
       "// Listen for the removal of the full notebook cells\n",
       "var notebookContainer = gd.closest('#notebook-container');\n",
       "if (notebookContainer) {{\n",
       "    x.observe(notebookContainer, {childList: true});\n",
       "}}\n",
       "\n",
       "// Listen for the clearing of the current output cell\n",
       "var outputEl = gd.closest('.output');\n",
       "if (outputEl) {{\n",
       "    x.observe(outputEl, {childList: true});\n",
       "}}\n",
       "\n",
       "                        })\n",
       "                };\n",
       "                });\n",
       "            </script>\n",
       "        </div>"
      ]
     },
     "metadata": {},
     "output_type": "display_data"
    }
   ],
   "source": [
    "# plots final acceleration curve per gear.\n",
    "outputs = sol['outputs'] # outputs of the dispatcher\n",
    "layout = go.Layout(title=\"Acceleration-Velocity per gear\",\n",
    "                xaxis=dict(title='velocity (in m/s)'),\n",
    "                yaxis=dict(title='Acceleration (in m/s2'))\n",
    "data = [\n",
    "    dict(x=x , y=y, name='gear %d'%i) for i, (x, y) in enumerate(zip(outputs['speed_per_gear'],outputs['acc_per_gear']))\n",
    "] + [\n",
    "    dict(x=x, y=np.polyval(p, x), name='gear %d'%i) for i, (x, p) in enumerate(zip(outputs['speed_per_gear'], outputs['coefs_per_gear']))\n",
    "] + [dict(x=[gear, gear], y=[0,5], line=dict(color='#0D1A00')) for gear in outputs['gs']]\n",
    "fig = go.Figure(data=data, layout=layout)\n",
    "iplot(fig)"
   ]
  },
  {
   "cell_type": "code",
   "execution_count": null,
   "metadata": {},
   "outputs": [],
   "source": []
  }
 ],
 "metadata": {
  "kernelspec": {
   "display_name": "Python 3",
   "language": "python",
   "name": "python3"
  },
  "language_info": {
   "codemirror_mode": {
    "name": "ipython",
    "version": 3
   },
   "file_extension": ".py",
   "mimetype": "text/x-python",
   "name": "python",
   "nbconvert_exporter": "python",
   "pygments_lexer": "ipython3",
   "version": "3.7.3"
  }
 },
 "nbformat": 4,
 "nbformat_minor": 2
}

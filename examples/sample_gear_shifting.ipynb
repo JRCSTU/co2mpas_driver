{
 "cells": [
  {
   "cell_type": "markdown",
   "metadata": {},
   "source": [
    "# Vehicle simulation for different gear shifting"
   ]
  },
  {
   "cell_type": "markdown",
   "metadata": {},
   "source": [
    "This is an ipython notebook to present how to use the co2mpas driver model (i.e., MFC) to simulate the driver behaviour on an electric vehicle."
   ]
  },
  {
   "cell_type": "markdown",
   "metadata": {},
   "source": [
    "# Import co2mpas driver model and other libraries"
   ]
  },
  {
   "cell_type": "code",
   "execution_count": 1,
   "metadata": {},
   "outputs": [
    {
     "data": {
      "text/html": [
       "        <script type=\"text/javascript\">\n",
       "        window.PlotlyConfig = {MathJaxConfig: 'local'};\n",
       "        if (window.MathJax) {MathJax.Hub.Config({SVG: {font: \"STIX-Web\"}});}\n",
       "        if (typeof require !== 'undefined') {\n",
       "        require.undef(\"plotly\");\n",
       "        requirejs.config({\n",
       "            paths: {\n",
       "                'plotly': ['https://cdn.plot.ly/plotly-latest.min']\n",
       "            }\n",
       "        });\n",
       "        require(['plotly'], function(Plotly) {\n",
       "            window._Plotly = Plotly;\n",
       "        });\n",
       "        }\n",
       "        </script>\n",
       "        "
      ]
     },
     "metadata": {},
     "output_type": "display_data"
    }
   ],
   "source": [
    "import sys;\n",
    "sys.path.extend(['..'])\n",
    "import numpy as np\n",
    "import schedula as sh\n",
    "from plotly import graph_objs as go\n",
    "from co2mpas_driver import dsp as driver\n",
    "from plotly.offline import download_plotlyjs, init_notebook_mode, plot, iplot\n",
    "init_notebook_mode(connected=True)"
   ]
  },
  {
   "cell_type": "markdown",
   "metadata": {},
   "source": [
    "# Processing chain model"
   ]
  },
  {
   "cell_type": "code",
   "execution_count": 2,
   "metadata": {},
   "outputs": [
    {
     "name": "stdout",
     "output_type": "stream",
     "text": [
      " * Serving Flask app \"C:\\Users\\makieas\\AppData\\Local\\Temp\\tmpbchdm8ub\" (lazy loading)\n",
      " * Environment: production\n",
      "   WARNING: Do not use the development server in a production environment.\n",
      "   Use a production WSGI server instead.\n",
      " * Debug mode: off\n"
     ]
    },
    {
     "name": "stderr",
     "output_type": "stream",
     "text": [
      " * Running on http://localhost:53284/ (Press CTRL+C to quit)\n"
     ]
    },
    {
     "data": {
      "text/html": [
       "\n",
       "<iframe width=\"100%\" height=\"500\" id=\"1945626110272\" src=\"http://localhost:53284/\">\n",
       "</iframe>\n"
      ],
      "text/plain": [
       "Site(SiteMap([(Dispatcher 1947732362352, SiteMap([(load, SiteMap()), (model, SiteMap()), (plot, SiteMap())]))]), host='localhost', port=0, depth=-1, index=False, root_path=None)"
      ]
     },
     "execution_count": 2,
     "metadata": {},
     "output_type": "execute_result"
    }
   ],
   "source": [
    "driver.plot(view=False).site(index=False)  # Click on the graph to see the model."
   ]
  },
  {
   "cell_type": "markdown",
   "metadata": {},
   "source": [
    "# Plot co2mpas driver model graph"
   ]
  },
  {
   "cell_type": "code",
   "execution_count": 3,
   "metadata": {},
   "outputs": [
    {
     "name": "stdout",
     "output_type": "stream",
     "text": [
      " * Serving Flask app \"C:\\Users\\makieas\\AppData\\Local\\Temp\\tmppucv0x2u\" (lazy loading)\n",
      " * Environment: production\n",
      "   WARNING: Do not use the development server in a production environment.\n",
      "   Use a production WSGI server instead.\n",
      " * Debug mode: off\n"
     ]
    },
    {
     "name": "stderr",
     "output_type": "stream",
     "text": [
      " * Running on http://localhost:53291/ (Press CTRL+C to quit)\n"
     ]
    },
    {
     "data": {
      "text/html": [
       "\n",
       "<iframe width=\"100%\" height=\"500\" id=\"1945630477392\" src=\"http://localhost:53291/\">\n",
       "</iframe>\n"
      ],
      "text/plain": [
       "Site(SiteMap([(model, SiteMap())]), host='localhost', port=0, depth=-1, index=False, root_path=None)"
      ]
     },
     "execution_count": 3,
     "metadata": {},
     "output_type": "execute_result"
    }
   ],
   "source": [
    "driver.get_node('model')[0].plot(view=False).site(index=False)  # Click on the graph to see the model."
   ]
  },
  {
   "cell_type": "markdown",
   "metadata": {},
   "source": [
    "# User inputs to co2mpas driver model in order to extract the drivers acceleration behavior"
   ]
  },
  {
   "cell_type": "code",
   "execution_count": 4,
   "metadata": {},
   "outputs": [
    {
     "name": "stdout",
     "output_type": "stream",
     "text": [
      " * Serving Flask app \"C:\\Users\\makieas\\AppData\\Local\\Temp\\tmp99eldtmo\" (lazy loading)\n",
      " * Environment: production\n",
      "   WARNING: Do not use the development server in a production environment.\n",
      "   Use a production WSGI server instead.\n",
      " * Debug mode: off\n"
     ]
    },
    {
     "name": "stderr",
     "output_type": "stream",
     "text": [
      " * Running on http://localhost:53296/ (Press CTRL+C to quit)\n",
      "127.0.0.1 - - [06/Feb/2020 15:57:17] \"GET / HTTP/1.1\" 200 -\n"
     ]
    },
    {
     "data": {
      "text/html": [
       "\n",
       "<iframe width=\"100%\" height=\"500\" id=\"1945660040976\" src=\"http://localhost:53296/\">\n",
       "</iframe>\n"
      ],
      "text/plain": [
       "Site(SiteMap([(Dispatcher 1947732362352, SiteMap([(load, SiteMap()), (model, SiteMap()), (plot, SiteMap())]))]), host='localhost', port=0, depth=-1, index=False, root_path=None)"
      ]
     },
     "execution_count": 4,
     "metadata": {},
     "output_type": "execute_result"
    }
   ],
   "source": [
    "# Remember to Insert vehicle data base path (db_path)\n",
    "sol = driver(dict(vehicle_id=35476, db_path='../co2mpas_driver/db/EuroSegmentCar_cleaned.csv', \n",
    "                  inputs=dict(inputs={'gear_shifting_style': 1, 'desired_velocity': 40}))) # Insert vehicle data base path\n",
    "sol.plot(view=False).site(index=False)"
   ]
  },
  {
   "cell_type": "code",
   "execution_count": 5,
   "metadata": {},
   "outputs": [
    {
     "data": {
      "text/plain": [
       "['ignition_type',\n",
       " 'full_load_curve',\n",
       " 'engine_max_power',\n",
       " 'engine_max_speed_at_max_power',\n",
       " 'idle_engine_speed',\n",
       " 'full_load_speeds',\n",
       " 'full_load_powers',\n",
       " 'full_load_torques',\n",
       " 'vehicle_mass',\n",
       " 'r_dynamic',\n",
       " 'car_type',\n",
       " 'final_drive',\n",
       " 'gear_box_ratios',\n",
       " 'veh_params',\n",
       " 'engine_max_torque',\n",
       " 'fuel_eng_capacity',\n",
       " 'speed',\n",
       " 'acceleration',\n",
       " 'max_power',\n",
       " 'fuel_engine_stroke',\n",
       " 'fuel_type',\n",
       " 'fuel_turbo',\n",
       " 'hardcoded_params',\n",
       " 'road_loads',\n",
       " 'slope',\n",
       " 'gear',\n",
       " 'gear_count',\n",
       " 'sim_step',\n",
       " 'fc',\n",
       " 'tyre_radius',\n",
       " 'driveline_slippage',\n",
       " 'final_drive_ratio',\n",
       " 'driveline_efficiency',\n",
       " 'speed_per_gear',\n",
       " 'acc_per_gear',\n",
       " 'degree',\n",
       " 'coefs_per_gear',\n",
       " 'motor_max_power',\n",
       " 'motor_max_torque',\n",
       " 'vehicle_max_speed',\n",
       " 'poly_spline',\n",
       " 'start',\n",
       " 'stop',\n",
       " 'use_cubic',\n",
       " 'sp_bins',\n",
       " 'discrete_poly_spline',\n",
       " 'speed_per_gear_updated',\n",
       " 'acc_per_gear_updated',\n",
       " 'car_res_curve_force',\n",
       " 'discrete_car_res_curve_force',\n",
       " 'car_res_curve',\n",
       " 'discrete_car_res_curve',\n",
       " 'type_of_car',\n",
       " 'car_width',\n",
       " 'car_height',\n",
       " 'Alimit',\n",
       " 'curves',\n",
       " 'discrete_acceleration_curves',\n",
       " 'gear_shifting_style',\n",
       " 'use_linear_gs',\n",
       " 'gs',\n",
       " 'idle_engine_speed_median',\n",
       " 'idle_engine_speed_std',\n",
       " 'Tans',\n",
       " 'tans',\n",
       " 'sim_start',\n",
       " 'duration',\n",
       " 'times',\n",
       " 'transmission',\n",
       " 'driver_style',\n",
       " 'driver_simulation_model',\n",
       " 'starting_velocity',\n",
       " 'desired_velocity',\n",
       " 'gears',\n",
       " 'velocities',\n",
       " 'accelerations',\n",
       " 'positions']"
      ]
     },
     "execution_count": 5,
     "metadata": {},
     "output_type": "execute_result"
    }
   ],
   "source": [
    "list(driver.get_node('model')[0].dsp.data_nodes)"
   ]
  },
  {
   "cell_type": "markdown",
   "metadata": {},
   "source": [
    "# Compute and plot final acceleration curve per gear"
   ]
  },
  {
   "cell_type": "code",
   "execution_count": 6,
   "metadata": {},
   "outputs": [
    {
     "name": "stderr",
     "output_type": "stream",
     "text": [
      "127.0.0.1 - - [06/Feb/2020 15:57:18] \"GET / HTTP/1.1\" 200 -\n",
      "127.0.0.1 - - [06/Feb/2020 15:57:18] \"GET / HTTP/1.1\" 200 -\n"
     ]
    },
    {
     "data": {
      "application/vnd.plotly.v1+json": {
       "config": {
        "linkText": "Export to plot.ly",
        "plotlyServerURL": "https://plot.ly",
        "showLink": false
       },
       "data": [
        {
         "name": "gear 0",
         "type": "scatter",
         "x": [
          2.431299509204389,
          3.3107057146612955,
          4.190111920118203,
          5.069518125575109,
          5.948924331032016,
          6.828330536488924,
          7.70773674194583,
          8.587142947402736,
          9.466549152859642,
          10.34595535831655,
          11.225361563773454,
          12.104767769230364
         ],
         "y": [
          5.506099431783055,
          6.183126306807888,
          6.609418059611327,
          6.885754317107177,
          7.052735649561654,
          7.153295909443751,
          7.191082119379095,
          7.0913953063502575,
          6.869332622195839,
          6.500178051486053,
          5.735205793964977,
          4.741946227097763
         ]
        },
        {
         "name": "gear 1",
         "type": "scatter",
         "x": [
          4.513489345292251,
          6.146028044653278,
          7.778566744014305,
          9.411105443375332,
          11.043644142736358,
          12.676182842097386,
          14.308721541458414,
          15.941260240819439,
          17.573798940180463,
          19.20633763954149,
          20.83887633890252,
          22.47141503826355
         ],
         "y": [
          2.9659927878389385,
          3.3306895851589444,
          3.5603218829398036,
          3.70917704927044,
          3.799125557084316,
          3.853294757849534,
          3.8736492079528277,
          3.8199505103267963,
          3.7003311086414046,
          3.501477127181713,
          3.08940643597561,
          2.5543632991272482
         ]
        },
        {
         "name": "gear 2",
         "type": "scatter",
         "x": [
          6.876018924468663,
          9.363089599276478,
          11.850160274084294,
          14.337230948892106,
          16.82430162369992,
          19.311372298507738,
          21.798442973315552,
          24.285513648123363,
          26.772584322931177,
          29.259654997738995,
          31.746725672546805
         ],
         "y": [
          1.9469080863763286,
          2.1862988046171536,
          2.3370318000835635,
          2.4347418579826483,
          2.493784981060474,
          2.5293422000243093,
          2.542703069835702,
          2.507454693958102,
          2.4289352918261526,
          2.2984054988679965,
          2.027918070794246
         ]
        },
        {
         "name": "gear 3",
         "type": "scatter",
         "x": [
          9.073509508577205,
          12.35541720316896,
          15.637324897760717,
          18.919232592352472,
          22.201140286944227,
          25.483047981535986,
          28.76495567612774,
          32.04686337071949,
          35.328771065311244,
          38.610678759903,
          41.892586454494754
         ],
         "y": [
          1.4753912842070613,
          1.6568045628739365,
          1.771031911000825,
          1.845077814252475,
          1.8898214309598904,
          1.9167671359559217,
          1.9268921701098678,
          1.900180510265124,
          1.8406775258370058,
          1.7417604171109031,
          1.5367816630237645
         ]
        },
        {
         "name": "gear 4",
         "type": "scatter",
         "x": [
          11.283723363230624,
          15.365070111633193,
          19.44641686003576,
          23.527763608438327,
          27.609110356840894,
          31.690457105243464,
          35.771803853646034,
          39.85315060204859,
          43.93449735045115,
          48.01584409885373,
          52.09719084725629
         ],
         "y": [
          1.1863971151355752,
          1.3322758340635776,
          1.424128753175921,
          1.4836708197081758,
          1.5196502228337263,
          1.5413179031398136,
          1.549459683181131,
          1.5279802041307184,
          1.4801324434565617,
          1.4005908508726852,
          1.2357625743902438
         ]
        },
        {
         "name": "gear 5",
         "type": "scatter",
         "x": [
          13.540468035876751,
          18.43808413395983,
          23.335700232042914,
          28.23331633012599,
          33.13093242820907,
          38.028548526292155,
          42.92616462437524,
          47.82378072245832,
          52.721396820541386,
          57.61901291862448,
          62.51662901670755,
          67.41424511479065
         ],
         "y": [
          0.9886642626129792,
          1.1102298617196482,
          1.1867739609799344,
          1.2363923497568132,
          1.266375185694772,
          1.2844315859498445,
          1.2912164026509425,
          1.2733168367755985,
          1.233443702880468,
          1.1671590423939044,
          1.0298021453252033,
          0.851454433042416
         ]
        },
        {
         "name": "gear 0",
         "type": "scatter",
         "x": [
          2.431299509204389,
          3.3107057146612955,
          4.190111920118203,
          5.069518125575109,
          5.948924331032016,
          6.828330536488924,
          7.70773674194583,
          8.587142947402736,
          9.466549152859642,
          10.34595535831655,
          11.225361563773454,
          12.104767769230364
         ],
         "y": [
          5.514536620891502,
          6.168676798003213,
          6.6051689822226916,
          6.889551422559396,
          7.06667171629466,
          7.160686808981701,
          7.175062994445607,
          7.092575914783346,
          6.875310560363765,
          6.464661269827587,
          5.781331730087416,
          4.725334976327723
         ]
        },
        {
         "name": "gear 1",
         "type": "scatter",
         "x": [
          4.513489345292251,
          6.146028044653278,
          7.778566744014305,
          9.411105443375332,
          11.043644142736358,
          12.676182842097386,
          14.308721541458414,
          15.941260240819439,
          17.573798940180463,
          19.20633763954149,
          20.83887633890252,
          22.47141503826355
         ],
         "y": [
          2.9705376825244274,
          3.3229060099741075,
          3.558033015285705,
          3.711222451378682,
          3.806632554357621,
          3.8572760435122433,
          3.8650201213173863,
          3.8205864734330204,
          3.7035512687042442,
          3.4823451591612824,
          3.114253280019481,
          2.545415249679325
         ]
        },
        {
         "name": "gear 2",
         "type": "scatter",
         "x": [
          6.876018924468663,
          9.363089599276478,
          11.850160274084294,
          14.337230948892106,
          16.82430162369992,
          19.311372298507738,
          21.798442973315552,
          24.285513648123363,
          26.772584322931177,
          29.259654997738995,
          31.746725672546805
         ],
         "y": [
          1.9498914018621964,
          2.1811895860342894,
          2.33552936387985,
          2.4360844809049826,
          2.4987126510655195,
          2.5319555567670147,
          2.5370388488647504,
          2.5078721466637317,
          2.4310490379186867,
          2.285847078834071,
          2.044227794064068
         ]
        },
        {
         "name": "gear 3",
         "type": "scatter",
         "x": [
          9.073509508577205,
          12.35541720316896,
          15.637324897760717,
          18.919232592352472,
          22.201140286944227,
          25.483047981535986,
          28.76495567612774,
          32.04686337071949,
          35.328771065311244,
          38.610678759903,
          41.892586454494754
         ],
         "y": [
          1.4776520779736941,
          1.6529327331666095,
          1.7698933460651984,
          1.8460952706858067,
          1.893555680885588,
          1.9187475703625023,
          1.9225997526553176,
          1.9004968611436075,
          1.8422793490477551,
          1.732243489428945,
          1.549141375189179
         ]
        },
        {
         "name": "gear 4",
         "type": "scatter",
         "x": [
          11.283723363230624,
          15.365070111633193,
          19.44641686003576,
          23.527763608438327,
          27.609110356840894,
          31.690457105243464,
          35.771803853646034,
          39.85315060204859,
          43.93449735045115,
          48.01584409885373,
          52.09719084725629
         ],
         "y": [
          1.1882150730097778,
          1.3291624039896452,
          1.4232132061142826,
          1.4844889805514732,
          1.52265302174305,
          1.5429104174048995,
          1.5460080485269572,
          1.5282345893732114,
          1.481420507481701,
          1.3929380636645154,
          1.245701312007797
         ]
        },
        {
         "name": "gear 5",
         "type": "scatter",
         "x": [
          13.540468035876751,
          18.43808413395983,
          23.335700232042914,
          28.23331633012599,
          33.13093242820907,
          38.028548526292155,
          42.92616462437524,
          47.82378072245832,
          52.721396820541386,
          57.61901291862448,
          62.51662901670755,
          67.41424511479065
         ],
         "y": [
          0.9901792275081472,
          1.1076353366580385,
          1.1860110050952368,
          1.2370741504595617,
          1.2688775181192087,
          1.2857586811707495,
          1.2883400404391312,
          1.273528824477677,
          1.2345170895680844,
          1.16078171972043,
          1.038084426673164,
          0.8484717498931109
         ]
        },
        {
         "line": {
          "color": "#0D1A00"
         },
         "type": "scatter",
         "x": [
          12.104767769230364,
          12.104767769230364
         ],
         "y": [
          0,
          5
         ]
        },
        {
         "line": {
          "color": "#0D1A00"
         },
         "type": "scatter",
         "x": [
          22.47141503826355,
          22.47141503826355
         ],
         "y": [
          0,
          5
         ]
        },
        {
         "line": {
          "color": "#0D1A00"
         },
         "type": "scatter",
         "x": [
          31.746725672546805,
          31.746725672546805
         ],
         "y": [
          0,
          5
         ]
        },
        {
         "line": {
          "color": "#0D1A00"
         },
         "type": "scatter",
         "x": [
          41.892586454494754,
          41.892586454494754
         ],
         "y": [
          0,
          5
         ]
        },
        {
         "line": {
          "color": "#0D1A00"
         },
         "type": "scatter",
         "x": [
          52.09719084725629,
          52.09719084725629
         ],
         "y": [
          0,
          5
         ]
        }
       ],
       "layout": {
        "template": {
         "data": {
          "bar": [
           {
            "error_x": {
             "color": "#2a3f5f"
            },
            "error_y": {
             "color": "#2a3f5f"
            },
            "marker": {
             "line": {
              "color": "#E5ECF6",
              "width": 0.5
             }
            },
            "type": "bar"
           }
          ],
          "barpolar": [
           {
            "marker": {
             "line": {
              "color": "#E5ECF6",
              "width": 0.5
             }
            },
            "type": "barpolar"
           }
          ],
          "carpet": [
           {
            "aaxis": {
             "endlinecolor": "#2a3f5f",
             "gridcolor": "white",
             "linecolor": "white",
             "minorgridcolor": "white",
             "startlinecolor": "#2a3f5f"
            },
            "baxis": {
             "endlinecolor": "#2a3f5f",
             "gridcolor": "white",
             "linecolor": "white",
             "minorgridcolor": "white",
             "startlinecolor": "#2a3f5f"
            },
            "type": "carpet"
           }
          ],
          "choropleth": [
           {
            "colorbar": {
             "outlinewidth": 0,
             "ticks": ""
            },
            "type": "choropleth"
           }
          ],
          "contour": [
           {
            "colorbar": {
             "outlinewidth": 0,
             "ticks": ""
            },
            "colorscale": [
             [
              0,
              "#0d0887"
             ],
             [
              0.1111111111111111,
              "#46039f"
             ],
             [
              0.2222222222222222,
              "#7201a8"
             ],
             [
              0.3333333333333333,
              "#9c179e"
             ],
             [
              0.4444444444444444,
              "#bd3786"
             ],
             [
              0.5555555555555556,
              "#d8576b"
             ],
             [
              0.6666666666666666,
              "#ed7953"
             ],
             [
              0.7777777777777778,
              "#fb9f3a"
             ],
             [
              0.8888888888888888,
              "#fdca26"
             ],
             [
              1,
              "#f0f921"
             ]
            ],
            "type": "contour"
           }
          ],
          "contourcarpet": [
           {
            "colorbar": {
             "outlinewidth": 0,
             "ticks": ""
            },
            "type": "contourcarpet"
           }
          ],
          "heatmap": [
           {
            "colorbar": {
             "outlinewidth": 0,
             "ticks": ""
            },
            "colorscale": [
             [
              0,
              "#0d0887"
             ],
             [
              0.1111111111111111,
              "#46039f"
             ],
             [
              0.2222222222222222,
              "#7201a8"
             ],
             [
              0.3333333333333333,
              "#9c179e"
             ],
             [
              0.4444444444444444,
              "#bd3786"
             ],
             [
              0.5555555555555556,
              "#d8576b"
             ],
             [
              0.6666666666666666,
              "#ed7953"
             ],
             [
              0.7777777777777778,
              "#fb9f3a"
             ],
             [
              0.8888888888888888,
              "#fdca26"
             ],
             [
              1,
              "#f0f921"
             ]
            ],
            "type": "heatmap"
           }
          ],
          "heatmapgl": [
           {
            "colorbar": {
             "outlinewidth": 0,
             "ticks": ""
            },
            "colorscale": [
             [
              0,
              "#0d0887"
             ],
             [
              0.1111111111111111,
              "#46039f"
             ],
             [
              0.2222222222222222,
              "#7201a8"
             ],
             [
              0.3333333333333333,
              "#9c179e"
             ],
             [
              0.4444444444444444,
              "#bd3786"
             ],
             [
              0.5555555555555556,
              "#d8576b"
             ],
             [
              0.6666666666666666,
              "#ed7953"
             ],
             [
              0.7777777777777778,
              "#fb9f3a"
             ],
             [
              0.8888888888888888,
              "#fdca26"
             ],
             [
              1,
              "#f0f921"
             ]
            ],
            "type": "heatmapgl"
           }
          ],
          "histogram": [
           {
            "marker": {
             "colorbar": {
              "outlinewidth": 0,
              "ticks": ""
             }
            },
            "type": "histogram"
           }
          ],
          "histogram2d": [
           {
            "colorbar": {
             "outlinewidth": 0,
             "ticks": ""
            },
            "colorscale": [
             [
              0,
              "#0d0887"
             ],
             [
              0.1111111111111111,
              "#46039f"
             ],
             [
              0.2222222222222222,
              "#7201a8"
             ],
             [
              0.3333333333333333,
              "#9c179e"
             ],
             [
              0.4444444444444444,
              "#bd3786"
             ],
             [
              0.5555555555555556,
              "#d8576b"
             ],
             [
              0.6666666666666666,
              "#ed7953"
             ],
             [
              0.7777777777777778,
              "#fb9f3a"
             ],
             [
              0.8888888888888888,
              "#fdca26"
             ],
             [
              1,
              "#f0f921"
             ]
            ],
            "type": "histogram2d"
           }
          ],
          "histogram2dcontour": [
           {
            "colorbar": {
             "outlinewidth": 0,
             "ticks": ""
            },
            "colorscale": [
             [
              0,
              "#0d0887"
             ],
             [
              0.1111111111111111,
              "#46039f"
             ],
             [
              0.2222222222222222,
              "#7201a8"
             ],
             [
              0.3333333333333333,
              "#9c179e"
             ],
             [
              0.4444444444444444,
              "#bd3786"
             ],
             [
              0.5555555555555556,
              "#d8576b"
             ],
             [
              0.6666666666666666,
              "#ed7953"
             ],
             [
              0.7777777777777778,
              "#fb9f3a"
             ],
             [
              0.8888888888888888,
              "#fdca26"
             ],
             [
              1,
              "#f0f921"
             ]
            ],
            "type": "histogram2dcontour"
           }
          ],
          "mesh3d": [
           {
            "colorbar": {
             "outlinewidth": 0,
             "ticks": ""
            },
            "type": "mesh3d"
           }
          ],
          "parcoords": [
           {
            "line": {
             "colorbar": {
              "outlinewidth": 0,
              "ticks": ""
             }
            },
            "type": "parcoords"
           }
          ],
          "scatter": [
           {
            "marker": {
             "colorbar": {
              "outlinewidth": 0,
              "ticks": ""
             }
            },
            "type": "scatter"
           }
          ],
          "scatter3d": [
           {
            "line": {
             "colorbar": {
              "outlinewidth": 0,
              "ticks": ""
             }
            },
            "marker": {
             "colorbar": {
              "outlinewidth": 0,
              "ticks": ""
             }
            },
            "type": "scatter3d"
           }
          ],
          "scattercarpet": [
           {
            "marker": {
             "colorbar": {
              "outlinewidth": 0,
              "ticks": ""
             }
            },
            "type": "scattercarpet"
           }
          ],
          "scattergeo": [
           {
            "marker": {
             "colorbar": {
              "outlinewidth": 0,
              "ticks": ""
             }
            },
            "type": "scattergeo"
           }
          ],
          "scattergl": [
           {
            "marker": {
             "colorbar": {
              "outlinewidth": 0,
              "ticks": ""
             }
            },
            "type": "scattergl"
           }
          ],
          "scattermapbox": [
           {
            "marker": {
             "colorbar": {
              "outlinewidth": 0,
              "ticks": ""
             }
            },
            "type": "scattermapbox"
           }
          ],
          "scatterpolar": [
           {
            "marker": {
             "colorbar": {
              "outlinewidth": 0,
              "ticks": ""
             }
            },
            "type": "scatterpolar"
           }
          ],
          "scatterpolargl": [
           {
            "marker": {
             "colorbar": {
              "outlinewidth": 0,
              "ticks": ""
             }
            },
            "type": "scatterpolargl"
           }
          ],
          "scatterternary": [
           {
            "marker": {
             "colorbar": {
              "outlinewidth": 0,
              "ticks": ""
             }
            },
            "type": "scatterternary"
           }
          ],
          "surface": [
           {
            "colorbar": {
             "outlinewidth": 0,
             "ticks": ""
            },
            "colorscale": [
             [
              0,
              "#0d0887"
             ],
             [
              0.1111111111111111,
              "#46039f"
             ],
             [
              0.2222222222222222,
              "#7201a8"
             ],
             [
              0.3333333333333333,
              "#9c179e"
             ],
             [
              0.4444444444444444,
              "#bd3786"
             ],
             [
              0.5555555555555556,
              "#d8576b"
             ],
             [
              0.6666666666666666,
              "#ed7953"
             ],
             [
              0.7777777777777778,
              "#fb9f3a"
             ],
             [
              0.8888888888888888,
              "#fdca26"
             ],
             [
              1,
              "#f0f921"
             ]
            ],
            "type": "surface"
           }
          ],
          "table": [
           {
            "cells": {
             "fill": {
              "color": "#EBF0F8"
             },
             "line": {
              "color": "white"
             }
            },
            "header": {
             "fill": {
              "color": "#C8D4E3"
             },
             "line": {
              "color": "white"
             }
            },
            "type": "table"
           }
          ]
         },
         "layout": {
          "annotationdefaults": {
           "arrowcolor": "#2a3f5f",
           "arrowhead": 0,
           "arrowwidth": 1
          },
          "colorscale": {
           "diverging": [
            [
             0,
             "#8e0152"
            ],
            [
             0.1,
             "#c51b7d"
            ],
            [
             0.2,
             "#de77ae"
            ],
            [
             0.3,
             "#f1b6da"
            ],
            [
             0.4,
             "#fde0ef"
            ],
            [
             0.5,
             "#f7f7f7"
            ],
            [
             0.6,
             "#e6f5d0"
            ],
            [
             0.7,
             "#b8e186"
            ],
            [
             0.8,
             "#7fbc41"
            ],
            [
             0.9,
             "#4d9221"
            ],
            [
             1,
             "#276419"
            ]
           ],
           "sequential": [
            [
             0,
             "#0d0887"
            ],
            [
             0.1111111111111111,
             "#46039f"
            ],
            [
             0.2222222222222222,
             "#7201a8"
            ],
            [
             0.3333333333333333,
             "#9c179e"
            ],
            [
             0.4444444444444444,
             "#bd3786"
            ],
            [
             0.5555555555555556,
             "#d8576b"
            ],
            [
             0.6666666666666666,
             "#ed7953"
            ],
            [
             0.7777777777777778,
             "#fb9f3a"
            ],
            [
             0.8888888888888888,
             "#fdca26"
            ],
            [
             1,
             "#f0f921"
            ]
           ],
           "sequentialminus": [
            [
             0,
             "#0d0887"
            ],
            [
             0.1111111111111111,
             "#46039f"
            ],
            [
             0.2222222222222222,
             "#7201a8"
            ],
            [
             0.3333333333333333,
             "#9c179e"
            ],
            [
             0.4444444444444444,
             "#bd3786"
            ],
            [
             0.5555555555555556,
             "#d8576b"
            ],
            [
             0.6666666666666666,
             "#ed7953"
            ],
            [
             0.7777777777777778,
             "#fb9f3a"
            ],
            [
             0.8888888888888888,
             "#fdca26"
            ],
            [
             1,
             "#f0f921"
            ]
           ]
          },
          "colorway": [
           "#636efa",
           "#EF553B",
           "#00cc96",
           "#ab63fa",
           "#FFA15A",
           "#19d3f3",
           "#FF6692",
           "#B6E880",
           "#FF97FF",
           "#FECB52"
          ],
          "font": {
           "color": "#2a3f5f"
          },
          "geo": {
           "bgcolor": "white",
           "lakecolor": "white",
           "landcolor": "#E5ECF6",
           "showlakes": true,
           "showland": true,
           "subunitcolor": "white"
          },
          "hoverlabel": {
           "align": "left"
          },
          "hovermode": "closest",
          "mapbox": {
           "style": "light"
          },
          "paper_bgcolor": "white",
          "plot_bgcolor": "#E5ECF6",
          "polar": {
           "angularaxis": {
            "gridcolor": "white",
            "linecolor": "white",
            "ticks": ""
           },
           "bgcolor": "#E5ECF6",
           "radialaxis": {
            "gridcolor": "white",
            "linecolor": "white",
            "ticks": ""
           }
          },
          "scene": {
           "xaxis": {
            "backgroundcolor": "#E5ECF6",
            "gridcolor": "white",
            "gridwidth": 2,
            "linecolor": "white",
            "showbackground": true,
            "ticks": "",
            "zerolinecolor": "white"
           },
           "yaxis": {
            "backgroundcolor": "#E5ECF6",
            "gridcolor": "white",
            "gridwidth": 2,
            "linecolor": "white",
            "showbackground": true,
            "ticks": "",
            "zerolinecolor": "white"
           },
           "zaxis": {
            "backgroundcolor": "#E5ECF6",
            "gridcolor": "white",
            "gridwidth": 2,
            "linecolor": "white",
            "showbackground": true,
            "ticks": "",
            "zerolinecolor": "white"
           }
          },
          "shapedefaults": {
           "line": {
            "color": "#2a3f5f"
           }
          },
          "ternary": {
           "aaxis": {
            "gridcolor": "white",
            "linecolor": "white",
            "ticks": ""
           },
           "baxis": {
            "gridcolor": "white",
            "linecolor": "white",
            "ticks": ""
           },
           "bgcolor": "#E5ECF6",
           "caxis": {
            "gridcolor": "white",
            "linecolor": "white",
            "ticks": ""
           }
          },
          "title": {
           "x": 0.05
          },
          "xaxis": {
           "automargin": true,
           "gridcolor": "white",
           "linecolor": "white",
           "ticks": "",
           "zerolinecolor": "white",
           "zerolinewidth": 2
          },
          "yaxis": {
           "automargin": true,
           "gridcolor": "white",
           "linecolor": "white",
           "ticks": "",
           "zerolinecolor": "white",
           "zerolinewidth": 2
          }
         }
        },
        "title": {
         "text": "Acceleration-Velocity per gear"
        },
        "xaxis": {
         "title": {
          "text": "velocity (in m/s)"
         }
        },
        "yaxis": {
         "title": {
          "text": "Acceleration (in m/s2"
         }
        }
       }
      },
      "text/html": [
       "<div>\n",
       "        \n",
       "        \n",
       "            <div id=\"0ad849fb-c5c9-4937-8b55-b1cf14328931\" class=\"plotly-graph-div\" style=\"height:525px; width:100%;\"></div>\n",
       "            <script type=\"text/javascript\">\n",
       "                require([\"plotly\"], function(Plotly) {\n",
       "                    window.PLOTLYENV=window.PLOTLYENV || {};\n",
       "                    \n",
       "                if (document.getElementById(\"0ad849fb-c5c9-4937-8b55-b1cf14328931\")) {\n",
       "                    Plotly.newPlot(\n",
       "                        '0ad849fb-c5c9-4937-8b55-b1cf14328931',\n",
       "                        [{\"name\": \"gear 0\", \"type\": \"scatter\", \"x\": [2.431299509204389, 3.3107057146612955, 4.190111920118203, 5.069518125575109, 5.948924331032016, 6.828330536488924, 7.70773674194583, 8.587142947402736, 9.466549152859642, 10.34595535831655, 11.225361563773454, 12.104767769230364], \"y\": [5.506099431783055, 6.183126306807888, 6.609418059611327, 6.885754317107177, 7.052735649561654, 7.153295909443751, 7.191082119379095, 7.0913953063502575, 6.869332622195839, 6.500178051486053, 5.735205793964977, 4.741946227097763]}, {\"name\": \"gear 1\", \"type\": \"scatter\", \"x\": [4.513489345292251, 6.146028044653278, 7.778566744014305, 9.411105443375332, 11.043644142736358, 12.676182842097386, 14.308721541458414, 15.941260240819439, 17.573798940180463, 19.20633763954149, 20.83887633890252, 22.47141503826355], \"y\": [2.9659927878389385, 3.3306895851589444, 3.5603218829398036, 3.70917704927044, 3.799125557084316, 3.853294757849534, 3.8736492079528277, 3.8199505103267963, 3.7003311086414046, 3.501477127181713, 3.08940643597561, 2.5543632991272482]}, {\"name\": \"gear 2\", \"type\": \"scatter\", \"x\": [6.876018924468663, 9.363089599276478, 11.850160274084294, 14.337230948892106, 16.82430162369992, 19.311372298507738, 21.798442973315552, 24.285513648123363, 26.772584322931177, 29.259654997738995, 31.746725672546805], \"y\": [1.9469080863763286, 2.1862988046171536, 2.3370318000835635, 2.4347418579826483, 2.493784981060474, 2.5293422000243093, 2.542703069835702, 2.507454693958102, 2.4289352918261526, 2.2984054988679965, 2.027918070794246]}, {\"name\": \"gear 3\", \"type\": \"scatter\", \"x\": [9.073509508577205, 12.35541720316896, 15.637324897760717, 18.919232592352472, 22.201140286944227, 25.483047981535986, 28.76495567612774, 32.04686337071949, 35.328771065311244, 38.610678759903, 41.892586454494754], \"y\": [1.4753912842070613, 1.6568045628739365, 1.771031911000825, 1.845077814252475, 1.8898214309598904, 1.9167671359559217, 1.9268921701098678, 1.900180510265124, 1.8406775258370058, 1.7417604171109031, 1.5367816630237645]}, {\"name\": \"gear 4\", \"type\": \"scatter\", \"x\": [11.283723363230624, 15.365070111633193, 19.44641686003576, 23.527763608438327, 27.609110356840894, 31.690457105243464, 35.771803853646034, 39.85315060204859, 43.93449735045115, 48.01584409885373, 52.09719084725629], \"y\": [1.1863971151355752, 1.3322758340635776, 1.424128753175921, 1.4836708197081758, 1.5196502228337263, 1.5413179031398136, 1.549459683181131, 1.5279802041307184, 1.4801324434565617, 1.4005908508726852, 1.2357625743902438]}, {\"name\": \"gear 5\", \"type\": \"scatter\", \"x\": [13.540468035876751, 18.43808413395983, 23.335700232042914, 28.23331633012599, 33.13093242820907, 38.028548526292155, 42.92616462437524, 47.82378072245832, 52.721396820541386, 57.61901291862448, 62.51662901670755, 67.41424511479065], \"y\": [0.9886642626129792, 1.1102298617196482, 1.1867739609799344, 1.2363923497568132, 1.266375185694772, 1.2844315859498445, 1.2912164026509425, 1.2733168367755985, 1.233443702880468, 1.1671590423939044, 1.0298021453252033, 0.851454433042416]}, {\"name\": \"gear 0\", \"type\": \"scatter\", \"x\": [2.431299509204389, 3.3107057146612955, 4.190111920118203, 5.069518125575109, 5.948924331032016, 6.828330536488924, 7.70773674194583, 8.587142947402736, 9.466549152859642, 10.34595535831655, 11.225361563773454, 12.104767769230364], \"y\": [5.514536620891502, 6.168676798003213, 6.6051689822226916, 6.889551422559396, 7.06667171629466, 7.160686808981701, 7.175062994445607, 7.092575914783346, 6.875310560363765, 6.464661269827587, 5.781331730087416, 4.725334976327723]}, {\"name\": \"gear 1\", \"type\": \"scatter\", \"x\": [4.513489345292251, 6.146028044653278, 7.778566744014305, 9.411105443375332, 11.043644142736358, 12.676182842097386, 14.308721541458414, 15.941260240819439, 17.573798940180463, 19.20633763954149, 20.83887633890252, 22.47141503826355], \"y\": [2.9705376825244274, 3.3229060099741075, 3.558033015285705, 3.711222451378682, 3.806632554357621, 3.8572760435122433, 3.8650201213173863, 3.8205864734330204, 3.7035512687042442, 3.4823451591612824, 3.114253280019481, 2.545415249679325]}, {\"name\": \"gear 2\", \"type\": \"scatter\", \"x\": [6.876018924468663, 9.363089599276478, 11.850160274084294, 14.337230948892106, 16.82430162369992, 19.311372298507738, 21.798442973315552, 24.285513648123363, 26.772584322931177, 29.259654997738995, 31.746725672546805], \"y\": [1.9498914018621964, 2.1811895860342894, 2.33552936387985, 2.4360844809049826, 2.4987126510655195, 2.5319555567670147, 2.5370388488647504, 2.5078721466637317, 2.4310490379186867, 2.285847078834071, 2.044227794064068]}, {\"name\": \"gear 3\", \"type\": \"scatter\", \"x\": [9.073509508577205, 12.35541720316896, 15.637324897760717, 18.919232592352472, 22.201140286944227, 25.483047981535986, 28.76495567612774, 32.04686337071949, 35.328771065311244, 38.610678759903, 41.892586454494754], \"y\": [1.4776520779736941, 1.6529327331666095, 1.7698933460651984, 1.8460952706858067, 1.893555680885588, 1.9187475703625023, 1.9225997526553176, 1.9004968611436075, 1.8422793490477551, 1.732243489428945, 1.549141375189179]}, {\"name\": \"gear 4\", \"type\": \"scatter\", \"x\": [11.283723363230624, 15.365070111633193, 19.44641686003576, 23.527763608438327, 27.609110356840894, 31.690457105243464, 35.771803853646034, 39.85315060204859, 43.93449735045115, 48.01584409885373, 52.09719084725629], \"y\": [1.1882150730097778, 1.3291624039896452, 1.4232132061142826, 1.4844889805514732, 1.52265302174305, 1.5429104174048995, 1.5460080485269572, 1.5282345893732114, 1.481420507481701, 1.3929380636645154, 1.245701312007797]}, {\"name\": \"gear 5\", \"type\": \"scatter\", \"x\": [13.540468035876751, 18.43808413395983, 23.335700232042914, 28.23331633012599, 33.13093242820907, 38.028548526292155, 42.92616462437524, 47.82378072245832, 52.721396820541386, 57.61901291862448, 62.51662901670755, 67.41424511479065], \"y\": [0.9901792275081472, 1.1076353366580385, 1.1860110050952368, 1.2370741504595617, 1.2688775181192087, 1.2857586811707495, 1.2883400404391312, 1.273528824477677, 1.2345170895680844, 1.16078171972043, 1.038084426673164, 0.8484717498931109]}, {\"line\": {\"color\": \"#0D1A00\"}, \"type\": \"scatter\", \"x\": [12.104767769230364, 12.104767769230364], \"y\": [0, 5]}, {\"line\": {\"color\": \"#0D1A00\"}, \"type\": \"scatter\", \"x\": [22.47141503826355, 22.47141503826355], \"y\": [0, 5]}, {\"line\": {\"color\": \"#0D1A00\"}, \"type\": \"scatter\", \"x\": [31.746725672546805, 31.746725672546805], \"y\": [0, 5]}, {\"line\": {\"color\": \"#0D1A00\"}, \"type\": \"scatter\", \"x\": [41.892586454494754, 41.892586454494754], \"y\": [0, 5]}, {\"line\": {\"color\": \"#0D1A00\"}, \"type\": \"scatter\", \"x\": [52.09719084725629, 52.09719084725629], \"y\": [0, 5]}],\n",
       "                        {\"template\": {\"data\": {\"bar\": [{\"error_x\": {\"color\": \"#2a3f5f\"}, \"error_y\": {\"color\": \"#2a3f5f\"}, \"marker\": {\"line\": {\"color\": \"#E5ECF6\", \"width\": 0.5}}, \"type\": \"bar\"}], \"barpolar\": [{\"marker\": {\"line\": {\"color\": \"#E5ECF6\", \"width\": 0.5}}, \"type\": \"barpolar\"}], \"carpet\": [{\"aaxis\": {\"endlinecolor\": \"#2a3f5f\", \"gridcolor\": \"white\", \"linecolor\": \"white\", \"minorgridcolor\": \"white\", \"startlinecolor\": \"#2a3f5f\"}, \"baxis\": {\"endlinecolor\": \"#2a3f5f\", \"gridcolor\": \"white\", \"linecolor\": \"white\", \"minorgridcolor\": \"white\", \"startlinecolor\": \"#2a3f5f\"}, \"type\": \"carpet\"}], \"choropleth\": [{\"colorbar\": {\"outlinewidth\": 0, \"ticks\": \"\"}, \"type\": \"choropleth\"}], \"contour\": [{\"colorbar\": {\"outlinewidth\": 0, \"ticks\": \"\"}, \"colorscale\": [[0.0, \"#0d0887\"], [0.1111111111111111, \"#46039f\"], [0.2222222222222222, \"#7201a8\"], [0.3333333333333333, \"#9c179e\"], [0.4444444444444444, \"#bd3786\"], [0.5555555555555556, \"#d8576b\"], [0.6666666666666666, \"#ed7953\"], [0.7777777777777778, \"#fb9f3a\"], [0.8888888888888888, \"#fdca26\"], [1.0, \"#f0f921\"]], \"type\": \"contour\"}], \"contourcarpet\": [{\"colorbar\": {\"outlinewidth\": 0, \"ticks\": \"\"}, \"type\": \"contourcarpet\"}], \"heatmap\": [{\"colorbar\": {\"outlinewidth\": 0, \"ticks\": \"\"}, \"colorscale\": [[0.0, \"#0d0887\"], [0.1111111111111111, \"#46039f\"], [0.2222222222222222, \"#7201a8\"], [0.3333333333333333, \"#9c179e\"], [0.4444444444444444, \"#bd3786\"], [0.5555555555555556, \"#d8576b\"], [0.6666666666666666, \"#ed7953\"], [0.7777777777777778, \"#fb9f3a\"], [0.8888888888888888, \"#fdca26\"], [1.0, \"#f0f921\"]], \"type\": \"heatmap\"}], \"heatmapgl\": [{\"colorbar\": {\"outlinewidth\": 0, \"ticks\": \"\"}, \"colorscale\": [[0.0, \"#0d0887\"], [0.1111111111111111, \"#46039f\"], [0.2222222222222222, \"#7201a8\"], [0.3333333333333333, \"#9c179e\"], [0.4444444444444444, \"#bd3786\"], [0.5555555555555556, \"#d8576b\"], [0.6666666666666666, \"#ed7953\"], [0.7777777777777778, \"#fb9f3a\"], [0.8888888888888888, \"#fdca26\"], [1.0, \"#f0f921\"]], \"type\": \"heatmapgl\"}], \"histogram\": [{\"marker\": {\"colorbar\": {\"outlinewidth\": 0, \"ticks\": \"\"}}, \"type\": \"histogram\"}], \"histogram2d\": [{\"colorbar\": {\"outlinewidth\": 0, \"ticks\": \"\"}, \"colorscale\": [[0.0, \"#0d0887\"], [0.1111111111111111, \"#46039f\"], [0.2222222222222222, \"#7201a8\"], [0.3333333333333333, \"#9c179e\"], [0.4444444444444444, \"#bd3786\"], [0.5555555555555556, \"#d8576b\"], [0.6666666666666666, \"#ed7953\"], [0.7777777777777778, \"#fb9f3a\"], [0.8888888888888888, \"#fdca26\"], [1.0, \"#f0f921\"]], \"type\": \"histogram2d\"}], \"histogram2dcontour\": [{\"colorbar\": {\"outlinewidth\": 0, \"ticks\": \"\"}, \"colorscale\": [[0.0, \"#0d0887\"], [0.1111111111111111, \"#46039f\"], [0.2222222222222222, \"#7201a8\"], [0.3333333333333333, \"#9c179e\"], [0.4444444444444444, \"#bd3786\"], [0.5555555555555556, \"#d8576b\"], [0.6666666666666666, \"#ed7953\"], [0.7777777777777778, \"#fb9f3a\"], [0.8888888888888888, \"#fdca26\"], [1.0, \"#f0f921\"]], \"type\": \"histogram2dcontour\"}], \"mesh3d\": [{\"colorbar\": {\"outlinewidth\": 0, \"ticks\": \"\"}, \"type\": \"mesh3d\"}], \"parcoords\": [{\"line\": {\"colorbar\": {\"outlinewidth\": 0, \"ticks\": \"\"}}, \"type\": \"parcoords\"}], \"scatter\": [{\"marker\": {\"colorbar\": {\"outlinewidth\": 0, \"ticks\": \"\"}}, \"type\": \"scatter\"}], \"scatter3d\": [{\"line\": {\"colorbar\": {\"outlinewidth\": 0, \"ticks\": \"\"}}, \"marker\": {\"colorbar\": {\"outlinewidth\": 0, \"ticks\": \"\"}}, \"type\": \"scatter3d\"}], \"scattercarpet\": [{\"marker\": {\"colorbar\": {\"outlinewidth\": 0, \"ticks\": \"\"}}, \"type\": \"scattercarpet\"}], \"scattergeo\": [{\"marker\": {\"colorbar\": {\"outlinewidth\": 0, \"ticks\": \"\"}}, \"type\": \"scattergeo\"}], \"scattergl\": [{\"marker\": {\"colorbar\": {\"outlinewidth\": 0, \"ticks\": \"\"}}, \"type\": \"scattergl\"}], \"scattermapbox\": [{\"marker\": {\"colorbar\": {\"outlinewidth\": 0, \"ticks\": \"\"}}, \"type\": \"scattermapbox\"}], \"scatterpolar\": [{\"marker\": {\"colorbar\": {\"outlinewidth\": 0, \"ticks\": \"\"}}, \"type\": \"scatterpolar\"}], \"scatterpolargl\": [{\"marker\": {\"colorbar\": {\"outlinewidth\": 0, \"ticks\": \"\"}}, \"type\": \"scatterpolargl\"}], \"scatterternary\": [{\"marker\": {\"colorbar\": {\"outlinewidth\": 0, \"ticks\": \"\"}}, \"type\": \"scatterternary\"}], \"surface\": [{\"colorbar\": {\"outlinewidth\": 0, \"ticks\": \"\"}, \"colorscale\": [[0.0, \"#0d0887\"], [0.1111111111111111, \"#46039f\"], [0.2222222222222222, \"#7201a8\"], [0.3333333333333333, \"#9c179e\"], [0.4444444444444444, \"#bd3786\"], [0.5555555555555556, \"#d8576b\"], [0.6666666666666666, \"#ed7953\"], [0.7777777777777778, \"#fb9f3a\"], [0.8888888888888888, \"#fdca26\"], [1.0, \"#f0f921\"]], \"type\": \"surface\"}], \"table\": [{\"cells\": {\"fill\": {\"color\": \"#EBF0F8\"}, \"line\": {\"color\": \"white\"}}, \"header\": {\"fill\": {\"color\": \"#C8D4E3\"}, \"line\": {\"color\": \"white\"}}, \"type\": \"table\"}]}, \"layout\": {\"annotationdefaults\": {\"arrowcolor\": \"#2a3f5f\", \"arrowhead\": 0, \"arrowwidth\": 1}, \"colorscale\": {\"diverging\": [[0, \"#8e0152\"], [0.1, \"#c51b7d\"], [0.2, \"#de77ae\"], [0.3, \"#f1b6da\"], [0.4, \"#fde0ef\"], [0.5, \"#f7f7f7\"], [0.6, \"#e6f5d0\"], [0.7, \"#b8e186\"], [0.8, \"#7fbc41\"], [0.9, \"#4d9221\"], [1, \"#276419\"]], \"sequential\": [[0.0, \"#0d0887\"], [0.1111111111111111, \"#46039f\"], [0.2222222222222222, \"#7201a8\"], [0.3333333333333333, \"#9c179e\"], [0.4444444444444444, \"#bd3786\"], [0.5555555555555556, \"#d8576b\"], [0.6666666666666666, \"#ed7953\"], [0.7777777777777778, \"#fb9f3a\"], [0.8888888888888888, \"#fdca26\"], [1.0, \"#f0f921\"]], \"sequentialminus\": [[0.0, \"#0d0887\"], [0.1111111111111111, \"#46039f\"], [0.2222222222222222, \"#7201a8\"], [0.3333333333333333, \"#9c179e\"], [0.4444444444444444, \"#bd3786\"], [0.5555555555555556, \"#d8576b\"], [0.6666666666666666, \"#ed7953\"], [0.7777777777777778, \"#fb9f3a\"], [0.8888888888888888, \"#fdca26\"], [1.0, \"#f0f921\"]]}, \"colorway\": [\"#636efa\", \"#EF553B\", \"#00cc96\", \"#ab63fa\", \"#FFA15A\", \"#19d3f3\", \"#FF6692\", \"#B6E880\", \"#FF97FF\", \"#FECB52\"], \"font\": {\"color\": \"#2a3f5f\"}, \"geo\": {\"bgcolor\": \"white\", \"lakecolor\": \"white\", \"landcolor\": \"#E5ECF6\", \"showlakes\": true, \"showland\": true, \"subunitcolor\": \"white\"}, \"hoverlabel\": {\"align\": \"left\"}, \"hovermode\": \"closest\", \"mapbox\": {\"style\": \"light\"}, \"paper_bgcolor\": \"white\", \"plot_bgcolor\": \"#E5ECF6\", \"polar\": {\"angularaxis\": {\"gridcolor\": \"white\", \"linecolor\": \"white\", \"ticks\": \"\"}, \"bgcolor\": \"#E5ECF6\", \"radialaxis\": {\"gridcolor\": \"white\", \"linecolor\": \"white\", \"ticks\": \"\"}}, \"scene\": {\"xaxis\": {\"backgroundcolor\": \"#E5ECF6\", \"gridcolor\": \"white\", \"gridwidth\": 2, \"linecolor\": \"white\", \"showbackground\": true, \"ticks\": \"\", \"zerolinecolor\": \"white\"}, \"yaxis\": {\"backgroundcolor\": \"#E5ECF6\", \"gridcolor\": \"white\", \"gridwidth\": 2, \"linecolor\": \"white\", \"showbackground\": true, \"ticks\": \"\", \"zerolinecolor\": \"white\"}, \"zaxis\": {\"backgroundcolor\": \"#E5ECF6\", \"gridcolor\": \"white\", \"gridwidth\": 2, \"linecolor\": \"white\", \"showbackground\": true, \"ticks\": \"\", \"zerolinecolor\": \"white\"}}, \"shapedefaults\": {\"line\": {\"color\": \"#2a3f5f\"}}, \"ternary\": {\"aaxis\": {\"gridcolor\": \"white\", \"linecolor\": \"white\", \"ticks\": \"\"}, \"baxis\": {\"gridcolor\": \"white\", \"linecolor\": \"white\", \"ticks\": \"\"}, \"bgcolor\": \"#E5ECF6\", \"caxis\": {\"gridcolor\": \"white\", \"linecolor\": \"white\", \"ticks\": \"\"}}, \"title\": {\"x\": 0.05}, \"xaxis\": {\"automargin\": true, \"gridcolor\": \"white\", \"linecolor\": \"white\", \"ticks\": \"\", \"zerolinecolor\": \"white\", \"zerolinewidth\": 2}, \"yaxis\": {\"automargin\": true, \"gridcolor\": \"white\", \"linecolor\": \"white\", \"ticks\": \"\", \"zerolinecolor\": \"white\", \"zerolinewidth\": 2}}}, \"title\": {\"text\": \"Acceleration-Velocity per gear\"}, \"xaxis\": {\"title\": {\"text\": \"velocity (in m/s)\"}}, \"yaxis\": {\"title\": {\"text\": \"Acceleration (in m/s2\"}}},\n",
       "                        {\"responsive\": true}\n",
       "                    ).then(function(){\n",
       "                            \n",
       "var gd = document.getElementById('0ad849fb-c5c9-4937-8b55-b1cf14328931');\n",
       "var x = new MutationObserver(function (mutations, observer) {{\n",
       "        var display = window.getComputedStyle(gd).display;\n",
       "        if (!display || display === 'none') {{\n",
       "            console.log([gd, 'removed!']);\n",
       "            Plotly.purge(gd);\n",
       "            observer.disconnect();\n",
       "        }}\n",
       "}});\n",
       "\n",
       "// Listen for the removal of the full notebook cells\n",
       "var notebookContainer = gd.closest('#notebook-container');\n",
       "if (notebookContainer) {{\n",
       "    x.observe(notebookContainer, {childList: true});\n",
       "}}\n",
       "\n",
       "// Listen for the clearing of the current output cell\n",
       "var outputEl = gd.closest('.output');\n",
       "if (outputEl) {{\n",
       "    x.observe(outputEl, {childList: true});\n",
       "}}\n",
       "\n",
       "                        })\n",
       "                };\n",
       "                });\n",
       "            </script>\n",
       "        </div>"
      ]
     },
     "metadata": {},
     "output_type": "display_data"
    }
   ],
   "source": [
    "outputs = sol['outputs'] # outputs of the dispatcher\n",
    "layout = go.Layout(title=\"Acceleration-Velocity per gear\",\n",
    "                xaxis=dict(title='velocity (in m/s)'),\n",
    "                yaxis=dict(title='Acceleration (in m/s2'))\n",
    "data = [\n",
    "    dict(x=x , y=y, name='gear %d'%i) for i, (x, y) in enumerate(zip(outputs['speed_per_gear'],outputs['acc_per_gear']))\n",
    "] + [\n",
    "    dict(x=x, y=np.polyval(p, x), name='gear %d'%i) for i, (x, p) in enumerate(zip(outputs['speed_per_gear'], outputs['coefs_per_gear']))\n",
    "] + [dict(x=[gear, gear], y=[0,5], line=dict(color='#0D1A00')) for gear in outputs['gs']]\n",
    "fig = go.Figure(data=data, layout=layout)\n",
    "iplot(fig)"
   ]
  },
  {
   "cell_type": "code",
   "execution_count": null,
   "metadata": {},
   "outputs": [],
   "source": []
  }
 ],
 "metadata": {
  "kernelspec": {
   "display_name": "Python 3",
   "language": "python",
   "name": "python3"
  },
  "language_info": {
   "codemirror_mode": {
    "name": "ipython",
    "version": 3
   },
   "file_extension": ".py",
   "mimetype": "text/x-python",
   "name": "python",
   "nbconvert_exporter": "python",
   "pygments_lexer": "ipython3",
   "version": "3.7.1"
  }
 },
 "nbformat": 4,
 "nbformat_minor": 2
}

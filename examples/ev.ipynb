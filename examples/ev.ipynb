{
 "cells": [
  {
   "cell_type": "markdown",
   "metadata": {},
   "source": [
    "# Electric vehicle simulation example"
   ]
  },
  {
   "cell_type": "markdown",
   "metadata": {},
   "source": [
    "This is an ipython notebook to present how to use the co2mpas driver model (i.e., MFC) to simulate the driver behaviour on an electric vehicle.\n"
   ]
  },
  {
   "cell_type": "markdown",
   "metadata": {},
   "source": [
    "# Import co2mpas driver model and other libraries"
   ]
  },
  {
   "cell_type": "code",
   "execution_count": 1,
   "metadata": {},
   "outputs": [
    {
     "data": {
      "text/html": [
       "        <script type=\"text/javascript\">\n",
       "        window.PlotlyConfig = {MathJaxConfig: 'local'};\n",
       "        if (window.MathJax) {MathJax.Hub.Config({SVG: {font: \"STIX-Web\"}});}\n",
       "        if (typeof require !== 'undefined') {\n",
       "        require.undef(\"plotly\");\n",
       "        requirejs.config({\n",
       "            paths: {\n",
       "                'plotly': ['https://cdn.plot.ly/plotly-latest.min']\n",
       "            }\n",
       "        });\n",
       "        require(['plotly'], function(Plotly) {\n",
       "            window._Plotly = Plotly;\n",
       "        });\n",
       "        }\n",
       "        </script>\n",
       "        "
      ]
     },
     "metadata": {},
     "output_type": "display_data"
    }
   ],
   "source": [
    "import sys;\n",
    "sys.path.extend(['..'])\n",
    "import schedula as sh\n",
    "from plotly import graph_objs as go\n",
    "from co2mpas_driver import dsp as driver\n",
    "from plotly.offline import download_plotlyjs, init_notebook_mode, plot, iplot\n",
    "init_notebook_mode(connected=True)"
   ]
  },
  {
   "cell_type": "markdown",
   "metadata": {},
   "source": [
    "## Processing chain model"
   ]
  },
  {
   "cell_type": "code",
   "execution_count": 2,
   "metadata": {},
   "outputs": [
    {
     "name": "stdout",
     "output_type": "stream",
     "text": [
      " * Serving Flask app \"C:\\Users\\makieas\\AppData\\Local\\Temp\\tmp2_u3scj7\" (lazy loading)\n",
      " * Environment: production\n",
      "   WARNING: Do not use the development server in a production environment.\n",
      "   Use a production WSGI server instead.\n",
      " * Debug mode: off\n"
     ]
    },
    {
     "name": "stderr",
     "output_type": "stream",
     "text": [
      " * Running on http://localhost:52789/ (Press CTRL+C to quit)\n"
     ]
    },
    {
     "data": {
      "text/html": [
       "\n",
       "<iframe width=\"100%\" height=\"500\" id=\"1799361599920\" src=\"http://localhost:52789/\">\n",
       "</iframe>\n"
      ],
      "text/plain": [
       "Site(SiteMap([(Dispatcher 1799320383560, SiteMap([(load, SiteMap()), (model, SiteMap()), (plot, SiteMap())]))]), host='localhost', port=0, depth=-1, index=False, root_path=None)"
      ]
     },
     "execution_count": 2,
     "metadata": {},
     "output_type": "execute_result"
    }
   ],
   "source": [
    "driver.plot(view=False).site(index=False)  # Click on the graph to see the model."
   ]
  },
  {
   "cell_type": "markdown",
   "metadata": {},
   "source": [
    "# Plot co2mpas driver model graph"
   ]
  },
  {
   "cell_type": "code",
   "execution_count": 3,
   "metadata": {},
   "outputs": [
    {
     "name": "stdout",
     "output_type": "stream",
     "text": [
      " * Serving Flask app \"C:\\Users\\makieas\\AppData\\Local\\Temp\\tmp6dex1ytm\" (lazy loading)\n",
      " * Environment: production\n",
      "   WARNING: Do not use the development server in a production environment.\n",
      "   Use a production WSGI server instead.\n",
      " * Debug mode: off\n"
     ]
    },
    {
     "name": "stderr",
     "output_type": "stream",
     "text": [
      " * Running on http://localhost:52796/ (Press CTRL+C to quit)\n"
     ]
    },
    {
     "data": {
      "text/html": [
       "\n",
       "<iframe width=\"100%\" height=\"500\" id=\"1799365979496\" src=\"http://localhost:52796/\">\n",
       "</iframe>\n"
      ],
      "text/plain": [
       "Site(SiteMap([(model, SiteMap())]), host='localhost', port=0, depth=-1, index=False, root_path=None)"
      ]
     },
     "execution_count": 3,
     "metadata": {},
     "output_type": "execute_result"
    }
   ],
   "source": [
    "driver.get_node('model')[0].plot(view=False).site(index=False)  # Click on the graph to see the model."
   ]
  },
  {
   "cell_type": "markdown",
   "metadata": {},
   "source": [
    "# User inputs to co2mpas driver model in order to extract the drivers acceleration behavior"
   ]
  },
  {
   "cell_type": "code",
   "execution_count": 4,
   "metadata": {},
   "outputs": [
    {
     "name": "stderr",
     "output_type": "stream",
     "text": [
      "Failed DISPATCHING 'model/get_full_load' due to:\n",
      "  KeyError('electricity')\n",
      "Traceback (most recent call last):\n",
      "  File \"c:\\apps\\miniconda3\\lib\\site-packages\\schedula\\utils\\sol.py\", line 620, in _evaluate_node\n",
      "    **kw)\n",
      "  File \"c:\\apps\\miniconda3\\lib\\site-packages\\schedula\\utils\\sol.py\", line 594, in _evaluate_function\n",
      "    sol=self, callback=_callback, sol_name=self.full_name + (node_id,)\n",
      "  File \"c:\\apps\\miniconda3\\lib\\site-packages\\schedula\\utils\\asy.py\", line 167, in async_process\n",
      "    name, funcs, executor, *args, **kw\n",
      "  File \"c:\\apps\\miniconda3\\lib\\site-packages\\schedula\\utils\\asy.py\", line 124, in _process_funcs\n",
      "    r['res'] = e.process(fn, *args, **kw) if e else fn(*args, **kw)\n",
      "  File \"c:\\apps\\miniconda3\\lib\\site-packages\\co2mpas_driver\\model\\co2mpas.py\", line 32, in get_full_load\n",
      "    xp, fp = defaults.dfl.functions.get_full_load.FULL_LOAD[ignition_type]\n",
      "KeyError: 'electricity'\n"
     ]
    },
    {
     "name": "stdout",
     "output_type": "stream",
     "text": [
      " * Serving Flask app \"C:\\Users\\makieas\\AppData\\Local\\Temp\\tmptalytzsc\" (lazy loading)\n",
      " * Environment: production\n",
      "   WARNING: Do not use the development server in a production environment.\n",
      "   Use a production WSGI server instead.\n",
      " * Debug mode: off\n"
     ]
    },
    {
     "name": "stderr",
     "output_type": "stream",
     "text": [
      " * Running on http://localhost:52801/ (Press CTRL+C to quit)\n",
      "127.0.0.1 - - [06/Feb/2020 15:56:14] \"GET / HTTP/1.1\" 200 -\n"
     ]
    },
    {
     "data": {
      "text/html": [
       "\n",
       "<iframe width=\"100%\" height=\"500\" id=\"1799395588528\" src=\"http://localhost:52801/\">\n",
       "</iframe>\n"
      ],
      "text/plain": [
       "Site(SiteMap([(Dispatcher 1799320383560, SiteMap([(load, SiteMap()), (model, SiteMap()), (plot, SiteMap())]))]), host='localhost', port=0, depth=-1, index=False, root_path=None)"
      ]
     },
     "execution_count": 4,
     "metadata": {},
     "output_type": "execute_result"
    }
   ],
   "source": [
    "# Remember to Insert vehicle data base path (db_path)\n",
    "sol = driver(dict(vehicle_id=47844, db_path='../co2mpas_driver/db/EuroSegmentCar_cleaned.csv',\n",
    "                  inputs=dict(inputs={'gear_shifting_style': 0.9, 'desired_velocity': 124/3.6, 'starting_velocity': 0,\n",
    "                                        'driver_style': 1, 'sim_start': 10, 'duration': 100, 'sim_step': 0.1}))) # Insert vehicle data base path\n",
    "sol.plot(view=False).site(index=False)"
   ]
  },
  {
   "cell_type": "code",
   "execution_count": 5,
   "metadata": {},
   "outputs": [
    {
     "data": {
      "text/plain": [
       "['ignition_type',\n",
       " 'full_load_curve',\n",
       " 'engine_max_power',\n",
       " 'engine_max_speed_at_max_power',\n",
       " 'idle_engine_speed',\n",
       " 'full_load_speeds',\n",
       " 'full_load_powers',\n",
       " 'full_load_torques',\n",
       " 'vehicle_mass',\n",
       " 'r_dynamic',\n",
       " 'car_type',\n",
       " 'final_drive',\n",
       " 'gear_box_ratios',\n",
       " 'veh_params',\n",
       " 'engine_max_torque',\n",
       " 'fuel_eng_capacity',\n",
       " 'speed',\n",
       " 'acceleration',\n",
       " 'max_power',\n",
       " 'fuel_engine_stroke',\n",
       " 'fuel_type',\n",
       " 'fuel_turbo',\n",
       " 'hardcoded_params',\n",
       " 'road_loads',\n",
       " 'slope',\n",
       " 'gear',\n",
       " 'gear_count',\n",
       " 'sim_step',\n",
       " 'fc',\n",
       " 'tyre_radius',\n",
       " 'driveline_slippage',\n",
       " 'final_drive_ratio',\n",
       " 'driveline_efficiency',\n",
       " 'speed_per_gear',\n",
       " 'acc_per_gear',\n",
       " 'degree',\n",
       " 'coefs_per_gear',\n",
       " 'motor_max_power',\n",
       " 'motor_max_torque',\n",
       " 'vehicle_max_speed',\n",
       " 'poly_spline',\n",
       " 'start',\n",
       " 'stop',\n",
       " 'use_cubic',\n",
       " 'sp_bins',\n",
       " 'discrete_poly_spline',\n",
       " 'speed_per_gear_updated',\n",
       " 'acc_per_gear_updated',\n",
       " 'car_res_curve_force',\n",
       " 'discrete_car_res_curve_force',\n",
       " 'car_res_curve',\n",
       " 'discrete_car_res_curve',\n",
       " 'type_of_car',\n",
       " 'car_width',\n",
       " 'car_height',\n",
       " 'Alimit',\n",
       " 'curves',\n",
       " 'discrete_acceleration_curves',\n",
       " 'gear_shifting_style',\n",
       " 'use_linear_gs',\n",
       " 'gs',\n",
       " 'idle_engine_speed_median',\n",
       " 'idle_engine_speed_std',\n",
       " 'Tans',\n",
       " 'tans',\n",
       " 'sim_start',\n",
       " 'duration',\n",
       " 'times',\n",
       " 'transmission',\n",
       " 'driver_style',\n",
       " 'driver_simulation_model',\n",
       " 'starting_velocity',\n",
       " 'desired_velocity',\n",
       " 'gears',\n",
       " 'velocities',\n",
       " 'accelerations',\n",
       " 'positions']"
      ]
     },
     "execution_count": 5,
     "metadata": {},
     "output_type": "execute_result"
    }
   ],
   "source": [
    "list(driver.get_node('model')[0].dsp.data_nodes)"
   ]
  },
  {
   "cell_type": "markdown",
   "metadata": {},
   "source": [
    "# Compute and plot acceleration versus velocity graph of the vehicle"
   ]
  },
  {
   "cell_type": "code",
   "execution_count": 6,
   "metadata": {},
   "outputs": [
    {
     "name": "stderr",
     "output_type": "stream",
     "text": [
      "127.0.0.1 - - [06/Feb/2020 15:56:15] \"GET / HTTP/1.1\" 200 -\n"
     ]
    },
    {
     "data": {
      "application/vnd.plotly.v1+json": {
       "config": {
        "linkText": "Export to plot.ly",
        "plotlyServerURL": "https://plot.ly",
        "showLink": false
       },
       "data": [
        {
         "type": "scatter",
         "x": [
          0,
          0.2,
          0.4,
          0.6000000000000001,
          0.8,
          1,
          1.2000000000000002,
          1.4000000000000001,
          1.6,
          1.8,
          2,
          2.2,
          2.4000000000000004,
          2.6,
          2.8000000000000003,
          3,
          3.2,
          3.4000000000000004,
          3.6,
          3.8000000000000003,
          4,
          4.2,
          4.4,
          4.6000000000000005,
          4.800000000000001,
          5,
          5.2,
          5.4,
          5.6000000000000005,
          5.800000000000001,
          6,
          6.2,
          6.4,
          6.6000000000000005,
          6.800000000000001,
          7,
          7.2,
          7.4,
          7.6000000000000005,
          7.800000000000001,
          8,
          8.200000000000001,
          8.4,
          8.6,
          8.8,
          9,
          9.200000000000001,
          9.4,
          9.600000000000001,
          9.8,
          10,
          10.200000000000001,
          10.4,
          10.600000000000001,
          10.8,
          11,
          11.200000000000001,
          11.4,
          11.600000000000001,
          11.8,
          12,
          12.200000000000001,
          12.4,
          12.600000000000001,
          12.8,
          13,
          13.200000000000001,
          13.4,
          13.600000000000001,
          13.8,
          14,
          14.200000000000001,
          14.4,
          14.600000000000001,
          14.8,
          15,
          15.200000000000001,
          15.4,
          15.600000000000001,
          15.8,
          16,
          16.2,
          16.400000000000002,
          16.6,
          16.8,
          17,
          17.2,
          17.400000000000002,
          17.6,
          17.8,
          18,
          18.2,
          18.400000000000002,
          18.6,
          18.8,
          19,
          19.200000000000003,
          19.400000000000002,
          19.6,
          19.8,
          20,
          20.200000000000003,
          20.400000000000002,
          20.6,
          20.8,
          21,
          21.200000000000003,
          21.400000000000002,
          21.6,
          21.8,
          22,
          22.200000000000003,
          22.400000000000002,
          22.6,
          22.8,
          23,
          23.200000000000003,
          23.400000000000002,
          23.6,
          23.8,
          24,
          24.200000000000003,
          24.400000000000002,
          24.6,
          24.8,
          25,
          25.200000000000003,
          25.400000000000002,
          25.6,
          25.8,
          26,
          26.200000000000003,
          26.400000000000002,
          26.6,
          26.8,
          27,
          27.200000000000003,
          27.400000000000002,
          27.6,
          27.8,
          28,
          28.200000000000003,
          28.400000000000002,
          28.6,
          28.8,
          29,
          29.200000000000003,
          29.400000000000002,
          29.6,
          29.8,
          30,
          30.200000000000003,
          30.400000000000002,
          30.6,
          30.8,
          31,
          31.200000000000003,
          31.400000000000002,
          31.6,
          31.8,
          32,
          32.2,
          32.4,
          32.6,
          32.800000000000004,
          33,
          33.2,
          33.4,
          33.6,
          33.800000000000004,
          34,
          34.2,
          34.4,
          34.6,
          34.800000000000004,
          35,
          35.2,
          35.4,
          35.6,
          35.800000000000004,
          36,
          36.2,
          36.4,
          36.6,
          36.800000000000004
         ],
         "y": [
          3.2103552541202283,
          3.2101158249672284,
          3.209856732324126,
          3.2095779761909218,
          3.209279556567615,
          3.2089614734542065,
          3.2086237268506954,
          3.2082663167570824,
          3.207889243173367,
          3.2074925060995496,
          3.20707610553563,
          3.2066400414816076,
          3.206184313937484,
          3.2057089229032574,
          3.205213868378929,
          3.2046991503644984,
          3.2041647688599655,
          3.2036107238653306,
          3.2030370153805934,
          3.2024436434057537,
          3.201830607940812,
          3.2011979089857685,
          3.2005455465406225,
          3.199873520605374,
          3.1991818311800237,
          3.1984704782645714,
          3.1977394618590167,
          3.1969887819633596,
          3.1962184385776005,
          3.1954284317017394,
          3.194618761335776,
          3.19378942747971,
          3.1929404301335422,
          3.192071769297272,
          3.1911834449709,
          3.190275457154425,
          3.1893478058478486,
          3.18840049105117,
          3.1874335127643887,
          3.186446870987506,
          3.18544056572052,
          3.1844145969634328,
          3.1833689647162426,
          3.182303668978951,
          3.1812187097515565,
          3.1801140870340605,
          3.1789898008264617,
          3.1778458511287613,
          3.176682237940958,
          3.1754989612630533,
          3.1742960210950457,
          3.173073417436936,
          3.1718311502887246,
          3.1705692196504107,
          3.169287625521995,
          3.1679863679034765,
          3.166665446794856,
          3.165324862196133,
          3.1639646141073086,
          3.1625847025283815,
          3.1611851274593525,
          3.159765888900221,
          3.1583269868509873,
          3.1568684213116516,
          3.155390192282214,
          3.1538922997626737,
          3.152374743753031,
          3.1508375242532867,
          3.1492806412634398,
          3.147704094783491,
          3.14610788481344,
          3.144492011353287,
          3.142856474403031,
          3.1412012739626736,
          3.1395264100322136,
          3.1378318826116516,
          3.136117691700987,
          3.134383837300221,
          3.132630319409353,
          3.1308571380283814,
          3.1290642931573087,
          3.127251784796133,
          3.125419612944856,
          3.1235677776034763,
          3.121696278771995,
          3.1198051164504106,
          3.117894290638725,
          3.115963801336936,
          3.1140136485450456,
          3.093480305363361,
          3.0549261300009003,
          3.017155910831642,
          2.980143442865913,
          2.943863648210371,
          2.9082925161160698,
          2.8734070468129675,
          2.8391851988547736,
          2.8056058397208172,
          2.7726486994422923,
          2.7402943270390314,
          2.708524049570073,
          2.6773199336168703,
          2.6466647490321926,
          2.616541934800741,
          2.586935566869341,
          2.557830327815417,
          2.52921147823234,
          2.501064829719335,
          2.4733767193719545,
          2.446133985676736,
          2.41932394572071,
          2.3929343736328135,
          2.3669534801802374,
          2.3413698934481473,
          2.316172640536265,
          2.291351130210408,
          2.266895136451365,
          2.242794782847423,
          2.219040527780481,
          2.1956231503591006,
          2.1725337370548905,
          2.149763669001554,
          2.1273046099185753,
          2.1051484946239922,
          2.0832875181030026,
          2.0617141251012776,
          2.0404210002138314,
          2.0194010584421367,
          1.9986474361938682,
          1.9781534827012697,
          1.9579127518355923,
          1.9379189942964459,
          1.9181661501561802,
          1.898648341740608,
          1.8793598668285012,
          1.8602951921533375,
          1.8414489471917248,
          1.8228159182238763,
          1.8043910426523166,
          1.786169403565828,
          1.7681462245363713,
          1.7503168646374112,
          1.732676813672739,
          1.7152216876054789,
          1.6979472241775568,
          1.6808492787104343,
          1.6639238200784063,
          1.6471669268462652,
          1.6305747835635391,
          1.6141436772079547,
          1.5978699937711678,
          1.581750214980154,
          1.5657809151480198,
          1.549958758148316,
          1.5342804945072266,
          1.5187429586083248,
          1.5033430660048352,
          1.4880778108346153,
          1.4729442633332965,
          1.4579395674412754,
          1.4430609385004378,
          1.4283056610367229,
          1.4136710866248117,
          1.3991546318314168,
          1.3847537762338205,
          1.3704660605104613,
          1.3562890846005364,
          1.3422205059297323,
          1.3282580376993118,
          1.314399447235953,
          1.3006425543998241,
          1.286985230048515,
          1.2734253945545564,
          1.2599610163743513,
          1.2465901106664528,
          1.2333107379572212,
          1.2201210028519602,
          1.207019052789754,
          1.194003076840268,
          1.1810713045408856,
          1.1682220047726035,
          1.155453484673191,
          1.1427640885861823,
          1.1301521970443225,
          1.1176162257861681
         ]
        }
       ],
       "layout": {
        "template": {
         "data": {
          "bar": [
           {
            "error_x": {
             "color": "#2a3f5f"
            },
            "error_y": {
             "color": "#2a3f5f"
            },
            "marker": {
             "line": {
              "color": "#E5ECF6",
              "width": 0.5
             }
            },
            "type": "bar"
           }
          ],
          "barpolar": [
           {
            "marker": {
             "line": {
              "color": "#E5ECF6",
              "width": 0.5
             }
            },
            "type": "barpolar"
           }
          ],
          "carpet": [
           {
            "aaxis": {
             "endlinecolor": "#2a3f5f",
             "gridcolor": "white",
             "linecolor": "white",
             "minorgridcolor": "white",
             "startlinecolor": "#2a3f5f"
            },
            "baxis": {
             "endlinecolor": "#2a3f5f",
             "gridcolor": "white",
             "linecolor": "white",
             "minorgridcolor": "white",
             "startlinecolor": "#2a3f5f"
            },
            "type": "carpet"
           }
          ],
          "choropleth": [
           {
            "colorbar": {
             "outlinewidth": 0,
             "ticks": ""
            },
            "type": "choropleth"
           }
          ],
          "contour": [
           {
            "colorbar": {
             "outlinewidth": 0,
             "ticks": ""
            },
            "colorscale": [
             [
              0,
              "#0d0887"
             ],
             [
              0.1111111111111111,
              "#46039f"
             ],
             [
              0.2222222222222222,
              "#7201a8"
             ],
             [
              0.3333333333333333,
              "#9c179e"
             ],
             [
              0.4444444444444444,
              "#bd3786"
             ],
             [
              0.5555555555555556,
              "#d8576b"
             ],
             [
              0.6666666666666666,
              "#ed7953"
             ],
             [
              0.7777777777777778,
              "#fb9f3a"
             ],
             [
              0.8888888888888888,
              "#fdca26"
             ],
             [
              1,
              "#f0f921"
             ]
            ],
            "type": "contour"
           }
          ],
          "contourcarpet": [
           {
            "colorbar": {
             "outlinewidth": 0,
             "ticks": ""
            },
            "type": "contourcarpet"
           }
          ],
          "heatmap": [
           {
            "colorbar": {
             "outlinewidth": 0,
             "ticks": ""
            },
            "colorscale": [
             [
              0,
              "#0d0887"
             ],
             [
              0.1111111111111111,
              "#46039f"
             ],
             [
              0.2222222222222222,
              "#7201a8"
             ],
             [
              0.3333333333333333,
              "#9c179e"
             ],
             [
              0.4444444444444444,
              "#bd3786"
             ],
             [
              0.5555555555555556,
              "#d8576b"
             ],
             [
              0.6666666666666666,
              "#ed7953"
             ],
             [
              0.7777777777777778,
              "#fb9f3a"
             ],
             [
              0.8888888888888888,
              "#fdca26"
             ],
             [
              1,
              "#f0f921"
             ]
            ],
            "type": "heatmap"
           }
          ],
          "heatmapgl": [
           {
            "colorbar": {
             "outlinewidth": 0,
             "ticks": ""
            },
            "colorscale": [
             [
              0,
              "#0d0887"
             ],
             [
              0.1111111111111111,
              "#46039f"
             ],
             [
              0.2222222222222222,
              "#7201a8"
             ],
             [
              0.3333333333333333,
              "#9c179e"
             ],
             [
              0.4444444444444444,
              "#bd3786"
             ],
             [
              0.5555555555555556,
              "#d8576b"
             ],
             [
              0.6666666666666666,
              "#ed7953"
             ],
             [
              0.7777777777777778,
              "#fb9f3a"
             ],
             [
              0.8888888888888888,
              "#fdca26"
             ],
             [
              1,
              "#f0f921"
             ]
            ],
            "type": "heatmapgl"
           }
          ],
          "histogram": [
           {
            "marker": {
             "colorbar": {
              "outlinewidth": 0,
              "ticks": ""
             }
            },
            "type": "histogram"
           }
          ],
          "histogram2d": [
           {
            "colorbar": {
             "outlinewidth": 0,
             "ticks": ""
            },
            "colorscale": [
             [
              0,
              "#0d0887"
             ],
             [
              0.1111111111111111,
              "#46039f"
             ],
             [
              0.2222222222222222,
              "#7201a8"
             ],
             [
              0.3333333333333333,
              "#9c179e"
             ],
             [
              0.4444444444444444,
              "#bd3786"
             ],
             [
              0.5555555555555556,
              "#d8576b"
             ],
             [
              0.6666666666666666,
              "#ed7953"
             ],
             [
              0.7777777777777778,
              "#fb9f3a"
             ],
             [
              0.8888888888888888,
              "#fdca26"
             ],
             [
              1,
              "#f0f921"
             ]
            ],
            "type": "histogram2d"
           }
          ],
          "histogram2dcontour": [
           {
            "colorbar": {
             "outlinewidth": 0,
             "ticks": ""
            },
            "colorscale": [
             [
              0,
              "#0d0887"
             ],
             [
              0.1111111111111111,
              "#46039f"
             ],
             [
              0.2222222222222222,
              "#7201a8"
             ],
             [
              0.3333333333333333,
              "#9c179e"
             ],
             [
              0.4444444444444444,
              "#bd3786"
             ],
             [
              0.5555555555555556,
              "#d8576b"
             ],
             [
              0.6666666666666666,
              "#ed7953"
             ],
             [
              0.7777777777777778,
              "#fb9f3a"
             ],
             [
              0.8888888888888888,
              "#fdca26"
             ],
             [
              1,
              "#f0f921"
             ]
            ],
            "type": "histogram2dcontour"
           }
          ],
          "mesh3d": [
           {
            "colorbar": {
             "outlinewidth": 0,
             "ticks": ""
            },
            "type": "mesh3d"
           }
          ],
          "parcoords": [
           {
            "line": {
             "colorbar": {
              "outlinewidth": 0,
              "ticks": ""
             }
            },
            "type": "parcoords"
           }
          ],
          "scatter": [
           {
            "marker": {
             "colorbar": {
              "outlinewidth": 0,
              "ticks": ""
             }
            },
            "type": "scatter"
           }
          ],
          "scatter3d": [
           {
            "line": {
             "colorbar": {
              "outlinewidth": 0,
              "ticks": ""
             }
            },
            "marker": {
             "colorbar": {
              "outlinewidth": 0,
              "ticks": ""
             }
            },
            "type": "scatter3d"
           }
          ],
          "scattercarpet": [
           {
            "marker": {
             "colorbar": {
              "outlinewidth": 0,
              "ticks": ""
             }
            },
            "type": "scattercarpet"
           }
          ],
          "scattergeo": [
           {
            "marker": {
             "colorbar": {
              "outlinewidth": 0,
              "ticks": ""
             }
            },
            "type": "scattergeo"
           }
          ],
          "scattergl": [
           {
            "marker": {
             "colorbar": {
              "outlinewidth": 0,
              "ticks": ""
             }
            },
            "type": "scattergl"
           }
          ],
          "scattermapbox": [
           {
            "marker": {
             "colorbar": {
              "outlinewidth": 0,
              "ticks": ""
             }
            },
            "type": "scattermapbox"
           }
          ],
          "scatterpolar": [
           {
            "marker": {
             "colorbar": {
              "outlinewidth": 0,
              "ticks": ""
             }
            },
            "type": "scatterpolar"
           }
          ],
          "scatterpolargl": [
           {
            "marker": {
             "colorbar": {
              "outlinewidth": 0,
              "ticks": ""
             }
            },
            "type": "scatterpolargl"
           }
          ],
          "scatterternary": [
           {
            "marker": {
             "colorbar": {
              "outlinewidth": 0,
              "ticks": ""
             }
            },
            "type": "scatterternary"
           }
          ],
          "surface": [
           {
            "colorbar": {
             "outlinewidth": 0,
             "ticks": ""
            },
            "colorscale": [
             [
              0,
              "#0d0887"
             ],
             [
              0.1111111111111111,
              "#46039f"
             ],
             [
              0.2222222222222222,
              "#7201a8"
             ],
             [
              0.3333333333333333,
              "#9c179e"
             ],
             [
              0.4444444444444444,
              "#bd3786"
             ],
             [
              0.5555555555555556,
              "#d8576b"
             ],
             [
              0.6666666666666666,
              "#ed7953"
             ],
             [
              0.7777777777777778,
              "#fb9f3a"
             ],
             [
              0.8888888888888888,
              "#fdca26"
             ],
             [
              1,
              "#f0f921"
             ]
            ],
            "type": "surface"
           }
          ],
          "table": [
           {
            "cells": {
             "fill": {
              "color": "#EBF0F8"
             },
             "line": {
              "color": "white"
             }
            },
            "header": {
             "fill": {
              "color": "#C8D4E3"
             },
             "line": {
              "color": "white"
             }
            },
            "type": "table"
           }
          ]
         },
         "layout": {
          "annotationdefaults": {
           "arrowcolor": "#2a3f5f",
           "arrowhead": 0,
           "arrowwidth": 1
          },
          "colorscale": {
           "diverging": [
            [
             0,
             "#8e0152"
            ],
            [
             0.1,
             "#c51b7d"
            ],
            [
             0.2,
             "#de77ae"
            ],
            [
             0.3,
             "#f1b6da"
            ],
            [
             0.4,
             "#fde0ef"
            ],
            [
             0.5,
             "#f7f7f7"
            ],
            [
             0.6,
             "#e6f5d0"
            ],
            [
             0.7,
             "#b8e186"
            ],
            [
             0.8,
             "#7fbc41"
            ],
            [
             0.9,
             "#4d9221"
            ],
            [
             1,
             "#276419"
            ]
           ],
           "sequential": [
            [
             0,
             "#0d0887"
            ],
            [
             0.1111111111111111,
             "#46039f"
            ],
            [
             0.2222222222222222,
             "#7201a8"
            ],
            [
             0.3333333333333333,
             "#9c179e"
            ],
            [
             0.4444444444444444,
             "#bd3786"
            ],
            [
             0.5555555555555556,
             "#d8576b"
            ],
            [
             0.6666666666666666,
             "#ed7953"
            ],
            [
             0.7777777777777778,
             "#fb9f3a"
            ],
            [
             0.8888888888888888,
             "#fdca26"
            ],
            [
             1,
             "#f0f921"
            ]
           ],
           "sequentialminus": [
            [
             0,
             "#0d0887"
            ],
            [
             0.1111111111111111,
             "#46039f"
            ],
            [
             0.2222222222222222,
             "#7201a8"
            ],
            [
             0.3333333333333333,
             "#9c179e"
            ],
            [
             0.4444444444444444,
             "#bd3786"
            ],
            [
             0.5555555555555556,
             "#d8576b"
            ],
            [
             0.6666666666666666,
             "#ed7953"
            ],
            [
             0.7777777777777778,
             "#fb9f3a"
            ],
            [
             0.8888888888888888,
             "#fdca26"
            ],
            [
             1,
             "#f0f921"
            ]
           ]
          },
          "colorway": [
           "#636efa",
           "#EF553B",
           "#00cc96",
           "#ab63fa",
           "#FFA15A",
           "#19d3f3",
           "#FF6692",
           "#B6E880",
           "#FF97FF",
           "#FECB52"
          ],
          "font": {
           "color": "#2a3f5f"
          },
          "geo": {
           "bgcolor": "white",
           "lakecolor": "white",
           "landcolor": "#E5ECF6",
           "showlakes": true,
           "showland": true,
           "subunitcolor": "white"
          },
          "hoverlabel": {
           "align": "left"
          },
          "hovermode": "closest",
          "mapbox": {
           "style": "light"
          },
          "paper_bgcolor": "white",
          "plot_bgcolor": "#E5ECF6",
          "polar": {
           "angularaxis": {
            "gridcolor": "white",
            "linecolor": "white",
            "ticks": ""
           },
           "bgcolor": "#E5ECF6",
           "radialaxis": {
            "gridcolor": "white",
            "linecolor": "white",
            "ticks": ""
           }
          },
          "scene": {
           "xaxis": {
            "backgroundcolor": "#E5ECF6",
            "gridcolor": "white",
            "gridwidth": 2,
            "linecolor": "white",
            "showbackground": true,
            "ticks": "",
            "zerolinecolor": "white"
           },
           "yaxis": {
            "backgroundcolor": "#E5ECF6",
            "gridcolor": "white",
            "gridwidth": 2,
            "linecolor": "white",
            "showbackground": true,
            "ticks": "",
            "zerolinecolor": "white"
           },
           "zaxis": {
            "backgroundcolor": "#E5ECF6",
            "gridcolor": "white",
            "gridwidth": 2,
            "linecolor": "white",
            "showbackground": true,
            "ticks": "",
            "zerolinecolor": "white"
           }
          },
          "shapedefaults": {
           "line": {
            "color": "#2a3f5f"
           }
          },
          "ternary": {
           "aaxis": {
            "gridcolor": "white",
            "linecolor": "white",
            "ticks": ""
           },
           "baxis": {
            "gridcolor": "white",
            "linecolor": "white",
            "ticks": ""
           },
           "bgcolor": "#E5ECF6",
           "caxis": {
            "gridcolor": "white",
            "linecolor": "white",
            "ticks": ""
           }
          },
          "title": {
           "x": 0.05
          },
          "xaxis": {
           "automargin": true,
           "gridcolor": "white",
           "linecolor": "white",
           "ticks": "",
           "zerolinecolor": "white",
           "zerolinewidth": 2
          },
          "yaxis": {
           "automargin": true,
           "gridcolor": "white",
           "linecolor": "white",
           "ticks": "",
           "zerolinecolor": "white",
           "zerolinewidth": 2
          }
         }
        },
        "title": {
         "text": "Acceleration-Velocity"
        },
        "xaxis": {
         "title": {
          "text": "velocity (in m/s)"
         }
        },
        "yaxis": {
         "title": {
          "text": "Acceleration (in m/s2"
         }
        }
       }
      },
      "text/html": [
       "<div>\n",
       "        \n",
       "        \n",
       "            <div id=\"daa0d1c6-1c0f-4cfb-8253-13512740aa89\" class=\"plotly-graph-div\" style=\"height:525px; width:100%;\"></div>\n",
       "            <script type=\"text/javascript\">\n",
       "                require([\"plotly\"], function(Plotly) {\n",
       "                    window.PLOTLYENV=window.PLOTLYENV || {};\n",
       "                    \n",
       "                if (document.getElementById(\"daa0d1c6-1c0f-4cfb-8253-13512740aa89\")) {\n",
       "                    Plotly.newPlot(\n",
       "                        'daa0d1c6-1c0f-4cfb-8253-13512740aa89',\n",
       "                        [{\"type\": \"scatter\", \"x\": [0.0, 0.2, 0.4, 0.6000000000000001, 0.8, 1.0, 1.2000000000000002, 1.4000000000000001, 1.6, 1.8, 2.0, 2.2, 2.4000000000000004, 2.6, 2.8000000000000003, 3.0, 3.2, 3.4000000000000004, 3.6, 3.8000000000000003, 4.0, 4.2, 4.4, 4.6000000000000005, 4.800000000000001, 5.0, 5.2, 5.4, 5.6000000000000005, 5.800000000000001, 6.0, 6.2, 6.4, 6.6000000000000005, 6.800000000000001, 7.0, 7.2, 7.4, 7.6000000000000005, 7.800000000000001, 8.0, 8.200000000000001, 8.4, 8.6, 8.8, 9.0, 9.200000000000001, 9.4, 9.600000000000001, 9.8, 10.0, 10.200000000000001, 10.4, 10.600000000000001, 10.8, 11.0, 11.200000000000001, 11.4, 11.600000000000001, 11.8, 12.0, 12.200000000000001, 12.4, 12.600000000000001, 12.8, 13.0, 13.200000000000001, 13.4, 13.600000000000001, 13.8, 14.0, 14.200000000000001, 14.4, 14.600000000000001, 14.8, 15.0, 15.200000000000001, 15.4, 15.600000000000001, 15.8, 16.0, 16.2, 16.400000000000002, 16.6, 16.8, 17.0, 17.2, 17.400000000000002, 17.6, 17.8, 18.0, 18.2, 18.400000000000002, 18.6, 18.8, 19.0, 19.200000000000003, 19.400000000000002, 19.6, 19.8, 20.0, 20.200000000000003, 20.400000000000002, 20.6, 20.8, 21.0, 21.200000000000003, 21.400000000000002, 21.6, 21.8, 22.0, 22.200000000000003, 22.400000000000002, 22.6, 22.8, 23.0, 23.200000000000003, 23.400000000000002, 23.6, 23.8, 24.0, 24.200000000000003, 24.400000000000002, 24.6, 24.8, 25.0, 25.200000000000003, 25.400000000000002, 25.6, 25.8, 26.0, 26.200000000000003, 26.400000000000002, 26.6, 26.8, 27.0, 27.200000000000003, 27.400000000000002, 27.6, 27.8, 28.0, 28.200000000000003, 28.400000000000002, 28.6, 28.8, 29.0, 29.200000000000003, 29.400000000000002, 29.6, 29.8, 30.0, 30.200000000000003, 30.400000000000002, 30.6, 30.8, 31.0, 31.200000000000003, 31.400000000000002, 31.6, 31.8, 32.0, 32.2, 32.4, 32.6, 32.800000000000004, 33.0, 33.2, 33.4, 33.6, 33.800000000000004, 34.0, 34.2, 34.4, 34.6, 34.800000000000004, 35.0, 35.2, 35.4, 35.6, 35.800000000000004, 36.0, 36.2, 36.4, 36.6, 36.800000000000004], \"y\": [3.2103552541202283, 3.2101158249672284, 3.209856732324126, 3.2095779761909218, 3.209279556567615, 3.2089614734542065, 3.2086237268506954, 3.2082663167570824, 3.207889243173367, 3.2074925060995496, 3.20707610553563, 3.2066400414816076, 3.206184313937484, 3.2057089229032574, 3.205213868378929, 3.2046991503644984, 3.2041647688599655, 3.2036107238653306, 3.2030370153805934, 3.2024436434057537, 3.201830607940812, 3.2011979089857685, 3.2005455465406225, 3.199873520605374, 3.1991818311800237, 3.1984704782645714, 3.1977394618590167, 3.1969887819633596, 3.1962184385776005, 3.1954284317017394, 3.194618761335776, 3.19378942747971, 3.1929404301335422, 3.192071769297272, 3.1911834449709, 3.190275457154425, 3.1893478058478486, 3.18840049105117, 3.1874335127643887, 3.186446870987506, 3.18544056572052, 3.1844145969634328, 3.1833689647162426, 3.182303668978951, 3.1812187097515565, 3.1801140870340605, 3.1789898008264617, 3.1778458511287613, 3.176682237940958, 3.1754989612630533, 3.1742960210950457, 3.173073417436936, 3.1718311502887246, 3.1705692196504107, 3.169287625521995, 3.1679863679034765, 3.166665446794856, 3.165324862196133, 3.1639646141073086, 3.1625847025283815, 3.1611851274593525, 3.159765888900221, 3.1583269868509873, 3.1568684213116516, 3.155390192282214, 3.1538922997626737, 3.152374743753031, 3.1508375242532867, 3.1492806412634398, 3.147704094783491, 3.14610788481344, 3.144492011353287, 3.142856474403031, 3.1412012739626736, 3.1395264100322136, 3.1378318826116516, 3.136117691700987, 3.134383837300221, 3.132630319409353, 3.1308571380283814, 3.1290642931573087, 3.127251784796133, 3.125419612944856, 3.1235677776034763, 3.121696278771995, 3.1198051164504106, 3.117894290638725, 3.115963801336936, 3.1140136485450456, 3.093480305363361, 3.0549261300009003, 3.017155910831642, 2.980143442865913, 2.943863648210371, 2.9082925161160698, 2.8734070468129675, 2.8391851988547736, 2.8056058397208172, 2.7726486994422923, 2.7402943270390314, 2.708524049570073, 2.6773199336168703, 2.6466647490321926, 2.616541934800741, 2.586935566869341, 2.557830327815417, 2.52921147823234, 2.501064829719335, 2.4733767193719545, 2.446133985676736, 2.41932394572071, 2.3929343736328135, 2.3669534801802374, 2.3413698934481473, 2.316172640536265, 2.291351130210408, 2.266895136451365, 2.242794782847423, 2.219040527780481, 2.1956231503591006, 2.1725337370548905, 2.149763669001554, 2.1273046099185753, 2.1051484946239922, 2.0832875181030026, 2.0617141251012776, 2.0404210002138314, 2.0194010584421367, 1.9986474361938682, 1.9781534827012697, 1.9579127518355923, 1.9379189942964459, 1.9181661501561802, 1.898648341740608, 1.8793598668285012, 1.8602951921533375, 1.8414489471917248, 1.8228159182238763, 1.8043910426523166, 1.786169403565828, 1.7681462245363713, 1.7503168646374112, 1.732676813672739, 1.7152216876054789, 1.6979472241775568, 1.6808492787104343, 1.6639238200784063, 1.6471669268462652, 1.6305747835635391, 1.6141436772079547, 1.5978699937711678, 1.581750214980154, 1.5657809151480198, 1.549958758148316, 1.5342804945072266, 1.5187429586083248, 1.5033430660048352, 1.4880778108346153, 1.4729442633332965, 1.4579395674412754, 1.4430609385004378, 1.4283056610367229, 1.4136710866248117, 1.3991546318314168, 1.3847537762338205, 1.3704660605104613, 1.3562890846005364, 1.3422205059297323, 1.3282580376993118, 1.314399447235953, 1.3006425543998241, 1.286985230048515, 1.2734253945545564, 1.2599610163743513, 1.2465901106664528, 1.2333107379572212, 1.2201210028519602, 1.207019052789754, 1.194003076840268, 1.1810713045408856, 1.1682220047726035, 1.155453484673191, 1.1427640885861823, 1.1301521970443225, 1.1176162257861681]}],\n",
       "                        {\"template\": {\"data\": {\"bar\": [{\"error_x\": {\"color\": \"#2a3f5f\"}, \"error_y\": {\"color\": \"#2a3f5f\"}, \"marker\": {\"line\": {\"color\": \"#E5ECF6\", \"width\": 0.5}}, \"type\": \"bar\"}], \"barpolar\": [{\"marker\": {\"line\": {\"color\": \"#E5ECF6\", \"width\": 0.5}}, \"type\": \"barpolar\"}], \"carpet\": [{\"aaxis\": {\"endlinecolor\": \"#2a3f5f\", \"gridcolor\": \"white\", \"linecolor\": \"white\", \"minorgridcolor\": \"white\", \"startlinecolor\": \"#2a3f5f\"}, \"baxis\": {\"endlinecolor\": \"#2a3f5f\", \"gridcolor\": \"white\", \"linecolor\": \"white\", \"minorgridcolor\": \"white\", \"startlinecolor\": \"#2a3f5f\"}, \"type\": \"carpet\"}], \"choropleth\": [{\"colorbar\": {\"outlinewidth\": 0, \"ticks\": \"\"}, \"type\": \"choropleth\"}], \"contour\": [{\"colorbar\": {\"outlinewidth\": 0, \"ticks\": \"\"}, \"colorscale\": [[0.0, \"#0d0887\"], [0.1111111111111111, \"#46039f\"], [0.2222222222222222, \"#7201a8\"], [0.3333333333333333, \"#9c179e\"], [0.4444444444444444, \"#bd3786\"], [0.5555555555555556, \"#d8576b\"], [0.6666666666666666, \"#ed7953\"], [0.7777777777777778, \"#fb9f3a\"], [0.8888888888888888, \"#fdca26\"], [1.0, \"#f0f921\"]], \"type\": \"contour\"}], \"contourcarpet\": [{\"colorbar\": {\"outlinewidth\": 0, \"ticks\": \"\"}, \"type\": \"contourcarpet\"}], \"heatmap\": [{\"colorbar\": {\"outlinewidth\": 0, \"ticks\": \"\"}, \"colorscale\": [[0.0, \"#0d0887\"], [0.1111111111111111, \"#46039f\"], [0.2222222222222222, \"#7201a8\"], [0.3333333333333333, \"#9c179e\"], [0.4444444444444444, \"#bd3786\"], [0.5555555555555556, \"#d8576b\"], [0.6666666666666666, \"#ed7953\"], [0.7777777777777778, \"#fb9f3a\"], [0.8888888888888888, \"#fdca26\"], [1.0, \"#f0f921\"]], \"type\": \"heatmap\"}], \"heatmapgl\": [{\"colorbar\": {\"outlinewidth\": 0, \"ticks\": \"\"}, \"colorscale\": [[0.0, \"#0d0887\"], [0.1111111111111111, \"#46039f\"], [0.2222222222222222, \"#7201a8\"], [0.3333333333333333, \"#9c179e\"], [0.4444444444444444, \"#bd3786\"], [0.5555555555555556, \"#d8576b\"], [0.6666666666666666, \"#ed7953\"], [0.7777777777777778, \"#fb9f3a\"], [0.8888888888888888, \"#fdca26\"], [1.0, \"#f0f921\"]], \"type\": \"heatmapgl\"}], \"histogram\": [{\"marker\": {\"colorbar\": {\"outlinewidth\": 0, \"ticks\": \"\"}}, \"type\": \"histogram\"}], \"histogram2d\": [{\"colorbar\": {\"outlinewidth\": 0, \"ticks\": \"\"}, \"colorscale\": [[0.0, \"#0d0887\"], [0.1111111111111111, \"#46039f\"], [0.2222222222222222, \"#7201a8\"], [0.3333333333333333, \"#9c179e\"], [0.4444444444444444, \"#bd3786\"], [0.5555555555555556, \"#d8576b\"], [0.6666666666666666, \"#ed7953\"], [0.7777777777777778, \"#fb9f3a\"], [0.8888888888888888, \"#fdca26\"], [1.0, \"#f0f921\"]], \"type\": \"histogram2d\"}], \"histogram2dcontour\": [{\"colorbar\": {\"outlinewidth\": 0, \"ticks\": \"\"}, \"colorscale\": [[0.0, \"#0d0887\"], [0.1111111111111111, \"#46039f\"], [0.2222222222222222, \"#7201a8\"], [0.3333333333333333, \"#9c179e\"], [0.4444444444444444, \"#bd3786\"], [0.5555555555555556, \"#d8576b\"], [0.6666666666666666, \"#ed7953\"], [0.7777777777777778, \"#fb9f3a\"], [0.8888888888888888, \"#fdca26\"], [1.0, \"#f0f921\"]], \"type\": \"histogram2dcontour\"}], \"mesh3d\": [{\"colorbar\": {\"outlinewidth\": 0, \"ticks\": \"\"}, \"type\": \"mesh3d\"}], \"parcoords\": [{\"line\": {\"colorbar\": {\"outlinewidth\": 0, \"ticks\": \"\"}}, \"type\": \"parcoords\"}], \"scatter\": [{\"marker\": {\"colorbar\": {\"outlinewidth\": 0, \"ticks\": \"\"}}, \"type\": \"scatter\"}], \"scatter3d\": [{\"line\": {\"colorbar\": {\"outlinewidth\": 0, \"ticks\": \"\"}}, \"marker\": {\"colorbar\": {\"outlinewidth\": 0, \"ticks\": \"\"}}, \"type\": \"scatter3d\"}], \"scattercarpet\": [{\"marker\": {\"colorbar\": {\"outlinewidth\": 0, \"ticks\": \"\"}}, \"type\": \"scattercarpet\"}], \"scattergeo\": [{\"marker\": {\"colorbar\": {\"outlinewidth\": 0, \"ticks\": \"\"}}, \"type\": \"scattergeo\"}], \"scattergl\": [{\"marker\": {\"colorbar\": {\"outlinewidth\": 0, \"ticks\": \"\"}}, \"type\": \"scattergl\"}], \"scattermapbox\": [{\"marker\": {\"colorbar\": {\"outlinewidth\": 0, \"ticks\": \"\"}}, \"type\": \"scattermapbox\"}], \"scatterpolar\": [{\"marker\": {\"colorbar\": {\"outlinewidth\": 0, \"ticks\": \"\"}}, \"type\": \"scatterpolar\"}], \"scatterpolargl\": [{\"marker\": {\"colorbar\": {\"outlinewidth\": 0, \"ticks\": \"\"}}, \"type\": \"scatterpolargl\"}], \"scatterternary\": [{\"marker\": {\"colorbar\": {\"outlinewidth\": 0, \"ticks\": \"\"}}, \"type\": \"scatterternary\"}], \"surface\": [{\"colorbar\": {\"outlinewidth\": 0, \"ticks\": \"\"}, \"colorscale\": [[0.0, \"#0d0887\"], [0.1111111111111111, \"#46039f\"], [0.2222222222222222, \"#7201a8\"], [0.3333333333333333, \"#9c179e\"], [0.4444444444444444, \"#bd3786\"], [0.5555555555555556, \"#d8576b\"], [0.6666666666666666, \"#ed7953\"], [0.7777777777777778, \"#fb9f3a\"], [0.8888888888888888, \"#fdca26\"], [1.0, \"#f0f921\"]], \"type\": \"surface\"}], \"table\": [{\"cells\": {\"fill\": {\"color\": \"#EBF0F8\"}, \"line\": {\"color\": \"white\"}}, \"header\": {\"fill\": {\"color\": \"#C8D4E3\"}, \"line\": {\"color\": \"white\"}}, \"type\": \"table\"}]}, \"layout\": {\"annotationdefaults\": {\"arrowcolor\": \"#2a3f5f\", \"arrowhead\": 0, \"arrowwidth\": 1}, \"colorscale\": {\"diverging\": [[0, \"#8e0152\"], [0.1, \"#c51b7d\"], [0.2, \"#de77ae\"], [0.3, \"#f1b6da\"], [0.4, \"#fde0ef\"], [0.5, \"#f7f7f7\"], [0.6, \"#e6f5d0\"], [0.7, \"#b8e186\"], [0.8, \"#7fbc41\"], [0.9, \"#4d9221\"], [1, \"#276419\"]], \"sequential\": [[0.0, \"#0d0887\"], [0.1111111111111111, \"#46039f\"], [0.2222222222222222, \"#7201a8\"], [0.3333333333333333, \"#9c179e\"], [0.4444444444444444, \"#bd3786\"], [0.5555555555555556, \"#d8576b\"], [0.6666666666666666, \"#ed7953\"], [0.7777777777777778, \"#fb9f3a\"], [0.8888888888888888, \"#fdca26\"], [1.0, \"#f0f921\"]], \"sequentialminus\": [[0.0, \"#0d0887\"], [0.1111111111111111, \"#46039f\"], [0.2222222222222222, \"#7201a8\"], [0.3333333333333333, \"#9c179e\"], [0.4444444444444444, \"#bd3786\"], [0.5555555555555556, \"#d8576b\"], [0.6666666666666666, \"#ed7953\"], [0.7777777777777778, \"#fb9f3a\"], [0.8888888888888888, \"#fdca26\"], [1.0, \"#f0f921\"]]}, \"colorway\": [\"#636efa\", \"#EF553B\", \"#00cc96\", \"#ab63fa\", \"#FFA15A\", \"#19d3f3\", \"#FF6692\", \"#B6E880\", \"#FF97FF\", \"#FECB52\"], \"font\": {\"color\": \"#2a3f5f\"}, \"geo\": {\"bgcolor\": \"white\", \"lakecolor\": \"white\", \"landcolor\": \"#E5ECF6\", \"showlakes\": true, \"showland\": true, \"subunitcolor\": \"white\"}, \"hoverlabel\": {\"align\": \"left\"}, \"hovermode\": \"closest\", \"mapbox\": {\"style\": \"light\"}, \"paper_bgcolor\": \"white\", \"plot_bgcolor\": \"#E5ECF6\", \"polar\": {\"angularaxis\": {\"gridcolor\": \"white\", \"linecolor\": \"white\", \"ticks\": \"\"}, \"bgcolor\": \"#E5ECF6\", \"radialaxis\": {\"gridcolor\": \"white\", \"linecolor\": \"white\", \"ticks\": \"\"}}, \"scene\": {\"xaxis\": {\"backgroundcolor\": \"#E5ECF6\", \"gridcolor\": \"white\", \"gridwidth\": 2, \"linecolor\": \"white\", \"showbackground\": true, \"ticks\": \"\", \"zerolinecolor\": \"white\"}, \"yaxis\": {\"backgroundcolor\": \"#E5ECF6\", \"gridcolor\": \"white\", \"gridwidth\": 2, \"linecolor\": \"white\", \"showbackground\": true, \"ticks\": \"\", \"zerolinecolor\": \"white\"}, \"zaxis\": {\"backgroundcolor\": \"#E5ECF6\", \"gridcolor\": \"white\", \"gridwidth\": 2, \"linecolor\": \"white\", \"showbackground\": true, \"ticks\": \"\", \"zerolinecolor\": \"white\"}}, \"shapedefaults\": {\"line\": {\"color\": \"#2a3f5f\"}}, \"ternary\": {\"aaxis\": {\"gridcolor\": \"white\", \"linecolor\": \"white\", \"ticks\": \"\"}, \"baxis\": {\"gridcolor\": \"white\", \"linecolor\": \"white\", \"ticks\": \"\"}, \"bgcolor\": \"#E5ECF6\", \"caxis\": {\"gridcolor\": \"white\", \"linecolor\": \"white\", \"ticks\": \"\"}}, \"title\": {\"x\": 0.05}, \"xaxis\": {\"automargin\": true, \"gridcolor\": \"white\", \"linecolor\": \"white\", \"ticks\": \"\", \"zerolinecolor\": \"white\", \"zerolinewidth\": 2}, \"yaxis\": {\"automargin\": true, \"gridcolor\": \"white\", \"linecolor\": \"white\", \"ticks\": \"\", \"zerolinecolor\": \"white\", \"zerolinewidth\": 2}}}, \"title\": {\"text\": \"Acceleration-Velocity\"}, \"xaxis\": {\"title\": {\"text\": \"velocity (in m/s)\"}}, \"yaxis\": {\"title\": {\"text\": \"Acceleration (in m/s2\"}}},\n",
       "                        {\"responsive\": true}\n",
       "                    ).then(function(){\n",
       "                            \n",
       "var gd = document.getElementById('daa0d1c6-1c0f-4cfb-8253-13512740aa89');\n",
       "var x = new MutationObserver(function (mutations, observer) {{\n",
       "        var display = window.getComputedStyle(gd).display;\n",
       "        if (!display || display === 'none') {{\n",
       "            console.log([gd, 'removed!']);\n",
       "            Plotly.purge(gd);\n",
       "            observer.disconnect();\n",
       "        }}\n",
       "}});\n",
       "\n",
       "// Listen for the removal of the full notebook cells\n",
       "var notebookContainer = gd.closest('#notebook-container');\n",
       "if (notebookContainer) {{\n",
       "    x.observe(notebookContainer, {childList: true});\n",
       "}}\n",
       "\n",
       "// Listen for the clearing of the current output cell\n",
       "var outputEl = gd.closest('.output');\n",
       "if (outputEl) {{\n",
       "    x.observe(outputEl, {childList: true});\n",
       "}}\n",
       "\n",
       "                        })\n",
       "                };\n",
       "                });\n",
       "            </script>\n",
       "        </div>"
      ]
     },
     "metadata": {},
     "output_type": "display_data"
    }
   ],
   "source": [
    "layout = go.Layout(title=\"Acceleration-Velocity\",\n",
    "                xaxis=dict(title='velocity (in m/s)'),\n",
    "                yaxis=dict(title='Acceleration (in m/s2'))\n",
    "data = sol['outputs']['discrete_acceleration_curves']\n",
    "fig = go.Figure(data=data, layout=layout)\n",
    "iplot(fig)"
   ]
  },
  {
   "cell_type": "code",
   "execution_count": 7,
   "metadata": {},
   "outputs": [
    {
     "name": "stderr",
     "output_type": "stream",
     "text": [
      "Failed DISPATCHING 'model/get_full_load' due to:\n",
      "  KeyError('electricity')\n",
      "Traceback (most recent call last):\n",
      "  File \"c:\\apps\\miniconda3\\lib\\site-packages\\schedula\\utils\\sol.py\", line 620, in _evaluate_node\n",
      "    **kw)\n",
      "  File \"c:\\apps\\miniconda3\\lib\\site-packages\\schedula\\utils\\sol.py\", line 594, in _evaluate_function\n",
      "    sol=self, callback=_callback, sol_name=self.full_name + (node_id,)\n",
      "  File \"c:\\apps\\miniconda3\\lib\\site-packages\\schedula\\utils\\asy.py\", line 167, in async_process\n",
      "    name, funcs, executor, *args, **kw\n",
      "  File \"c:\\apps\\miniconda3\\lib\\site-packages\\schedula\\utils\\asy.py\", line 124, in _process_funcs\n",
      "    r['res'] = e.process(fn, *args, **kw) if e else fn(*args, **kw)\n",
      "  File \"c:\\apps\\miniconda3\\lib\\site-packages\\co2mpas_driver\\model\\co2mpas.py\", line 32, in get_full_load\n",
      "    xp, fp = defaults.dfl.functions.get_full_load.FULL_LOAD[ignition_type]\n",
      "KeyError: 'electricity'\n"
     ]
    },
    {
     "data": {
      "application/vnd.plotly.v1+json": {
       "config": {
        "linkText": "Export to plot.ly",
        "plotlyServerURL": "https://plot.ly",
        "showLink": false
       },
       "data": [
        {
         "type": "scatter",
         "x": [
          0,
          0.2,
          0.4,
          0.6000000000000001,
          0.8,
          1,
          1.2000000000000002,
          1.4000000000000001,
          1.6,
          1.8,
          2,
          2.2,
          2.4000000000000004,
          2.6,
          2.8000000000000003,
          3,
          3.2,
          3.4000000000000004,
          3.6,
          3.8000000000000003,
          4,
          4.2,
          4.4,
          4.6000000000000005,
          4.800000000000001,
          5,
          5.2,
          5.4,
          5.6000000000000005,
          5.800000000000001,
          6,
          6.2,
          6.4,
          6.6000000000000005,
          6.800000000000001,
          7,
          7.2,
          7.4,
          7.6000000000000005,
          7.800000000000001,
          8,
          8.200000000000001,
          8.4,
          8.6,
          8.8,
          9,
          9.200000000000001,
          9.4,
          9.600000000000001,
          9.8,
          10,
          10.200000000000001,
          10.4,
          10.600000000000001,
          10.8,
          11,
          11.200000000000001,
          11.4,
          11.600000000000001,
          11.8,
          12,
          12.200000000000001,
          12.4,
          12.600000000000001,
          12.8,
          13,
          13.200000000000001,
          13.4,
          13.600000000000001,
          13.8,
          14,
          14.200000000000001,
          14.4,
          14.600000000000001,
          14.8,
          15,
          15.200000000000001,
          15.4,
          15.600000000000001,
          15.8,
          16,
          16.2,
          16.400000000000002,
          16.6,
          16.8,
          17,
          17.2,
          17.400000000000002,
          17.6,
          17.8,
          18,
          18.2,
          18.400000000000002,
          18.6,
          18.8,
          19,
          19.200000000000003,
          19.400000000000002,
          19.6,
          19.8,
          20,
          20.200000000000003,
          20.400000000000002,
          20.6,
          20.8,
          21,
          21.200000000000003,
          21.400000000000002,
          21.6,
          21.8,
          22,
          22.200000000000003,
          22.400000000000002,
          22.6,
          22.8,
          23,
          23.200000000000003,
          23.400000000000002,
          23.6,
          23.8,
          24,
          24.200000000000003,
          24.400000000000002,
          24.6,
          24.8,
          25,
          25.200000000000003,
          25.400000000000002,
          25.6,
          25.8,
          26,
          26.200000000000003,
          26.400000000000002,
          26.6,
          26.8,
          27,
          27.200000000000003,
          27.400000000000002,
          27.6,
          27.8,
          28,
          28.200000000000003,
          28.400000000000002,
          28.6,
          28.8,
          29,
          29.200000000000003,
          29.400000000000002,
          29.6,
          29.8,
          30,
          30.200000000000003,
          30.400000000000002,
          30.6,
          30.8,
          31,
          31.200000000000003,
          31.400000000000002,
          31.6,
          31.8,
          32,
          32.2,
          32.4,
          32.6,
          32.800000000000004,
          33,
          33.2,
          33.4,
          33.6,
          33.800000000000004,
          34,
          34.2,
          34.4,
          34.6,
          34.800000000000004,
          35,
          35.2,
          35.4,
          35.6,
          35.800000000000004,
          36,
          36.2,
          36.4,
          36.6,
          36.800000000000004
         ],
         "y": [
          3.2103552541202283,
          3.2101158249672284,
          3.209856732324126,
          3.2095779761909218,
          3.209279556567615,
          3.2089614734542065,
          3.2086237268506954,
          3.2082663167570824,
          3.207889243173367,
          3.2074925060995496,
          3.20707610553563,
          3.2066400414816076,
          3.206184313937484,
          3.2057089229032574,
          3.205213868378929,
          3.2046991503644984,
          3.2041647688599655,
          3.2036107238653306,
          3.2030370153805934,
          3.2024436434057537,
          3.201830607940812,
          3.2011979089857685,
          3.2005455465406225,
          3.199873520605374,
          3.1991818311800237,
          3.1984704782645714,
          3.1977394618590167,
          3.1969887819633596,
          3.1962184385776005,
          3.1954284317017394,
          3.194618761335776,
          3.19378942747971,
          3.1929404301335422,
          3.192071769297272,
          3.1911834449709,
          3.190275457154425,
          3.1893478058478486,
          3.18840049105117,
          3.1874335127643887,
          3.186446870987506,
          3.18544056572052,
          3.1844145969634328,
          3.1833689647162426,
          3.182303668978951,
          3.1812187097515565,
          3.1801140870340605,
          3.1789898008264617,
          3.1778458511287613,
          3.176682237940958,
          3.1754989612630533,
          3.1742960210950457,
          3.173073417436936,
          3.1718311502887246,
          3.1705692196504107,
          3.169287625521995,
          3.1679863679034765,
          3.166665446794856,
          3.165324862196133,
          3.1639646141073086,
          3.1625847025283815,
          3.1611851274593525,
          3.159765888900221,
          3.1583269868509873,
          3.1568684213116516,
          3.155390192282214,
          3.1538922997626737,
          3.152374743753031,
          3.1508375242532867,
          3.1492806412634398,
          3.147704094783491,
          3.14610788481344,
          3.144492011353287,
          3.142856474403031,
          3.1412012739626736,
          3.1395264100322136,
          3.1378318826116516,
          3.136117691700987,
          3.134383837300221,
          3.1326303194093525,
          3.1308571380283814,
          3.1290642931573087,
          3.127251784796133,
          3.125419612944856,
          3.1235677776034763,
          3.121696278771995,
          3.1198051164504106,
          3.117894290638725,
          3.115963801336936,
          3.1140136485450456,
          3.112043832263053,
          3.110054352490958,
          3.108045209228761,
          3.106016402476462,
          3.1039679322340605,
          3.101899798501557,
          3.0998120012789507,
          3.0977045405662427,
          3.0955774163634326,
          3.09343062867052,
          3.091264177487506,
          3.089078062814389,
          3.08687228465117,
          3.0846468429978486,
          3.0824017378544255,
          3.0801369692209,
          3.077852537097272,
          3.075548441483542,
          3.07322468237971,
          3.0708812597857755,
          3.0685181737017393,
          3.0661354241276007,
          3.0637330110633596,
          3.0613109345090166,
          3.058869194464571,
          3.056407790930024,
          3.0539267239053745,
          3.0514259933906223,
          3.0489055993857686,
          3.046365541890812,
          3.043805820905754,
          3.041226436430593,
          3.0386273884653305,
          3.0360086770099657,
          3.0333703020644984,
          3.0307122636289288,
          3.0280345617032576,
          3.0253371962874835,
          3.022620167381608,
          3.0198834749856296,
          3.0171271190995492,
          3.014351099723367,
          3.011555416857082,
          3.0087400705006955,
          3.0059050606542064,
          3.0030503873176153,
          3.000176050490922,
          2.997282050174126,
          2.994368386367228,
          2.9914350590702283,
          2.988482068283126,
          2.9855094140059215,
          2.9825170962386154,
          2.9795051149812064,
          2.9764734702336955,
          2.973422161996082,
          2.970351190268367,
          2.9672605550505495,
          2.96415025634263,
          2.9610202941446078,
          2.9578706684564837,
          2.9547013792782577,
          2.951512426609929,
          2.9483038104514985,
          2.9450755308029652,
          2.9418275876643305,
          2.9385599810355933,
          2.935272710916754,
          2.9319657773078123,
          2.9286391802087683,
          2.9252929196196225,
          2.921926995540374,
          2.918541407971024,
          2.9151361569115712,
          2.9117112423620166,
          2.9082666643223596,
          2.9048024227926006,
          2.901318517772739,
          2.897814949262776,
          2.89429171726271,
          2.8907488217725423,
          2.887186262792272,
          2.8836040403218997,
          2.8648360209337786,
          2.8421727373987804,
          2.819708660880397,
          2.7974400393128,
          2.775363205904382,
          2.7534745767288857,
          2.7317706483977195,
          2.710247995810306,
          2.688903269979416,
          2.6677331959285846,
          2.646734570658854,
          2.6259042611821712,
          2.6052392026189195
         ]
        }
       ],
       "layout": {
        "template": {
         "data": {
          "bar": [
           {
            "error_x": {
             "color": "#2a3f5f"
            },
            "error_y": {
             "color": "#2a3f5f"
            },
            "marker": {
             "line": {
              "color": "#E5ECF6",
              "width": 0.5
             }
            },
            "type": "bar"
           }
          ],
          "barpolar": [
           {
            "marker": {
             "line": {
              "color": "#E5ECF6",
              "width": 0.5
             }
            },
            "type": "barpolar"
           }
          ],
          "carpet": [
           {
            "aaxis": {
             "endlinecolor": "#2a3f5f",
             "gridcolor": "white",
             "linecolor": "white",
             "minorgridcolor": "white",
             "startlinecolor": "#2a3f5f"
            },
            "baxis": {
             "endlinecolor": "#2a3f5f",
             "gridcolor": "white",
             "linecolor": "white",
             "minorgridcolor": "white",
             "startlinecolor": "#2a3f5f"
            },
            "type": "carpet"
           }
          ],
          "choropleth": [
           {
            "colorbar": {
             "outlinewidth": 0,
             "ticks": ""
            },
            "type": "choropleth"
           }
          ],
          "contour": [
           {
            "colorbar": {
             "outlinewidth": 0,
             "ticks": ""
            },
            "colorscale": [
             [
              0,
              "#0d0887"
             ],
             [
              0.1111111111111111,
              "#46039f"
             ],
             [
              0.2222222222222222,
              "#7201a8"
             ],
             [
              0.3333333333333333,
              "#9c179e"
             ],
             [
              0.4444444444444444,
              "#bd3786"
             ],
             [
              0.5555555555555556,
              "#d8576b"
             ],
             [
              0.6666666666666666,
              "#ed7953"
             ],
             [
              0.7777777777777778,
              "#fb9f3a"
             ],
             [
              0.8888888888888888,
              "#fdca26"
             ],
             [
              1,
              "#f0f921"
             ]
            ],
            "type": "contour"
           }
          ],
          "contourcarpet": [
           {
            "colorbar": {
             "outlinewidth": 0,
             "ticks": ""
            },
            "type": "contourcarpet"
           }
          ],
          "heatmap": [
           {
            "colorbar": {
             "outlinewidth": 0,
             "ticks": ""
            },
            "colorscale": [
             [
              0,
              "#0d0887"
             ],
             [
              0.1111111111111111,
              "#46039f"
             ],
             [
              0.2222222222222222,
              "#7201a8"
             ],
             [
              0.3333333333333333,
              "#9c179e"
             ],
             [
              0.4444444444444444,
              "#bd3786"
             ],
             [
              0.5555555555555556,
              "#d8576b"
             ],
             [
              0.6666666666666666,
              "#ed7953"
             ],
             [
              0.7777777777777778,
              "#fb9f3a"
             ],
             [
              0.8888888888888888,
              "#fdca26"
             ],
             [
              1,
              "#f0f921"
             ]
            ],
            "type": "heatmap"
           }
          ],
          "heatmapgl": [
           {
            "colorbar": {
             "outlinewidth": 0,
             "ticks": ""
            },
            "colorscale": [
             [
              0,
              "#0d0887"
             ],
             [
              0.1111111111111111,
              "#46039f"
             ],
             [
              0.2222222222222222,
              "#7201a8"
             ],
             [
              0.3333333333333333,
              "#9c179e"
             ],
             [
              0.4444444444444444,
              "#bd3786"
             ],
             [
              0.5555555555555556,
              "#d8576b"
             ],
             [
              0.6666666666666666,
              "#ed7953"
             ],
             [
              0.7777777777777778,
              "#fb9f3a"
             ],
             [
              0.8888888888888888,
              "#fdca26"
             ],
             [
              1,
              "#f0f921"
             ]
            ],
            "type": "heatmapgl"
           }
          ],
          "histogram": [
           {
            "marker": {
             "colorbar": {
              "outlinewidth": 0,
              "ticks": ""
             }
            },
            "type": "histogram"
           }
          ],
          "histogram2d": [
           {
            "colorbar": {
             "outlinewidth": 0,
             "ticks": ""
            },
            "colorscale": [
             [
              0,
              "#0d0887"
             ],
             [
              0.1111111111111111,
              "#46039f"
             ],
             [
              0.2222222222222222,
              "#7201a8"
             ],
             [
              0.3333333333333333,
              "#9c179e"
             ],
             [
              0.4444444444444444,
              "#bd3786"
             ],
             [
              0.5555555555555556,
              "#d8576b"
             ],
             [
              0.6666666666666666,
              "#ed7953"
             ],
             [
              0.7777777777777778,
              "#fb9f3a"
             ],
             [
              0.8888888888888888,
              "#fdca26"
             ],
             [
              1,
              "#f0f921"
             ]
            ],
            "type": "histogram2d"
           }
          ],
          "histogram2dcontour": [
           {
            "colorbar": {
             "outlinewidth": 0,
             "ticks": ""
            },
            "colorscale": [
             [
              0,
              "#0d0887"
             ],
             [
              0.1111111111111111,
              "#46039f"
             ],
             [
              0.2222222222222222,
              "#7201a8"
             ],
             [
              0.3333333333333333,
              "#9c179e"
             ],
             [
              0.4444444444444444,
              "#bd3786"
             ],
             [
              0.5555555555555556,
              "#d8576b"
             ],
             [
              0.6666666666666666,
              "#ed7953"
             ],
             [
              0.7777777777777778,
              "#fb9f3a"
             ],
             [
              0.8888888888888888,
              "#fdca26"
             ],
             [
              1,
              "#f0f921"
             ]
            ],
            "type": "histogram2dcontour"
           }
          ],
          "mesh3d": [
           {
            "colorbar": {
             "outlinewidth": 0,
             "ticks": ""
            },
            "type": "mesh3d"
           }
          ],
          "parcoords": [
           {
            "line": {
             "colorbar": {
              "outlinewidth": 0,
              "ticks": ""
             }
            },
            "type": "parcoords"
           }
          ],
          "scatter": [
           {
            "marker": {
             "colorbar": {
              "outlinewidth": 0,
              "ticks": ""
             }
            },
            "type": "scatter"
           }
          ],
          "scatter3d": [
           {
            "line": {
             "colorbar": {
              "outlinewidth": 0,
              "ticks": ""
             }
            },
            "marker": {
             "colorbar": {
              "outlinewidth": 0,
              "ticks": ""
             }
            },
            "type": "scatter3d"
           }
          ],
          "scattercarpet": [
           {
            "marker": {
             "colorbar": {
              "outlinewidth": 0,
              "ticks": ""
             }
            },
            "type": "scattercarpet"
           }
          ],
          "scattergeo": [
           {
            "marker": {
             "colorbar": {
              "outlinewidth": 0,
              "ticks": ""
             }
            },
            "type": "scattergeo"
           }
          ],
          "scattergl": [
           {
            "marker": {
             "colorbar": {
              "outlinewidth": 0,
              "ticks": ""
             }
            },
            "type": "scattergl"
           }
          ],
          "scattermapbox": [
           {
            "marker": {
             "colorbar": {
              "outlinewidth": 0,
              "ticks": ""
             }
            },
            "type": "scattermapbox"
           }
          ],
          "scatterpolar": [
           {
            "marker": {
             "colorbar": {
              "outlinewidth": 0,
              "ticks": ""
             }
            },
            "type": "scatterpolar"
           }
          ],
          "scatterpolargl": [
           {
            "marker": {
             "colorbar": {
              "outlinewidth": 0,
              "ticks": ""
             }
            },
            "type": "scatterpolargl"
           }
          ],
          "scatterternary": [
           {
            "marker": {
             "colorbar": {
              "outlinewidth": 0,
              "ticks": ""
             }
            },
            "type": "scatterternary"
           }
          ],
          "surface": [
           {
            "colorbar": {
             "outlinewidth": 0,
             "ticks": ""
            },
            "colorscale": [
             [
              0,
              "#0d0887"
             ],
             [
              0.1111111111111111,
              "#46039f"
             ],
             [
              0.2222222222222222,
              "#7201a8"
             ],
             [
              0.3333333333333333,
              "#9c179e"
             ],
             [
              0.4444444444444444,
              "#bd3786"
             ],
             [
              0.5555555555555556,
              "#d8576b"
             ],
             [
              0.6666666666666666,
              "#ed7953"
             ],
             [
              0.7777777777777778,
              "#fb9f3a"
             ],
             [
              0.8888888888888888,
              "#fdca26"
             ],
             [
              1,
              "#f0f921"
             ]
            ],
            "type": "surface"
           }
          ],
          "table": [
           {
            "cells": {
             "fill": {
              "color": "#EBF0F8"
             },
             "line": {
              "color": "white"
             }
            },
            "header": {
             "fill": {
              "color": "#C8D4E3"
             },
             "line": {
              "color": "white"
             }
            },
            "type": "table"
           }
          ]
         },
         "layout": {
          "annotationdefaults": {
           "arrowcolor": "#2a3f5f",
           "arrowhead": 0,
           "arrowwidth": 1
          },
          "colorscale": {
           "diverging": [
            [
             0,
             "#8e0152"
            ],
            [
             0.1,
             "#c51b7d"
            ],
            [
             0.2,
             "#de77ae"
            ],
            [
             0.3,
             "#f1b6da"
            ],
            [
             0.4,
             "#fde0ef"
            ],
            [
             0.5,
             "#f7f7f7"
            ],
            [
             0.6,
             "#e6f5d0"
            ],
            [
             0.7,
             "#b8e186"
            ],
            [
             0.8,
             "#7fbc41"
            ],
            [
             0.9,
             "#4d9221"
            ],
            [
             1,
             "#276419"
            ]
           ],
           "sequential": [
            [
             0,
             "#0d0887"
            ],
            [
             0.1111111111111111,
             "#46039f"
            ],
            [
             0.2222222222222222,
             "#7201a8"
            ],
            [
             0.3333333333333333,
             "#9c179e"
            ],
            [
             0.4444444444444444,
             "#bd3786"
            ],
            [
             0.5555555555555556,
             "#d8576b"
            ],
            [
             0.6666666666666666,
             "#ed7953"
            ],
            [
             0.7777777777777778,
             "#fb9f3a"
            ],
            [
             0.8888888888888888,
             "#fdca26"
            ],
            [
             1,
             "#f0f921"
            ]
           ],
           "sequentialminus": [
            [
             0,
             "#0d0887"
            ],
            [
             0.1111111111111111,
             "#46039f"
            ],
            [
             0.2222222222222222,
             "#7201a8"
            ],
            [
             0.3333333333333333,
             "#9c179e"
            ],
            [
             0.4444444444444444,
             "#bd3786"
            ],
            [
             0.5555555555555556,
             "#d8576b"
            ],
            [
             0.6666666666666666,
             "#ed7953"
            ],
            [
             0.7777777777777778,
             "#fb9f3a"
            ],
            [
             0.8888888888888888,
             "#fdca26"
            ],
            [
             1,
             "#f0f921"
            ]
           ]
          },
          "colorway": [
           "#636efa",
           "#EF553B",
           "#00cc96",
           "#ab63fa",
           "#FFA15A",
           "#19d3f3",
           "#FF6692",
           "#B6E880",
           "#FF97FF",
           "#FECB52"
          ],
          "font": {
           "color": "#2a3f5f"
          },
          "geo": {
           "bgcolor": "white",
           "lakecolor": "white",
           "landcolor": "#E5ECF6",
           "showlakes": true,
           "showland": true,
           "subunitcolor": "white"
          },
          "hoverlabel": {
           "align": "left"
          },
          "hovermode": "closest",
          "mapbox": {
           "style": "light"
          },
          "paper_bgcolor": "white",
          "plot_bgcolor": "#E5ECF6",
          "polar": {
           "angularaxis": {
            "gridcolor": "white",
            "linecolor": "white",
            "ticks": ""
           },
           "bgcolor": "#E5ECF6",
           "radialaxis": {
            "gridcolor": "white",
            "linecolor": "white",
            "ticks": ""
           }
          },
          "scene": {
           "xaxis": {
            "backgroundcolor": "#E5ECF6",
            "gridcolor": "white",
            "gridwidth": 2,
            "linecolor": "white",
            "showbackground": true,
            "ticks": "",
            "zerolinecolor": "white"
           },
           "yaxis": {
            "backgroundcolor": "#E5ECF6",
            "gridcolor": "white",
            "gridwidth": 2,
            "linecolor": "white",
            "showbackground": true,
            "ticks": "",
            "zerolinecolor": "white"
           },
           "zaxis": {
            "backgroundcolor": "#E5ECF6",
            "gridcolor": "white",
            "gridwidth": 2,
            "linecolor": "white",
            "showbackground": true,
            "ticks": "",
            "zerolinecolor": "white"
           }
          },
          "shapedefaults": {
           "line": {
            "color": "#2a3f5f"
           }
          },
          "ternary": {
           "aaxis": {
            "gridcolor": "white",
            "linecolor": "white",
            "ticks": ""
           },
           "baxis": {
            "gridcolor": "white",
            "linecolor": "white",
            "ticks": ""
           },
           "bgcolor": "#E5ECF6",
           "caxis": {
            "gridcolor": "white",
            "linecolor": "white",
            "ticks": ""
           }
          },
          "title": {
           "x": 0.05
          },
          "xaxis": {
           "automargin": true,
           "gridcolor": "white",
           "linecolor": "white",
           "ticks": "",
           "zerolinecolor": "white",
           "zerolinewidth": 2
          },
          "yaxis": {
           "automargin": true,
           "gridcolor": "white",
           "linecolor": "white",
           "ticks": "",
           "zerolinecolor": "white",
           "zerolinewidth": 2
          }
         }
        },
        "title": {
         "text": "Acceleration-Velocity"
        },
        "xaxis": {
         "title": {
          "text": "velocity (in m/s)"
         }
        },
        "yaxis": {
         "title": {
          "text": "Acceleration (in m/s2"
         }
        }
       }
      },
      "text/html": [
       "<div>\n",
       "        \n",
       "        \n",
       "            <div id=\"c85c1d8d-5c21-4db4-af17-76f477a7bf2b\" class=\"plotly-graph-div\" style=\"height:525px; width:100%;\"></div>\n",
       "            <script type=\"text/javascript\">\n",
       "                require([\"plotly\"], function(Plotly) {\n",
       "                    window.PLOTLYENV=window.PLOTLYENV || {};\n",
       "                    \n",
       "                if (document.getElementById(\"c85c1d8d-5c21-4db4-af17-76f477a7bf2b\")) {\n",
       "                    Plotly.newPlot(\n",
       "                        'c85c1d8d-5c21-4db4-af17-76f477a7bf2b',\n",
       "                        [{\"type\": \"scatter\", \"x\": [0.0, 0.2, 0.4, 0.6000000000000001, 0.8, 1.0, 1.2000000000000002, 1.4000000000000001, 1.6, 1.8, 2.0, 2.2, 2.4000000000000004, 2.6, 2.8000000000000003, 3.0, 3.2, 3.4000000000000004, 3.6, 3.8000000000000003, 4.0, 4.2, 4.4, 4.6000000000000005, 4.800000000000001, 5.0, 5.2, 5.4, 5.6000000000000005, 5.800000000000001, 6.0, 6.2, 6.4, 6.6000000000000005, 6.800000000000001, 7.0, 7.2, 7.4, 7.6000000000000005, 7.800000000000001, 8.0, 8.200000000000001, 8.4, 8.6, 8.8, 9.0, 9.200000000000001, 9.4, 9.600000000000001, 9.8, 10.0, 10.200000000000001, 10.4, 10.600000000000001, 10.8, 11.0, 11.200000000000001, 11.4, 11.600000000000001, 11.8, 12.0, 12.200000000000001, 12.4, 12.600000000000001, 12.8, 13.0, 13.200000000000001, 13.4, 13.600000000000001, 13.8, 14.0, 14.200000000000001, 14.4, 14.600000000000001, 14.8, 15.0, 15.200000000000001, 15.4, 15.600000000000001, 15.8, 16.0, 16.2, 16.400000000000002, 16.6, 16.8, 17.0, 17.2, 17.400000000000002, 17.6, 17.8, 18.0, 18.2, 18.400000000000002, 18.6, 18.8, 19.0, 19.200000000000003, 19.400000000000002, 19.6, 19.8, 20.0, 20.200000000000003, 20.400000000000002, 20.6, 20.8, 21.0, 21.200000000000003, 21.400000000000002, 21.6, 21.8, 22.0, 22.200000000000003, 22.400000000000002, 22.6, 22.8, 23.0, 23.200000000000003, 23.400000000000002, 23.6, 23.8, 24.0, 24.200000000000003, 24.400000000000002, 24.6, 24.8, 25.0, 25.200000000000003, 25.400000000000002, 25.6, 25.8, 26.0, 26.200000000000003, 26.400000000000002, 26.6, 26.8, 27.0, 27.200000000000003, 27.400000000000002, 27.6, 27.8, 28.0, 28.200000000000003, 28.400000000000002, 28.6, 28.8, 29.0, 29.200000000000003, 29.400000000000002, 29.6, 29.8, 30.0, 30.200000000000003, 30.400000000000002, 30.6, 30.8, 31.0, 31.200000000000003, 31.400000000000002, 31.6, 31.8, 32.0, 32.2, 32.4, 32.6, 32.800000000000004, 33.0, 33.2, 33.4, 33.6, 33.800000000000004, 34.0, 34.2, 34.4, 34.6, 34.800000000000004, 35.0, 35.2, 35.4, 35.6, 35.800000000000004, 36.0, 36.2, 36.4, 36.6, 36.800000000000004], \"y\": [3.2103552541202283, 3.2101158249672284, 3.209856732324126, 3.2095779761909218, 3.209279556567615, 3.2089614734542065, 3.2086237268506954, 3.2082663167570824, 3.207889243173367, 3.2074925060995496, 3.20707610553563, 3.2066400414816076, 3.206184313937484, 3.2057089229032574, 3.205213868378929, 3.2046991503644984, 3.2041647688599655, 3.2036107238653306, 3.2030370153805934, 3.2024436434057537, 3.201830607940812, 3.2011979089857685, 3.2005455465406225, 3.199873520605374, 3.1991818311800237, 3.1984704782645714, 3.1977394618590167, 3.1969887819633596, 3.1962184385776005, 3.1954284317017394, 3.194618761335776, 3.19378942747971, 3.1929404301335422, 3.192071769297272, 3.1911834449709, 3.190275457154425, 3.1893478058478486, 3.18840049105117, 3.1874335127643887, 3.186446870987506, 3.18544056572052, 3.1844145969634328, 3.1833689647162426, 3.182303668978951, 3.1812187097515565, 3.1801140870340605, 3.1789898008264617, 3.1778458511287613, 3.176682237940958, 3.1754989612630533, 3.1742960210950457, 3.173073417436936, 3.1718311502887246, 3.1705692196504107, 3.169287625521995, 3.1679863679034765, 3.166665446794856, 3.165324862196133, 3.1639646141073086, 3.1625847025283815, 3.1611851274593525, 3.159765888900221, 3.1583269868509873, 3.1568684213116516, 3.155390192282214, 3.1538922997626737, 3.152374743753031, 3.1508375242532867, 3.1492806412634398, 3.147704094783491, 3.14610788481344, 3.144492011353287, 3.142856474403031, 3.1412012739626736, 3.1395264100322136, 3.1378318826116516, 3.136117691700987, 3.134383837300221, 3.1326303194093525, 3.1308571380283814, 3.1290642931573087, 3.127251784796133, 3.125419612944856, 3.1235677776034763, 3.121696278771995, 3.1198051164504106, 3.117894290638725, 3.115963801336936, 3.1140136485450456, 3.112043832263053, 3.110054352490958, 3.108045209228761, 3.106016402476462, 3.1039679322340605, 3.101899798501557, 3.0998120012789507, 3.0977045405662427, 3.0955774163634326, 3.09343062867052, 3.091264177487506, 3.089078062814389, 3.08687228465117, 3.0846468429978486, 3.0824017378544255, 3.0801369692209, 3.077852537097272, 3.075548441483542, 3.07322468237971, 3.0708812597857755, 3.0685181737017393, 3.0661354241276007, 3.0637330110633596, 3.0613109345090166, 3.058869194464571, 3.056407790930024, 3.0539267239053745, 3.0514259933906223, 3.0489055993857686, 3.046365541890812, 3.043805820905754, 3.041226436430593, 3.0386273884653305, 3.0360086770099657, 3.0333703020644984, 3.0307122636289288, 3.0280345617032576, 3.0253371962874835, 3.022620167381608, 3.0198834749856296, 3.0171271190995492, 3.014351099723367, 3.011555416857082, 3.0087400705006955, 3.0059050606542064, 3.0030503873176153, 3.000176050490922, 2.997282050174126, 2.994368386367228, 2.9914350590702283, 2.988482068283126, 2.9855094140059215, 2.9825170962386154, 2.9795051149812064, 2.9764734702336955, 2.973422161996082, 2.970351190268367, 2.9672605550505495, 2.96415025634263, 2.9610202941446078, 2.9578706684564837, 2.9547013792782577, 2.951512426609929, 2.9483038104514985, 2.9450755308029652, 2.9418275876643305, 2.9385599810355933, 2.935272710916754, 2.9319657773078123, 2.9286391802087683, 2.9252929196196225, 2.921926995540374, 2.918541407971024, 2.9151361569115712, 2.9117112423620166, 2.9082666643223596, 2.9048024227926006, 2.901318517772739, 2.897814949262776, 2.89429171726271, 2.8907488217725423, 2.887186262792272, 2.8836040403218997, 2.8648360209337786, 2.8421727373987804, 2.819708660880397, 2.7974400393128, 2.775363205904382, 2.7534745767288857, 2.7317706483977195, 2.710247995810306, 2.688903269979416, 2.6677331959285846, 2.646734570658854, 2.6259042611821712, 2.6052392026189195]}],\n",
       "                        {\"template\": {\"data\": {\"bar\": [{\"error_x\": {\"color\": \"#2a3f5f\"}, \"error_y\": {\"color\": \"#2a3f5f\"}, \"marker\": {\"line\": {\"color\": \"#E5ECF6\", \"width\": 0.5}}, \"type\": \"bar\"}], \"barpolar\": [{\"marker\": {\"line\": {\"color\": \"#E5ECF6\", \"width\": 0.5}}, \"type\": \"barpolar\"}], \"carpet\": [{\"aaxis\": {\"endlinecolor\": \"#2a3f5f\", \"gridcolor\": \"white\", \"linecolor\": \"white\", \"minorgridcolor\": \"white\", \"startlinecolor\": \"#2a3f5f\"}, \"baxis\": {\"endlinecolor\": \"#2a3f5f\", \"gridcolor\": \"white\", \"linecolor\": \"white\", \"minorgridcolor\": \"white\", \"startlinecolor\": \"#2a3f5f\"}, \"type\": \"carpet\"}], \"choropleth\": [{\"colorbar\": {\"outlinewidth\": 0, \"ticks\": \"\"}, \"type\": \"choropleth\"}], \"contour\": [{\"colorbar\": {\"outlinewidth\": 0, \"ticks\": \"\"}, \"colorscale\": [[0.0, \"#0d0887\"], [0.1111111111111111, \"#46039f\"], [0.2222222222222222, \"#7201a8\"], [0.3333333333333333, \"#9c179e\"], [0.4444444444444444, \"#bd3786\"], [0.5555555555555556, \"#d8576b\"], [0.6666666666666666, \"#ed7953\"], [0.7777777777777778, \"#fb9f3a\"], [0.8888888888888888, \"#fdca26\"], [1.0, \"#f0f921\"]], \"type\": \"contour\"}], \"contourcarpet\": [{\"colorbar\": {\"outlinewidth\": 0, \"ticks\": \"\"}, \"type\": \"contourcarpet\"}], \"heatmap\": [{\"colorbar\": {\"outlinewidth\": 0, \"ticks\": \"\"}, \"colorscale\": [[0.0, \"#0d0887\"], [0.1111111111111111, \"#46039f\"], [0.2222222222222222, \"#7201a8\"], [0.3333333333333333, \"#9c179e\"], [0.4444444444444444, \"#bd3786\"], [0.5555555555555556, \"#d8576b\"], [0.6666666666666666, \"#ed7953\"], [0.7777777777777778, \"#fb9f3a\"], [0.8888888888888888, \"#fdca26\"], [1.0, \"#f0f921\"]], \"type\": \"heatmap\"}], \"heatmapgl\": [{\"colorbar\": {\"outlinewidth\": 0, \"ticks\": \"\"}, \"colorscale\": [[0.0, \"#0d0887\"], [0.1111111111111111, \"#46039f\"], [0.2222222222222222, \"#7201a8\"], [0.3333333333333333, \"#9c179e\"], [0.4444444444444444, \"#bd3786\"], [0.5555555555555556, \"#d8576b\"], [0.6666666666666666, \"#ed7953\"], [0.7777777777777778, \"#fb9f3a\"], [0.8888888888888888, \"#fdca26\"], [1.0, \"#f0f921\"]], \"type\": \"heatmapgl\"}], \"histogram\": [{\"marker\": {\"colorbar\": {\"outlinewidth\": 0, \"ticks\": \"\"}}, \"type\": \"histogram\"}], \"histogram2d\": [{\"colorbar\": {\"outlinewidth\": 0, \"ticks\": \"\"}, \"colorscale\": [[0.0, \"#0d0887\"], [0.1111111111111111, \"#46039f\"], [0.2222222222222222, \"#7201a8\"], [0.3333333333333333, \"#9c179e\"], [0.4444444444444444, \"#bd3786\"], [0.5555555555555556, \"#d8576b\"], [0.6666666666666666, \"#ed7953\"], [0.7777777777777778, \"#fb9f3a\"], [0.8888888888888888, \"#fdca26\"], [1.0, \"#f0f921\"]], \"type\": \"histogram2d\"}], \"histogram2dcontour\": [{\"colorbar\": {\"outlinewidth\": 0, \"ticks\": \"\"}, \"colorscale\": [[0.0, \"#0d0887\"], [0.1111111111111111, \"#46039f\"], [0.2222222222222222, \"#7201a8\"], [0.3333333333333333, \"#9c179e\"], [0.4444444444444444, \"#bd3786\"], [0.5555555555555556, \"#d8576b\"], [0.6666666666666666, \"#ed7953\"], [0.7777777777777778, \"#fb9f3a\"], [0.8888888888888888, \"#fdca26\"], [1.0, \"#f0f921\"]], \"type\": \"histogram2dcontour\"}], \"mesh3d\": [{\"colorbar\": {\"outlinewidth\": 0, \"ticks\": \"\"}, \"type\": \"mesh3d\"}], \"parcoords\": [{\"line\": {\"colorbar\": {\"outlinewidth\": 0, \"ticks\": \"\"}}, \"type\": \"parcoords\"}], \"scatter\": [{\"marker\": {\"colorbar\": {\"outlinewidth\": 0, \"ticks\": \"\"}}, \"type\": \"scatter\"}], \"scatter3d\": [{\"line\": {\"colorbar\": {\"outlinewidth\": 0, \"ticks\": \"\"}}, \"marker\": {\"colorbar\": {\"outlinewidth\": 0, \"ticks\": \"\"}}, \"type\": \"scatter3d\"}], \"scattercarpet\": [{\"marker\": {\"colorbar\": {\"outlinewidth\": 0, \"ticks\": \"\"}}, \"type\": \"scattercarpet\"}], \"scattergeo\": [{\"marker\": {\"colorbar\": {\"outlinewidth\": 0, \"ticks\": \"\"}}, \"type\": \"scattergeo\"}], \"scattergl\": [{\"marker\": {\"colorbar\": {\"outlinewidth\": 0, \"ticks\": \"\"}}, \"type\": \"scattergl\"}], \"scattermapbox\": [{\"marker\": {\"colorbar\": {\"outlinewidth\": 0, \"ticks\": \"\"}}, \"type\": \"scattermapbox\"}], \"scatterpolar\": [{\"marker\": {\"colorbar\": {\"outlinewidth\": 0, \"ticks\": \"\"}}, \"type\": \"scatterpolar\"}], \"scatterpolargl\": [{\"marker\": {\"colorbar\": {\"outlinewidth\": 0, \"ticks\": \"\"}}, \"type\": \"scatterpolargl\"}], \"scatterternary\": [{\"marker\": {\"colorbar\": {\"outlinewidth\": 0, \"ticks\": \"\"}}, \"type\": \"scatterternary\"}], \"surface\": [{\"colorbar\": {\"outlinewidth\": 0, \"ticks\": \"\"}, \"colorscale\": [[0.0, \"#0d0887\"], [0.1111111111111111, \"#46039f\"], [0.2222222222222222, \"#7201a8\"], [0.3333333333333333, \"#9c179e\"], [0.4444444444444444, \"#bd3786\"], [0.5555555555555556, \"#d8576b\"], [0.6666666666666666, \"#ed7953\"], [0.7777777777777778, \"#fb9f3a\"], [0.8888888888888888, \"#fdca26\"], [1.0, \"#f0f921\"]], \"type\": \"surface\"}], \"table\": [{\"cells\": {\"fill\": {\"color\": \"#EBF0F8\"}, \"line\": {\"color\": \"white\"}}, \"header\": {\"fill\": {\"color\": \"#C8D4E3\"}, \"line\": {\"color\": \"white\"}}, \"type\": \"table\"}]}, \"layout\": {\"annotationdefaults\": {\"arrowcolor\": \"#2a3f5f\", \"arrowhead\": 0, \"arrowwidth\": 1}, \"colorscale\": {\"diverging\": [[0, \"#8e0152\"], [0.1, \"#c51b7d\"], [0.2, \"#de77ae\"], [0.3, \"#f1b6da\"], [0.4, \"#fde0ef\"], [0.5, \"#f7f7f7\"], [0.6, \"#e6f5d0\"], [0.7, \"#b8e186\"], [0.8, \"#7fbc41\"], [0.9, \"#4d9221\"], [1, \"#276419\"]], \"sequential\": [[0.0, \"#0d0887\"], [0.1111111111111111, \"#46039f\"], [0.2222222222222222, \"#7201a8\"], [0.3333333333333333, \"#9c179e\"], [0.4444444444444444, \"#bd3786\"], [0.5555555555555556, \"#d8576b\"], [0.6666666666666666, \"#ed7953\"], [0.7777777777777778, \"#fb9f3a\"], [0.8888888888888888, \"#fdca26\"], [1.0, \"#f0f921\"]], \"sequentialminus\": [[0.0, \"#0d0887\"], [0.1111111111111111, \"#46039f\"], [0.2222222222222222, \"#7201a8\"], [0.3333333333333333, \"#9c179e\"], [0.4444444444444444, \"#bd3786\"], [0.5555555555555556, \"#d8576b\"], [0.6666666666666666, \"#ed7953\"], [0.7777777777777778, \"#fb9f3a\"], [0.8888888888888888, \"#fdca26\"], [1.0, \"#f0f921\"]]}, \"colorway\": [\"#636efa\", \"#EF553B\", \"#00cc96\", \"#ab63fa\", \"#FFA15A\", \"#19d3f3\", \"#FF6692\", \"#B6E880\", \"#FF97FF\", \"#FECB52\"], \"font\": {\"color\": \"#2a3f5f\"}, \"geo\": {\"bgcolor\": \"white\", \"lakecolor\": \"white\", \"landcolor\": \"#E5ECF6\", \"showlakes\": true, \"showland\": true, \"subunitcolor\": \"white\"}, \"hoverlabel\": {\"align\": \"left\"}, \"hovermode\": \"closest\", \"mapbox\": {\"style\": \"light\"}, \"paper_bgcolor\": \"white\", \"plot_bgcolor\": \"#E5ECF6\", \"polar\": {\"angularaxis\": {\"gridcolor\": \"white\", \"linecolor\": \"white\", \"ticks\": \"\"}, \"bgcolor\": \"#E5ECF6\", \"radialaxis\": {\"gridcolor\": \"white\", \"linecolor\": \"white\", \"ticks\": \"\"}}, \"scene\": {\"xaxis\": {\"backgroundcolor\": \"#E5ECF6\", \"gridcolor\": \"white\", \"gridwidth\": 2, \"linecolor\": \"white\", \"showbackground\": true, \"ticks\": \"\", \"zerolinecolor\": \"white\"}, \"yaxis\": {\"backgroundcolor\": \"#E5ECF6\", \"gridcolor\": \"white\", \"gridwidth\": 2, \"linecolor\": \"white\", \"showbackground\": true, \"ticks\": \"\", \"zerolinecolor\": \"white\"}, \"zaxis\": {\"backgroundcolor\": \"#E5ECF6\", \"gridcolor\": \"white\", \"gridwidth\": 2, \"linecolor\": \"white\", \"showbackground\": true, \"ticks\": \"\", \"zerolinecolor\": \"white\"}}, \"shapedefaults\": {\"line\": {\"color\": \"#2a3f5f\"}}, \"ternary\": {\"aaxis\": {\"gridcolor\": \"white\", \"linecolor\": \"white\", \"ticks\": \"\"}, \"baxis\": {\"gridcolor\": \"white\", \"linecolor\": \"white\", \"ticks\": \"\"}, \"bgcolor\": \"#E5ECF6\", \"caxis\": {\"gridcolor\": \"white\", \"linecolor\": \"white\", \"ticks\": \"\"}}, \"title\": {\"x\": 0.05}, \"xaxis\": {\"automargin\": true, \"gridcolor\": \"white\", \"linecolor\": \"white\", \"ticks\": \"\", \"zerolinecolor\": \"white\", \"zerolinewidth\": 2}, \"yaxis\": {\"automargin\": true, \"gridcolor\": \"white\", \"linecolor\": \"white\", \"ticks\": \"\", \"zerolinecolor\": \"white\", \"zerolinewidth\": 2}}}, \"title\": {\"text\": \"Acceleration-Velocity\"}, \"xaxis\": {\"title\": {\"text\": \"velocity (in m/s)\"}}, \"yaxis\": {\"title\": {\"text\": \"Acceleration (in m/s2\"}}},\n",
       "                        {\"responsive\": true}\n",
       "                    ).then(function(){\n",
       "                            \n",
       "var gd = document.getElementById('c85c1d8d-5c21-4db4-af17-76f477a7bf2b');\n",
       "var x = new MutationObserver(function (mutations, observer) {{\n",
       "        var display = window.getComputedStyle(gd).display;\n",
       "        if (!display || display === 'none') {{\n",
       "            console.log([gd, 'removed!']);\n",
       "            Plotly.purge(gd);\n",
       "            observer.disconnect();\n",
       "        }}\n",
       "}});\n",
       "\n",
       "// Listen for the removal of the full notebook cells\n",
       "var notebookContainer = gd.closest('#notebook-container');\n",
       "if (notebookContainer) {{\n",
       "    x.observe(notebookContainer, {childList: true});\n",
       "}}\n",
       "\n",
       "// Listen for the clearing of the current output cell\n",
       "var outputEl = gd.closest('.output');\n",
       "if (outputEl) {{\n",
       "    x.observe(outputEl, {childList: true});\n",
       "}}\n",
       "\n",
       "                        })\n",
       "                };\n",
       "                });\n",
       "            </script>\n",
       "        </div>"
      ]
     },
     "metadata": {},
     "output_type": "display_data"
    },
    {
     "name": "stderr",
     "output_type": "stream",
     "text": [
      "127.0.0.1 - - [06/Feb/2020 15:56:16] \"GET / HTTP/1.1\" 200 -\n"
     ]
    }
   ],
   "source": [
    "sol = driver(dict(vehicle_id=47844, inputs=dict(inputs={'motor_max_power': 207})))\n",
    "# plots acceleration versus velocity graph of the vehicle.\n",
    "layout = go.Layout(title=\"Acceleration-Velocity\",\n",
    "                xaxis=dict(title='velocity (in m/s)'),\n",
    "                yaxis=dict(title='Acceleration (in m/s2'))\n",
    "data = sol['outputs']['discrete_acceleration_curves']\n",
    "fig = go.Figure(data=data, layout=layout)\n",
    "iplot(fig)"
   ]
  },
  {
   "cell_type": "code",
   "execution_count": null,
   "metadata": {},
   "outputs": [],
   "source": []
  }
 ],
 "metadata": {
  "kernelspec": {
   "display_name": "Python 3",
   "language": "python",
   "name": "python3"
  },
  "language_info": {
   "codemirror_mode": {
    "name": "ipython",
    "version": 3
   },
   "file_extension": ".py",
   "mimetype": "text/x-python",
   "name": "python",
   "nbconvert_exporter": "python",
   "pygments_lexer": "ipython3",
   "version": "3.7.1"
  }
 },
 "nbformat": 4,
 "nbformat_minor": 2
}

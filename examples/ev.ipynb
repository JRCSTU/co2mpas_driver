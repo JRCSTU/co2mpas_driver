{
 "cells": [
  {
   "cell_type": "markdown",
   "metadata": {},
   "source": [
    "# Electric vehicle simulation example"
   ]
  },
  {
   "cell_type": "markdown",
   "metadata": {},
   "source": [
    "This is an ipython notebook to present how to use the co2mpas driver model (i.e., MFC) to simulate the driver behaviour on an electric vehicle.\n"
   ]
  },
  {
   "cell_type": "markdown",
   "metadata": {},
   "source": [
    "# Import co2mpas driver model and other libraries"
   ]
  },
  {
   "cell_type": "code",
   "execution_count": 1,
   "metadata": {},
   "outputs": [
    {
     "data": {
      "text/html": [
       "        <script type=\"text/javascript\">\n",
       "        window.PlotlyConfig = {MathJaxConfig: 'local'};\n",
       "        if (window.MathJax) {MathJax.Hub.Config({SVG: {font: \"STIX-Web\"}});}\n",
       "        if (typeof require !== 'undefined') {\n",
       "        require.undef(\"plotly\");\n",
       "        requirejs.config({\n",
       "            paths: {\n",
       "                'plotly': ['https://cdn.plot.ly/plotly-latest.min']\n",
       "            }\n",
       "        });\n",
       "        require(['plotly'], function(Plotly) {\n",
       "            window._Plotly = Plotly;\n",
       "        });\n",
       "        }\n",
       "        </script>\n",
       "        "
      ]
     },
     "metadata": {},
     "output_type": "display_data"
    }
   ],
   "source": [
    "import sys;\n",
    "sys.path.extend(['..'])\n",
    "import numpy as np\n",
    "import schedula as sh\n",
    "from plotly import graph_objs as go\n",
    "from co2mpas_driver import dsp as driver\n",
    "from plotly.offline import download_plotlyjs, init_notebook_mode, plot, iplot\n",
    "init_notebook_mode(connected=True)"
   ]
  },
  {
   "cell_type": "markdown",
   "metadata": {},
   "source": [
    "## Processing chain model"
   ]
  },
  {
   "cell_type": "code",
   "execution_count": 2,
   "metadata": {},
   "outputs": [
    {
     "name": "stdout",
     "output_type": "stream",
     "text": [
      " * Serving Flask app \"C:\\Users\\makieas\\AppData\\Local\\Temp\\tmp28acb684\" (lazy loading)\n",
      " * Environment: production\n",
      "   WARNING: Do not use the development server in a production environment.\n",
      "   Use a production WSGI server instead.\n",
      " * Debug mode: off\n"
     ]
    },
    {
     "name": "stderr",
     "output_type": "stream",
     "text": [
      " * Running on http://localhost:58535/ (Press CTRL+C to quit)\n"
     ]
    },
    {
     "data": {
      "text/html": [
       "\n",
       "<iframe width=\"100%\" height=\"500\" id=\"2251611396416\" src=\"http://localhost:58535/\">\n",
       "</iframe>\n"
      ],
      "text/plain": [
       "Site(SiteMap([(Dispatcher 2251570197672, SiteMap([(load, SiteMap()), (model, SiteMap()), (plot, SiteMap())]))]), host='localhost', port=0, depth=-1, index=False, root_path=None)"
      ]
     },
     "execution_count": 2,
     "metadata": {},
     "output_type": "execute_result"
    }
   ],
   "source": [
    "driver.plot(view=False).site(index=False)  # Click on the graph to see the model."
   ]
  },
  {
   "cell_type": "markdown",
   "metadata": {},
   "source": [
    "# Plot co2mpas driver model graph"
   ]
  },
  {
   "cell_type": "code",
   "execution_count": 3,
   "metadata": {},
   "outputs": [
    {
     "name": "stdout",
     "output_type": "stream",
     "text": [
      " * Serving Flask app \"C:\\Users\\makieas\\AppData\\Local\\Temp\\tmpd8t_86eu\" (lazy loading)\n",
      " * Environment: production\n",
      "   WARNING: Do not use the development server in a production environment.\n",
      "   Use a production WSGI server instead.\n",
      " * Debug mode: off\n"
     ]
    },
    {
     "name": "stderr",
     "output_type": "stream",
     "text": [
      " * Running on http://localhost:58542/ (Press CTRL+C to quit)\n",
      "127.0.0.1 - - [24/Feb/2020 14:31:35] \"GET / HTTP/1.1\" 200 -\n"
     ]
    },
    {
     "data": {
      "text/html": [
       "\n",
       "<iframe width=\"100%\" height=\"500\" id=\"2251615747656\" src=\"http://localhost:58542/\">\n",
       "</iframe>\n"
      ],
      "text/plain": [
       "Site(SiteMap([(model, SiteMap())]), host='localhost', port=0, depth=-1, index=False, root_path=None)"
      ]
     },
     "execution_count": 3,
     "metadata": {},
     "output_type": "execute_result"
    }
   ],
   "source": [
    "driver.get_node('model')[0].plot(view=False).site(index=False)  # Click on the graph to see the model."
   ]
  },
  {
   "cell_type": "markdown",
   "metadata": {},
   "source": [
    "# User inputs to co2mpas driver model in order to extract the drivers acceleration behavior"
   ]
  },
  {
   "cell_type": "code",
   "execution_count": 4,
   "metadata": {},
   "outputs": [
    {
     "name": "stderr",
     "output_type": "stream",
     "text": [
      "Failed DISPATCHING 'model/get_full_load' due to:\n",
      "  KeyError('electricity')\n",
      "Traceback (most recent call last):\n",
      "  File \"c:\\apps\\miniconda3\\lib\\site-packages\\schedula\\utils\\sol.py\", line 620, in _evaluate_node\n",
      "    **kw)\n",
      "  File \"c:\\apps\\miniconda3\\lib\\site-packages\\schedula\\utils\\sol.py\", line 594, in _evaluate_function\n",
      "    sol=self, callback=_callback, sol_name=self.full_name + (node_id,)\n",
      "  File \"c:\\apps\\miniconda3\\lib\\site-packages\\schedula\\utils\\asy.py\", line 167, in async_process\n",
      "    name, funcs, executor, *args, **kw\n",
      "  File \"c:\\apps\\miniconda3\\lib\\site-packages\\schedula\\utils\\asy.py\", line 124, in _process_funcs\n",
      "    r['res'] = e.process(fn, *args, **kw) if e else fn(*args, **kw)\n",
      "  File \"c:\\apps\\miniconda3\\lib\\site-packages\\co2mpas_driver\\model\\co2mpas.py\", line 32, in get_full_load\n",
      "    xp, fp = defaults.dfl.functions.get_full_load.FULL_LOAD[ignition_type]\n",
      "KeyError: 'electricity'\n"
     ]
    },
    {
     "name": "stdout",
     "output_type": "stream",
     "text": [
      " * Serving Flask app \"C:\\Users\\makieas\\AppData\\Local\\Temp\\tmpye_boegm\" (lazy loading)\n",
      " * Environment: production\n",
      "   WARNING: Do not use the development server in a production environment.\n",
      "   Use a production WSGI server instead.\n",
      " * Debug mode: off\n"
     ]
    },
    {
     "name": "stderr",
     "output_type": "stream",
     "text": [
      " * Running on http://localhost:58549/ (Press CTRL+C to quit)\n",
      "127.0.0.1 - - [24/Feb/2020 14:31:35] \"GET / HTTP/1.1\" 200 -\n"
     ]
    },
    {
     "data": {
      "text/html": [
       "\n",
       "<iframe width=\"100%\" height=\"500\" id=\"2251647629408\" src=\"http://localhost:58549/\">\n",
       "</iframe>\n"
      ],
      "text/plain": [
       "Site(SiteMap([(Dispatcher 2251570197672, SiteMap([(load, SiteMap()), (model, SiteMap()), (plot, SiteMap())]))]), host='localhost', port=0, depth=-1, index=False, root_path=None)"
      ]
     },
     "execution_count": 4,
     "metadata": {},
     "output_type": "execute_result"
    }
   ],
   "source": [
    "# Remember to Insert vehicle data base path (db_path)\n",
    "vehicle_id = 47844\n",
    "db_path = '../co2mpas_driver/db/EuroSegmentCar_cleaned.csv'\n",
    "sol = driver(dict(vehicle_id=vehicle_id, db_path=db_path))\n",
    "sol.plot(view=False).site(index=False)"
   ]
  },
  {
   "cell_type": "code",
   "execution_count": 5,
   "metadata": {},
   "outputs": [
    {
     "data": {
      "text/plain": [
       "['ignition_type',\n",
       " 'full_load_curve',\n",
       " 'engine_max_power',\n",
       " 'engine_max_speed_at_max_power',\n",
       " 'idle_engine_speed',\n",
       " 'full_load_speeds',\n",
       " 'full_load_powers',\n",
       " 'full_load_torques',\n",
       " 'gear_box_ratios',\n",
       " 'tyre_radius',\n",
       " 'driveline_slippage',\n",
       " 'final_drive_ratio',\n",
       " 'driveline_efficiency',\n",
       " 'vehicle_mass',\n",
       " 'speed_per_gear',\n",
       " 'acc_per_gear',\n",
       " 'degree',\n",
       " 'coefs_per_gear',\n",
       " 'motor_max_power',\n",
       " 'fuel_type',\n",
       " 'motor_max_torque',\n",
       " 'vehicle_max_speed',\n",
       " 'poly_spline',\n",
       " 'start',\n",
       " 'stop',\n",
       " 'use_cubic',\n",
       " 'sp_bins',\n",
       " 'discrete_poly_spline',\n",
       " 'speed_per_gear_updated',\n",
       " 'acc_per_gear_updated',\n",
       " 'car_res_curve_force',\n",
       " 'discrete_car_res_curve_force',\n",
       " 'car_res_curve',\n",
       " 'discrete_car_res_curve',\n",
       " 'type_of_car',\n",
       " 'car_width',\n",
       " 'car_height',\n",
       " 'car_type',\n",
       " 'Alimit',\n",
       " 'curves',\n",
       " 'curves_dec',\n",
       " 'discrete_acceleration_curves',\n",
       " 'discrete_deceleration_curves',\n",
       " 'gear_shifting_style',\n",
       " 'use_linear_gs',\n",
       " 'gs',\n",
       " 'idle_engine_speed_median',\n",
       " 'idle_engine_speed_std',\n",
       " 'tans',\n",
       " 'sim_start',\n",
       " 'duration',\n",
       " 'sim_step',\n",
       " 'times',\n",
       " 'transmission',\n",
       " 'driver_style',\n",
       " 'driver_simulation_model',\n",
       " 'starting_velocity',\n",
       " 'desired_velocity',\n",
       " 'gears',\n",
       " 'velocities',\n",
       " 'accelerations',\n",
       " 'positions',\n",
       " 'r_dynamic',\n",
       " 'gearbox_type',\n",
       " 'engine_max_torque',\n",
       " 'fuel_eng_capacity',\n",
       " 'max_power',\n",
       " 'fuel_engine_stroke',\n",
       " 'fuel_turbo',\n",
       " 'fp']"
      ]
     },
     "execution_count": 5,
     "metadata": {},
     "output_type": "execute_result"
    }
   ],
   "source": [
    "list(driver.get_node('model')[0].dsp.data_nodes)"
   ]
  },
  {
   "cell_type": "markdown",
   "metadata": {},
   "source": [
    "# Compute and plot acceleration versus velocity graph of the vehicle"
   ]
  },
  {
   "cell_type": "code",
   "execution_count": 6,
   "metadata": {},
   "outputs": [
    {
     "name": "stderr",
     "output_type": "stream",
     "text": [
      "127.0.0.1 - - [24/Feb/2020 14:31:36] \"GET / HTTP/1.1\" 200 -\n"
     ]
    },
    {
     "data": {
      "application/vnd.plotly.v1+json": {
       "config": {
        "linkText": "Export to plot.ly",
        "plotlyServerURL": "https://plot.ly",
        "showLink": false
       },
       "data": [
        {
         "type": "scatter",
         "x": [
          0,
          0.2,
          0.4,
          0.6000000000000001,
          0.8,
          1,
          1.2000000000000002,
          1.4000000000000001,
          1.6,
          1.8,
          2,
          2.2,
          2.4000000000000004,
          2.6,
          2.8000000000000003,
          3,
          3.2,
          3.4000000000000004,
          3.6,
          3.8000000000000003,
          4,
          4.2,
          4.4,
          4.6000000000000005,
          4.800000000000001,
          5,
          5.2,
          5.4,
          5.6000000000000005,
          5.800000000000001,
          6,
          6.2,
          6.4,
          6.6000000000000005,
          6.800000000000001,
          7,
          7.2,
          7.4,
          7.6000000000000005,
          7.800000000000001,
          8,
          8.200000000000001,
          8.4,
          8.6,
          8.8,
          9,
          9.200000000000001,
          9.4,
          9.600000000000001,
          9.8,
          10,
          10.200000000000001,
          10.4,
          10.600000000000001,
          10.8,
          11,
          11.200000000000001,
          11.4,
          11.600000000000001,
          11.8,
          12,
          12.200000000000001,
          12.4,
          12.600000000000001,
          12.8,
          13,
          13.200000000000001,
          13.4,
          13.600000000000001,
          13.8,
          14,
          14.200000000000001,
          14.4,
          14.600000000000001,
          14.8,
          15,
          15.200000000000001,
          15.4,
          15.600000000000001,
          15.8,
          16,
          16.2,
          16.400000000000002,
          16.6,
          16.8,
          17,
          17.2,
          17.400000000000002,
          17.6,
          17.8,
          18,
          18.2,
          18.400000000000002,
          18.6,
          18.8,
          19,
          19.200000000000003,
          19.400000000000002,
          19.6,
          19.8,
          20,
          20.200000000000003,
          20.400000000000002,
          20.6,
          20.8,
          21,
          21.200000000000003,
          21.400000000000002,
          21.6,
          21.8,
          22,
          22.200000000000003,
          22.400000000000002,
          22.6,
          22.8,
          23,
          23.200000000000003,
          23.400000000000002,
          23.6,
          23.8,
          24,
          24.200000000000003,
          24.400000000000002,
          24.6,
          24.8,
          25,
          25.200000000000003,
          25.400000000000002,
          25.6,
          25.8,
          26,
          26.200000000000003,
          26.400000000000002,
          26.6,
          26.8,
          27,
          27.200000000000003,
          27.400000000000002,
          27.6,
          27.8,
          28,
          28.200000000000003,
          28.400000000000002,
          28.6,
          28.8,
          29,
          29.200000000000003,
          29.400000000000002,
          29.6,
          29.8,
          30,
          30.200000000000003,
          30.400000000000002,
          30.6,
          30.8,
          31,
          31.200000000000003,
          31.400000000000002,
          31.6,
          31.8,
          32,
          32.2,
          32.4,
          32.6,
          32.800000000000004,
          33,
          33.2,
          33.4,
          33.6,
          33.800000000000004,
          34,
          34.2,
          34.4,
          34.6,
          34.800000000000004,
          35,
          35.2,
          35.4,
          35.6,
          35.800000000000004,
          36,
          36.2,
          36.4,
          36.6,
          36.800000000000004
         ],
         "y": [
          3.3206681251213164,
          3.3204286959683165,
          3.320169603325214,
          3.31989084719201,
          3.319592427568703,
          3.3192743444552946,
          3.3189365978517835,
          3.3185791877581705,
          3.318202114174455,
          3.3178053771006377,
          3.317388976536718,
          3.3169529124826957,
          3.316497184938572,
          3.3160217939043455,
          3.315526739380017,
          3.3150120213655865,
          3.3144776398610536,
          3.3139235948664187,
          3.3133498863816815,
          3.312756514406842,
          3.3121434789419,
          3.3115107799868566,
          3.3108584175417106,
          3.310186391606462,
          3.309494702181112,
          3.3087833492656595,
          3.308052332860105,
          3.3073016529644477,
          3.3065313095786886,
          3.3057413027028275,
          3.3049316323368636,
          3.304102298480798,
          3.3032533011346303,
          3.30238464029836,
          3.301496315971988,
          3.3005883281555133,
          3.2996606768489367,
          3.298713362052258,
          3.297746383765477,
          3.296759741988594,
          3.295753436721608,
          3.294727467964521,
          3.293681835717331,
          3.292616539980039,
          3.291531580752645,
          3.2904269580351486,
          3.2893026718275498,
          3.2881587221298494,
          3.286995108942046,
          3.285811832264141,
          3.284608892096134,
          3.2833862884380243,
          3.2821440212898128,
          3.280882090651499,
          3.279600496523083,
          3.2782992389045646,
          3.276978317795944,
          3.2756377331972213,
          3.2742774851083967,
          3.2728975735294696,
          3.2714979984604406,
          3.2700787599013093,
          3.2686398578520754,
          3.2671812923127397,
          3.265703063283302,
          3.264205170763762,
          3.2626876147541193,
          3.261150395254375,
          3.259593512264528,
          3.258016965784579,
          3.256420755814528,
          3.254804882354375,
          3.2531693454041193,
          3.2515141449637617,
          3.2498392810333017,
          3.2481447536127397,
          3.2464305627020753,
          3.244696708301309,
          3.2429431904104407,
          3.2411700090294695,
          3.239377164158397,
          3.2375646557972213,
          3.2357324839459443,
          3.2338806486045644,
          3.232009149773083,
          3.2301179874514987,
          3.228207161639813,
          3.2262766723380243,
          3.2243265195461337,
          3.2031743921344593,
          3.163401393585653,
          3.124439138552826,
          3.086260548546649,
          3.0488397097440023,
          3.0121518110376417,
          2.9761730859985227,
          2.940880758465479,
          2.9062529915004847,
          2.872268839469106,
          2.8389082030251704,
          2.8061517867963506,
          2.7739810595834817,
          2.742378216901092,
          2.7113261457000393,
          2.6808083911253764,
          2.6508091251737764,
          2.6213131171250543,
          2.592305705631744,
          2.5637727723592483,
          2.5357007170769905,
          2.508076434108235,
          2.480887290052883,
          2.454121102703699,
          2.4277661210820214,
          2.4018110065242273,
          2.376244814754997,
          2.3510569788878115,
          2.3262372932972326,
          2.3017758983112246,
          2.2776632656753004,
          2.2538901847434554,
          2.230447749353849,
          2.2073273453499502,
          2.1845206387103966,
          2.1620195642532263,
          2.1398163148822995,
          2.1179033313457976,
          2.0962732924785756,
          2.0749191059018974,
          2.053833899155748,
          2.033011011240421,
          2.0124439845455124,
          1.9921265571457845,
          1.9720526554445756,
          1.9522163871466185,
          1.9326120345431725,
          1.9132340480933996,
          1.8940770402868523,
          1.8751357797728074,
          1.856405185743006,
          1.8378803225551408,
          1.819556394585126,
          1.8014287412968781,
          1.7834928325189594,
          1.7657442639180274,
          1.748178752659591,
          1.7307921332470892,
          1.7135803535308078,
          1.6965394708785912,
          1.6796656485007584,
          1.6629551519220194,
          1.6464043455935822,
          1.6300096896389915,
          1.6137677367275822,
          1.5976751290697442,
          1.5817285955285034,
          1.5659249488421927,
          1.5502610829532633,
          1.5347339704385354,
          1.5193406600364183,
          1.5040782742668615,
          1.4889440071400009,
          1.4739351219496744,
          1.4590489491481513,
          1.444282884298624,
          1.4296343861021445,
          1.4151009744958842,
          1.4006802288197189,
          1.3863697860482864,
          1.3721673390858211,
          1.3580706351211638,
          1.34407747404049,
          1.3301857068954155,
          1.3163932344242224,
          1.3026980056240836,
          1.2890980163722368,
          1.275591308094163,
          1.2621759664769163,
          1.2488501202258173,
          1.2356119398628285,
          1.2224596365649798,
          1.2093914610413001,
          1.1964057024467742,
          1.1835006873319058,
          1.1706747786265363
         ]
        }
       ],
       "layout": {
        "template": {
         "data": {
          "bar": [
           {
            "error_x": {
             "color": "#2a3f5f"
            },
            "error_y": {
             "color": "#2a3f5f"
            },
            "marker": {
             "line": {
              "color": "#E5ECF6",
              "width": 0.5
             }
            },
            "type": "bar"
           }
          ],
          "barpolar": [
           {
            "marker": {
             "line": {
              "color": "#E5ECF6",
              "width": 0.5
             }
            },
            "type": "barpolar"
           }
          ],
          "carpet": [
           {
            "aaxis": {
             "endlinecolor": "#2a3f5f",
             "gridcolor": "white",
             "linecolor": "white",
             "minorgridcolor": "white",
             "startlinecolor": "#2a3f5f"
            },
            "baxis": {
             "endlinecolor": "#2a3f5f",
             "gridcolor": "white",
             "linecolor": "white",
             "minorgridcolor": "white",
             "startlinecolor": "#2a3f5f"
            },
            "type": "carpet"
           }
          ],
          "choropleth": [
           {
            "colorbar": {
             "outlinewidth": 0,
             "ticks": ""
            },
            "type": "choropleth"
           }
          ],
          "contour": [
           {
            "colorbar": {
             "outlinewidth": 0,
             "ticks": ""
            },
            "colorscale": [
             [
              0,
              "#0d0887"
             ],
             [
              0.1111111111111111,
              "#46039f"
             ],
             [
              0.2222222222222222,
              "#7201a8"
             ],
             [
              0.3333333333333333,
              "#9c179e"
             ],
             [
              0.4444444444444444,
              "#bd3786"
             ],
             [
              0.5555555555555556,
              "#d8576b"
             ],
             [
              0.6666666666666666,
              "#ed7953"
             ],
             [
              0.7777777777777778,
              "#fb9f3a"
             ],
             [
              0.8888888888888888,
              "#fdca26"
             ],
             [
              1,
              "#f0f921"
             ]
            ],
            "type": "contour"
           }
          ],
          "contourcarpet": [
           {
            "colorbar": {
             "outlinewidth": 0,
             "ticks": ""
            },
            "type": "contourcarpet"
           }
          ],
          "heatmap": [
           {
            "colorbar": {
             "outlinewidth": 0,
             "ticks": ""
            },
            "colorscale": [
             [
              0,
              "#0d0887"
             ],
             [
              0.1111111111111111,
              "#46039f"
             ],
             [
              0.2222222222222222,
              "#7201a8"
             ],
             [
              0.3333333333333333,
              "#9c179e"
             ],
             [
              0.4444444444444444,
              "#bd3786"
             ],
             [
              0.5555555555555556,
              "#d8576b"
             ],
             [
              0.6666666666666666,
              "#ed7953"
             ],
             [
              0.7777777777777778,
              "#fb9f3a"
             ],
             [
              0.8888888888888888,
              "#fdca26"
             ],
             [
              1,
              "#f0f921"
             ]
            ],
            "type": "heatmap"
           }
          ],
          "heatmapgl": [
           {
            "colorbar": {
             "outlinewidth": 0,
             "ticks": ""
            },
            "colorscale": [
             [
              0,
              "#0d0887"
             ],
             [
              0.1111111111111111,
              "#46039f"
             ],
             [
              0.2222222222222222,
              "#7201a8"
             ],
             [
              0.3333333333333333,
              "#9c179e"
             ],
             [
              0.4444444444444444,
              "#bd3786"
             ],
             [
              0.5555555555555556,
              "#d8576b"
             ],
             [
              0.6666666666666666,
              "#ed7953"
             ],
             [
              0.7777777777777778,
              "#fb9f3a"
             ],
             [
              0.8888888888888888,
              "#fdca26"
             ],
             [
              1,
              "#f0f921"
             ]
            ],
            "type": "heatmapgl"
           }
          ],
          "histogram": [
           {
            "marker": {
             "colorbar": {
              "outlinewidth": 0,
              "ticks": ""
             }
            },
            "type": "histogram"
           }
          ],
          "histogram2d": [
           {
            "colorbar": {
             "outlinewidth": 0,
             "ticks": ""
            },
            "colorscale": [
             [
              0,
              "#0d0887"
             ],
             [
              0.1111111111111111,
              "#46039f"
             ],
             [
              0.2222222222222222,
              "#7201a8"
             ],
             [
              0.3333333333333333,
              "#9c179e"
             ],
             [
              0.4444444444444444,
              "#bd3786"
             ],
             [
              0.5555555555555556,
              "#d8576b"
             ],
             [
              0.6666666666666666,
              "#ed7953"
             ],
             [
              0.7777777777777778,
              "#fb9f3a"
             ],
             [
              0.8888888888888888,
              "#fdca26"
             ],
             [
              1,
              "#f0f921"
             ]
            ],
            "type": "histogram2d"
           }
          ],
          "histogram2dcontour": [
           {
            "colorbar": {
             "outlinewidth": 0,
             "ticks": ""
            },
            "colorscale": [
             [
              0,
              "#0d0887"
             ],
             [
              0.1111111111111111,
              "#46039f"
             ],
             [
              0.2222222222222222,
              "#7201a8"
             ],
             [
              0.3333333333333333,
              "#9c179e"
             ],
             [
              0.4444444444444444,
              "#bd3786"
             ],
             [
              0.5555555555555556,
              "#d8576b"
             ],
             [
              0.6666666666666666,
              "#ed7953"
             ],
             [
              0.7777777777777778,
              "#fb9f3a"
             ],
             [
              0.8888888888888888,
              "#fdca26"
             ],
             [
              1,
              "#f0f921"
             ]
            ],
            "type": "histogram2dcontour"
           }
          ],
          "mesh3d": [
           {
            "colorbar": {
             "outlinewidth": 0,
             "ticks": ""
            },
            "type": "mesh3d"
           }
          ],
          "parcoords": [
           {
            "line": {
             "colorbar": {
              "outlinewidth": 0,
              "ticks": ""
             }
            },
            "type": "parcoords"
           }
          ],
          "scatter": [
           {
            "marker": {
             "colorbar": {
              "outlinewidth": 0,
              "ticks": ""
             }
            },
            "type": "scatter"
           }
          ],
          "scatter3d": [
           {
            "line": {
             "colorbar": {
              "outlinewidth": 0,
              "ticks": ""
             }
            },
            "marker": {
             "colorbar": {
              "outlinewidth": 0,
              "ticks": ""
             }
            },
            "type": "scatter3d"
           }
          ],
          "scattercarpet": [
           {
            "marker": {
             "colorbar": {
              "outlinewidth": 0,
              "ticks": ""
             }
            },
            "type": "scattercarpet"
           }
          ],
          "scattergeo": [
           {
            "marker": {
             "colorbar": {
              "outlinewidth": 0,
              "ticks": ""
             }
            },
            "type": "scattergeo"
           }
          ],
          "scattergl": [
           {
            "marker": {
             "colorbar": {
              "outlinewidth": 0,
              "ticks": ""
             }
            },
            "type": "scattergl"
           }
          ],
          "scattermapbox": [
           {
            "marker": {
             "colorbar": {
              "outlinewidth": 0,
              "ticks": ""
             }
            },
            "type": "scattermapbox"
           }
          ],
          "scatterpolar": [
           {
            "marker": {
             "colorbar": {
              "outlinewidth": 0,
              "ticks": ""
             }
            },
            "type": "scatterpolar"
           }
          ],
          "scatterpolargl": [
           {
            "marker": {
             "colorbar": {
              "outlinewidth": 0,
              "ticks": ""
             }
            },
            "type": "scatterpolargl"
           }
          ],
          "scatterternary": [
           {
            "marker": {
             "colorbar": {
              "outlinewidth": 0,
              "ticks": ""
             }
            },
            "type": "scatterternary"
           }
          ],
          "surface": [
           {
            "colorbar": {
             "outlinewidth": 0,
             "ticks": ""
            },
            "colorscale": [
             [
              0,
              "#0d0887"
             ],
             [
              0.1111111111111111,
              "#46039f"
             ],
             [
              0.2222222222222222,
              "#7201a8"
             ],
             [
              0.3333333333333333,
              "#9c179e"
             ],
             [
              0.4444444444444444,
              "#bd3786"
             ],
             [
              0.5555555555555556,
              "#d8576b"
             ],
             [
              0.6666666666666666,
              "#ed7953"
             ],
             [
              0.7777777777777778,
              "#fb9f3a"
             ],
             [
              0.8888888888888888,
              "#fdca26"
             ],
             [
              1,
              "#f0f921"
             ]
            ],
            "type": "surface"
           }
          ],
          "table": [
           {
            "cells": {
             "fill": {
              "color": "#EBF0F8"
             },
             "line": {
              "color": "white"
             }
            },
            "header": {
             "fill": {
              "color": "#C8D4E3"
             },
             "line": {
              "color": "white"
             }
            },
            "type": "table"
           }
          ]
         },
         "layout": {
          "annotationdefaults": {
           "arrowcolor": "#2a3f5f",
           "arrowhead": 0,
           "arrowwidth": 1
          },
          "colorscale": {
           "diverging": [
            [
             0,
             "#8e0152"
            ],
            [
             0.1,
             "#c51b7d"
            ],
            [
             0.2,
             "#de77ae"
            ],
            [
             0.3,
             "#f1b6da"
            ],
            [
             0.4,
             "#fde0ef"
            ],
            [
             0.5,
             "#f7f7f7"
            ],
            [
             0.6,
             "#e6f5d0"
            ],
            [
             0.7,
             "#b8e186"
            ],
            [
             0.8,
             "#7fbc41"
            ],
            [
             0.9,
             "#4d9221"
            ],
            [
             1,
             "#276419"
            ]
           ],
           "sequential": [
            [
             0,
             "#0d0887"
            ],
            [
             0.1111111111111111,
             "#46039f"
            ],
            [
             0.2222222222222222,
             "#7201a8"
            ],
            [
             0.3333333333333333,
             "#9c179e"
            ],
            [
             0.4444444444444444,
             "#bd3786"
            ],
            [
             0.5555555555555556,
             "#d8576b"
            ],
            [
             0.6666666666666666,
             "#ed7953"
            ],
            [
             0.7777777777777778,
             "#fb9f3a"
            ],
            [
             0.8888888888888888,
             "#fdca26"
            ],
            [
             1,
             "#f0f921"
            ]
           ],
           "sequentialminus": [
            [
             0,
             "#0d0887"
            ],
            [
             0.1111111111111111,
             "#46039f"
            ],
            [
             0.2222222222222222,
             "#7201a8"
            ],
            [
             0.3333333333333333,
             "#9c179e"
            ],
            [
             0.4444444444444444,
             "#bd3786"
            ],
            [
             0.5555555555555556,
             "#d8576b"
            ],
            [
             0.6666666666666666,
             "#ed7953"
            ],
            [
             0.7777777777777778,
             "#fb9f3a"
            ],
            [
             0.8888888888888888,
             "#fdca26"
            ],
            [
             1,
             "#f0f921"
            ]
           ]
          },
          "colorway": [
           "#636efa",
           "#EF553B",
           "#00cc96",
           "#ab63fa",
           "#FFA15A",
           "#19d3f3",
           "#FF6692",
           "#B6E880",
           "#FF97FF",
           "#FECB52"
          ],
          "font": {
           "color": "#2a3f5f"
          },
          "geo": {
           "bgcolor": "white",
           "lakecolor": "white",
           "landcolor": "#E5ECF6",
           "showlakes": true,
           "showland": true,
           "subunitcolor": "white"
          },
          "hoverlabel": {
           "align": "left"
          },
          "hovermode": "closest",
          "mapbox": {
           "style": "light"
          },
          "paper_bgcolor": "white",
          "plot_bgcolor": "#E5ECF6",
          "polar": {
           "angularaxis": {
            "gridcolor": "white",
            "linecolor": "white",
            "ticks": ""
           },
           "bgcolor": "#E5ECF6",
           "radialaxis": {
            "gridcolor": "white",
            "linecolor": "white",
            "ticks": ""
           }
          },
          "scene": {
           "xaxis": {
            "backgroundcolor": "#E5ECF6",
            "gridcolor": "white",
            "gridwidth": 2,
            "linecolor": "white",
            "showbackground": true,
            "ticks": "",
            "zerolinecolor": "white"
           },
           "yaxis": {
            "backgroundcolor": "#E5ECF6",
            "gridcolor": "white",
            "gridwidth": 2,
            "linecolor": "white",
            "showbackground": true,
            "ticks": "",
            "zerolinecolor": "white"
           },
           "zaxis": {
            "backgroundcolor": "#E5ECF6",
            "gridcolor": "white",
            "gridwidth": 2,
            "linecolor": "white",
            "showbackground": true,
            "ticks": "",
            "zerolinecolor": "white"
           }
          },
          "shapedefaults": {
           "line": {
            "color": "#2a3f5f"
           }
          },
          "ternary": {
           "aaxis": {
            "gridcolor": "white",
            "linecolor": "white",
            "ticks": ""
           },
           "baxis": {
            "gridcolor": "white",
            "linecolor": "white",
            "ticks": ""
           },
           "bgcolor": "#E5ECF6",
           "caxis": {
            "gridcolor": "white",
            "linecolor": "white",
            "ticks": ""
           }
          },
          "title": {
           "x": 0.05
          },
          "xaxis": {
           "automargin": true,
           "gridcolor": "white",
           "linecolor": "white",
           "ticks": "",
           "zerolinecolor": "white",
           "zerolinewidth": 2
          },
          "yaxis": {
           "automargin": true,
           "gridcolor": "white",
           "linecolor": "white",
           "ticks": "",
           "zerolinecolor": "white",
           "zerolinewidth": 2
          }
         }
        },
        "title": {
         "text": "Acceleration_Velocity_for_vehicle_id_47844"
        },
        "xaxis": {
         "title": {
          "text": "velocity (in m/s)"
         }
        },
        "yaxis": {
         "title": {
          "text": "Acceleration (in m/s2"
         }
        }
       }
      },
      "text/html": [
       "<div>\n",
       "        \n",
       "        \n",
       "            <div id=\"28bc6935-7eb0-49b9-8beb-c92ee1c0a1ed\" class=\"plotly-graph-div\" style=\"height:525px; width:100%;\"></div>\n",
       "            <script type=\"text/javascript\">\n",
       "                require([\"plotly\"], function(Plotly) {\n",
       "                    window.PLOTLYENV=window.PLOTLYENV || {};\n",
       "                    \n",
       "                if (document.getElementById(\"28bc6935-7eb0-49b9-8beb-c92ee1c0a1ed\")) {\n",
       "                    Plotly.newPlot(\n",
       "                        '28bc6935-7eb0-49b9-8beb-c92ee1c0a1ed',\n",
       "                        [{\"type\": \"scatter\", \"x\": [0.0, 0.2, 0.4, 0.6000000000000001, 0.8, 1.0, 1.2000000000000002, 1.4000000000000001, 1.6, 1.8, 2.0, 2.2, 2.4000000000000004, 2.6, 2.8000000000000003, 3.0, 3.2, 3.4000000000000004, 3.6, 3.8000000000000003, 4.0, 4.2, 4.4, 4.6000000000000005, 4.800000000000001, 5.0, 5.2, 5.4, 5.6000000000000005, 5.800000000000001, 6.0, 6.2, 6.4, 6.6000000000000005, 6.800000000000001, 7.0, 7.2, 7.4, 7.6000000000000005, 7.800000000000001, 8.0, 8.200000000000001, 8.4, 8.6, 8.8, 9.0, 9.200000000000001, 9.4, 9.600000000000001, 9.8, 10.0, 10.200000000000001, 10.4, 10.600000000000001, 10.8, 11.0, 11.200000000000001, 11.4, 11.600000000000001, 11.8, 12.0, 12.200000000000001, 12.4, 12.600000000000001, 12.8, 13.0, 13.200000000000001, 13.4, 13.600000000000001, 13.8, 14.0, 14.200000000000001, 14.4, 14.600000000000001, 14.8, 15.0, 15.200000000000001, 15.4, 15.600000000000001, 15.8, 16.0, 16.2, 16.400000000000002, 16.6, 16.8, 17.0, 17.2, 17.400000000000002, 17.6, 17.8, 18.0, 18.2, 18.400000000000002, 18.6, 18.8, 19.0, 19.200000000000003, 19.400000000000002, 19.6, 19.8, 20.0, 20.200000000000003, 20.400000000000002, 20.6, 20.8, 21.0, 21.200000000000003, 21.400000000000002, 21.6, 21.8, 22.0, 22.200000000000003, 22.400000000000002, 22.6, 22.8, 23.0, 23.200000000000003, 23.400000000000002, 23.6, 23.8, 24.0, 24.200000000000003, 24.400000000000002, 24.6, 24.8, 25.0, 25.200000000000003, 25.400000000000002, 25.6, 25.8, 26.0, 26.200000000000003, 26.400000000000002, 26.6, 26.8, 27.0, 27.200000000000003, 27.400000000000002, 27.6, 27.8, 28.0, 28.200000000000003, 28.400000000000002, 28.6, 28.8, 29.0, 29.200000000000003, 29.400000000000002, 29.6, 29.8, 30.0, 30.200000000000003, 30.400000000000002, 30.6, 30.8, 31.0, 31.200000000000003, 31.400000000000002, 31.6, 31.8, 32.0, 32.2, 32.4, 32.6, 32.800000000000004, 33.0, 33.2, 33.4, 33.6, 33.800000000000004, 34.0, 34.2, 34.4, 34.6, 34.800000000000004, 35.0, 35.2, 35.4, 35.6, 35.800000000000004, 36.0, 36.2, 36.4, 36.6, 36.800000000000004], \"y\": [3.3206681251213164, 3.3204286959683165, 3.320169603325214, 3.31989084719201, 3.319592427568703, 3.3192743444552946, 3.3189365978517835, 3.3185791877581705, 3.318202114174455, 3.3178053771006377, 3.317388976536718, 3.3169529124826957, 3.316497184938572, 3.3160217939043455, 3.315526739380017, 3.3150120213655865, 3.3144776398610536, 3.3139235948664187, 3.3133498863816815, 3.312756514406842, 3.3121434789419, 3.3115107799868566, 3.3108584175417106, 3.310186391606462, 3.309494702181112, 3.3087833492656595, 3.308052332860105, 3.3073016529644477, 3.3065313095786886, 3.3057413027028275, 3.3049316323368636, 3.304102298480798, 3.3032533011346303, 3.30238464029836, 3.301496315971988, 3.3005883281555133, 3.2996606768489367, 3.298713362052258, 3.297746383765477, 3.296759741988594, 3.295753436721608, 3.294727467964521, 3.293681835717331, 3.292616539980039, 3.291531580752645, 3.2904269580351486, 3.2893026718275498, 3.2881587221298494, 3.286995108942046, 3.285811832264141, 3.284608892096134, 3.2833862884380243, 3.2821440212898128, 3.280882090651499, 3.279600496523083, 3.2782992389045646, 3.276978317795944, 3.2756377331972213, 3.2742774851083967, 3.2728975735294696, 3.2714979984604406, 3.2700787599013093, 3.2686398578520754, 3.2671812923127397, 3.265703063283302, 3.264205170763762, 3.2626876147541193, 3.261150395254375, 3.259593512264528, 3.258016965784579, 3.256420755814528, 3.254804882354375, 3.2531693454041193, 3.2515141449637617, 3.2498392810333017, 3.2481447536127397, 3.2464305627020753, 3.244696708301309, 3.2429431904104407, 3.2411700090294695, 3.239377164158397, 3.2375646557972213, 3.2357324839459443, 3.2338806486045644, 3.232009149773083, 3.2301179874514987, 3.228207161639813, 3.2262766723380243, 3.2243265195461337, 3.2031743921344593, 3.163401393585653, 3.124439138552826, 3.086260548546649, 3.0488397097440023, 3.0121518110376417, 2.9761730859985227, 2.940880758465479, 2.9062529915004847, 2.872268839469106, 2.8389082030251704, 2.8061517867963506, 2.7739810595834817, 2.742378216901092, 2.7113261457000393, 2.6808083911253764, 2.6508091251737764, 2.6213131171250543, 2.592305705631744, 2.5637727723592483, 2.5357007170769905, 2.508076434108235, 2.480887290052883, 2.454121102703699, 2.4277661210820214, 2.4018110065242273, 2.376244814754997, 2.3510569788878115, 2.3262372932972326, 2.3017758983112246, 2.2776632656753004, 2.2538901847434554, 2.230447749353849, 2.2073273453499502, 2.1845206387103966, 2.1620195642532263, 2.1398163148822995, 2.1179033313457976, 2.0962732924785756, 2.0749191059018974, 2.053833899155748, 2.033011011240421, 2.0124439845455124, 1.9921265571457845, 1.9720526554445756, 1.9522163871466185, 1.9326120345431725, 1.9132340480933996, 1.8940770402868523, 1.8751357797728074, 1.856405185743006, 1.8378803225551408, 1.819556394585126, 1.8014287412968781, 1.7834928325189594, 1.7657442639180274, 1.748178752659591, 1.7307921332470892, 1.7135803535308078, 1.6965394708785912, 1.6796656485007584, 1.6629551519220194, 1.6464043455935822, 1.6300096896389915, 1.6137677367275822, 1.5976751290697442, 1.5817285955285034, 1.5659249488421927, 1.5502610829532633, 1.5347339704385354, 1.5193406600364183, 1.5040782742668615, 1.4889440071400009, 1.4739351219496744, 1.4590489491481513, 1.444282884298624, 1.4296343861021445, 1.4151009744958842, 1.4006802288197189, 1.3863697860482864, 1.3721673390858211, 1.3580706351211638, 1.34407747404049, 1.3301857068954155, 1.3163932344242224, 1.3026980056240836, 1.2890980163722368, 1.275591308094163, 1.2621759664769163, 1.2488501202258173, 1.2356119398628285, 1.2224596365649798, 1.2093914610413001, 1.1964057024467742, 1.1835006873319058, 1.1706747786265363]}],\n",
       "                        {\"template\": {\"data\": {\"bar\": [{\"error_x\": {\"color\": \"#2a3f5f\"}, \"error_y\": {\"color\": \"#2a3f5f\"}, \"marker\": {\"line\": {\"color\": \"#E5ECF6\", \"width\": 0.5}}, \"type\": \"bar\"}], \"barpolar\": [{\"marker\": {\"line\": {\"color\": \"#E5ECF6\", \"width\": 0.5}}, \"type\": \"barpolar\"}], \"carpet\": [{\"aaxis\": {\"endlinecolor\": \"#2a3f5f\", \"gridcolor\": \"white\", \"linecolor\": \"white\", \"minorgridcolor\": \"white\", \"startlinecolor\": \"#2a3f5f\"}, \"baxis\": {\"endlinecolor\": \"#2a3f5f\", \"gridcolor\": \"white\", \"linecolor\": \"white\", \"minorgridcolor\": \"white\", \"startlinecolor\": \"#2a3f5f\"}, \"type\": \"carpet\"}], \"choropleth\": [{\"colorbar\": {\"outlinewidth\": 0, \"ticks\": \"\"}, \"type\": \"choropleth\"}], \"contour\": [{\"colorbar\": {\"outlinewidth\": 0, \"ticks\": \"\"}, \"colorscale\": [[0.0, \"#0d0887\"], [0.1111111111111111, \"#46039f\"], [0.2222222222222222, \"#7201a8\"], [0.3333333333333333, \"#9c179e\"], [0.4444444444444444, \"#bd3786\"], [0.5555555555555556, \"#d8576b\"], [0.6666666666666666, \"#ed7953\"], [0.7777777777777778, \"#fb9f3a\"], [0.8888888888888888, \"#fdca26\"], [1.0, \"#f0f921\"]], \"type\": \"contour\"}], \"contourcarpet\": [{\"colorbar\": {\"outlinewidth\": 0, \"ticks\": \"\"}, \"type\": \"contourcarpet\"}], \"heatmap\": [{\"colorbar\": {\"outlinewidth\": 0, \"ticks\": \"\"}, \"colorscale\": [[0.0, \"#0d0887\"], [0.1111111111111111, \"#46039f\"], [0.2222222222222222, \"#7201a8\"], [0.3333333333333333, \"#9c179e\"], [0.4444444444444444, \"#bd3786\"], [0.5555555555555556, \"#d8576b\"], [0.6666666666666666, \"#ed7953\"], [0.7777777777777778, \"#fb9f3a\"], [0.8888888888888888, \"#fdca26\"], [1.0, \"#f0f921\"]], \"type\": \"heatmap\"}], \"heatmapgl\": [{\"colorbar\": {\"outlinewidth\": 0, \"ticks\": \"\"}, \"colorscale\": [[0.0, \"#0d0887\"], [0.1111111111111111, \"#46039f\"], [0.2222222222222222, \"#7201a8\"], [0.3333333333333333, \"#9c179e\"], [0.4444444444444444, \"#bd3786\"], [0.5555555555555556, \"#d8576b\"], [0.6666666666666666, \"#ed7953\"], [0.7777777777777778, \"#fb9f3a\"], [0.8888888888888888, \"#fdca26\"], [1.0, \"#f0f921\"]], \"type\": \"heatmapgl\"}], \"histogram\": [{\"marker\": {\"colorbar\": {\"outlinewidth\": 0, \"ticks\": \"\"}}, \"type\": \"histogram\"}], \"histogram2d\": [{\"colorbar\": {\"outlinewidth\": 0, \"ticks\": \"\"}, \"colorscale\": [[0.0, \"#0d0887\"], [0.1111111111111111, \"#46039f\"], [0.2222222222222222, \"#7201a8\"], [0.3333333333333333, \"#9c179e\"], [0.4444444444444444, \"#bd3786\"], [0.5555555555555556, \"#d8576b\"], [0.6666666666666666, \"#ed7953\"], [0.7777777777777778, \"#fb9f3a\"], [0.8888888888888888, \"#fdca26\"], [1.0, \"#f0f921\"]], \"type\": \"histogram2d\"}], \"histogram2dcontour\": [{\"colorbar\": {\"outlinewidth\": 0, \"ticks\": \"\"}, \"colorscale\": [[0.0, \"#0d0887\"], [0.1111111111111111, \"#46039f\"], [0.2222222222222222, \"#7201a8\"], [0.3333333333333333, \"#9c179e\"], [0.4444444444444444, \"#bd3786\"], [0.5555555555555556, \"#d8576b\"], [0.6666666666666666, \"#ed7953\"], [0.7777777777777778, \"#fb9f3a\"], [0.8888888888888888, \"#fdca26\"], [1.0, \"#f0f921\"]], \"type\": \"histogram2dcontour\"}], \"mesh3d\": [{\"colorbar\": {\"outlinewidth\": 0, \"ticks\": \"\"}, \"type\": \"mesh3d\"}], \"parcoords\": [{\"line\": {\"colorbar\": {\"outlinewidth\": 0, \"ticks\": \"\"}}, \"type\": \"parcoords\"}], \"scatter\": [{\"marker\": {\"colorbar\": {\"outlinewidth\": 0, \"ticks\": \"\"}}, \"type\": \"scatter\"}], \"scatter3d\": [{\"line\": {\"colorbar\": {\"outlinewidth\": 0, \"ticks\": \"\"}}, \"marker\": {\"colorbar\": {\"outlinewidth\": 0, \"ticks\": \"\"}}, \"type\": \"scatter3d\"}], \"scattercarpet\": [{\"marker\": {\"colorbar\": {\"outlinewidth\": 0, \"ticks\": \"\"}}, \"type\": \"scattercarpet\"}], \"scattergeo\": [{\"marker\": {\"colorbar\": {\"outlinewidth\": 0, \"ticks\": \"\"}}, \"type\": \"scattergeo\"}], \"scattergl\": [{\"marker\": {\"colorbar\": {\"outlinewidth\": 0, \"ticks\": \"\"}}, \"type\": \"scattergl\"}], \"scattermapbox\": [{\"marker\": {\"colorbar\": {\"outlinewidth\": 0, \"ticks\": \"\"}}, \"type\": \"scattermapbox\"}], \"scatterpolar\": [{\"marker\": {\"colorbar\": {\"outlinewidth\": 0, \"ticks\": \"\"}}, \"type\": \"scatterpolar\"}], \"scatterpolargl\": [{\"marker\": {\"colorbar\": {\"outlinewidth\": 0, \"ticks\": \"\"}}, \"type\": \"scatterpolargl\"}], \"scatterternary\": [{\"marker\": {\"colorbar\": {\"outlinewidth\": 0, \"ticks\": \"\"}}, \"type\": \"scatterternary\"}], \"surface\": [{\"colorbar\": {\"outlinewidth\": 0, \"ticks\": \"\"}, \"colorscale\": [[0.0, \"#0d0887\"], [0.1111111111111111, \"#46039f\"], [0.2222222222222222, \"#7201a8\"], [0.3333333333333333, \"#9c179e\"], [0.4444444444444444, \"#bd3786\"], [0.5555555555555556, \"#d8576b\"], [0.6666666666666666, \"#ed7953\"], [0.7777777777777778, \"#fb9f3a\"], [0.8888888888888888, \"#fdca26\"], [1.0, \"#f0f921\"]], \"type\": \"surface\"}], \"table\": [{\"cells\": {\"fill\": {\"color\": \"#EBF0F8\"}, \"line\": {\"color\": \"white\"}}, \"header\": {\"fill\": {\"color\": \"#C8D4E3\"}, \"line\": {\"color\": \"white\"}}, \"type\": \"table\"}]}, \"layout\": {\"annotationdefaults\": {\"arrowcolor\": \"#2a3f5f\", \"arrowhead\": 0, \"arrowwidth\": 1}, \"colorscale\": {\"diverging\": [[0, \"#8e0152\"], [0.1, \"#c51b7d\"], [0.2, \"#de77ae\"], [0.3, \"#f1b6da\"], [0.4, \"#fde0ef\"], [0.5, \"#f7f7f7\"], [0.6, \"#e6f5d0\"], [0.7, \"#b8e186\"], [0.8, \"#7fbc41\"], [0.9, \"#4d9221\"], [1, \"#276419\"]], \"sequential\": [[0.0, \"#0d0887\"], [0.1111111111111111, \"#46039f\"], [0.2222222222222222, \"#7201a8\"], [0.3333333333333333, \"#9c179e\"], [0.4444444444444444, \"#bd3786\"], [0.5555555555555556, \"#d8576b\"], [0.6666666666666666, \"#ed7953\"], [0.7777777777777778, \"#fb9f3a\"], [0.8888888888888888, \"#fdca26\"], [1.0, \"#f0f921\"]], \"sequentialminus\": [[0.0, \"#0d0887\"], [0.1111111111111111, \"#46039f\"], [0.2222222222222222, \"#7201a8\"], [0.3333333333333333, \"#9c179e\"], [0.4444444444444444, \"#bd3786\"], [0.5555555555555556, \"#d8576b\"], [0.6666666666666666, \"#ed7953\"], [0.7777777777777778, \"#fb9f3a\"], [0.8888888888888888, \"#fdca26\"], [1.0, \"#f0f921\"]]}, \"colorway\": [\"#636efa\", \"#EF553B\", \"#00cc96\", \"#ab63fa\", \"#FFA15A\", \"#19d3f3\", \"#FF6692\", \"#B6E880\", \"#FF97FF\", \"#FECB52\"], \"font\": {\"color\": \"#2a3f5f\"}, \"geo\": {\"bgcolor\": \"white\", \"lakecolor\": \"white\", \"landcolor\": \"#E5ECF6\", \"showlakes\": true, \"showland\": true, \"subunitcolor\": \"white\"}, \"hoverlabel\": {\"align\": \"left\"}, \"hovermode\": \"closest\", \"mapbox\": {\"style\": \"light\"}, \"paper_bgcolor\": \"white\", \"plot_bgcolor\": \"#E5ECF6\", \"polar\": {\"angularaxis\": {\"gridcolor\": \"white\", \"linecolor\": \"white\", \"ticks\": \"\"}, \"bgcolor\": \"#E5ECF6\", \"radialaxis\": {\"gridcolor\": \"white\", \"linecolor\": \"white\", \"ticks\": \"\"}}, \"scene\": {\"xaxis\": {\"backgroundcolor\": \"#E5ECF6\", \"gridcolor\": \"white\", \"gridwidth\": 2, \"linecolor\": \"white\", \"showbackground\": true, \"ticks\": \"\", \"zerolinecolor\": \"white\"}, \"yaxis\": {\"backgroundcolor\": \"#E5ECF6\", \"gridcolor\": \"white\", \"gridwidth\": 2, \"linecolor\": \"white\", \"showbackground\": true, \"ticks\": \"\", \"zerolinecolor\": \"white\"}, \"zaxis\": {\"backgroundcolor\": \"#E5ECF6\", \"gridcolor\": \"white\", \"gridwidth\": 2, \"linecolor\": \"white\", \"showbackground\": true, \"ticks\": \"\", \"zerolinecolor\": \"white\"}}, \"shapedefaults\": {\"line\": {\"color\": \"#2a3f5f\"}}, \"ternary\": {\"aaxis\": {\"gridcolor\": \"white\", \"linecolor\": \"white\", \"ticks\": \"\"}, \"baxis\": {\"gridcolor\": \"white\", \"linecolor\": \"white\", \"ticks\": \"\"}, \"bgcolor\": \"#E5ECF6\", \"caxis\": {\"gridcolor\": \"white\", \"linecolor\": \"white\", \"ticks\": \"\"}}, \"title\": {\"x\": 0.05}, \"xaxis\": {\"automargin\": true, \"gridcolor\": \"white\", \"linecolor\": \"white\", \"ticks\": \"\", \"zerolinecolor\": \"white\", \"zerolinewidth\": 2}, \"yaxis\": {\"automargin\": true, \"gridcolor\": \"white\", \"linecolor\": \"white\", \"ticks\": \"\", \"zerolinecolor\": \"white\", \"zerolinewidth\": 2}}}, \"title\": {\"text\": \"Acceleration_Velocity_for_vehicle_id_47844\"}, \"xaxis\": {\"title\": {\"text\": \"velocity (in m/s)\"}}, \"yaxis\": {\"title\": {\"text\": \"Acceleration (in m/s2\"}}},\n",
       "                        {\"responsive\": true}\n",
       "                    ).then(function(){\n",
       "                            \n",
       "var gd = document.getElementById('28bc6935-7eb0-49b9-8beb-c92ee1c0a1ed');\n",
       "var x = new MutationObserver(function (mutations, observer) {{\n",
       "        var display = window.getComputedStyle(gd).display;\n",
       "        if (!display || display === 'none') {{\n",
       "            console.log([gd, 'removed!']);\n",
       "            Plotly.purge(gd);\n",
       "            observer.disconnect();\n",
       "        }}\n",
       "}});\n",
       "\n",
       "// Listen for the removal of the full notebook cells\n",
       "var notebookContainer = gd.closest('#notebook-container');\n",
       "if (notebookContainer) {{\n",
       "    x.observe(notebookContainer, {childList: true});\n",
       "}}\n",
       "\n",
       "// Listen for the clearing of the current output cell\n",
       "var outputEl = gd.closest('.output');\n",
       "if (outputEl) {{\n",
       "    x.observe(outputEl, {childList: true});\n",
       "}}\n",
       "\n",
       "                        })\n",
       "                };\n",
       "                });\n",
       "            </script>\n",
       "        </div>"
      ]
     },
     "metadata": {},
     "output_type": "display_data"
    }
   ],
   "source": [
    "layout = go.Layout(title=f\"Acceleration_Velocity_for_vehicle_id_{vehicle_id}\",\n",
    "                xaxis=dict(title='velocity (in m/s)'),\n",
    "                yaxis=dict(title='Acceleration (in m/s2'))\n",
    "data = sol['outputs']['discrete_acceleration_curves']\n",
    "fig = go.Figure(data=data, layout=layout)\n",
    "iplot(fig)"
   ]
  },
  {
   "cell_type": "markdown",
   "metadata": {},
   "source": [
    "# Compute and plot deceleration curves graph"
   ]
  },
  {
   "cell_type": "code",
   "execution_count": 7,
   "metadata": {},
   "outputs": [
    {
     "data": {
      "application/vnd.plotly.v1+json": {
       "config": {
        "linkText": "Export to plot.ly",
        "plotlyServerURL": "https://plot.ly",
        "showLink": false
       },
       "data": [
        {
         "type": "scatter",
         "x": [
          0,
          0.2,
          0.4,
          0.6000000000000001,
          0.8,
          1,
          1.2000000000000002,
          1.4000000000000001,
          1.6,
          1.8,
          2,
          2.2,
          2.4000000000000004,
          2.6,
          2.8000000000000003,
          3,
          3.2,
          3.4000000000000004,
          3.6,
          3.8000000000000003,
          4,
          4.2,
          4.4,
          4.6000000000000005,
          4.800000000000001,
          5,
          5.2,
          5.4,
          5.6000000000000005,
          5.800000000000001,
          6,
          6.2,
          6.4,
          6.6000000000000005,
          6.800000000000001,
          7,
          7.2,
          7.4,
          7.6000000000000005,
          7.800000000000001,
          8,
          8.200000000000001,
          8.4,
          8.6,
          8.8,
          9,
          9.200000000000001,
          9.4,
          9.600000000000001,
          9.8,
          10,
          10.200000000000001,
          10.4,
          10.600000000000001,
          10.8,
          11,
          11.200000000000001,
          11.4,
          11.600000000000001,
          11.8,
          12,
          12.200000000000001,
          12.4,
          12.600000000000001,
          12.8,
          13,
          13.200000000000001,
          13.4,
          13.600000000000001,
          13.8,
          14,
          14.200000000000001,
          14.4,
          14.600000000000001,
          14.8,
          15,
          15.200000000000001,
          15.4,
          15.600000000000001,
          15.8,
          16,
          16.2,
          16.400000000000002,
          16.6,
          16.8,
          17,
          17.2,
          17.400000000000002,
          17.6,
          17.8,
          18,
          18.2,
          18.400000000000002,
          18.6,
          18.8,
          19,
          19.200000000000003,
          19.400000000000002,
          19.6,
          19.8,
          20,
          20.200000000000003,
          20.400000000000002,
          20.6,
          20.8,
          21,
          21.200000000000003,
          21.400000000000002,
          21.6,
          21.8,
          22,
          22.200000000000003,
          22.400000000000002,
          22.6,
          22.8,
          23,
          23.200000000000003,
          23.400000000000002,
          23.6,
          23.8,
          24,
          24.200000000000003,
          24.400000000000002,
          24.6,
          24.8,
          25,
          25.200000000000003,
          25.400000000000002,
          25.6,
          25.8,
          26,
          26.200000000000003,
          26.400000000000002,
          26.6,
          26.8,
          27,
          27.200000000000003,
          27.400000000000002,
          27.6,
          27.8,
          28,
          28.200000000000003,
          28.400000000000002,
          28.6,
          28.8,
          29,
          29.200000000000003,
          29.400000000000002,
          29.6,
          29.8,
          30,
          30.200000000000003,
          30.400000000000002,
          30.6,
          30.8,
          31,
          31.200000000000003,
          31.400000000000002,
          31.6,
          31.8,
          32,
          32.2,
          32.4,
          32.6,
          32.800000000000004,
          33,
          33.2,
          33.4,
          33.6,
          33.800000000000004,
          34,
          34.2,
          34.4,
          34.6,
          34.800000000000004,
          35,
          35.2,
          35.4,
          35.6,
          35.800000000000004,
          36,
          36.2,
          36.4,
          36.6,
          36.800000000000004
         ],
         "y": [
          -1.8835,
          -1.91752,
          -1.95118,
          -1.98448,
          -2.01742,
          -2.05,
          -2.08222,
          -2.11408,
          -2.14558,
          -2.17672,
          -2.2075,
          -2.23792,
          -2.26798,
          -2.29768,
          -2.32702,
          -2.356,
          -2.38462,
          -2.41288,
          -2.44078,
          -2.4683200000000003,
          -2.4955,
          -2.52232,
          -2.54878,
          -2.5748800000000003,
          -2.60062,
          -2.6260000000000003,
          -2.65102,
          -2.6756800000000003,
          -2.69998,
          -2.72392,
          -2.7475,
          -2.77072,
          -2.7935800000000004,
          -2.8160800000000004,
          -2.83822,
          -2.8600000000000003,
          -2.88142,
          -2.90248,
          -2.9231800000000003,
          -2.9435200000000004,
          -2.9635,
          -2.98312,
          -3.00238,
          -3.02128,
          -3.03982,
          -3.058,
          -3.07582,
          -3.09328,
          -3.11038,
          -3.12712,
          -3.1435,
          -3.1595200000000006,
          -3.17518,
          -3.1904800000000004,
          -3.20542,
          -3.22,
          -3.2342200000000005,
          -3.24808,
          -3.2615800000000004,
          -3.2747200000000003,
          -3.2875000000000005,
          -3.29992,
          -3.31198,
          -3.3236800000000004,
          -3.33502,
          -3.346,
          -3.3566200000000004,
          -3.36688,
          -3.37678,
          -3.3863200000000004,
          -3.3955,
          -3.4043200000000002,
          -3.41278,
          -3.4208800000000004,
          -3.4286200000000004,
          -3.4360000000000004,
          -3.44302,
          -3.44968,
          -3.4559800000000003,
          -3.46192,
          -3.4675000000000002,
          -3.4727200000000003,
          -3.4775800000000006,
          -3.4820800000000003,
          -3.4862200000000003,
          -3.49,
          -3.4934200000000004,
          -3.49648,
          -3.49918,
          -3.50152,
          -3.5035000000000007,
          -3.5051200000000007,
          -3.5063800000000005,
          -3.5072800000000006,
          -3.5078200000000006,
          -3.508,
          -3.5078200000000006,
          -3.5072800000000006,
          -3.50638,
          -3.5051200000000002,
          -3.5035000000000003,
          -3.50152,
          -3.49918,
          -3.49648,
          -3.4934200000000004,
          -3.49,
          -3.4862200000000003,
          -3.4820800000000007,
          -3.4775800000000006,
          -3.4727200000000007,
          -3.4675000000000002,
          -3.46192,
          -3.4559800000000003,
          -3.4496800000000003,
          -3.4430200000000006,
          -3.4360000000000004,
          -3.4286200000000004,
          -3.4208800000000004,
          -3.4127800000000006,
          -3.4043200000000002,
          -3.3955000000000006,
          -3.3863200000000004,
          -3.3767800000000006,
          -3.3668800000000005,
          -3.3566200000000004,
          -3.3460000000000005,
          -3.33502,
          -3.3236800000000004,
          -3.31198,
          -3.29992,
          -3.2875000000000005,
          -3.2747200000000003,
          -3.2615800000000004,
          -3.2480800000000003,
          -3.2342200000000005,
          -3.2200000000000006,
          -3.20542,
          -3.19048,
          -3.1751800000000006,
          -3.1595200000000006,
          -3.1435000000000004,
          -3.12712,
          -3.1103800000000006,
          -3.09328,
          -3.0758200000000007,
          -3.0580000000000007,
          -3.0398200000000006,
          -3.0212800000000004,
          -3.002380000000001,
          -2.9831200000000004,
          -2.9635000000000007,
          -2.9435200000000004,
          -2.9231800000000003,
          -2.9024800000000006,
          -2.8814200000000003,
          -2.8600000000000008,
          -2.8382200000000006,
          -2.8160800000000004,
          -2.7935800000000004,
          -2.7707200000000003,
          -2.7475000000000005,
          -2.7239200000000006,
          -2.699980000000001,
          -2.6756800000000007,
          -2.65102,
          -2.6260000000000003,
          -2.60062,
          -2.5748800000000007,
          -2.5487800000000003,
          -2.52232,
          -2.4955000000000007,
          -2.4683200000000003,
          -2.4407800000000006,
          -2.4128800000000004,
          -2.38462,
          -2.3560000000000003,
          -2.32702,
          -2.2976800000000015,
          -2.267980000000001,
          -2.237920000000001,
          -2.2075000000000014,
          -2.176720000000001,
          -2.1455800000000016,
          -2.114080000000001,
          -2.0822200000000004
         ]
        }
       ],
       "layout": {
        "template": {
         "data": {
          "bar": [
           {
            "error_x": {
             "color": "#2a3f5f"
            },
            "error_y": {
             "color": "#2a3f5f"
            },
            "marker": {
             "line": {
              "color": "#E5ECF6",
              "width": 0.5
             }
            },
            "type": "bar"
           }
          ],
          "barpolar": [
           {
            "marker": {
             "line": {
              "color": "#E5ECF6",
              "width": 0.5
             }
            },
            "type": "barpolar"
           }
          ],
          "carpet": [
           {
            "aaxis": {
             "endlinecolor": "#2a3f5f",
             "gridcolor": "white",
             "linecolor": "white",
             "minorgridcolor": "white",
             "startlinecolor": "#2a3f5f"
            },
            "baxis": {
             "endlinecolor": "#2a3f5f",
             "gridcolor": "white",
             "linecolor": "white",
             "minorgridcolor": "white",
             "startlinecolor": "#2a3f5f"
            },
            "type": "carpet"
           }
          ],
          "choropleth": [
           {
            "colorbar": {
             "outlinewidth": 0,
             "ticks": ""
            },
            "type": "choropleth"
           }
          ],
          "contour": [
           {
            "colorbar": {
             "outlinewidth": 0,
             "ticks": ""
            },
            "colorscale": [
             [
              0,
              "#0d0887"
             ],
             [
              0.1111111111111111,
              "#46039f"
             ],
             [
              0.2222222222222222,
              "#7201a8"
             ],
             [
              0.3333333333333333,
              "#9c179e"
             ],
             [
              0.4444444444444444,
              "#bd3786"
             ],
             [
              0.5555555555555556,
              "#d8576b"
             ],
             [
              0.6666666666666666,
              "#ed7953"
             ],
             [
              0.7777777777777778,
              "#fb9f3a"
             ],
             [
              0.8888888888888888,
              "#fdca26"
             ],
             [
              1,
              "#f0f921"
             ]
            ],
            "type": "contour"
           }
          ],
          "contourcarpet": [
           {
            "colorbar": {
             "outlinewidth": 0,
             "ticks": ""
            },
            "type": "contourcarpet"
           }
          ],
          "heatmap": [
           {
            "colorbar": {
             "outlinewidth": 0,
             "ticks": ""
            },
            "colorscale": [
             [
              0,
              "#0d0887"
             ],
             [
              0.1111111111111111,
              "#46039f"
             ],
             [
              0.2222222222222222,
              "#7201a8"
             ],
             [
              0.3333333333333333,
              "#9c179e"
             ],
             [
              0.4444444444444444,
              "#bd3786"
             ],
             [
              0.5555555555555556,
              "#d8576b"
             ],
             [
              0.6666666666666666,
              "#ed7953"
             ],
             [
              0.7777777777777778,
              "#fb9f3a"
             ],
             [
              0.8888888888888888,
              "#fdca26"
             ],
             [
              1,
              "#f0f921"
             ]
            ],
            "type": "heatmap"
           }
          ],
          "heatmapgl": [
           {
            "colorbar": {
             "outlinewidth": 0,
             "ticks": ""
            },
            "colorscale": [
             [
              0,
              "#0d0887"
             ],
             [
              0.1111111111111111,
              "#46039f"
             ],
             [
              0.2222222222222222,
              "#7201a8"
             ],
             [
              0.3333333333333333,
              "#9c179e"
             ],
             [
              0.4444444444444444,
              "#bd3786"
             ],
             [
              0.5555555555555556,
              "#d8576b"
             ],
             [
              0.6666666666666666,
              "#ed7953"
             ],
             [
              0.7777777777777778,
              "#fb9f3a"
             ],
             [
              0.8888888888888888,
              "#fdca26"
             ],
             [
              1,
              "#f0f921"
             ]
            ],
            "type": "heatmapgl"
           }
          ],
          "histogram": [
           {
            "marker": {
             "colorbar": {
              "outlinewidth": 0,
              "ticks": ""
             }
            },
            "type": "histogram"
           }
          ],
          "histogram2d": [
           {
            "colorbar": {
             "outlinewidth": 0,
             "ticks": ""
            },
            "colorscale": [
             [
              0,
              "#0d0887"
             ],
             [
              0.1111111111111111,
              "#46039f"
             ],
             [
              0.2222222222222222,
              "#7201a8"
             ],
             [
              0.3333333333333333,
              "#9c179e"
             ],
             [
              0.4444444444444444,
              "#bd3786"
             ],
             [
              0.5555555555555556,
              "#d8576b"
             ],
             [
              0.6666666666666666,
              "#ed7953"
             ],
             [
              0.7777777777777778,
              "#fb9f3a"
             ],
             [
              0.8888888888888888,
              "#fdca26"
             ],
             [
              1,
              "#f0f921"
             ]
            ],
            "type": "histogram2d"
           }
          ],
          "histogram2dcontour": [
           {
            "colorbar": {
             "outlinewidth": 0,
             "ticks": ""
            },
            "colorscale": [
             [
              0,
              "#0d0887"
             ],
             [
              0.1111111111111111,
              "#46039f"
             ],
             [
              0.2222222222222222,
              "#7201a8"
             ],
             [
              0.3333333333333333,
              "#9c179e"
             ],
             [
              0.4444444444444444,
              "#bd3786"
             ],
             [
              0.5555555555555556,
              "#d8576b"
             ],
             [
              0.6666666666666666,
              "#ed7953"
             ],
             [
              0.7777777777777778,
              "#fb9f3a"
             ],
             [
              0.8888888888888888,
              "#fdca26"
             ],
             [
              1,
              "#f0f921"
             ]
            ],
            "type": "histogram2dcontour"
           }
          ],
          "mesh3d": [
           {
            "colorbar": {
             "outlinewidth": 0,
             "ticks": ""
            },
            "type": "mesh3d"
           }
          ],
          "parcoords": [
           {
            "line": {
             "colorbar": {
              "outlinewidth": 0,
              "ticks": ""
             }
            },
            "type": "parcoords"
           }
          ],
          "scatter": [
           {
            "marker": {
             "colorbar": {
              "outlinewidth": 0,
              "ticks": ""
             }
            },
            "type": "scatter"
           }
          ],
          "scatter3d": [
           {
            "line": {
             "colorbar": {
              "outlinewidth": 0,
              "ticks": ""
             }
            },
            "marker": {
             "colorbar": {
              "outlinewidth": 0,
              "ticks": ""
             }
            },
            "type": "scatter3d"
           }
          ],
          "scattercarpet": [
           {
            "marker": {
             "colorbar": {
              "outlinewidth": 0,
              "ticks": ""
             }
            },
            "type": "scattercarpet"
           }
          ],
          "scattergeo": [
           {
            "marker": {
             "colorbar": {
              "outlinewidth": 0,
              "ticks": ""
             }
            },
            "type": "scattergeo"
           }
          ],
          "scattergl": [
           {
            "marker": {
             "colorbar": {
              "outlinewidth": 0,
              "ticks": ""
             }
            },
            "type": "scattergl"
           }
          ],
          "scattermapbox": [
           {
            "marker": {
             "colorbar": {
              "outlinewidth": 0,
              "ticks": ""
             }
            },
            "type": "scattermapbox"
           }
          ],
          "scatterpolar": [
           {
            "marker": {
             "colorbar": {
              "outlinewidth": 0,
              "ticks": ""
             }
            },
            "type": "scatterpolar"
           }
          ],
          "scatterpolargl": [
           {
            "marker": {
             "colorbar": {
              "outlinewidth": 0,
              "ticks": ""
             }
            },
            "type": "scatterpolargl"
           }
          ],
          "scatterternary": [
           {
            "marker": {
             "colorbar": {
              "outlinewidth": 0,
              "ticks": ""
             }
            },
            "type": "scatterternary"
           }
          ],
          "surface": [
           {
            "colorbar": {
             "outlinewidth": 0,
             "ticks": ""
            },
            "colorscale": [
             [
              0,
              "#0d0887"
             ],
             [
              0.1111111111111111,
              "#46039f"
             ],
             [
              0.2222222222222222,
              "#7201a8"
             ],
             [
              0.3333333333333333,
              "#9c179e"
             ],
             [
              0.4444444444444444,
              "#bd3786"
             ],
             [
              0.5555555555555556,
              "#d8576b"
             ],
             [
              0.6666666666666666,
              "#ed7953"
             ],
             [
              0.7777777777777778,
              "#fb9f3a"
             ],
             [
              0.8888888888888888,
              "#fdca26"
             ],
             [
              1,
              "#f0f921"
             ]
            ],
            "type": "surface"
           }
          ],
          "table": [
           {
            "cells": {
             "fill": {
              "color": "#EBF0F8"
             },
             "line": {
              "color": "white"
             }
            },
            "header": {
             "fill": {
              "color": "#C8D4E3"
             },
             "line": {
              "color": "white"
             }
            },
            "type": "table"
           }
          ]
         },
         "layout": {
          "annotationdefaults": {
           "arrowcolor": "#2a3f5f",
           "arrowhead": 0,
           "arrowwidth": 1
          },
          "colorscale": {
           "diverging": [
            [
             0,
             "#8e0152"
            ],
            [
             0.1,
             "#c51b7d"
            ],
            [
             0.2,
             "#de77ae"
            ],
            [
             0.3,
             "#f1b6da"
            ],
            [
             0.4,
             "#fde0ef"
            ],
            [
             0.5,
             "#f7f7f7"
            ],
            [
             0.6,
             "#e6f5d0"
            ],
            [
             0.7,
             "#b8e186"
            ],
            [
             0.8,
             "#7fbc41"
            ],
            [
             0.9,
             "#4d9221"
            ],
            [
             1,
             "#276419"
            ]
           ],
           "sequential": [
            [
             0,
             "#0d0887"
            ],
            [
             0.1111111111111111,
             "#46039f"
            ],
            [
             0.2222222222222222,
             "#7201a8"
            ],
            [
             0.3333333333333333,
             "#9c179e"
            ],
            [
             0.4444444444444444,
             "#bd3786"
            ],
            [
             0.5555555555555556,
             "#d8576b"
            ],
            [
             0.6666666666666666,
             "#ed7953"
            ],
            [
             0.7777777777777778,
             "#fb9f3a"
            ],
            [
             0.8888888888888888,
             "#fdca26"
            ],
            [
             1,
             "#f0f921"
            ]
           ],
           "sequentialminus": [
            [
             0,
             "#0d0887"
            ],
            [
             0.1111111111111111,
             "#46039f"
            ],
            [
             0.2222222222222222,
             "#7201a8"
            ],
            [
             0.3333333333333333,
             "#9c179e"
            ],
            [
             0.4444444444444444,
             "#bd3786"
            ],
            [
             0.5555555555555556,
             "#d8576b"
            ],
            [
             0.6666666666666666,
             "#ed7953"
            ],
            [
             0.7777777777777778,
             "#fb9f3a"
            ],
            [
             0.8888888888888888,
             "#fdca26"
            ],
            [
             1,
             "#f0f921"
            ]
           ]
          },
          "colorway": [
           "#636efa",
           "#EF553B",
           "#00cc96",
           "#ab63fa",
           "#FFA15A",
           "#19d3f3",
           "#FF6692",
           "#B6E880",
           "#FF97FF",
           "#FECB52"
          ],
          "font": {
           "color": "#2a3f5f"
          },
          "geo": {
           "bgcolor": "white",
           "lakecolor": "white",
           "landcolor": "#E5ECF6",
           "showlakes": true,
           "showland": true,
           "subunitcolor": "white"
          },
          "hoverlabel": {
           "align": "left"
          },
          "hovermode": "closest",
          "mapbox": {
           "style": "light"
          },
          "paper_bgcolor": "white",
          "plot_bgcolor": "#E5ECF6",
          "polar": {
           "angularaxis": {
            "gridcolor": "white",
            "linecolor": "white",
            "ticks": ""
           },
           "bgcolor": "#E5ECF6",
           "radialaxis": {
            "gridcolor": "white",
            "linecolor": "white",
            "ticks": ""
           }
          },
          "scene": {
           "xaxis": {
            "backgroundcolor": "#E5ECF6",
            "gridcolor": "white",
            "gridwidth": 2,
            "linecolor": "white",
            "showbackground": true,
            "ticks": "",
            "zerolinecolor": "white"
           },
           "yaxis": {
            "backgroundcolor": "#E5ECF6",
            "gridcolor": "white",
            "gridwidth": 2,
            "linecolor": "white",
            "showbackground": true,
            "ticks": "",
            "zerolinecolor": "white"
           },
           "zaxis": {
            "backgroundcolor": "#E5ECF6",
            "gridcolor": "white",
            "gridwidth": 2,
            "linecolor": "white",
            "showbackground": true,
            "ticks": "",
            "zerolinecolor": "white"
           }
          },
          "shapedefaults": {
           "line": {
            "color": "#2a3f5f"
           }
          },
          "ternary": {
           "aaxis": {
            "gridcolor": "white",
            "linecolor": "white",
            "ticks": ""
           },
           "baxis": {
            "gridcolor": "white",
            "linecolor": "white",
            "ticks": ""
           },
           "bgcolor": "#E5ECF6",
           "caxis": {
            "gridcolor": "white",
            "linecolor": "white",
            "ticks": ""
           }
          },
          "title": {
           "x": 0.05
          },
          "xaxis": {
           "automargin": true,
           "gridcolor": "white",
           "linecolor": "white",
           "ticks": "",
           "zerolinecolor": "white",
           "zerolinewidth": 2
          },
          "yaxis": {
           "automargin": true,
           "gridcolor": "white",
           "linecolor": "white",
           "ticks": "",
           "zerolinecolor": "white",
           "zerolinewidth": 2
          }
         }
        },
        "title": {
         "text": "Deceleration_Velocity_for_vehicle_id_47844"
        },
        "xaxis": {
         "title": {
          "text": "velocity (in m/s)"
         }
        },
        "yaxis": {
         "title": {
          "text": "Acceleration (in m/s2"
         }
        }
       }
      },
      "text/html": [
       "<div>\n",
       "        \n",
       "        \n",
       "            <div id=\"f34cd23d-56ee-4b8b-8bd9-26115a24b931\" class=\"plotly-graph-div\" style=\"height:525px; width:100%;\"></div>\n",
       "            <script type=\"text/javascript\">\n",
       "                require([\"plotly\"], function(Plotly) {\n",
       "                    window.PLOTLYENV=window.PLOTLYENV || {};\n",
       "                    \n",
       "                if (document.getElementById(\"f34cd23d-56ee-4b8b-8bd9-26115a24b931\")) {\n",
       "                    Plotly.newPlot(\n",
       "                        'f34cd23d-56ee-4b8b-8bd9-26115a24b931',\n",
       "                        [{\"type\": \"scatter\", \"x\": [0.0, 0.2, 0.4, 0.6000000000000001, 0.8, 1.0, 1.2000000000000002, 1.4000000000000001, 1.6, 1.8, 2.0, 2.2, 2.4000000000000004, 2.6, 2.8000000000000003, 3.0, 3.2, 3.4000000000000004, 3.6, 3.8000000000000003, 4.0, 4.2, 4.4, 4.6000000000000005, 4.800000000000001, 5.0, 5.2, 5.4, 5.6000000000000005, 5.800000000000001, 6.0, 6.2, 6.4, 6.6000000000000005, 6.800000000000001, 7.0, 7.2, 7.4, 7.6000000000000005, 7.800000000000001, 8.0, 8.200000000000001, 8.4, 8.6, 8.8, 9.0, 9.200000000000001, 9.4, 9.600000000000001, 9.8, 10.0, 10.200000000000001, 10.4, 10.600000000000001, 10.8, 11.0, 11.200000000000001, 11.4, 11.600000000000001, 11.8, 12.0, 12.200000000000001, 12.4, 12.600000000000001, 12.8, 13.0, 13.200000000000001, 13.4, 13.600000000000001, 13.8, 14.0, 14.200000000000001, 14.4, 14.600000000000001, 14.8, 15.0, 15.200000000000001, 15.4, 15.600000000000001, 15.8, 16.0, 16.2, 16.400000000000002, 16.6, 16.8, 17.0, 17.2, 17.400000000000002, 17.6, 17.8, 18.0, 18.2, 18.400000000000002, 18.6, 18.8, 19.0, 19.200000000000003, 19.400000000000002, 19.6, 19.8, 20.0, 20.200000000000003, 20.400000000000002, 20.6, 20.8, 21.0, 21.200000000000003, 21.400000000000002, 21.6, 21.8, 22.0, 22.200000000000003, 22.400000000000002, 22.6, 22.8, 23.0, 23.200000000000003, 23.400000000000002, 23.6, 23.8, 24.0, 24.200000000000003, 24.400000000000002, 24.6, 24.8, 25.0, 25.200000000000003, 25.400000000000002, 25.6, 25.8, 26.0, 26.200000000000003, 26.400000000000002, 26.6, 26.8, 27.0, 27.200000000000003, 27.400000000000002, 27.6, 27.8, 28.0, 28.200000000000003, 28.400000000000002, 28.6, 28.8, 29.0, 29.200000000000003, 29.400000000000002, 29.6, 29.8, 30.0, 30.200000000000003, 30.400000000000002, 30.6, 30.8, 31.0, 31.200000000000003, 31.400000000000002, 31.6, 31.8, 32.0, 32.2, 32.4, 32.6, 32.800000000000004, 33.0, 33.2, 33.4, 33.6, 33.800000000000004, 34.0, 34.2, 34.4, 34.6, 34.800000000000004, 35.0, 35.2, 35.4, 35.6, 35.800000000000004, 36.0, 36.2, 36.4, 36.6, 36.800000000000004], \"y\": [-1.8835, -1.91752, -1.95118, -1.98448, -2.01742, -2.05, -2.08222, -2.11408, -2.14558, -2.17672, -2.2075, -2.23792, -2.26798, -2.29768, -2.32702, -2.356, -2.38462, -2.41288, -2.44078, -2.4683200000000003, -2.4955, -2.52232, -2.54878, -2.5748800000000003, -2.60062, -2.6260000000000003, -2.65102, -2.6756800000000003, -2.69998, -2.72392, -2.7475, -2.77072, -2.7935800000000004, -2.8160800000000004, -2.83822, -2.8600000000000003, -2.88142, -2.90248, -2.9231800000000003, -2.9435200000000004, -2.9635, -2.98312, -3.00238, -3.02128, -3.03982, -3.058, -3.07582, -3.09328, -3.11038, -3.12712, -3.1435, -3.1595200000000006, -3.17518, -3.1904800000000004, -3.20542, -3.22, -3.2342200000000005, -3.24808, -3.2615800000000004, -3.2747200000000003, -3.2875000000000005, -3.29992, -3.31198, -3.3236800000000004, -3.33502, -3.346, -3.3566200000000004, -3.36688, -3.37678, -3.3863200000000004, -3.3955, -3.4043200000000002, -3.41278, -3.4208800000000004, -3.4286200000000004, -3.4360000000000004, -3.44302, -3.44968, -3.4559800000000003, -3.46192, -3.4675000000000002, -3.4727200000000003, -3.4775800000000006, -3.4820800000000003, -3.4862200000000003, -3.49, -3.4934200000000004, -3.49648, -3.49918, -3.50152, -3.5035000000000007, -3.5051200000000007, -3.5063800000000005, -3.5072800000000006, -3.5078200000000006, -3.508, -3.5078200000000006, -3.5072800000000006, -3.50638, -3.5051200000000002, -3.5035000000000003, -3.50152, -3.49918, -3.49648, -3.4934200000000004, -3.49, -3.4862200000000003, -3.4820800000000007, -3.4775800000000006, -3.4727200000000007, -3.4675000000000002, -3.46192, -3.4559800000000003, -3.4496800000000003, -3.4430200000000006, -3.4360000000000004, -3.4286200000000004, -3.4208800000000004, -3.4127800000000006, -3.4043200000000002, -3.3955000000000006, -3.3863200000000004, -3.3767800000000006, -3.3668800000000005, -3.3566200000000004, -3.3460000000000005, -3.33502, -3.3236800000000004, -3.31198, -3.29992, -3.2875000000000005, -3.2747200000000003, -3.2615800000000004, -3.2480800000000003, -3.2342200000000005, -3.2200000000000006, -3.20542, -3.19048, -3.1751800000000006, -3.1595200000000006, -3.1435000000000004, -3.12712, -3.1103800000000006, -3.09328, -3.0758200000000007, -3.0580000000000007, -3.0398200000000006, -3.0212800000000004, -3.002380000000001, -2.9831200000000004, -2.9635000000000007, -2.9435200000000004, -2.9231800000000003, -2.9024800000000006, -2.8814200000000003, -2.8600000000000008, -2.8382200000000006, -2.8160800000000004, -2.7935800000000004, -2.7707200000000003, -2.7475000000000005, -2.7239200000000006, -2.699980000000001, -2.6756800000000007, -2.65102, -2.6260000000000003, -2.60062, -2.5748800000000007, -2.5487800000000003, -2.52232, -2.4955000000000007, -2.4683200000000003, -2.4407800000000006, -2.4128800000000004, -2.38462, -2.3560000000000003, -2.32702, -2.2976800000000015, -2.267980000000001, -2.237920000000001, -2.2075000000000014, -2.176720000000001, -2.1455800000000016, -2.114080000000001, -2.0822200000000004]}],\n",
       "                        {\"template\": {\"data\": {\"bar\": [{\"error_x\": {\"color\": \"#2a3f5f\"}, \"error_y\": {\"color\": \"#2a3f5f\"}, \"marker\": {\"line\": {\"color\": \"#E5ECF6\", \"width\": 0.5}}, \"type\": \"bar\"}], \"barpolar\": [{\"marker\": {\"line\": {\"color\": \"#E5ECF6\", \"width\": 0.5}}, \"type\": \"barpolar\"}], \"carpet\": [{\"aaxis\": {\"endlinecolor\": \"#2a3f5f\", \"gridcolor\": \"white\", \"linecolor\": \"white\", \"minorgridcolor\": \"white\", \"startlinecolor\": \"#2a3f5f\"}, \"baxis\": {\"endlinecolor\": \"#2a3f5f\", \"gridcolor\": \"white\", \"linecolor\": \"white\", \"minorgridcolor\": \"white\", \"startlinecolor\": \"#2a3f5f\"}, \"type\": \"carpet\"}], \"choropleth\": [{\"colorbar\": {\"outlinewidth\": 0, \"ticks\": \"\"}, \"type\": \"choropleth\"}], \"contour\": [{\"colorbar\": {\"outlinewidth\": 0, \"ticks\": \"\"}, \"colorscale\": [[0.0, \"#0d0887\"], [0.1111111111111111, \"#46039f\"], [0.2222222222222222, \"#7201a8\"], [0.3333333333333333, \"#9c179e\"], [0.4444444444444444, \"#bd3786\"], [0.5555555555555556, \"#d8576b\"], [0.6666666666666666, \"#ed7953\"], [0.7777777777777778, \"#fb9f3a\"], [0.8888888888888888, \"#fdca26\"], [1.0, \"#f0f921\"]], \"type\": \"contour\"}], \"contourcarpet\": [{\"colorbar\": {\"outlinewidth\": 0, \"ticks\": \"\"}, \"type\": \"contourcarpet\"}], \"heatmap\": [{\"colorbar\": {\"outlinewidth\": 0, \"ticks\": \"\"}, \"colorscale\": [[0.0, \"#0d0887\"], [0.1111111111111111, \"#46039f\"], [0.2222222222222222, \"#7201a8\"], [0.3333333333333333, \"#9c179e\"], [0.4444444444444444, \"#bd3786\"], [0.5555555555555556, \"#d8576b\"], [0.6666666666666666, \"#ed7953\"], [0.7777777777777778, \"#fb9f3a\"], [0.8888888888888888, \"#fdca26\"], [1.0, \"#f0f921\"]], \"type\": \"heatmap\"}], \"heatmapgl\": [{\"colorbar\": {\"outlinewidth\": 0, \"ticks\": \"\"}, \"colorscale\": [[0.0, \"#0d0887\"], [0.1111111111111111, \"#46039f\"], [0.2222222222222222, \"#7201a8\"], [0.3333333333333333, \"#9c179e\"], [0.4444444444444444, \"#bd3786\"], [0.5555555555555556, \"#d8576b\"], [0.6666666666666666, \"#ed7953\"], [0.7777777777777778, \"#fb9f3a\"], [0.8888888888888888, \"#fdca26\"], [1.0, \"#f0f921\"]], \"type\": \"heatmapgl\"}], \"histogram\": [{\"marker\": {\"colorbar\": {\"outlinewidth\": 0, \"ticks\": \"\"}}, \"type\": \"histogram\"}], \"histogram2d\": [{\"colorbar\": {\"outlinewidth\": 0, \"ticks\": \"\"}, \"colorscale\": [[0.0, \"#0d0887\"], [0.1111111111111111, \"#46039f\"], [0.2222222222222222, \"#7201a8\"], [0.3333333333333333, \"#9c179e\"], [0.4444444444444444, \"#bd3786\"], [0.5555555555555556, \"#d8576b\"], [0.6666666666666666, \"#ed7953\"], [0.7777777777777778, \"#fb9f3a\"], [0.8888888888888888, \"#fdca26\"], [1.0, \"#f0f921\"]], \"type\": \"histogram2d\"}], \"histogram2dcontour\": [{\"colorbar\": {\"outlinewidth\": 0, \"ticks\": \"\"}, \"colorscale\": [[0.0, \"#0d0887\"], [0.1111111111111111, \"#46039f\"], [0.2222222222222222, \"#7201a8\"], [0.3333333333333333, \"#9c179e\"], [0.4444444444444444, \"#bd3786\"], [0.5555555555555556, \"#d8576b\"], [0.6666666666666666, \"#ed7953\"], [0.7777777777777778, \"#fb9f3a\"], [0.8888888888888888, \"#fdca26\"], [1.0, \"#f0f921\"]], \"type\": \"histogram2dcontour\"}], \"mesh3d\": [{\"colorbar\": {\"outlinewidth\": 0, \"ticks\": \"\"}, \"type\": \"mesh3d\"}], \"parcoords\": [{\"line\": {\"colorbar\": {\"outlinewidth\": 0, \"ticks\": \"\"}}, \"type\": \"parcoords\"}], \"scatter\": [{\"marker\": {\"colorbar\": {\"outlinewidth\": 0, \"ticks\": \"\"}}, \"type\": \"scatter\"}], \"scatter3d\": [{\"line\": {\"colorbar\": {\"outlinewidth\": 0, \"ticks\": \"\"}}, \"marker\": {\"colorbar\": {\"outlinewidth\": 0, \"ticks\": \"\"}}, \"type\": \"scatter3d\"}], \"scattercarpet\": [{\"marker\": {\"colorbar\": {\"outlinewidth\": 0, \"ticks\": \"\"}}, \"type\": \"scattercarpet\"}], \"scattergeo\": [{\"marker\": {\"colorbar\": {\"outlinewidth\": 0, \"ticks\": \"\"}}, \"type\": \"scattergeo\"}], \"scattergl\": [{\"marker\": {\"colorbar\": {\"outlinewidth\": 0, \"ticks\": \"\"}}, \"type\": \"scattergl\"}], \"scattermapbox\": [{\"marker\": {\"colorbar\": {\"outlinewidth\": 0, \"ticks\": \"\"}}, \"type\": \"scattermapbox\"}], \"scatterpolar\": [{\"marker\": {\"colorbar\": {\"outlinewidth\": 0, \"ticks\": \"\"}}, \"type\": \"scatterpolar\"}], \"scatterpolargl\": [{\"marker\": {\"colorbar\": {\"outlinewidth\": 0, \"ticks\": \"\"}}, \"type\": \"scatterpolargl\"}], \"scatterternary\": [{\"marker\": {\"colorbar\": {\"outlinewidth\": 0, \"ticks\": \"\"}}, \"type\": \"scatterternary\"}], \"surface\": [{\"colorbar\": {\"outlinewidth\": 0, \"ticks\": \"\"}, \"colorscale\": [[0.0, \"#0d0887\"], [0.1111111111111111, \"#46039f\"], [0.2222222222222222, \"#7201a8\"], [0.3333333333333333, \"#9c179e\"], [0.4444444444444444, \"#bd3786\"], [0.5555555555555556, \"#d8576b\"], [0.6666666666666666, \"#ed7953\"], [0.7777777777777778, \"#fb9f3a\"], [0.8888888888888888, \"#fdca26\"], [1.0, \"#f0f921\"]], \"type\": \"surface\"}], \"table\": [{\"cells\": {\"fill\": {\"color\": \"#EBF0F8\"}, \"line\": {\"color\": \"white\"}}, \"header\": {\"fill\": {\"color\": \"#C8D4E3\"}, \"line\": {\"color\": \"white\"}}, \"type\": \"table\"}]}, \"layout\": {\"annotationdefaults\": {\"arrowcolor\": \"#2a3f5f\", \"arrowhead\": 0, \"arrowwidth\": 1}, \"colorscale\": {\"diverging\": [[0, \"#8e0152\"], [0.1, \"#c51b7d\"], [0.2, \"#de77ae\"], [0.3, \"#f1b6da\"], [0.4, \"#fde0ef\"], [0.5, \"#f7f7f7\"], [0.6, \"#e6f5d0\"], [0.7, \"#b8e186\"], [0.8, \"#7fbc41\"], [0.9, \"#4d9221\"], [1, \"#276419\"]], \"sequential\": [[0.0, \"#0d0887\"], [0.1111111111111111, \"#46039f\"], [0.2222222222222222, \"#7201a8\"], [0.3333333333333333, \"#9c179e\"], [0.4444444444444444, \"#bd3786\"], [0.5555555555555556, \"#d8576b\"], [0.6666666666666666, \"#ed7953\"], [0.7777777777777778, \"#fb9f3a\"], [0.8888888888888888, \"#fdca26\"], [1.0, \"#f0f921\"]], \"sequentialminus\": [[0.0, \"#0d0887\"], [0.1111111111111111, \"#46039f\"], [0.2222222222222222, \"#7201a8\"], [0.3333333333333333, \"#9c179e\"], [0.4444444444444444, \"#bd3786\"], [0.5555555555555556, \"#d8576b\"], [0.6666666666666666, \"#ed7953\"], [0.7777777777777778, \"#fb9f3a\"], [0.8888888888888888, \"#fdca26\"], [1.0, \"#f0f921\"]]}, \"colorway\": [\"#636efa\", \"#EF553B\", \"#00cc96\", \"#ab63fa\", \"#FFA15A\", \"#19d3f3\", \"#FF6692\", \"#B6E880\", \"#FF97FF\", \"#FECB52\"], \"font\": {\"color\": \"#2a3f5f\"}, \"geo\": {\"bgcolor\": \"white\", \"lakecolor\": \"white\", \"landcolor\": \"#E5ECF6\", \"showlakes\": true, \"showland\": true, \"subunitcolor\": \"white\"}, \"hoverlabel\": {\"align\": \"left\"}, \"hovermode\": \"closest\", \"mapbox\": {\"style\": \"light\"}, \"paper_bgcolor\": \"white\", \"plot_bgcolor\": \"#E5ECF6\", \"polar\": {\"angularaxis\": {\"gridcolor\": \"white\", \"linecolor\": \"white\", \"ticks\": \"\"}, \"bgcolor\": \"#E5ECF6\", \"radialaxis\": {\"gridcolor\": \"white\", \"linecolor\": \"white\", \"ticks\": \"\"}}, \"scene\": {\"xaxis\": {\"backgroundcolor\": \"#E5ECF6\", \"gridcolor\": \"white\", \"gridwidth\": 2, \"linecolor\": \"white\", \"showbackground\": true, \"ticks\": \"\", \"zerolinecolor\": \"white\"}, \"yaxis\": {\"backgroundcolor\": \"#E5ECF6\", \"gridcolor\": \"white\", \"gridwidth\": 2, \"linecolor\": \"white\", \"showbackground\": true, \"ticks\": \"\", \"zerolinecolor\": \"white\"}, \"zaxis\": {\"backgroundcolor\": \"#E5ECF6\", \"gridcolor\": \"white\", \"gridwidth\": 2, \"linecolor\": \"white\", \"showbackground\": true, \"ticks\": \"\", \"zerolinecolor\": \"white\"}}, \"shapedefaults\": {\"line\": {\"color\": \"#2a3f5f\"}}, \"ternary\": {\"aaxis\": {\"gridcolor\": \"white\", \"linecolor\": \"white\", \"ticks\": \"\"}, \"baxis\": {\"gridcolor\": \"white\", \"linecolor\": \"white\", \"ticks\": \"\"}, \"bgcolor\": \"#E5ECF6\", \"caxis\": {\"gridcolor\": \"white\", \"linecolor\": \"white\", \"ticks\": \"\"}}, \"title\": {\"x\": 0.05}, \"xaxis\": {\"automargin\": true, \"gridcolor\": \"white\", \"linecolor\": \"white\", \"ticks\": \"\", \"zerolinecolor\": \"white\", \"zerolinewidth\": 2}, \"yaxis\": {\"automargin\": true, \"gridcolor\": \"white\", \"linecolor\": \"white\", \"ticks\": \"\", \"zerolinecolor\": \"white\", \"zerolinewidth\": 2}}}, \"title\": {\"text\": \"Deceleration_Velocity_for_vehicle_id_47844\"}, \"xaxis\": {\"title\": {\"text\": \"velocity (in m/s)\"}}, \"yaxis\": {\"title\": {\"text\": \"Acceleration (in m/s2\"}}},\n",
       "                        {\"responsive\": true}\n",
       "                    ).then(function(){\n",
       "                            \n",
       "var gd = document.getElementById('f34cd23d-56ee-4b8b-8bd9-26115a24b931');\n",
       "var x = new MutationObserver(function (mutations, observer) {{\n",
       "        var display = window.getComputedStyle(gd).display;\n",
       "        if (!display || display === 'none') {{\n",
       "            console.log([gd, 'removed!']);\n",
       "            Plotly.purge(gd);\n",
       "            observer.disconnect();\n",
       "        }}\n",
       "}});\n",
       "\n",
       "// Listen for the removal of the full notebook cells\n",
       "var notebookContainer = gd.closest('#notebook-container');\n",
       "if (notebookContainer) {{\n",
       "    x.observe(notebookContainer, {childList: true});\n",
       "}}\n",
       "\n",
       "// Listen for the clearing of the current output cell\n",
       "var outputEl = gd.closest('.output');\n",
       "if (outputEl) {{\n",
       "    x.observe(outputEl, {childList: true});\n",
       "}}\n",
       "\n",
       "                        })\n",
       "                };\n",
       "                });\n",
       "            </script>\n",
       "        </div>"
      ]
     },
     "metadata": {},
     "output_type": "display_data"
    }
   ],
   "source": [
    "layout = go.Layout(title=f\"Deceleration_Velocity_for_vehicle_id_{vehicle_id}\",\n",
    "                xaxis=dict(title='velocity (in m/s)'),\n",
    "                yaxis=dict(title='Acceleration (in m/s2'))\n",
    "data = sol['outputs']['discrete_deceleration_curves']\n",
    "fig = go.Figure(data=data, layout=layout)\n",
    "iplot(fig)"
   ]
  },
  {
   "cell_type": "code",
   "execution_count": 8,
   "metadata": {},
   "outputs": [
    {
     "name": "stderr",
     "output_type": "stream",
     "text": [
      "Failed DISPATCHING 'model/get_full_load' due to:\n",
      "  KeyError('electricity')\n",
      "Traceback (most recent call last):\n",
      "  File \"c:\\apps\\miniconda3\\lib\\site-packages\\schedula\\utils\\sol.py\", line 620, in _evaluate_node\n",
      "    **kw)\n",
      "  File \"c:\\apps\\miniconda3\\lib\\site-packages\\schedula\\utils\\sol.py\", line 594, in _evaluate_function\n",
      "    sol=self, callback=_callback, sol_name=self.full_name + (node_id,)\n",
      "  File \"c:\\apps\\miniconda3\\lib\\site-packages\\schedula\\utils\\asy.py\", line 167, in async_process\n",
      "    name, funcs, executor, *args, **kw\n",
      "  File \"c:\\apps\\miniconda3\\lib\\site-packages\\schedula\\utils\\asy.py\", line 124, in _process_funcs\n",
      "    r['res'] = e.process(fn, *args, **kw) if e else fn(*args, **kw)\n",
      "  File \"c:\\apps\\miniconda3\\lib\\site-packages\\co2mpas_driver\\model\\co2mpas.py\", line 32, in get_full_load\n",
      "    xp, fp = defaults.dfl.functions.get_full_load.FULL_LOAD[ignition_type]\n",
      "KeyError: 'electricity'\n"
     ]
    },
    {
     "data": {
      "application/vnd.plotly.v1+json": {
       "config": {
        "linkText": "Export to plot.ly",
        "plotlyServerURL": "https://plot.ly",
        "showLink": false
       },
       "data": [
        {
         "type": "scatter",
         "x": [
          0,
          0.2,
          0.4,
          0.6000000000000001,
          0.8,
          1,
          1.2000000000000002,
          1.4000000000000001,
          1.6,
          1.8,
          2,
          2.2,
          2.4000000000000004,
          2.6,
          2.8000000000000003,
          3,
          3.2,
          3.4000000000000004,
          3.6,
          3.8000000000000003,
          4,
          4.2,
          4.4,
          4.6000000000000005,
          4.800000000000001,
          5,
          5.2,
          5.4,
          5.6000000000000005,
          5.800000000000001,
          6,
          6.2,
          6.4,
          6.6000000000000005,
          6.800000000000001,
          7,
          7.2,
          7.4,
          7.6000000000000005,
          7.800000000000001,
          8,
          8.200000000000001,
          8.4,
          8.6,
          8.8,
          9,
          9.200000000000001,
          9.4,
          9.600000000000001,
          9.8,
          10,
          10.200000000000001,
          10.4,
          10.600000000000001,
          10.8,
          11,
          11.200000000000001,
          11.4,
          11.600000000000001,
          11.8,
          12,
          12.200000000000001,
          12.4,
          12.600000000000001,
          12.8,
          13,
          13.200000000000001,
          13.4,
          13.600000000000001,
          13.8,
          14,
          14.200000000000001,
          14.4,
          14.600000000000001,
          14.8,
          15,
          15.200000000000001,
          15.4,
          15.600000000000001,
          15.8,
          16,
          16.2,
          16.400000000000002,
          16.6,
          16.8,
          17,
          17.2,
          17.400000000000002,
          17.6,
          17.8,
          18,
          18.2,
          18.400000000000002,
          18.6,
          18.8,
          19,
          19.200000000000003,
          19.400000000000002,
          19.6,
          19.8,
          20,
          20.200000000000003,
          20.400000000000002,
          20.6,
          20.8,
          21,
          21.200000000000003,
          21.400000000000002,
          21.6,
          21.8,
          22,
          22.200000000000003,
          22.400000000000002,
          22.6,
          22.8,
          23,
          23.200000000000003,
          23.400000000000002,
          23.6,
          23.8,
          24,
          24.200000000000003,
          24.400000000000002,
          24.6,
          24.8,
          25,
          25.200000000000003,
          25.400000000000002,
          25.6,
          25.8,
          26,
          26.200000000000003,
          26.400000000000002,
          26.6,
          26.8,
          27,
          27.200000000000003,
          27.400000000000002,
          27.6,
          27.8,
          28,
          28.200000000000003,
          28.400000000000002,
          28.6,
          28.8,
          29,
          29.200000000000003,
          29.400000000000002,
          29.6,
          29.8,
          30,
          30.200000000000003,
          30.400000000000002,
          30.6,
          30.8,
          31,
          31.200000000000003,
          31.400000000000002,
          31.6,
          31.8,
          32,
          32.2,
          32.4,
          32.6,
          32.800000000000004,
          33,
          33.2,
          33.4,
          33.6,
          33.800000000000004,
          34,
          34.2,
          34.4,
          34.6,
          34.800000000000004,
          35,
          35.2,
          35.4,
          35.6,
          35.800000000000004,
          36,
          36.2,
          36.4,
          36.6,
          36.800000000000004
         ],
         "y": [
          3.3206681251213164,
          3.3204286959683165,
          3.320169603325214,
          3.31989084719201,
          3.319592427568703,
          3.3192743444552946,
          3.3189365978517835,
          3.3185791877581705,
          3.318202114174455,
          3.3178053771006377,
          3.317388976536718,
          3.3169529124826957,
          3.316497184938572,
          3.3160217939043455,
          3.315526739380017,
          3.3150120213655865,
          3.3144776398610536,
          3.3139235948664187,
          3.3133498863816815,
          3.312756514406842,
          3.3121434789419,
          3.3115107799868566,
          3.3108584175417106,
          3.310186391606462,
          3.309494702181112,
          3.3087833492656595,
          3.308052332860105,
          3.3073016529644477,
          3.3065313095786886,
          3.3057413027028275,
          3.3049316323368636,
          3.304102298480798,
          3.3032533011346303,
          3.30238464029836,
          3.301496315971988,
          3.3005883281555133,
          3.2996606768489367,
          3.298713362052258,
          3.297746383765477,
          3.296759741988594,
          3.295753436721608,
          3.294727467964521,
          3.293681835717331,
          3.292616539980039,
          3.291531580752645,
          3.2904269580351486,
          3.2893026718275498,
          3.2881587221298494,
          3.286995108942046,
          3.285811832264141,
          3.284608892096134,
          3.2833862884380243,
          3.2821440212898128,
          3.280882090651499,
          3.279600496523083,
          3.2782992389045646,
          3.276978317795944,
          3.2756377331972213,
          3.2742774851083967,
          3.2728975735294696,
          3.2714979984604406,
          3.2700787599013093,
          3.2686398578520754,
          3.2671812923127397,
          3.265703063283302,
          3.264205170763762,
          3.2626876147541193,
          3.261150395254375,
          3.259593512264528,
          3.258016965784579,
          3.256420755814528,
          3.254804882354375,
          3.2531693454041193,
          3.2515141449637617,
          3.2498392810333017,
          3.2481447536127397,
          3.2464305627020753,
          3.244696708301309,
          3.2429431904104407,
          3.2411700090294695,
          3.239377164158397,
          3.2375646557972213,
          3.2357324839459443,
          3.2338806486045644,
          3.232009149773083,
          3.2301179874514987,
          3.228207161639813,
          3.2262766723380243,
          3.2243265195461337,
          3.222356703264141,
          3.220367223492046,
          3.2183580802298493,
          3.21632927347755,
          3.2142808032351486,
          3.212212669502645,
          3.210124872280039,
          3.208017411567331,
          3.2058902873645208,
          3.2037434996716083,
          3.201577048488594,
          3.199390933815477,
          3.197185155652258,
          3.1949597139989367,
          3.1927146088555136,
          3.190449840221988,
          3.18816540809836,
          3.1858613124846302,
          3.183537553380798,
          3.1811941307868636,
          3.1788310447028274,
          3.1764482951286888,
          3.1740458820644477,
          3.1716238055101047,
          3.1691820654656593,
          3.166720661931112,
          3.1642395949064626,
          3.1617388643917104,
          3.1592184703868567,
          3.1566784128919005,
          3.154118691906842,
          3.1515393074316815,
          3.1489402594664186,
          3.146321548011054,
          3.1436831730655865,
          3.1410251346300173,
          3.1383474327043457,
          3.1356500672885717,
          3.132933038382696,
          3.1301963459867177,
          3.1274399901006373,
          3.124663970724455,
          3.1218682878581703,
          3.1190529415017836,
          3.1162179316552945,
          3.1133632583187034,
          3.11048892149201,
          3.107594921175214,
          3.1046812573683162,
          3.1017479300713164,
          3.0987949392842142,
          3.09582228500701,
          3.092829967239703,
          3.0898179859822945,
          3.0867863412347836,
          3.0837350329971702,
          3.080664061269455,
          3.0775734260516376,
          3.074463127343718,
          3.071333165145696,
          3.068183539457572,
          3.065014250279346,
          3.061825297611017,
          3.0586166814525866,
          3.055388401804054,
          3.0521404586654186,
          3.0488728520366815,
          3.045585581917842,
          3.0422786483089004,
          3.0389520512098565,
          3.0356057906207106,
          3.0322398665414623,
          3.028854278972112,
          3.0254490279126593,
          3.0220241133631047,
          3.0185795353234477,
          3.0151152937936887,
          3.0116313887738273,
          3.008127820263864,
          3.004604588263798,
          3.00106169277363,
          2.9974991337933603,
          2.9939169113229878,
          2.9746433541539457,
          2.951345346149466,
          2.928253840845159,
          2.905364961106335,
          2.8826749179149993,
          2.860180007880686,
          2.8378766108351834,
          2.815761187507896,
          2.793830277278686,
          2.7720804960052066,
          2.7505085339218684,
          2.7291111536076826,
          2.7078851880203794
         ]
        }
       ],
       "layout": {
        "template": {
         "data": {
          "bar": [
           {
            "error_x": {
             "color": "#2a3f5f"
            },
            "error_y": {
             "color": "#2a3f5f"
            },
            "marker": {
             "line": {
              "color": "#E5ECF6",
              "width": 0.5
             }
            },
            "type": "bar"
           }
          ],
          "barpolar": [
           {
            "marker": {
             "line": {
              "color": "#E5ECF6",
              "width": 0.5
             }
            },
            "type": "barpolar"
           }
          ],
          "carpet": [
           {
            "aaxis": {
             "endlinecolor": "#2a3f5f",
             "gridcolor": "white",
             "linecolor": "white",
             "minorgridcolor": "white",
             "startlinecolor": "#2a3f5f"
            },
            "baxis": {
             "endlinecolor": "#2a3f5f",
             "gridcolor": "white",
             "linecolor": "white",
             "minorgridcolor": "white",
             "startlinecolor": "#2a3f5f"
            },
            "type": "carpet"
           }
          ],
          "choropleth": [
           {
            "colorbar": {
             "outlinewidth": 0,
             "ticks": ""
            },
            "type": "choropleth"
           }
          ],
          "contour": [
           {
            "colorbar": {
             "outlinewidth": 0,
             "ticks": ""
            },
            "colorscale": [
             [
              0,
              "#0d0887"
             ],
             [
              0.1111111111111111,
              "#46039f"
             ],
             [
              0.2222222222222222,
              "#7201a8"
             ],
             [
              0.3333333333333333,
              "#9c179e"
             ],
             [
              0.4444444444444444,
              "#bd3786"
             ],
             [
              0.5555555555555556,
              "#d8576b"
             ],
             [
              0.6666666666666666,
              "#ed7953"
             ],
             [
              0.7777777777777778,
              "#fb9f3a"
             ],
             [
              0.8888888888888888,
              "#fdca26"
             ],
             [
              1,
              "#f0f921"
             ]
            ],
            "type": "contour"
           }
          ],
          "contourcarpet": [
           {
            "colorbar": {
             "outlinewidth": 0,
             "ticks": ""
            },
            "type": "contourcarpet"
           }
          ],
          "heatmap": [
           {
            "colorbar": {
             "outlinewidth": 0,
             "ticks": ""
            },
            "colorscale": [
             [
              0,
              "#0d0887"
             ],
             [
              0.1111111111111111,
              "#46039f"
             ],
             [
              0.2222222222222222,
              "#7201a8"
             ],
             [
              0.3333333333333333,
              "#9c179e"
             ],
             [
              0.4444444444444444,
              "#bd3786"
             ],
             [
              0.5555555555555556,
              "#d8576b"
             ],
             [
              0.6666666666666666,
              "#ed7953"
             ],
             [
              0.7777777777777778,
              "#fb9f3a"
             ],
             [
              0.8888888888888888,
              "#fdca26"
             ],
             [
              1,
              "#f0f921"
             ]
            ],
            "type": "heatmap"
           }
          ],
          "heatmapgl": [
           {
            "colorbar": {
             "outlinewidth": 0,
             "ticks": ""
            },
            "colorscale": [
             [
              0,
              "#0d0887"
             ],
             [
              0.1111111111111111,
              "#46039f"
             ],
             [
              0.2222222222222222,
              "#7201a8"
             ],
             [
              0.3333333333333333,
              "#9c179e"
             ],
             [
              0.4444444444444444,
              "#bd3786"
             ],
             [
              0.5555555555555556,
              "#d8576b"
             ],
             [
              0.6666666666666666,
              "#ed7953"
             ],
             [
              0.7777777777777778,
              "#fb9f3a"
             ],
             [
              0.8888888888888888,
              "#fdca26"
             ],
             [
              1,
              "#f0f921"
             ]
            ],
            "type": "heatmapgl"
           }
          ],
          "histogram": [
           {
            "marker": {
             "colorbar": {
              "outlinewidth": 0,
              "ticks": ""
             }
            },
            "type": "histogram"
           }
          ],
          "histogram2d": [
           {
            "colorbar": {
             "outlinewidth": 0,
             "ticks": ""
            },
            "colorscale": [
             [
              0,
              "#0d0887"
             ],
             [
              0.1111111111111111,
              "#46039f"
             ],
             [
              0.2222222222222222,
              "#7201a8"
             ],
             [
              0.3333333333333333,
              "#9c179e"
             ],
             [
              0.4444444444444444,
              "#bd3786"
             ],
             [
              0.5555555555555556,
              "#d8576b"
             ],
             [
              0.6666666666666666,
              "#ed7953"
             ],
             [
              0.7777777777777778,
              "#fb9f3a"
             ],
             [
              0.8888888888888888,
              "#fdca26"
             ],
             [
              1,
              "#f0f921"
             ]
            ],
            "type": "histogram2d"
           }
          ],
          "histogram2dcontour": [
           {
            "colorbar": {
             "outlinewidth": 0,
             "ticks": ""
            },
            "colorscale": [
             [
              0,
              "#0d0887"
             ],
             [
              0.1111111111111111,
              "#46039f"
             ],
             [
              0.2222222222222222,
              "#7201a8"
             ],
             [
              0.3333333333333333,
              "#9c179e"
             ],
             [
              0.4444444444444444,
              "#bd3786"
             ],
             [
              0.5555555555555556,
              "#d8576b"
             ],
             [
              0.6666666666666666,
              "#ed7953"
             ],
             [
              0.7777777777777778,
              "#fb9f3a"
             ],
             [
              0.8888888888888888,
              "#fdca26"
             ],
             [
              1,
              "#f0f921"
             ]
            ],
            "type": "histogram2dcontour"
           }
          ],
          "mesh3d": [
           {
            "colorbar": {
             "outlinewidth": 0,
             "ticks": ""
            },
            "type": "mesh3d"
           }
          ],
          "parcoords": [
           {
            "line": {
             "colorbar": {
              "outlinewidth": 0,
              "ticks": ""
             }
            },
            "type": "parcoords"
           }
          ],
          "scatter": [
           {
            "marker": {
             "colorbar": {
              "outlinewidth": 0,
              "ticks": ""
             }
            },
            "type": "scatter"
           }
          ],
          "scatter3d": [
           {
            "line": {
             "colorbar": {
              "outlinewidth": 0,
              "ticks": ""
             }
            },
            "marker": {
             "colorbar": {
              "outlinewidth": 0,
              "ticks": ""
             }
            },
            "type": "scatter3d"
           }
          ],
          "scattercarpet": [
           {
            "marker": {
             "colorbar": {
              "outlinewidth": 0,
              "ticks": ""
             }
            },
            "type": "scattercarpet"
           }
          ],
          "scattergeo": [
           {
            "marker": {
             "colorbar": {
              "outlinewidth": 0,
              "ticks": ""
             }
            },
            "type": "scattergeo"
           }
          ],
          "scattergl": [
           {
            "marker": {
             "colorbar": {
              "outlinewidth": 0,
              "ticks": ""
             }
            },
            "type": "scattergl"
           }
          ],
          "scattermapbox": [
           {
            "marker": {
             "colorbar": {
              "outlinewidth": 0,
              "ticks": ""
             }
            },
            "type": "scattermapbox"
           }
          ],
          "scatterpolar": [
           {
            "marker": {
             "colorbar": {
              "outlinewidth": 0,
              "ticks": ""
             }
            },
            "type": "scatterpolar"
           }
          ],
          "scatterpolargl": [
           {
            "marker": {
             "colorbar": {
              "outlinewidth": 0,
              "ticks": ""
             }
            },
            "type": "scatterpolargl"
           }
          ],
          "scatterternary": [
           {
            "marker": {
             "colorbar": {
              "outlinewidth": 0,
              "ticks": ""
             }
            },
            "type": "scatterternary"
           }
          ],
          "surface": [
           {
            "colorbar": {
             "outlinewidth": 0,
             "ticks": ""
            },
            "colorscale": [
             [
              0,
              "#0d0887"
             ],
             [
              0.1111111111111111,
              "#46039f"
             ],
             [
              0.2222222222222222,
              "#7201a8"
             ],
             [
              0.3333333333333333,
              "#9c179e"
             ],
             [
              0.4444444444444444,
              "#bd3786"
             ],
             [
              0.5555555555555556,
              "#d8576b"
             ],
             [
              0.6666666666666666,
              "#ed7953"
             ],
             [
              0.7777777777777778,
              "#fb9f3a"
             ],
             [
              0.8888888888888888,
              "#fdca26"
             ],
             [
              1,
              "#f0f921"
             ]
            ],
            "type": "surface"
           }
          ],
          "table": [
           {
            "cells": {
             "fill": {
              "color": "#EBF0F8"
             },
             "line": {
              "color": "white"
             }
            },
            "header": {
             "fill": {
              "color": "#C8D4E3"
             },
             "line": {
              "color": "white"
             }
            },
            "type": "table"
           }
          ]
         },
         "layout": {
          "annotationdefaults": {
           "arrowcolor": "#2a3f5f",
           "arrowhead": 0,
           "arrowwidth": 1
          },
          "colorscale": {
           "diverging": [
            [
             0,
             "#8e0152"
            ],
            [
             0.1,
             "#c51b7d"
            ],
            [
             0.2,
             "#de77ae"
            ],
            [
             0.3,
             "#f1b6da"
            ],
            [
             0.4,
             "#fde0ef"
            ],
            [
             0.5,
             "#f7f7f7"
            ],
            [
             0.6,
             "#e6f5d0"
            ],
            [
             0.7,
             "#b8e186"
            ],
            [
             0.8,
             "#7fbc41"
            ],
            [
             0.9,
             "#4d9221"
            ],
            [
             1,
             "#276419"
            ]
           ],
           "sequential": [
            [
             0,
             "#0d0887"
            ],
            [
             0.1111111111111111,
             "#46039f"
            ],
            [
             0.2222222222222222,
             "#7201a8"
            ],
            [
             0.3333333333333333,
             "#9c179e"
            ],
            [
             0.4444444444444444,
             "#bd3786"
            ],
            [
             0.5555555555555556,
             "#d8576b"
            ],
            [
             0.6666666666666666,
             "#ed7953"
            ],
            [
             0.7777777777777778,
             "#fb9f3a"
            ],
            [
             0.8888888888888888,
             "#fdca26"
            ],
            [
             1,
             "#f0f921"
            ]
           ],
           "sequentialminus": [
            [
             0,
             "#0d0887"
            ],
            [
             0.1111111111111111,
             "#46039f"
            ],
            [
             0.2222222222222222,
             "#7201a8"
            ],
            [
             0.3333333333333333,
             "#9c179e"
            ],
            [
             0.4444444444444444,
             "#bd3786"
            ],
            [
             0.5555555555555556,
             "#d8576b"
            ],
            [
             0.6666666666666666,
             "#ed7953"
            ],
            [
             0.7777777777777778,
             "#fb9f3a"
            ],
            [
             0.8888888888888888,
             "#fdca26"
            ],
            [
             1,
             "#f0f921"
            ]
           ]
          },
          "colorway": [
           "#636efa",
           "#EF553B",
           "#00cc96",
           "#ab63fa",
           "#FFA15A",
           "#19d3f3",
           "#FF6692",
           "#B6E880",
           "#FF97FF",
           "#FECB52"
          ],
          "font": {
           "color": "#2a3f5f"
          },
          "geo": {
           "bgcolor": "white",
           "lakecolor": "white",
           "landcolor": "#E5ECF6",
           "showlakes": true,
           "showland": true,
           "subunitcolor": "white"
          },
          "hoverlabel": {
           "align": "left"
          },
          "hovermode": "closest",
          "mapbox": {
           "style": "light"
          },
          "paper_bgcolor": "white",
          "plot_bgcolor": "#E5ECF6",
          "polar": {
           "angularaxis": {
            "gridcolor": "white",
            "linecolor": "white",
            "ticks": ""
           },
           "bgcolor": "#E5ECF6",
           "radialaxis": {
            "gridcolor": "white",
            "linecolor": "white",
            "ticks": ""
           }
          },
          "scene": {
           "xaxis": {
            "backgroundcolor": "#E5ECF6",
            "gridcolor": "white",
            "gridwidth": 2,
            "linecolor": "white",
            "showbackground": true,
            "ticks": "",
            "zerolinecolor": "white"
           },
           "yaxis": {
            "backgroundcolor": "#E5ECF6",
            "gridcolor": "white",
            "gridwidth": 2,
            "linecolor": "white",
            "showbackground": true,
            "ticks": "",
            "zerolinecolor": "white"
           },
           "zaxis": {
            "backgroundcolor": "#E5ECF6",
            "gridcolor": "white",
            "gridwidth": 2,
            "linecolor": "white",
            "showbackground": true,
            "ticks": "",
            "zerolinecolor": "white"
           }
          },
          "shapedefaults": {
           "line": {
            "color": "#2a3f5f"
           }
          },
          "ternary": {
           "aaxis": {
            "gridcolor": "white",
            "linecolor": "white",
            "ticks": ""
           },
           "baxis": {
            "gridcolor": "white",
            "linecolor": "white",
            "ticks": ""
           },
           "bgcolor": "#E5ECF6",
           "caxis": {
            "gridcolor": "white",
            "linecolor": "white",
            "ticks": ""
           }
          },
          "title": {
           "x": 0.05
          },
          "xaxis": {
           "automargin": true,
           "gridcolor": "white",
           "linecolor": "white",
           "ticks": "",
           "zerolinecolor": "white",
           "zerolinewidth": 2
          },
          "yaxis": {
           "automargin": true,
           "gridcolor": "white",
           "linecolor": "white",
           "ticks": "",
           "zerolinecolor": "white",
           "zerolinewidth": 2
          }
         }
        },
        "title": {
         "text": "Acceleration-Velocity_for_motor_max_power_207"
        },
        "xaxis": {
         "title": {
          "text": "velocity (in m/s)"
         }
        },
        "yaxis": {
         "title": {
          "text": "Acceleration (in m/s2"
         }
        }
       }
      },
      "text/html": [
       "<div>\n",
       "        \n",
       "        \n",
       "            <div id=\"9a6e6b9d-8a72-451f-926c-274a3e788454\" class=\"plotly-graph-div\" style=\"height:525px; width:100%;\"></div>\n",
       "            <script type=\"text/javascript\">\n",
       "                require([\"plotly\"], function(Plotly) {\n",
       "                    window.PLOTLYENV=window.PLOTLYENV || {};\n",
       "                    \n",
       "                if (document.getElementById(\"9a6e6b9d-8a72-451f-926c-274a3e788454\")) {\n",
       "                    Plotly.newPlot(\n",
       "                        '9a6e6b9d-8a72-451f-926c-274a3e788454',\n",
       "                        [{\"type\": \"scatter\", \"x\": [0.0, 0.2, 0.4, 0.6000000000000001, 0.8, 1.0, 1.2000000000000002, 1.4000000000000001, 1.6, 1.8, 2.0, 2.2, 2.4000000000000004, 2.6, 2.8000000000000003, 3.0, 3.2, 3.4000000000000004, 3.6, 3.8000000000000003, 4.0, 4.2, 4.4, 4.6000000000000005, 4.800000000000001, 5.0, 5.2, 5.4, 5.6000000000000005, 5.800000000000001, 6.0, 6.2, 6.4, 6.6000000000000005, 6.800000000000001, 7.0, 7.2, 7.4, 7.6000000000000005, 7.800000000000001, 8.0, 8.200000000000001, 8.4, 8.6, 8.8, 9.0, 9.200000000000001, 9.4, 9.600000000000001, 9.8, 10.0, 10.200000000000001, 10.4, 10.600000000000001, 10.8, 11.0, 11.200000000000001, 11.4, 11.600000000000001, 11.8, 12.0, 12.200000000000001, 12.4, 12.600000000000001, 12.8, 13.0, 13.200000000000001, 13.4, 13.600000000000001, 13.8, 14.0, 14.200000000000001, 14.4, 14.600000000000001, 14.8, 15.0, 15.200000000000001, 15.4, 15.600000000000001, 15.8, 16.0, 16.2, 16.400000000000002, 16.6, 16.8, 17.0, 17.2, 17.400000000000002, 17.6, 17.8, 18.0, 18.2, 18.400000000000002, 18.6, 18.8, 19.0, 19.200000000000003, 19.400000000000002, 19.6, 19.8, 20.0, 20.200000000000003, 20.400000000000002, 20.6, 20.8, 21.0, 21.200000000000003, 21.400000000000002, 21.6, 21.8, 22.0, 22.200000000000003, 22.400000000000002, 22.6, 22.8, 23.0, 23.200000000000003, 23.400000000000002, 23.6, 23.8, 24.0, 24.200000000000003, 24.400000000000002, 24.6, 24.8, 25.0, 25.200000000000003, 25.400000000000002, 25.6, 25.8, 26.0, 26.200000000000003, 26.400000000000002, 26.6, 26.8, 27.0, 27.200000000000003, 27.400000000000002, 27.6, 27.8, 28.0, 28.200000000000003, 28.400000000000002, 28.6, 28.8, 29.0, 29.200000000000003, 29.400000000000002, 29.6, 29.8, 30.0, 30.200000000000003, 30.400000000000002, 30.6, 30.8, 31.0, 31.200000000000003, 31.400000000000002, 31.6, 31.8, 32.0, 32.2, 32.4, 32.6, 32.800000000000004, 33.0, 33.2, 33.4, 33.6, 33.800000000000004, 34.0, 34.2, 34.4, 34.6, 34.800000000000004, 35.0, 35.2, 35.4, 35.6, 35.800000000000004, 36.0, 36.2, 36.4, 36.6, 36.800000000000004], \"y\": [3.3206681251213164, 3.3204286959683165, 3.320169603325214, 3.31989084719201, 3.319592427568703, 3.3192743444552946, 3.3189365978517835, 3.3185791877581705, 3.318202114174455, 3.3178053771006377, 3.317388976536718, 3.3169529124826957, 3.316497184938572, 3.3160217939043455, 3.315526739380017, 3.3150120213655865, 3.3144776398610536, 3.3139235948664187, 3.3133498863816815, 3.312756514406842, 3.3121434789419, 3.3115107799868566, 3.3108584175417106, 3.310186391606462, 3.309494702181112, 3.3087833492656595, 3.308052332860105, 3.3073016529644477, 3.3065313095786886, 3.3057413027028275, 3.3049316323368636, 3.304102298480798, 3.3032533011346303, 3.30238464029836, 3.301496315971988, 3.3005883281555133, 3.2996606768489367, 3.298713362052258, 3.297746383765477, 3.296759741988594, 3.295753436721608, 3.294727467964521, 3.293681835717331, 3.292616539980039, 3.291531580752645, 3.2904269580351486, 3.2893026718275498, 3.2881587221298494, 3.286995108942046, 3.285811832264141, 3.284608892096134, 3.2833862884380243, 3.2821440212898128, 3.280882090651499, 3.279600496523083, 3.2782992389045646, 3.276978317795944, 3.2756377331972213, 3.2742774851083967, 3.2728975735294696, 3.2714979984604406, 3.2700787599013093, 3.2686398578520754, 3.2671812923127397, 3.265703063283302, 3.264205170763762, 3.2626876147541193, 3.261150395254375, 3.259593512264528, 3.258016965784579, 3.256420755814528, 3.254804882354375, 3.2531693454041193, 3.2515141449637617, 3.2498392810333017, 3.2481447536127397, 3.2464305627020753, 3.244696708301309, 3.2429431904104407, 3.2411700090294695, 3.239377164158397, 3.2375646557972213, 3.2357324839459443, 3.2338806486045644, 3.232009149773083, 3.2301179874514987, 3.228207161639813, 3.2262766723380243, 3.2243265195461337, 3.222356703264141, 3.220367223492046, 3.2183580802298493, 3.21632927347755, 3.2142808032351486, 3.212212669502645, 3.210124872280039, 3.208017411567331, 3.2058902873645208, 3.2037434996716083, 3.201577048488594, 3.199390933815477, 3.197185155652258, 3.1949597139989367, 3.1927146088555136, 3.190449840221988, 3.18816540809836, 3.1858613124846302, 3.183537553380798, 3.1811941307868636, 3.1788310447028274, 3.1764482951286888, 3.1740458820644477, 3.1716238055101047, 3.1691820654656593, 3.166720661931112, 3.1642395949064626, 3.1617388643917104, 3.1592184703868567, 3.1566784128919005, 3.154118691906842, 3.1515393074316815, 3.1489402594664186, 3.146321548011054, 3.1436831730655865, 3.1410251346300173, 3.1383474327043457, 3.1356500672885717, 3.132933038382696, 3.1301963459867177, 3.1274399901006373, 3.124663970724455, 3.1218682878581703, 3.1190529415017836, 3.1162179316552945, 3.1133632583187034, 3.11048892149201, 3.107594921175214, 3.1046812573683162, 3.1017479300713164, 3.0987949392842142, 3.09582228500701, 3.092829967239703, 3.0898179859822945, 3.0867863412347836, 3.0837350329971702, 3.080664061269455, 3.0775734260516376, 3.074463127343718, 3.071333165145696, 3.068183539457572, 3.065014250279346, 3.061825297611017, 3.0586166814525866, 3.055388401804054, 3.0521404586654186, 3.0488728520366815, 3.045585581917842, 3.0422786483089004, 3.0389520512098565, 3.0356057906207106, 3.0322398665414623, 3.028854278972112, 3.0254490279126593, 3.0220241133631047, 3.0185795353234477, 3.0151152937936887, 3.0116313887738273, 3.008127820263864, 3.004604588263798, 3.00106169277363, 2.9974991337933603, 2.9939169113229878, 2.9746433541539457, 2.951345346149466, 2.928253840845159, 2.905364961106335, 2.8826749179149993, 2.860180007880686, 2.8378766108351834, 2.815761187507896, 2.793830277278686, 2.7720804960052066, 2.7505085339218684, 2.7291111536076826, 2.7078851880203794]}],\n",
       "                        {\"template\": {\"data\": {\"bar\": [{\"error_x\": {\"color\": \"#2a3f5f\"}, \"error_y\": {\"color\": \"#2a3f5f\"}, \"marker\": {\"line\": {\"color\": \"#E5ECF6\", \"width\": 0.5}}, \"type\": \"bar\"}], \"barpolar\": [{\"marker\": {\"line\": {\"color\": \"#E5ECF6\", \"width\": 0.5}}, \"type\": \"barpolar\"}], \"carpet\": [{\"aaxis\": {\"endlinecolor\": \"#2a3f5f\", \"gridcolor\": \"white\", \"linecolor\": \"white\", \"minorgridcolor\": \"white\", \"startlinecolor\": \"#2a3f5f\"}, \"baxis\": {\"endlinecolor\": \"#2a3f5f\", \"gridcolor\": \"white\", \"linecolor\": \"white\", \"minorgridcolor\": \"white\", \"startlinecolor\": \"#2a3f5f\"}, \"type\": \"carpet\"}], \"choropleth\": [{\"colorbar\": {\"outlinewidth\": 0, \"ticks\": \"\"}, \"type\": \"choropleth\"}], \"contour\": [{\"colorbar\": {\"outlinewidth\": 0, \"ticks\": \"\"}, \"colorscale\": [[0.0, \"#0d0887\"], [0.1111111111111111, \"#46039f\"], [0.2222222222222222, \"#7201a8\"], [0.3333333333333333, \"#9c179e\"], [0.4444444444444444, \"#bd3786\"], [0.5555555555555556, \"#d8576b\"], [0.6666666666666666, \"#ed7953\"], [0.7777777777777778, \"#fb9f3a\"], [0.8888888888888888, \"#fdca26\"], [1.0, \"#f0f921\"]], \"type\": \"contour\"}], \"contourcarpet\": [{\"colorbar\": {\"outlinewidth\": 0, \"ticks\": \"\"}, \"type\": \"contourcarpet\"}], \"heatmap\": [{\"colorbar\": {\"outlinewidth\": 0, \"ticks\": \"\"}, \"colorscale\": [[0.0, \"#0d0887\"], [0.1111111111111111, \"#46039f\"], [0.2222222222222222, \"#7201a8\"], [0.3333333333333333, \"#9c179e\"], [0.4444444444444444, \"#bd3786\"], [0.5555555555555556, \"#d8576b\"], [0.6666666666666666, \"#ed7953\"], [0.7777777777777778, \"#fb9f3a\"], [0.8888888888888888, \"#fdca26\"], [1.0, \"#f0f921\"]], \"type\": \"heatmap\"}], \"heatmapgl\": [{\"colorbar\": {\"outlinewidth\": 0, \"ticks\": \"\"}, \"colorscale\": [[0.0, \"#0d0887\"], [0.1111111111111111, \"#46039f\"], [0.2222222222222222, \"#7201a8\"], [0.3333333333333333, \"#9c179e\"], [0.4444444444444444, \"#bd3786\"], [0.5555555555555556, \"#d8576b\"], [0.6666666666666666, \"#ed7953\"], [0.7777777777777778, \"#fb9f3a\"], [0.8888888888888888, \"#fdca26\"], [1.0, \"#f0f921\"]], \"type\": \"heatmapgl\"}], \"histogram\": [{\"marker\": {\"colorbar\": {\"outlinewidth\": 0, \"ticks\": \"\"}}, \"type\": \"histogram\"}], \"histogram2d\": [{\"colorbar\": {\"outlinewidth\": 0, \"ticks\": \"\"}, \"colorscale\": [[0.0, \"#0d0887\"], [0.1111111111111111, \"#46039f\"], [0.2222222222222222, \"#7201a8\"], [0.3333333333333333, \"#9c179e\"], [0.4444444444444444, \"#bd3786\"], [0.5555555555555556, \"#d8576b\"], [0.6666666666666666, \"#ed7953\"], [0.7777777777777778, \"#fb9f3a\"], [0.8888888888888888, \"#fdca26\"], [1.0, \"#f0f921\"]], \"type\": \"histogram2d\"}], \"histogram2dcontour\": [{\"colorbar\": {\"outlinewidth\": 0, \"ticks\": \"\"}, \"colorscale\": [[0.0, \"#0d0887\"], [0.1111111111111111, \"#46039f\"], [0.2222222222222222, \"#7201a8\"], [0.3333333333333333, \"#9c179e\"], [0.4444444444444444, \"#bd3786\"], [0.5555555555555556, \"#d8576b\"], [0.6666666666666666, \"#ed7953\"], [0.7777777777777778, \"#fb9f3a\"], [0.8888888888888888, \"#fdca26\"], [1.0, \"#f0f921\"]], \"type\": \"histogram2dcontour\"}], \"mesh3d\": [{\"colorbar\": {\"outlinewidth\": 0, \"ticks\": \"\"}, \"type\": \"mesh3d\"}], \"parcoords\": [{\"line\": {\"colorbar\": {\"outlinewidth\": 0, \"ticks\": \"\"}}, \"type\": \"parcoords\"}], \"scatter\": [{\"marker\": {\"colorbar\": {\"outlinewidth\": 0, \"ticks\": \"\"}}, \"type\": \"scatter\"}], \"scatter3d\": [{\"line\": {\"colorbar\": {\"outlinewidth\": 0, \"ticks\": \"\"}}, \"marker\": {\"colorbar\": {\"outlinewidth\": 0, \"ticks\": \"\"}}, \"type\": \"scatter3d\"}], \"scattercarpet\": [{\"marker\": {\"colorbar\": {\"outlinewidth\": 0, \"ticks\": \"\"}}, \"type\": \"scattercarpet\"}], \"scattergeo\": [{\"marker\": {\"colorbar\": {\"outlinewidth\": 0, \"ticks\": \"\"}}, \"type\": \"scattergeo\"}], \"scattergl\": [{\"marker\": {\"colorbar\": {\"outlinewidth\": 0, \"ticks\": \"\"}}, \"type\": \"scattergl\"}], \"scattermapbox\": [{\"marker\": {\"colorbar\": {\"outlinewidth\": 0, \"ticks\": \"\"}}, \"type\": \"scattermapbox\"}], \"scatterpolar\": [{\"marker\": {\"colorbar\": {\"outlinewidth\": 0, \"ticks\": \"\"}}, \"type\": \"scatterpolar\"}], \"scatterpolargl\": [{\"marker\": {\"colorbar\": {\"outlinewidth\": 0, \"ticks\": \"\"}}, \"type\": \"scatterpolargl\"}], \"scatterternary\": [{\"marker\": {\"colorbar\": {\"outlinewidth\": 0, \"ticks\": \"\"}}, \"type\": \"scatterternary\"}], \"surface\": [{\"colorbar\": {\"outlinewidth\": 0, \"ticks\": \"\"}, \"colorscale\": [[0.0, \"#0d0887\"], [0.1111111111111111, \"#46039f\"], [0.2222222222222222, \"#7201a8\"], [0.3333333333333333, \"#9c179e\"], [0.4444444444444444, \"#bd3786\"], [0.5555555555555556, \"#d8576b\"], [0.6666666666666666, \"#ed7953\"], [0.7777777777777778, \"#fb9f3a\"], [0.8888888888888888, \"#fdca26\"], [1.0, \"#f0f921\"]], \"type\": \"surface\"}], \"table\": [{\"cells\": {\"fill\": {\"color\": \"#EBF0F8\"}, \"line\": {\"color\": \"white\"}}, \"header\": {\"fill\": {\"color\": \"#C8D4E3\"}, \"line\": {\"color\": \"white\"}}, \"type\": \"table\"}]}, \"layout\": {\"annotationdefaults\": {\"arrowcolor\": \"#2a3f5f\", \"arrowhead\": 0, \"arrowwidth\": 1}, \"colorscale\": {\"diverging\": [[0, \"#8e0152\"], [0.1, \"#c51b7d\"], [0.2, \"#de77ae\"], [0.3, \"#f1b6da\"], [0.4, \"#fde0ef\"], [0.5, \"#f7f7f7\"], [0.6, \"#e6f5d0\"], [0.7, \"#b8e186\"], [0.8, \"#7fbc41\"], [0.9, \"#4d9221\"], [1, \"#276419\"]], \"sequential\": [[0.0, \"#0d0887\"], [0.1111111111111111, \"#46039f\"], [0.2222222222222222, \"#7201a8\"], [0.3333333333333333, \"#9c179e\"], [0.4444444444444444, \"#bd3786\"], [0.5555555555555556, \"#d8576b\"], [0.6666666666666666, \"#ed7953\"], [0.7777777777777778, \"#fb9f3a\"], [0.8888888888888888, \"#fdca26\"], [1.0, \"#f0f921\"]], \"sequentialminus\": [[0.0, \"#0d0887\"], [0.1111111111111111, \"#46039f\"], [0.2222222222222222, \"#7201a8\"], [0.3333333333333333, \"#9c179e\"], [0.4444444444444444, \"#bd3786\"], [0.5555555555555556, \"#d8576b\"], [0.6666666666666666, \"#ed7953\"], [0.7777777777777778, \"#fb9f3a\"], [0.8888888888888888, \"#fdca26\"], [1.0, \"#f0f921\"]]}, \"colorway\": [\"#636efa\", \"#EF553B\", \"#00cc96\", \"#ab63fa\", \"#FFA15A\", \"#19d3f3\", \"#FF6692\", \"#B6E880\", \"#FF97FF\", \"#FECB52\"], \"font\": {\"color\": \"#2a3f5f\"}, \"geo\": {\"bgcolor\": \"white\", \"lakecolor\": \"white\", \"landcolor\": \"#E5ECF6\", \"showlakes\": true, \"showland\": true, \"subunitcolor\": \"white\"}, \"hoverlabel\": {\"align\": \"left\"}, \"hovermode\": \"closest\", \"mapbox\": {\"style\": \"light\"}, \"paper_bgcolor\": \"white\", \"plot_bgcolor\": \"#E5ECF6\", \"polar\": {\"angularaxis\": {\"gridcolor\": \"white\", \"linecolor\": \"white\", \"ticks\": \"\"}, \"bgcolor\": \"#E5ECF6\", \"radialaxis\": {\"gridcolor\": \"white\", \"linecolor\": \"white\", \"ticks\": \"\"}}, \"scene\": {\"xaxis\": {\"backgroundcolor\": \"#E5ECF6\", \"gridcolor\": \"white\", \"gridwidth\": 2, \"linecolor\": \"white\", \"showbackground\": true, \"ticks\": \"\", \"zerolinecolor\": \"white\"}, \"yaxis\": {\"backgroundcolor\": \"#E5ECF6\", \"gridcolor\": \"white\", \"gridwidth\": 2, \"linecolor\": \"white\", \"showbackground\": true, \"ticks\": \"\", \"zerolinecolor\": \"white\"}, \"zaxis\": {\"backgroundcolor\": \"#E5ECF6\", \"gridcolor\": \"white\", \"gridwidth\": 2, \"linecolor\": \"white\", \"showbackground\": true, \"ticks\": \"\", \"zerolinecolor\": \"white\"}}, \"shapedefaults\": {\"line\": {\"color\": \"#2a3f5f\"}}, \"ternary\": {\"aaxis\": {\"gridcolor\": \"white\", \"linecolor\": \"white\", \"ticks\": \"\"}, \"baxis\": {\"gridcolor\": \"white\", \"linecolor\": \"white\", \"ticks\": \"\"}, \"bgcolor\": \"#E5ECF6\", \"caxis\": {\"gridcolor\": \"white\", \"linecolor\": \"white\", \"ticks\": \"\"}}, \"title\": {\"x\": 0.05}, \"xaxis\": {\"automargin\": true, \"gridcolor\": \"white\", \"linecolor\": \"white\", \"ticks\": \"\", \"zerolinecolor\": \"white\", \"zerolinewidth\": 2}, \"yaxis\": {\"automargin\": true, \"gridcolor\": \"white\", \"linecolor\": \"white\", \"ticks\": \"\", \"zerolinecolor\": \"white\", \"zerolinewidth\": 2}}}, \"title\": {\"text\": \"Acceleration-Velocity_for_motor_max_power_207\"}, \"xaxis\": {\"title\": {\"text\": \"velocity (in m/s)\"}}, \"yaxis\": {\"title\": {\"text\": \"Acceleration (in m/s2\"}}},\n",
       "                        {\"responsive\": true}\n",
       "                    ).then(function(){\n",
       "                            \n",
       "var gd = document.getElementById('9a6e6b9d-8a72-451f-926c-274a3e788454');\n",
       "var x = new MutationObserver(function (mutations, observer) {{\n",
       "        var display = window.getComputedStyle(gd).display;\n",
       "        if (!display || display === 'none') {{\n",
       "            console.log([gd, 'removed!']);\n",
       "            Plotly.purge(gd);\n",
       "            observer.disconnect();\n",
       "        }}\n",
       "}});\n",
       "\n",
       "// Listen for the removal of the full notebook cells\n",
       "var notebookContainer = gd.closest('#notebook-container');\n",
       "if (notebookContainer) {{\n",
       "    x.observe(notebookContainer, {childList: true});\n",
       "}}\n",
       "\n",
       "// Listen for the clearing of the current output cell\n",
       "var outputEl = gd.closest('.output');\n",
       "if (outputEl) {{\n",
       "    x.observe(outputEl, {childList: true});\n",
       "}}\n",
       "\n",
       "                        })\n",
       "                };\n",
       "                });\n",
       "            </script>\n",
       "        </div>"
      ]
     },
     "metadata": {},
     "output_type": "display_data"
    }
   ],
   "source": [
    "motor_max_power = 207\n",
    "sol = driver(dict(vehicle_id=47844, db_path=db_path, inputs=dict(inputs={'motor_max_power': motor_max_power})))\n",
    "# plots acceleration versus velocity graph of the vehicle.\n",
    "layout = go.Layout(title=f\"Acceleration-Velocity_for_motor_max_power_{motor_max_power}\",\n",
    "                xaxis=dict(title='velocity (in m/s)'),\n",
    "                yaxis=dict(title='Acceleration (in m/s2'))\n",
    "data = sol['outputs']['discrete_acceleration_curves']\n",
    "fig = go.Figure(data=data, layout=layout)\n",
    "iplot(fig)"
   ]
  },
  {
   "cell_type": "code",
   "execution_count": null,
   "metadata": {},
   "outputs": [],
   "source": []
  }
 ],
 "metadata": {
  "kernelspec": {
   "display_name": "Python 3",
   "language": "python",
   "name": "python3"
  },
  "language_info": {
   "codemirror_mode": {
    "name": "ipython",
    "version": 3
   },
   "file_extension": ".py",
   "mimetype": "text/x-python",
   "name": "python",
   "nbconvert_exporter": "python",
   "pygments_lexer": "ipython3",
   "version": "3.7.1"
  }
 },
 "nbformat": 4,
 "nbformat_minor": 2
}

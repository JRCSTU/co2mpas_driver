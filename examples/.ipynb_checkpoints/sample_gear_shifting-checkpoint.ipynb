{
 "cells": [
  {
   "cell_type": "markdown",
   "metadata": {},
   "source": [
    "# Vehicle simulation for different gear shifting"
   ]
  },
  {
   "cell_type": "markdown",
   "metadata": {},
   "source": [
    "This is an ipython notebook to present how to use the co2mpas driver model (i.e., MFC) to simulate the driver behaviour on an electric vehicle."
   ]
  },
  {
   "cell_type": "markdown",
   "metadata": {},
   "source": [
    "# Import co2mpas driver model and other libraries"
   ]
  },
  {
   "cell_type": "code",
   "execution_count": 1,
   "metadata": {},
   "outputs": [
    {
     "data": {
      "text/html": [
       "        <script type=\"text/javascript\">\n",
       "        window.PlotlyConfig = {MathJaxConfig: 'local'};\n",
       "        if (window.MathJax) {MathJax.Hub.Config({SVG: {font: \"STIX-Web\"}});}\n",
       "        if (typeof require !== 'undefined') {\n",
       "        require.undef(\"plotly\");\n",
       "        requirejs.config({\n",
       "            paths: {\n",
       "                'plotly': ['https://cdn.plot.ly/plotly-latest.min']\n",
       "            }\n",
       "        });\n",
       "        require(['plotly'], function(Plotly) {\n",
       "            window._Plotly = Plotly;\n",
       "        });\n",
       "        }\n",
       "        </script>\n",
       "        "
      ]
     },
     "metadata": {},
     "output_type": "display_data"
    }
   ],
   "source": [
    "import numpy as np\n",
    "import schedula as sh\n",
    "from plotly import graph_objs as go\n",
    "from co2mpas_driver import dsp as driver\n",
    "from plotly.offline import download_plotlyjs, init_notebook_mode, plot, iplot\n",
    "init_notebook_mode(connected=True)"
   ]
  },
  {
   "cell_type": "markdown",
   "metadata": {},
   "source": [
    "# Processing chain model"
   ]
  },
  {
   "cell_type": "code",
   "execution_count": 2,
   "metadata": {},
   "outputs": [
    {
     "name": "stdout",
     "output_type": "stream",
     "text": [
      " * Serving Flask app \"C:\\Users\\makieas\\AppData\\Local\\Temp\\tmpj0j4no6m\" (lazy loading)\n",
      " * Environment: production\n",
      "   WARNING: Do not use the development server in a production environment.\n",
      "   Use a production WSGI server instead.\n",
      " * Debug mode: off\n"
     ]
    },
    {
     "name": "stderr",
     "output_type": "stream",
     "text": [
      " * Running on http://localhost:49474/ (Press CTRL+C to quit)\n"
     ]
    },
    {
     "data": {
      "text/html": [
       "\n",
       "<iframe width=\"100%\" height=\"500\" id=\"3080631534704\" src=\"http://localhost:49474/\">\n",
       "</iframe>\n"
      ],
      "text/plain": [
       "Site(SiteMap([(Dispatcher 3080589382152, SiteMap([(load, SiteMap()), (model, SiteMap()), (plot, SiteMap())]))]), host='localhost', port=0, depth=-1, index=False, root_path=None)"
      ]
     },
     "execution_count": 2,
     "metadata": {},
     "output_type": "execute_result"
    }
   ],
   "source": [
    "driver.plot(view=False).site(index=False)  # Click on the graph to see the model."
   ]
  },
  {
   "cell_type": "markdown",
   "metadata": {},
   "source": [
    "# Plot co2mpas driver model graph"
   ]
  },
  {
   "cell_type": "code",
   "execution_count": 3,
   "metadata": {},
   "outputs": [
    {
     "name": "stdout",
     "output_type": "stream",
     "text": [
      " * Serving Flask app \"C:\\Users\\makieas\\AppData\\Local\\Temp\\tmpveud0njs\" (lazy loading)\n",
      " * Environment: production\n",
      "   WARNING: Do not use the development server in a production environment.\n",
      "   Use a production WSGI server instead.\n",
      " * Debug mode: off\n"
     ]
    },
    {
     "name": "stderr",
     "output_type": "stream",
     "text": [
      " * Running on http://localhost:49481/ (Press CTRL+C to quit)\n"
     ]
    },
    {
     "data": {
      "text/html": [
       "\n",
       "<iframe width=\"100%\" height=\"500\" id=\"3080635980096\" src=\"http://localhost:49481/\">\n",
       "</iframe>\n"
      ],
      "text/plain": [
       "Site(SiteMap([(model, SiteMap())]), host='localhost', port=0, depth=-1, index=False, root_path=None)"
      ]
     },
     "execution_count": 3,
     "metadata": {},
     "output_type": "execute_result"
    }
   ],
   "source": [
    "driver.get_node('model')[0].plot(view=False).site(index=False)  # Click on the graph to see the model."
   ]
  },
  {
   "cell_type": "markdown",
   "metadata": {},
   "source": [
    "# User inputs to co2mpas driver model in order to extract the drivers acceleration behavior"
   ]
  },
  {
   "cell_type": "code",
   "execution_count": 4,
   "metadata": {},
   "outputs": [
    {
     "name": "stdout",
     "output_type": "stream",
     "text": [
      " * Serving Flask app \"C:\\Users\\makieas\\AppData\\Local\\Temp\\tmpobty1q80\" (lazy loading)\n",
      " * Environment: production\n",
      "   WARNING: Do not use the development server in a production environment.\n",
      "   Use a production WSGI server instead.\n",
      " * Debug mode: off\n"
     ]
    },
    {
     "name": "stderr",
     "output_type": "stream",
     "text": [
      " * Running on http://localhost:49486/ (Press CTRL+C to quit)\n",
      "127.0.0.1 - - [12/Nov/2019 12:49:48] \"GET / HTTP/1.1\" 200 -\n"
     ]
    },
    {
     "data": {
      "text/html": [
       "\n",
       "<iframe width=\"100%\" height=\"500\" id=\"3080665471688\" src=\"http://localhost:49486/\">\n",
       "</iframe>\n"
      ],
      "text/plain": [
       "Site(SiteMap([(Dispatcher 3080589382152, SiteMap([(load, SiteMap()), (model, SiteMap()), (plot, SiteMap())]))]), host='localhost', port=0, depth=-1, index=False, root_path=None)"
      ]
     },
     "execution_count": 4,
     "metadata": {},
     "output_type": "execute_result"
    }
   ],
   "source": [
    "# Remember to Insert vehicle data base path (db_path)\n",
    "sol = driver(dict(vehicle_id=27748, db_path='C:/Apps/new_MFC/co2mpas_driver/db/EuroSegmentCar.csv', \n",
    "                  inputs=dict(inputs={'gear_shifting_style': 1, 'desired_velocity': 40}))) # Insert vehicle data base path\n",
    "sol.plot(view=False).site(index=False)"
   ]
  },
  {
   "cell_type": "code",
   "execution_count": 5,
   "metadata": {},
   "outputs": [
    {
     "data": {
      "text/plain": [
       "['ignition_type',\n",
       " 'full_load_curve',\n",
       " 'engine_max_power',\n",
       " 'engine_max_speed_at_max_power',\n",
       " 'idle_engine_speed',\n",
       " 'full_load_speeds',\n",
       " 'full_load_powers',\n",
       " 'full_load_torques',\n",
       " 'vehicle_mass',\n",
       " 'r_dynamic',\n",
       " 'car_type',\n",
       " 'final_drive',\n",
       " 'gear_box_ratios',\n",
       " 'veh_params',\n",
       " 'engine_max_torque',\n",
       " 'fuel_eng_capacity',\n",
       " 'speed',\n",
       " 'acceleration',\n",
       " 'max_power',\n",
       " 'fuel_engine_stroke',\n",
       " 'fuel_type',\n",
       " 'fuel_turbo',\n",
       " 'hardcoded_params',\n",
       " 'road_loads',\n",
       " 'slope',\n",
       " 'gear',\n",
       " 'gear_count',\n",
       " 'sim_step',\n",
       " 'fc',\n",
       " 'tyre_radius',\n",
       " 'driveline_slippage',\n",
       " 'final_drive_ratio',\n",
       " 'driveline_efficiency',\n",
       " 'speed_per_gear',\n",
       " 'acc_per_gear',\n",
       " 'degree',\n",
       " 'coefs_per_gear',\n",
       " 'motor_max_power',\n",
       " 'motor_max_torque',\n",
       " 'vehicle_max_speed',\n",
       " 'poly_spline',\n",
       " 'start',\n",
       " 'stop',\n",
       " 'use_cubic',\n",
       " 'sp_bins',\n",
       " 'discrete_poly_spline',\n",
       " 'car_res_curve_force',\n",
       " 'discrete_car_res_curve_force',\n",
       " 'car_res_curve',\n",
       " 'discrete_car_res_curve',\n",
       " 'type_of_car',\n",
       " 'car_width',\n",
       " 'car_height',\n",
       " 'Alimit',\n",
       " 'curves',\n",
       " 'discrete_acceleration_curves',\n",
       " 'gear_shifting_style',\n",
       " 'use_linear_gs',\n",
       " 'gs',\n",
       " 'idle_engine_speed_median',\n",
       " 'idle_engine_speed_std',\n",
       " 'Tans',\n",
       " 'tans',\n",
       " 'duration',\n",
       " 'times',\n",
       " 'transmission',\n",
       " 'driver_style',\n",
       " 'driver_simulation_model',\n",
       " 'starting_velocity',\n",
       " 'desired_velocity',\n",
       " 'gears',\n",
       " 'velocities',\n",
       " 'accelerations']"
      ]
     },
     "execution_count": 5,
     "metadata": {},
     "output_type": "execute_result"
    }
   ],
   "source": [
    "list(driver.get_node('model')[0].dsp.data_nodes)"
   ]
  },
  {
   "cell_type": "markdown",
   "metadata": {},
   "source": [
    "# Compute and plot final acceleration curve per gear"
   ]
  },
  {
   "cell_type": "code",
   "execution_count": 6,
   "metadata": {},
   "outputs": [
    {
     "name": "stderr",
     "output_type": "stream",
     "text": [
      "127.0.0.1 - - [12/Nov/2019 12:49:49] \"GET / HTTP/1.1\" 200 -\n"
     ]
    },
    {
     "data": {
      "application/vnd.plotly.v1+json": {
       "config": {
        "linkText": "Export to plot.ly",
        "plotlyServerURL": "https://plot.ly",
        "showLink": false
       },
       "data": [
        {
         "name": "gear 0",
         "type": "scatter",
         "x": [
          1.966588756273578,
          2.798607076235476,
          3.6306253961973747,
          4.462643716159273,
          5.294662036121171,
          6.12668035608307,
          6.9586986760449685,
          7.790716996006866,
          8.622735315968765,
          9.454753635930663,
          10.286771955892563,
          11.11879027585446
         ],
         "y": [
          4.435345706200401,
          4.765903936018543,
          4.970109080077352,
          5.096646394073965,
          5.16316878423973,
          5.194622822520967,
          5.18981175551143,
          5.092856918347369,
          4.913825169320956,
          4.634513501174569,
          4.077826536435578,
          3.3636752805040087
         ]
        },
        {
         "name": "gear 1",
         "type": "scatter",
         "x": [
          3.7328768058896618,
          5.312170839150672,
          6.8914648724116825,
          8.470758905672692,
          10.050052938933703,
          11.629346972194714,
          13.208641005455725,
          14.787935038716736,
          16.367229071977746,
          17.946523105238754,
          19.52581713849977,
          21.10511117176078
         ],
         "y": [
          2.3366699330226504,
          2.510817683365867,
          2.6183989299919705,
          2.6850624905365286,
          2.720108432672639,
          2.7366793406451926,
          2.734144729732851,
          2.683066083812273,
          2.588746918471528,
          2.4415973567163585,
          2.148318370414841,
          1.772082586802112
         ]
        },
        {
         "name": "gear 2",
         "type": "scatter",
         "x": [
          6.017174552777365,
          8.562902248183173,
          11.108629943588982,
          13.654357638994789,
          16.200085334400594,
          18.745813029806406,
          21.29154072521221,
          23.83726842061802,
          26.38299611602383,
          28.928723811429634,
          31.47445150683545,
          34.02017920224125
         ],
         "y": [
          1.4496007917825702,
          1.557636896162158,
          1.6243771139765004,
          1.6657332117217354,
          1.6874746758246926,
          1.697754776140999,
          1.6961823786305652,
          1.664494700142799,
          1.6059818846073368,
          1.5146946564814445,
          1.3327530631277256,
          1.09934753070131
         ]
        },
        {
         "name": "gear 3",
         "type": "scatter",
         "x": [
          8.312385464661515,
          11.829163930479847,
          15.345942396298181,
          18.862720862116515,
          22.379499327934845,
          25.896277793753182,
          29.413056259571512,
          32.929834725389846,
          36.44661319120818,
          39.96339165702651,
          43.480170122844854,
          46.99694858866318
         ],
         "y": [
          1.0493378865888754,
          1.1275431263263382,
          1.1758550750426906,
          1.2057919517687188,
          1.221530175783546,
          1.2289717409378873,
          1.2278335128892897,
          1.2048954172675486,
          1.162539125424714,
          1.0964580722291053,
          0.9647540830103685,
          0.7957963468509484
         ]
        },
        {
         "name": "gear 4",
         "type": "scatter",
         "x": [
          10.471446624313856,
          14.901674042292793,
          19.331901460271734,
          23.76212887825067,
          28.192356296229608,
          32.62258371420855,
          37.052811132187486,
          41.48303855016643,
          45.91326596814537,
          50.3434933861243,
          54.773720804103256,
          59.20394822208219
         ],
         "y": [
          0.8329795594571485,
          0.8950600074961655,
          0.9334107296730637,
          0.9571750544968182,
          0.969668283869413,
          0.9755755056929623,
          0.9746719638399517,
          0.9564633724701159,
          0.9228403366773504,
          0.8703842429035167,
          0.7658357153793647,
          0.6317146258507529
         ]
        },
        {
         "name": "gear 0",
         "type": "scatter",
         "x": [
          1.966588756273578,
          2.798607076235476,
          3.6306253961973747,
          4.462643716159273,
          5.294662036121171,
          6.12668035608307,
          6.9586986760449685,
          7.790716996006866,
          8.622735315968765,
          9.454753635930663,
          10.286771955892563,
          11.11879027585446
         ],
         "y": [
          4.4391367679212035,
          4.760036835807607,
          4.967449507042442,
          5.096868394467879,
          5.170967854733334,
          5.199602988295469,
          5.179809639418188,
          5.095804396172648,
          4.9189845904372405,
          4.607928297897617,
          4.108394338046659,
          3.353322274184509
         ]
        },
        {
         "name": "gear 1",
         "type": "scatter",
         "x": [
          3.7328768058896618,
          5.312170839150672,
          6.8914648724116825,
          8.470758905672692,
          10.050052938933703,
          11.629346972194714,
          13.208641005455725,
          14.787935038716736,
          16.367229071977746,
          17.946523105238754,
          19.52581713849977,
          21.10511117176078
         ],
         "y": [
          2.3386671752950767,
          2.50772672325474,
          2.6169977890760174,
          2.6851794468416124,
          2.7242172112741443,
          2.7393030377361463,
          2.728875322230067,
          2.68461890139827,
          2.591465052523035,
          2.427591493526551,
          2.164422382970926,
          1.7666283200581878
         ]
        },
        {
         "name": "gear 2",
         "type": "scatter",
         "x": [
          6.017174552777365,
          8.562902248183173,
          11.108629943588982,
          13.654357638994789,
          16.200085334400594,
          18.745813029806406,
          21.29154072521221,
          23.83726842061802,
          26.38299611602383,
          28.928723811429634,
          31.47445150683545,
          34.02017920224125
         ],
         "y": [
          1.4508398217108356,
          1.5557193560932188,
          1.6235078876675297,
          1.6658057679480378,
          1.690023640327479,
          1.6993824400770547,
          1.6929133943464318,
          1.665458022163743,
          1.6076681344355865,
          1.5060058339470273,
          1.342743515361594,
          1.0959638652212846
         ]
        },
        {
         "name": "gear 3",
         "type": "scatter",
         "x": [
          8.312385464661515,
          11.829163930479847,
          15.345942396298181,
          18.862720862116515,
          22.379499327934845,
          25.896277793753182,
          29.413056259571512,
          32.929834725389846,
          36.44661319120818,
          39.96339165702651,
          43.480170122844854,
          46.99694858866318
         ],
         "y": [
          1.050234796313066,
          1.126155056276434,
          1.1752258589832116,
          1.2058444738131322,
          1.2233753217295937,
          1.23014997527966,
          1.2254671585940597,
          1.2055927473871886,
          1.1637597689571058,
          1.0901684021855373,
          0.9719859775378739,
          0.793346977063173
         ]
        },
        {
         "name": "gear 4",
         "type": "scatter",
         "x": [
          10.471446624313856,
          14.901674042292793,
          19.331901460271734,
          23.76212887825067,
          28.192356296229608,
          32.62258371420855,
          37.052811132187486,
          41.48303855016643,
          45.91326596814537,
          50.3434933861243,
          54.773720804103256,
          59.20394822208219
         ],
         "y": [
          0.8336915393412989,
          0.8939581374565504,
          0.9329112488835805,
          0.9572167472537235,
          0.9711329873523575,
          0.9765108051189049,
          0.9727935176468305,
          0.9570169231836438,
          0.9238093011308979,
          0.8653914120441889,
          0.7715764976331567,
          0.6297702807614857
         ]
        },
        {
         "line": {
          "color": "#0D1A00"
         },
         "type": "scatter",
         "x": [
          11.11879027585446,
          11.11879027585446
         ],
         "y": [
          0,
          5
         ]
        },
        {
         "line": {
          "color": "#0D1A00"
         },
         "type": "scatter",
         "x": [
          21.10511117176078,
          21.10511117176078
         ],
         "y": [
          0,
          5
         ]
        },
        {
         "line": {
          "color": "#0D1A00"
         },
         "type": "scatter",
         "x": [
          34.02017920224125,
          34.02017920224125
         ],
         "y": [
          0,
          5
         ]
        },
        {
         "line": {
          "color": "#0D1A00"
         },
         "type": "scatter",
         "x": [
          46.99694858866318,
          46.99694858866318
         ],
         "y": [
          0,
          5
         ]
        }
       ],
       "layout": {
        "template": {
         "data": {
          "bar": [
           {
            "error_x": {
             "color": "#2a3f5f"
            },
            "error_y": {
             "color": "#2a3f5f"
            },
            "marker": {
             "line": {
              "color": "#E5ECF6",
              "width": 0.5
             }
            },
            "type": "bar"
           }
          ],
          "barpolar": [
           {
            "marker": {
             "line": {
              "color": "#E5ECF6",
              "width": 0.5
             }
            },
            "type": "barpolar"
           }
          ],
          "carpet": [
           {
            "aaxis": {
             "endlinecolor": "#2a3f5f",
             "gridcolor": "white",
             "linecolor": "white",
             "minorgridcolor": "white",
             "startlinecolor": "#2a3f5f"
            },
            "baxis": {
             "endlinecolor": "#2a3f5f",
             "gridcolor": "white",
             "linecolor": "white",
             "minorgridcolor": "white",
             "startlinecolor": "#2a3f5f"
            },
            "type": "carpet"
           }
          ],
          "choropleth": [
           {
            "colorbar": {
             "outlinewidth": 0,
             "ticks": ""
            },
            "type": "choropleth"
           }
          ],
          "contour": [
           {
            "colorbar": {
             "outlinewidth": 0,
             "ticks": ""
            },
            "colorscale": [
             [
              0,
              "#0d0887"
             ],
             [
              0.1111111111111111,
              "#46039f"
             ],
             [
              0.2222222222222222,
              "#7201a8"
             ],
             [
              0.3333333333333333,
              "#9c179e"
             ],
             [
              0.4444444444444444,
              "#bd3786"
             ],
             [
              0.5555555555555556,
              "#d8576b"
             ],
             [
              0.6666666666666666,
              "#ed7953"
             ],
             [
              0.7777777777777778,
              "#fb9f3a"
             ],
             [
              0.8888888888888888,
              "#fdca26"
             ],
             [
              1,
              "#f0f921"
             ]
            ],
            "type": "contour"
           }
          ],
          "contourcarpet": [
           {
            "colorbar": {
             "outlinewidth": 0,
             "ticks": ""
            },
            "type": "contourcarpet"
           }
          ],
          "heatmap": [
           {
            "colorbar": {
             "outlinewidth": 0,
             "ticks": ""
            },
            "colorscale": [
             [
              0,
              "#0d0887"
             ],
             [
              0.1111111111111111,
              "#46039f"
             ],
             [
              0.2222222222222222,
              "#7201a8"
             ],
             [
              0.3333333333333333,
              "#9c179e"
             ],
             [
              0.4444444444444444,
              "#bd3786"
             ],
             [
              0.5555555555555556,
              "#d8576b"
             ],
             [
              0.6666666666666666,
              "#ed7953"
             ],
             [
              0.7777777777777778,
              "#fb9f3a"
             ],
             [
              0.8888888888888888,
              "#fdca26"
             ],
             [
              1,
              "#f0f921"
             ]
            ],
            "type": "heatmap"
           }
          ],
          "heatmapgl": [
           {
            "colorbar": {
             "outlinewidth": 0,
             "ticks": ""
            },
            "colorscale": [
             [
              0,
              "#0d0887"
             ],
             [
              0.1111111111111111,
              "#46039f"
             ],
             [
              0.2222222222222222,
              "#7201a8"
             ],
             [
              0.3333333333333333,
              "#9c179e"
             ],
             [
              0.4444444444444444,
              "#bd3786"
             ],
             [
              0.5555555555555556,
              "#d8576b"
             ],
             [
              0.6666666666666666,
              "#ed7953"
             ],
             [
              0.7777777777777778,
              "#fb9f3a"
             ],
             [
              0.8888888888888888,
              "#fdca26"
             ],
             [
              1,
              "#f0f921"
             ]
            ],
            "type": "heatmapgl"
           }
          ],
          "histogram": [
           {
            "marker": {
             "colorbar": {
              "outlinewidth": 0,
              "ticks": ""
             }
            },
            "type": "histogram"
           }
          ],
          "histogram2d": [
           {
            "colorbar": {
             "outlinewidth": 0,
             "ticks": ""
            },
            "colorscale": [
             [
              0,
              "#0d0887"
             ],
             [
              0.1111111111111111,
              "#46039f"
             ],
             [
              0.2222222222222222,
              "#7201a8"
             ],
             [
              0.3333333333333333,
              "#9c179e"
             ],
             [
              0.4444444444444444,
              "#bd3786"
             ],
             [
              0.5555555555555556,
              "#d8576b"
             ],
             [
              0.6666666666666666,
              "#ed7953"
             ],
             [
              0.7777777777777778,
              "#fb9f3a"
             ],
             [
              0.8888888888888888,
              "#fdca26"
             ],
             [
              1,
              "#f0f921"
             ]
            ],
            "type": "histogram2d"
           }
          ],
          "histogram2dcontour": [
           {
            "colorbar": {
             "outlinewidth": 0,
             "ticks": ""
            },
            "colorscale": [
             [
              0,
              "#0d0887"
             ],
             [
              0.1111111111111111,
              "#46039f"
             ],
             [
              0.2222222222222222,
              "#7201a8"
             ],
             [
              0.3333333333333333,
              "#9c179e"
             ],
             [
              0.4444444444444444,
              "#bd3786"
             ],
             [
              0.5555555555555556,
              "#d8576b"
             ],
             [
              0.6666666666666666,
              "#ed7953"
             ],
             [
              0.7777777777777778,
              "#fb9f3a"
             ],
             [
              0.8888888888888888,
              "#fdca26"
             ],
             [
              1,
              "#f0f921"
             ]
            ],
            "type": "histogram2dcontour"
           }
          ],
          "mesh3d": [
           {
            "colorbar": {
             "outlinewidth": 0,
             "ticks": ""
            },
            "type": "mesh3d"
           }
          ],
          "parcoords": [
           {
            "line": {
             "colorbar": {
              "outlinewidth": 0,
              "ticks": ""
             }
            },
            "type": "parcoords"
           }
          ],
          "scatter": [
           {
            "marker": {
             "colorbar": {
              "outlinewidth": 0,
              "ticks": ""
             }
            },
            "type": "scatter"
           }
          ],
          "scatter3d": [
           {
            "line": {
             "colorbar": {
              "outlinewidth": 0,
              "ticks": ""
             }
            },
            "marker": {
             "colorbar": {
              "outlinewidth": 0,
              "ticks": ""
             }
            },
            "type": "scatter3d"
           }
          ],
          "scattercarpet": [
           {
            "marker": {
             "colorbar": {
              "outlinewidth": 0,
              "ticks": ""
             }
            },
            "type": "scattercarpet"
           }
          ],
          "scattergeo": [
           {
            "marker": {
             "colorbar": {
              "outlinewidth": 0,
              "ticks": ""
             }
            },
            "type": "scattergeo"
           }
          ],
          "scattergl": [
           {
            "marker": {
             "colorbar": {
              "outlinewidth": 0,
              "ticks": ""
             }
            },
            "type": "scattergl"
           }
          ],
          "scattermapbox": [
           {
            "marker": {
             "colorbar": {
              "outlinewidth": 0,
              "ticks": ""
             }
            },
            "type": "scattermapbox"
           }
          ],
          "scatterpolar": [
           {
            "marker": {
             "colorbar": {
              "outlinewidth": 0,
              "ticks": ""
             }
            },
            "type": "scatterpolar"
           }
          ],
          "scatterpolargl": [
           {
            "marker": {
             "colorbar": {
              "outlinewidth": 0,
              "ticks": ""
             }
            },
            "type": "scatterpolargl"
           }
          ],
          "scatterternary": [
           {
            "marker": {
             "colorbar": {
              "outlinewidth": 0,
              "ticks": ""
             }
            },
            "type": "scatterternary"
           }
          ],
          "surface": [
           {
            "colorbar": {
             "outlinewidth": 0,
             "ticks": ""
            },
            "colorscale": [
             [
              0,
              "#0d0887"
             ],
             [
              0.1111111111111111,
              "#46039f"
             ],
             [
              0.2222222222222222,
              "#7201a8"
             ],
             [
              0.3333333333333333,
              "#9c179e"
             ],
             [
              0.4444444444444444,
              "#bd3786"
             ],
             [
              0.5555555555555556,
              "#d8576b"
             ],
             [
              0.6666666666666666,
              "#ed7953"
             ],
             [
              0.7777777777777778,
              "#fb9f3a"
             ],
             [
              0.8888888888888888,
              "#fdca26"
             ],
             [
              1,
              "#f0f921"
             ]
            ],
            "type": "surface"
           }
          ],
          "table": [
           {
            "cells": {
             "fill": {
              "color": "#EBF0F8"
             },
             "line": {
              "color": "white"
             }
            },
            "header": {
             "fill": {
              "color": "#C8D4E3"
             },
             "line": {
              "color": "white"
             }
            },
            "type": "table"
           }
          ]
         },
         "layout": {
          "annotationdefaults": {
           "arrowcolor": "#2a3f5f",
           "arrowhead": 0,
           "arrowwidth": 1
          },
          "colorscale": {
           "diverging": [
            [
             0,
             "#8e0152"
            ],
            [
             0.1,
             "#c51b7d"
            ],
            [
             0.2,
             "#de77ae"
            ],
            [
             0.3,
             "#f1b6da"
            ],
            [
             0.4,
             "#fde0ef"
            ],
            [
             0.5,
             "#f7f7f7"
            ],
            [
             0.6,
             "#e6f5d0"
            ],
            [
             0.7,
             "#b8e186"
            ],
            [
             0.8,
             "#7fbc41"
            ],
            [
             0.9,
             "#4d9221"
            ],
            [
             1,
             "#276419"
            ]
           ],
           "sequential": [
            [
             0,
             "#0d0887"
            ],
            [
             0.1111111111111111,
             "#46039f"
            ],
            [
             0.2222222222222222,
             "#7201a8"
            ],
            [
             0.3333333333333333,
             "#9c179e"
            ],
            [
             0.4444444444444444,
             "#bd3786"
            ],
            [
             0.5555555555555556,
             "#d8576b"
            ],
            [
             0.6666666666666666,
             "#ed7953"
            ],
            [
             0.7777777777777778,
             "#fb9f3a"
            ],
            [
             0.8888888888888888,
             "#fdca26"
            ],
            [
             1,
             "#f0f921"
            ]
           ],
           "sequentialminus": [
            [
             0,
             "#0d0887"
            ],
            [
             0.1111111111111111,
             "#46039f"
            ],
            [
             0.2222222222222222,
             "#7201a8"
            ],
            [
             0.3333333333333333,
             "#9c179e"
            ],
            [
             0.4444444444444444,
             "#bd3786"
            ],
            [
             0.5555555555555556,
             "#d8576b"
            ],
            [
             0.6666666666666666,
             "#ed7953"
            ],
            [
             0.7777777777777778,
             "#fb9f3a"
            ],
            [
             0.8888888888888888,
             "#fdca26"
            ],
            [
             1,
             "#f0f921"
            ]
           ]
          },
          "colorway": [
           "#636efa",
           "#EF553B",
           "#00cc96",
           "#ab63fa",
           "#FFA15A",
           "#19d3f3",
           "#FF6692",
           "#B6E880",
           "#FF97FF",
           "#FECB52"
          ],
          "font": {
           "color": "#2a3f5f"
          },
          "geo": {
           "bgcolor": "white",
           "lakecolor": "white",
           "landcolor": "#E5ECF6",
           "showlakes": true,
           "showland": true,
           "subunitcolor": "white"
          },
          "hoverlabel": {
           "align": "left"
          },
          "hovermode": "closest",
          "mapbox": {
           "style": "light"
          },
          "paper_bgcolor": "white",
          "plot_bgcolor": "#E5ECF6",
          "polar": {
           "angularaxis": {
            "gridcolor": "white",
            "linecolor": "white",
            "ticks": ""
           },
           "bgcolor": "#E5ECF6",
           "radialaxis": {
            "gridcolor": "white",
            "linecolor": "white",
            "ticks": ""
           }
          },
          "scene": {
           "xaxis": {
            "backgroundcolor": "#E5ECF6",
            "gridcolor": "white",
            "gridwidth": 2,
            "linecolor": "white",
            "showbackground": true,
            "ticks": "",
            "zerolinecolor": "white"
           },
           "yaxis": {
            "backgroundcolor": "#E5ECF6",
            "gridcolor": "white",
            "gridwidth": 2,
            "linecolor": "white",
            "showbackground": true,
            "ticks": "",
            "zerolinecolor": "white"
           },
           "zaxis": {
            "backgroundcolor": "#E5ECF6",
            "gridcolor": "white",
            "gridwidth": 2,
            "linecolor": "white",
            "showbackground": true,
            "ticks": "",
            "zerolinecolor": "white"
           }
          },
          "shapedefaults": {
           "line": {
            "color": "#2a3f5f"
           }
          },
          "ternary": {
           "aaxis": {
            "gridcolor": "white",
            "linecolor": "white",
            "ticks": ""
           },
           "baxis": {
            "gridcolor": "white",
            "linecolor": "white",
            "ticks": ""
           },
           "bgcolor": "#E5ECF6",
           "caxis": {
            "gridcolor": "white",
            "linecolor": "white",
            "ticks": ""
           }
          },
          "title": {
           "x": 0.05
          },
          "xaxis": {
           "automargin": true,
           "gridcolor": "white",
           "linecolor": "white",
           "ticks": "",
           "zerolinecolor": "white",
           "zerolinewidth": 2
          },
          "yaxis": {
           "automargin": true,
           "gridcolor": "white",
           "linecolor": "white",
           "ticks": "",
           "zerolinecolor": "white",
           "zerolinewidth": 2
          }
         }
        },
        "title": {
         "text": "Acceleration-Velocity per gear"
        },
        "xaxis": {
         "title": {
          "text": "velocity (in m/s)"
         }
        },
        "yaxis": {
         "title": {
          "text": "Acceleration (in m/s2"
         }
        }
       }
      },
      "text/html": [
       "<div>\n",
       "        \n",
       "        \n",
       "            <div id=\"1b04b8b8-d20b-4251-a565-050edb7a1ed9\" class=\"plotly-graph-div\" style=\"height:525px; width:100%;\"></div>\n",
       "            <script type=\"text/javascript\">\n",
       "                require([\"plotly\"], function(Plotly) {\n",
       "                    window.PLOTLYENV=window.PLOTLYENV || {};\n",
       "                    \n",
       "                if (document.getElementById(\"1b04b8b8-d20b-4251-a565-050edb7a1ed9\")) {\n",
       "                    Plotly.newPlot(\n",
       "                        '1b04b8b8-d20b-4251-a565-050edb7a1ed9',\n",
       "                        [{\"name\": \"gear 0\", \"type\": \"scatter\", \"x\": [1.966588756273578, 2.798607076235476, 3.6306253961973747, 4.462643716159273, 5.294662036121171, 6.12668035608307, 6.9586986760449685, 7.790716996006866, 8.622735315968765, 9.454753635930663, 10.286771955892563, 11.11879027585446], \"y\": [4.435345706200401, 4.765903936018543, 4.970109080077352, 5.096646394073965, 5.16316878423973, 5.194622822520967, 5.18981175551143, 5.092856918347369, 4.913825169320956, 4.634513501174569, 4.077826536435578, 3.3636752805040087]}, {\"name\": \"gear 1\", \"type\": \"scatter\", \"x\": [3.7328768058896618, 5.312170839150672, 6.8914648724116825, 8.470758905672692, 10.050052938933703, 11.629346972194714, 13.208641005455725, 14.787935038716736, 16.367229071977746, 17.946523105238754, 19.52581713849977, 21.10511117176078], \"y\": [2.3366699330226504, 2.510817683365867, 2.6183989299919705, 2.6850624905365286, 2.720108432672639, 2.7366793406451926, 2.734144729732851, 2.683066083812273, 2.588746918471528, 2.4415973567163585, 2.148318370414841, 1.772082586802112]}, {\"name\": \"gear 2\", \"type\": \"scatter\", \"x\": [6.017174552777365, 8.562902248183173, 11.108629943588982, 13.654357638994789, 16.200085334400594, 18.745813029806406, 21.29154072521221, 23.83726842061802, 26.38299611602383, 28.928723811429634, 31.47445150683545, 34.02017920224125], \"y\": [1.4496007917825702, 1.557636896162158, 1.6243771139765004, 1.6657332117217354, 1.6874746758246926, 1.697754776140999, 1.6961823786305652, 1.664494700142799, 1.6059818846073368, 1.5146946564814445, 1.3327530631277256, 1.09934753070131]}, {\"name\": \"gear 3\", \"type\": \"scatter\", \"x\": [8.312385464661515, 11.829163930479847, 15.345942396298181, 18.862720862116515, 22.379499327934845, 25.896277793753182, 29.413056259571512, 32.929834725389846, 36.44661319120818, 39.96339165702651, 43.480170122844854, 46.99694858866318], \"y\": [1.0493378865888754, 1.1275431263263382, 1.1758550750426906, 1.2057919517687188, 1.221530175783546, 1.2289717409378873, 1.2278335128892897, 1.2048954172675486, 1.162539125424714, 1.0964580722291053, 0.9647540830103685, 0.7957963468509484]}, {\"name\": \"gear 4\", \"type\": \"scatter\", \"x\": [10.471446624313856, 14.901674042292793, 19.331901460271734, 23.76212887825067, 28.192356296229608, 32.62258371420855, 37.052811132187486, 41.48303855016643, 45.91326596814537, 50.3434933861243, 54.773720804103256, 59.20394822208219], \"y\": [0.8329795594571485, 0.8950600074961655, 0.9334107296730637, 0.9571750544968182, 0.969668283869413, 0.9755755056929623, 0.9746719638399517, 0.9564633724701159, 0.9228403366773504, 0.8703842429035167, 0.7658357153793647, 0.6317146258507529]}, {\"name\": \"gear 0\", \"type\": \"scatter\", \"x\": [1.966588756273578, 2.798607076235476, 3.6306253961973747, 4.462643716159273, 5.294662036121171, 6.12668035608307, 6.9586986760449685, 7.790716996006866, 8.622735315968765, 9.454753635930663, 10.286771955892563, 11.11879027585446], \"y\": [4.4391367679212035, 4.760036835807607, 4.967449507042442, 5.096868394467879, 5.170967854733334, 5.199602988295469, 5.179809639418188, 5.095804396172648, 4.9189845904372405, 4.607928297897617, 4.108394338046659, 3.353322274184509]}, {\"name\": \"gear 1\", \"type\": \"scatter\", \"x\": [3.7328768058896618, 5.312170839150672, 6.8914648724116825, 8.470758905672692, 10.050052938933703, 11.629346972194714, 13.208641005455725, 14.787935038716736, 16.367229071977746, 17.946523105238754, 19.52581713849977, 21.10511117176078], \"y\": [2.3386671752950767, 2.50772672325474, 2.6169977890760174, 2.6851794468416124, 2.7242172112741443, 2.7393030377361463, 2.728875322230067, 2.68461890139827, 2.591465052523035, 2.427591493526551, 2.164422382970926, 1.7666283200581878]}, {\"name\": \"gear 2\", \"type\": \"scatter\", \"x\": [6.017174552777365, 8.562902248183173, 11.108629943588982, 13.654357638994789, 16.200085334400594, 18.745813029806406, 21.29154072521221, 23.83726842061802, 26.38299611602383, 28.928723811429634, 31.47445150683545, 34.02017920224125], \"y\": [1.4508398217108356, 1.5557193560932188, 1.6235078876675297, 1.6658057679480378, 1.690023640327479, 1.6993824400770547, 1.6929133943464318, 1.665458022163743, 1.6076681344355865, 1.5060058339470273, 1.342743515361594, 1.0959638652212846]}, {\"name\": \"gear 3\", \"type\": \"scatter\", \"x\": [8.312385464661515, 11.829163930479847, 15.345942396298181, 18.862720862116515, 22.379499327934845, 25.896277793753182, 29.413056259571512, 32.929834725389846, 36.44661319120818, 39.96339165702651, 43.480170122844854, 46.99694858866318], \"y\": [1.050234796313066, 1.126155056276434, 1.1752258589832116, 1.2058444738131322, 1.2233753217295937, 1.23014997527966, 1.2254671585940597, 1.2055927473871886, 1.1637597689571058, 1.0901684021855373, 0.9719859775378739, 0.793346977063173]}, {\"name\": \"gear 4\", \"type\": \"scatter\", \"x\": [10.471446624313856, 14.901674042292793, 19.331901460271734, 23.76212887825067, 28.192356296229608, 32.62258371420855, 37.052811132187486, 41.48303855016643, 45.91326596814537, 50.3434933861243, 54.773720804103256, 59.20394822208219], \"y\": [0.8336915393412989, 0.8939581374565504, 0.9329112488835805, 0.9572167472537235, 0.9711329873523575, 0.9765108051189049, 0.9727935176468305, 0.9570169231836438, 0.9238093011308979, 0.8653914120441889, 0.7715764976331567, 0.6297702807614857]}, {\"line\": {\"color\": \"#0D1A00\"}, \"type\": \"scatter\", \"x\": [11.11879027585446, 11.11879027585446], \"y\": [0, 5]}, {\"line\": {\"color\": \"#0D1A00\"}, \"type\": \"scatter\", \"x\": [21.10511117176078, 21.10511117176078], \"y\": [0, 5]}, {\"line\": {\"color\": \"#0D1A00\"}, \"type\": \"scatter\", \"x\": [34.02017920224125, 34.02017920224125], \"y\": [0, 5]}, {\"line\": {\"color\": \"#0D1A00\"}, \"type\": \"scatter\", \"x\": [46.99694858866318, 46.99694858866318], \"y\": [0, 5]}],\n",
       "                        {\"template\": {\"data\": {\"bar\": [{\"error_x\": {\"color\": \"#2a3f5f\"}, \"error_y\": {\"color\": \"#2a3f5f\"}, \"marker\": {\"line\": {\"color\": \"#E5ECF6\", \"width\": 0.5}}, \"type\": \"bar\"}], \"barpolar\": [{\"marker\": {\"line\": {\"color\": \"#E5ECF6\", \"width\": 0.5}}, \"type\": \"barpolar\"}], \"carpet\": [{\"aaxis\": {\"endlinecolor\": \"#2a3f5f\", \"gridcolor\": \"white\", \"linecolor\": \"white\", \"minorgridcolor\": \"white\", \"startlinecolor\": \"#2a3f5f\"}, \"baxis\": {\"endlinecolor\": \"#2a3f5f\", \"gridcolor\": \"white\", \"linecolor\": \"white\", \"minorgridcolor\": \"white\", \"startlinecolor\": \"#2a3f5f\"}, \"type\": \"carpet\"}], \"choropleth\": [{\"colorbar\": {\"outlinewidth\": 0, \"ticks\": \"\"}, \"type\": \"choropleth\"}], \"contour\": [{\"colorbar\": {\"outlinewidth\": 0, \"ticks\": \"\"}, \"colorscale\": [[0.0, \"#0d0887\"], [0.1111111111111111, \"#46039f\"], [0.2222222222222222, \"#7201a8\"], [0.3333333333333333, \"#9c179e\"], [0.4444444444444444, \"#bd3786\"], [0.5555555555555556, \"#d8576b\"], [0.6666666666666666, \"#ed7953\"], [0.7777777777777778, \"#fb9f3a\"], [0.8888888888888888, \"#fdca26\"], [1.0, \"#f0f921\"]], \"type\": \"contour\"}], \"contourcarpet\": [{\"colorbar\": {\"outlinewidth\": 0, \"ticks\": \"\"}, \"type\": \"contourcarpet\"}], \"heatmap\": [{\"colorbar\": {\"outlinewidth\": 0, \"ticks\": \"\"}, \"colorscale\": [[0.0, \"#0d0887\"], [0.1111111111111111, \"#46039f\"], [0.2222222222222222, \"#7201a8\"], [0.3333333333333333, \"#9c179e\"], [0.4444444444444444, \"#bd3786\"], [0.5555555555555556, \"#d8576b\"], [0.6666666666666666, \"#ed7953\"], [0.7777777777777778, \"#fb9f3a\"], [0.8888888888888888, \"#fdca26\"], [1.0, \"#f0f921\"]], \"type\": \"heatmap\"}], \"heatmapgl\": [{\"colorbar\": {\"outlinewidth\": 0, \"ticks\": \"\"}, \"colorscale\": [[0.0, \"#0d0887\"], [0.1111111111111111, \"#46039f\"], [0.2222222222222222, \"#7201a8\"], [0.3333333333333333, \"#9c179e\"], [0.4444444444444444, \"#bd3786\"], [0.5555555555555556, \"#d8576b\"], [0.6666666666666666, \"#ed7953\"], [0.7777777777777778, \"#fb9f3a\"], [0.8888888888888888, \"#fdca26\"], [1.0, \"#f0f921\"]], \"type\": \"heatmapgl\"}], \"histogram\": [{\"marker\": {\"colorbar\": {\"outlinewidth\": 0, \"ticks\": \"\"}}, \"type\": \"histogram\"}], \"histogram2d\": [{\"colorbar\": {\"outlinewidth\": 0, \"ticks\": \"\"}, \"colorscale\": [[0.0, \"#0d0887\"], [0.1111111111111111, \"#46039f\"], [0.2222222222222222, \"#7201a8\"], [0.3333333333333333, \"#9c179e\"], [0.4444444444444444, \"#bd3786\"], [0.5555555555555556, \"#d8576b\"], [0.6666666666666666, \"#ed7953\"], [0.7777777777777778, \"#fb9f3a\"], [0.8888888888888888, \"#fdca26\"], [1.0, \"#f0f921\"]], \"type\": \"histogram2d\"}], \"histogram2dcontour\": [{\"colorbar\": {\"outlinewidth\": 0, \"ticks\": \"\"}, \"colorscale\": [[0.0, \"#0d0887\"], [0.1111111111111111, \"#46039f\"], [0.2222222222222222, \"#7201a8\"], [0.3333333333333333, \"#9c179e\"], [0.4444444444444444, \"#bd3786\"], [0.5555555555555556, \"#d8576b\"], [0.6666666666666666, \"#ed7953\"], [0.7777777777777778, \"#fb9f3a\"], [0.8888888888888888, \"#fdca26\"], [1.0, \"#f0f921\"]], \"type\": \"histogram2dcontour\"}], \"mesh3d\": [{\"colorbar\": {\"outlinewidth\": 0, \"ticks\": \"\"}, \"type\": \"mesh3d\"}], \"parcoords\": [{\"line\": {\"colorbar\": {\"outlinewidth\": 0, \"ticks\": \"\"}}, \"type\": \"parcoords\"}], \"scatter\": [{\"marker\": {\"colorbar\": {\"outlinewidth\": 0, \"ticks\": \"\"}}, \"type\": \"scatter\"}], \"scatter3d\": [{\"line\": {\"colorbar\": {\"outlinewidth\": 0, \"ticks\": \"\"}}, \"marker\": {\"colorbar\": {\"outlinewidth\": 0, \"ticks\": \"\"}}, \"type\": \"scatter3d\"}], \"scattercarpet\": [{\"marker\": {\"colorbar\": {\"outlinewidth\": 0, \"ticks\": \"\"}}, \"type\": \"scattercarpet\"}], \"scattergeo\": [{\"marker\": {\"colorbar\": {\"outlinewidth\": 0, \"ticks\": \"\"}}, \"type\": \"scattergeo\"}], \"scattergl\": [{\"marker\": {\"colorbar\": {\"outlinewidth\": 0, \"ticks\": \"\"}}, \"type\": \"scattergl\"}], \"scattermapbox\": [{\"marker\": {\"colorbar\": {\"outlinewidth\": 0, \"ticks\": \"\"}}, \"type\": \"scattermapbox\"}], \"scatterpolar\": [{\"marker\": {\"colorbar\": {\"outlinewidth\": 0, \"ticks\": \"\"}}, \"type\": \"scatterpolar\"}], \"scatterpolargl\": [{\"marker\": {\"colorbar\": {\"outlinewidth\": 0, \"ticks\": \"\"}}, \"type\": \"scatterpolargl\"}], \"scatterternary\": [{\"marker\": {\"colorbar\": {\"outlinewidth\": 0, \"ticks\": \"\"}}, \"type\": \"scatterternary\"}], \"surface\": [{\"colorbar\": {\"outlinewidth\": 0, \"ticks\": \"\"}, \"colorscale\": [[0.0, \"#0d0887\"], [0.1111111111111111, \"#46039f\"], [0.2222222222222222, \"#7201a8\"], [0.3333333333333333, \"#9c179e\"], [0.4444444444444444, \"#bd3786\"], [0.5555555555555556, \"#d8576b\"], [0.6666666666666666, \"#ed7953\"], [0.7777777777777778, \"#fb9f3a\"], [0.8888888888888888, \"#fdca26\"], [1.0, \"#f0f921\"]], \"type\": \"surface\"}], \"table\": [{\"cells\": {\"fill\": {\"color\": \"#EBF0F8\"}, \"line\": {\"color\": \"white\"}}, \"header\": {\"fill\": {\"color\": \"#C8D4E3\"}, \"line\": {\"color\": \"white\"}}, \"type\": \"table\"}]}, \"layout\": {\"annotationdefaults\": {\"arrowcolor\": \"#2a3f5f\", \"arrowhead\": 0, \"arrowwidth\": 1}, \"colorscale\": {\"diverging\": [[0, \"#8e0152\"], [0.1, \"#c51b7d\"], [0.2, \"#de77ae\"], [0.3, \"#f1b6da\"], [0.4, \"#fde0ef\"], [0.5, \"#f7f7f7\"], [0.6, \"#e6f5d0\"], [0.7, \"#b8e186\"], [0.8, \"#7fbc41\"], [0.9, \"#4d9221\"], [1, \"#276419\"]], \"sequential\": [[0.0, \"#0d0887\"], [0.1111111111111111, \"#46039f\"], [0.2222222222222222, \"#7201a8\"], [0.3333333333333333, \"#9c179e\"], [0.4444444444444444, \"#bd3786\"], [0.5555555555555556, \"#d8576b\"], [0.6666666666666666, \"#ed7953\"], [0.7777777777777778, \"#fb9f3a\"], [0.8888888888888888, \"#fdca26\"], [1.0, \"#f0f921\"]], \"sequentialminus\": [[0.0, \"#0d0887\"], [0.1111111111111111, \"#46039f\"], [0.2222222222222222, \"#7201a8\"], [0.3333333333333333, \"#9c179e\"], [0.4444444444444444, \"#bd3786\"], [0.5555555555555556, \"#d8576b\"], [0.6666666666666666, \"#ed7953\"], [0.7777777777777778, \"#fb9f3a\"], [0.8888888888888888, \"#fdca26\"], [1.0, \"#f0f921\"]]}, \"colorway\": [\"#636efa\", \"#EF553B\", \"#00cc96\", \"#ab63fa\", \"#FFA15A\", \"#19d3f3\", \"#FF6692\", \"#B6E880\", \"#FF97FF\", \"#FECB52\"], \"font\": {\"color\": \"#2a3f5f\"}, \"geo\": {\"bgcolor\": \"white\", \"lakecolor\": \"white\", \"landcolor\": \"#E5ECF6\", \"showlakes\": true, \"showland\": true, \"subunitcolor\": \"white\"}, \"hoverlabel\": {\"align\": \"left\"}, \"hovermode\": \"closest\", \"mapbox\": {\"style\": \"light\"}, \"paper_bgcolor\": \"white\", \"plot_bgcolor\": \"#E5ECF6\", \"polar\": {\"angularaxis\": {\"gridcolor\": \"white\", \"linecolor\": \"white\", \"ticks\": \"\"}, \"bgcolor\": \"#E5ECF6\", \"radialaxis\": {\"gridcolor\": \"white\", \"linecolor\": \"white\", \"ticks\": \"\"}}, \"scene\": {\"xaxis\": {\"backgroundcolor\": \"#E5ECF6\", \"gridcolor\": \"white\", \"gridwidth\": 2, \"linecolor\": \"white\", \"showbackground\": true, \"ticks\": \"\", \"zerolinecolor\": \"white\"}, \"yaxis\": {\"backgroundcolor\": \"#E5ECF6\", \"gridcolor\": \"white\", \"gridwidth\": 2, \"linecolor\": \"white\", \"showbackground\": true, \"ticks\": \"\", \"zerolinecolor\": \"white\"}, \"zaxis\": {\"backgroundcolor\": \"#E5ECF6\", \"gridcolor\": \"white\", \"gridwidth\": 2, \"linecolor\": \"white\", \"showbackground\": true, \"ticks\": \"\", \"zerolinecolor\": \"white\"}}, \"shapedefaults\": {\"line\": {\"color\": \"#2a3f5f\"}}, \"ternary\": {\"aaxis\": {\"gridcolor\": \"white\", \"linecolor\": \"white\", \"ticks\": \"\"}, \"baxis\": {\"gridcolor\": \"white\", \"linecolor\": \"white\", \"ticks\": \"\"}, \"bgcolor\": \"#E5ECF6\", \"caxis\": {\"gridcolor\": \"white\", \"linecolor\": \"white\", \"ticks\": \"\"}}, \"title\": {\"x\": 0.05}, \"xaxis\": {\"automargin\": true, \"gridcolor\": \"white\", \"linecolor\": \"white\", \"ticks\": \"\", \"zerolinecolor\": \"white\", \"zerolinewidth\": 2}, \"yaxis\": {\"automargin\": true, \"gridcolor\": \"white\", \"linecolor\": \"white\", \"ticks\": \"\", \"zerolinecolor\": \"white\", \"zerolinewidth\": 2}}}, \"title\": {\"text\": \"Acceleration-Velocity per gear\"}, \"xaxis\": {\"title\": {\"text\": \"velocity (in m/s)\"}}, \"yaxis\": {\"title\": {\"text\": \"Acceleration (in m/s2\"}}},\n",
       "                        {\"responsive\": true}\n",
       "                    ).then(function(){\n",
       "                            \n",
       "var gd = document.getElementById('1b04b8b8-d20b-4251-a565-050edb7a1ed9');\n",
       "var x = new MutationObserver(function (mutations, observer) {{\n",
       "        var display = window.getComputedStyle(gd).display;\n",
       "        if (!display || display === 'none') {{\n",
       "            console.log([gd, 'removed!']);\n",
       "            Plotly.purge(gd);\n",
       "            observer.disconnect();\n",
       "        }}\n",
       "}});\n",
       "\n",
       "// Listen for the removal of the full notebook cells\n",
       "var notebookContainer = gd.closest('#notebook-container');\n",
       "if (notebookContainer) {{\n",
       "    x.observe(notebookContainer, {childList: true});\n",
       "}}\n",
       "\n",
       "// Listen for the clearing of the current output cell\n",
       "var outputEl = gd.closest('.output');\n",
       "if (outputEl) {{\n",
       "    x.observe(outputEl, {childList: true});\n",
       "}}\n",
       "\n",
       "                        })\n",
       "                };\n",
       "                });\n",
       "            </script>\n",
       "        </div>"
      ]
     },
     "metadata": {},
     "output_type": "display_data"
    },
    {
     "name": "stderr",
     "output_type": "stream",
     "text": [
      "127.0.0.1 - - [12/Nov/2019 12:49:50] \"GET / HTTP/1.1\" 200 -\n"
     ]
    }
   ],
   "source": [
    "outputs = sol['outputs'] # outputs of the dispatcher\n",
    "layout = go.Layout(title=\"Acceleration-Velocity per gear\",\n",
    "                xaxis=dict(title='velocity (in m/s)'),\n",
    "                yaxis=dict(title='Acceleration (in m/s2'))\n",
    "data = [\n",
    "    dict(x=x , y=y, name='gear %d'%i) for i, (x, y) in enumerate(zip(outputs['speed_per_gear'],outputs['acc_per_gear']))\n",
    "] + [\n",
    "    dict(x=x, y=np.polyval(p, x), name='gear %d'%i) for i, (x, p) in enumerate(zip(outputs['speed_per_gear'], outputs['coefs_per_gear']))\n",
    "] + [dict(x=[gear, gear], y=[0,5], line=dict(color='#0D1A00')) for gear in outputs['gs']]\n",
    "fig = go.Figure(data=data, layout=layout)\n",
    "iplot(fig)"
   ]
  },
  {
   "cell_type": "code",
   "execution_count": null,
   "metadata": {},
   "outputs": [],
   "source": []
  }
 ],
 "metadata": {
  "kernelspec": {
   "display_name": "Python 3",
   "language": "python",
   "name": "python3"
  },
  "language_info": {
   "codemirror_mode": {
    "name": "ipython",
    "version": 3
   },
   "file_extension": ".py",
   "mimetype": "text/x-python",
   "name": "python",
   "nbconvert_exporter": "python",
   "pygments_lexer": "ipython3",
   "version": "3.7.1"
  }
 },
 "nbformat": 4,
 "nbformat_minor": 2
}

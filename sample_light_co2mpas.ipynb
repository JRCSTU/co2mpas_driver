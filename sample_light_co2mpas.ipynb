{
 "cells": [
  {
   "cell_type": "markdown",
   "metadata": {},
   "source": [
    "# How to compute the CO2 emissions in grams for a series of speed profile"
   ]
  },
  {
   "cell_type": "code",
   "execution_count": 1,
   "metadata": {},
   "outputs": [
    {
     "data": {
      "text/html": [
       "        <script type=\"text/javascript\">\n",
       "        window.PlotlyConfig = {MathJaxConfig: 'local'};\n",
       "        if (window.MathJax) {MathJax.Hub.Config({SVG: {font: \"STIX-Web\"}});}\n",
       "        if (typeof require !== 'undefined') {\n",
       "        require.undef(\"plotly\");\n",
       "        requirejs.config({\n",
       "            paths: {\n",
       "                'plotly': ['https://cdn.plot.ly/plotly-latest.min']\n",
       "            }\n",
       "        });\n",
       "        require(['plotly'], function(Plotly) {\n",
       "            window._Plotly = Plotly;\n",
       "        });\n",
       "        }\n",
       "        </script>\n",
       "        "
      ]
     },
     "metadata": {},
     "output_type": "display_data"
    }
   ],
   "source": [
    "import schedula as sh\n",
    "from co2mpas_driver import dsp as driver\n",
    "from plotly.offline import download_plotlyjs, init_notebook_mode, plot, iplot\n",
    "init_notebook_mode(connected=True)"
   ]
  },
  {
   "cell_type": "markdown",
   "metadata": {},
   "source": [
    "# Processing chain model"
   ]
  },
  {
   "cell_type": "code",
   "execution_count": 2,
   "metadata": {},
   "outputs": [
    {
     "name": "stdout",
     "output_type": "stream",
     "text": [
      " * Serving Flask app \"C:\\Users\\Ashenafi\\AppData\\Local\\Temp\\tmp9ua2gnod\" (lazy loading)\n",
      " * Environment: production\n",
      "   WARNING: Do not use the development server in a production environment.\n",
      "   Use a production WSGI server instead.\n",
      " * Debug mode: off\n"
     ]
    },
    {
     "name": "stderr",
     "output_type": "stream",
     "text": [
      " * Running on http://localhost:60232/ (Press CTRL+C to quit)\n"
     ]
    },
    {
     "data": {
      "text/html": [
       "\n",
       "        <iframe\n",
       "            width=\"100%\"\n",
       "            height=\"500\"\n",
       "            src=\"http://localhost:60232\"\n",
       "            frameborder=\"0\"\n",
       "            allowfullscreen\n",
       "        ></iframe>\n",
       "        "
      ],
      "text/plain": [
       "Site(SiteMap([(Dispatcher 2091462278952, SiteMap([(load, SiteMap()), (model, SiteMap()), (plot, SiteMap())]))]), host='localhost', port=0, depth=-1, index=False, root_path=None)"
      ]
     },
     "execution_count": 2,
     "metadata": {},
     "output_type": "execute_result"
    },
    {
     "name": "stderr",
     "output_type": "stream",
     "text": [
      "127.0.0.1 - - [04/Sep/2019 22:54:59] \"GET / HTTP/1.1\" 200 -\n"
     ]
    }
   ],
   "source": [
    "driver.plot(view=False).site(index=False)  # Click on the graph to see the model."
   ]
  },
  {
   "cell_type": "code",
   "execution_count": 3,
   "metadata": {},
   "outputs": [
    {
     "name": "stdout",
     "output_type": "stream",
     "text": [
      " * Serving Flask app \"C:\\Users\\Ashenafi\\AppData\\Local\\Temp\\tmpct_c5a4m\" (lazy loading)\n",
      " * Environment: production\n",
      "   WARNING: Do not use the development server in a production environment.\n",
      "   Use a production WSGI server instead.\n",
      " * Debug mode: off\n"
     ]
    },
    {
     "name": "stderr",
     "output_type": "stream",
     "text": [
      " * Running on http://localhost:60242/ (Press CTRL+C to quit)\n"
     ]
    },
    {
     "data": {
      "text/html": [
       "\n",
       "        <iframe\n",
       "            width=\"100%\"\n",
       "            height=\"500\"\n",
       "            src=\"http://localhost:60242\"\n",
       "            frameborder=\"0\"\n",
       "            allowfullscreen\n",
       "        ></iframe>\n",
       "        "
      ],
      "text/plain": [
       "Site(SiteMap([(model, SiteMap())]), host='localhost', port=0, depth=-1, index=False, root_path=None)"
      ]
     },
     "execution_count": 3,
     "metadata": {},
     "output_type": "execute_result"
    },
    {
     "name": "stderr",
     "output_type": "stream",
     "text": [
      "127.0.0.1 - - [04/Sep/2019 22:55:30] \"GET / HTTP/1.1\" 200 -\n"
     ]
    }
   ],
   "source": [
    "driver.get_node('model')[0].plot(view=False).site(index=False)  # Click on the graph to see the model."
   ]
  },
  {
   "cell_type": "code",
   "execution_count": 4,
   "metadata": {},
   "outputs": [
    {
     "name": "stdout",
     "output_type": "stream",
     "text": [
      " * Serving Flask app \"C:\\Users\\Ashenafi\\AppData\\Local\\Temp\\tmpwzie8w80\" (lazy loading)\n",
      " * Environment: production\n",
      "   WARNING: Do not use the development server in a production environment.\n",
      "   Use a production WSGI server instead.\n",
      " * Debug mode: off\n"
     ]
    },
    {
     "name": "stderr",
     "output_type": "stream",
     "text": [
      " * Running on http://localhost:60274/ (Press CTRL+C to quit)\n"
     ]
    },
    {
     "data": {
      "text/html": [
       "\n",
       "        <iframe\n",
       "            width=\"100%\"\n",
       "            height=\"500\"\n",
       "            src=\"http://localhost:60274\"\n",
       "            frameborder=\"0\"\n",
       "            allowfullscreen\n",
       "        ></iframe>\n",
       "        "
      ],
      "text/plain": [
       "Site(SiteMap([(Dispatcher 2091462278952, SiteMap([(load, SiteMap()), (model, SiteMap()), (plot, SiteMap())]))]), host='localhost', port=0, depth=-1, index=False, root_path=None)"
      ]
     },
     "execution_count": 4,
     "metadata": {},
     "output_type": "execute_result"
    },
    {
     "name": "stderr",
     "output_type": "stream",
     "text": [
      "127.0.0.1 - - [04/Sep/2019 22:59:57] \"GET / HTTP/1.1\" 200 -\n"
     ]
    }
   ],
   "source": [
    "sol = driver(dict(vehicle_id=35135, inputs=dict(inputs={'gs': [5.715589018826222, 10.974960637586783, 16.396951475513028,\n",
    "          22.832902038337586], 'velocities': [0.075647222, 0.138130556, 0.165027778, 0.093338889, 0.050647222,\n",
    "          0.073841667, 0.067722222, 0.041172222, 0.094272222, 0.240147222,\n",
    "          0.421988889, 0.601022222, 0.805477778, 1.067511111, 1.360083333,\n",
    "          1.650283333, 1.913175, 2.176333333, 2.444797222, 2.700288889,\n",
    "          2.946313889, 3.189297222, 3.448358333, 3.704702778, 3.940416667,\n",
    "          4.130133333, 4.260580556, 4.3409, 4.388002778, 4.426941667,\n",
    "          4.455319444, 4.476166667, 4.515033333, 4.539722222, 4.54225,\n",
    "          4.563194444, 4.616366667, 4.794819444, 4.925277778, 5.010258333,\n",
    "          5.270727778, 5.526880556, 5.698258333, 5.863777778, 6.025444444,\n",
    "          6.178002778, 6.320294444, 6.455533333, 6.586655556, 6.7208,\n",
    "          6.850394444, 6.973597222, 7.076808333, 7.125569444, 7.125688889,\n",
    "          7.095327778, 7.045141667, 6.987052778, 6.942780556, 6.943469444,\n",
    "          6.972669444, 6.987636111, 6.995147222, 7.01125, 7.034722222,\n",
    "          7.064722222, 7.095263889, 7.144930556, 7.228544444, 7.351388889,\n",
    "          7.516902778, 7.705436111, 7.912636111, 8.142141667, 8.384738889,\n",
    "          8.638480556, 8.896288889, 9.157808333, 9.427988889, 9.695,\n",
    "          9.931672222, 10.09765, 10.17970556, 10.211575, 10.22029444,\n",
    "          10.21634444, 10.22308056, 10.25685278, 10.32316667, 10.43054444,\n",
    "          10.55200833, 10.67687222, 10.81433889, 10.94932778, 11.08748889,\n",
    "          11.23079444, 11.37732778, 11.52675278, 11.67602222, 11.83357778,\n",
    "          11.99132222, 12.127225, 12.217525, 12.27826111, 12.33689444,\n",
    "          12.41279167, 12.52231944, 12.648375,\n",
    "          12.78034722, 12.91521111, 13.04194444, 13.16066111, 13.28333333,\n",
    "          13.40571944, 13.53175556, 13.64644444, 13.75571111, 13.8666,\n",
    "          13.93222222, 13.95751111, 13.96354444, 13.95462222, 13.92623333,\n",
    "          13.89566111, 13.88161111, 13.90078611, 13.92424167, 13.95039722,\n",
    "          13.98454444, 14.02729722, 14.07866111, 14.15, 14.24663333, 14.3537,\n",
    "          14.45984444, 14.58112778, 14.7043, 14.83035556, 14.96040278,\n",
    "          15.09104722, 15.22573889, 15.36123611, 15.49455833, 15.63419444,\n",
    "          15.77003889, 15.90303333, 16.04134167, 16.17628056, 16.30461111,\n",
    "          16.4286, 16.54910556, 16.66977778, 16.77255278, 16.85622222,\n",
    "          16.94144444, 17.02344444, 17.09977778, 17.17553056, 17.24705278,\n",
    "          17.31889444, 17.39001389, 17.44721389]})))\n",
    "sol.plot(view=False).site(index=False)"
   ]
  },
  {
   "cell_type": "code",
   "execution_count": 5,
   "metadata": {},
   "outputs": [
    {
     "data": {
      "text/plain": [
       "['ignition_type',\n",
       " 'full_load_curve',\n",
       " 'engine_max_power',\n",
       " 'engine_max_speed_at_max_power',\n",
       " 'idle_engine_speed',\n",
       " 'full_load_speeds',\n",
       " 'full_load_powers',\n",
       " 'full_load_torques',\n",
       " 'gear_box_ratios',\n",
       " 'tyre_radius',\n",
       " 'driveline_slippage',\n",
       " 'final_drive_ratio',\n",
       " 'driveline_efficiency',\n",
       " 'vehicle_mass',\n",
       " 'speed_per_gear',\n",
       " 'acc_per_gear',\n",
       " 'degree',\n",
       " 'coefs_per_gear',\n",
       " 'motor_max_power',\n",
       " 'fuel_type',\n",
       " 'motor_max_torque',\n",
       " 'vehicle_max_speed',\n",
       " 'poly_spline',\n",
       " 'Start',\n",
       " 'Stop',\n",
       " 'use_cubic',\n",
       " 'starting_speed',\n",
       " 'sp_bins',\n",
       " 'discrete_poly_spline',\n",
       " 'car_res_curve_force',\n",
       " 'discrete_car_res_curve_force',\n",
       " 'car_res_curve',\n",
       " 'discrete_car_res_curve',\n",
       " 'type_of_car',\n",
       " 'car_width',\n",
       " 'car_height',\n",
       " 'car_type',\n",
       " 'Alimit',\n",
       " 'Curves',\n",
       " 'discrete_acceleration_curves',\n",
       " 'gear_shifting_style',\n",
       " 'use_linear_gs',\n",
       " 'gs',\n",
       " 'idle_engine_speed_median',\n",
       " 'idle_engine_speed_std',\n",
       " 'Tans',\n",
       " 'duration',\n",
       " 'sim_step',\n",
       " 'times',\n",
       " 'transmission',\n",
       " 'desired_velocity',\n",
       " 'driver_style',\n",
       " 'gears',\n",
       " 'velocities',\n",
       " 'accelerations']"
      ]
     },
     "execution_count": 5,
     "metadata": {},
     "output_type": "execute_result"
    }
   ],
   "source": [
    "list(driver.get_node('model')[0].dsp.data_nodes)"
   ]
  },
  {
   "cell_type": "code",
   "execution_count": null,
   "metadata": {},
   "outputs": [],
   "source": [
    "iplot(sol['outputs']['discrete_acceleration_curves'])"
   ]
  }
 ],
 "metadata": {
  "kernelspec": {
   "display_name": "Python 3",
   "language": "python",
   "name": "python3"
  },
  "language_info": {
   "codemirror_mode": {
    "name": "ipython",
    "version": 3
   },
   "file_extension": ".py",
   "mimetype": "text/x-python",
   "name": "python",
   "nbconvert_exporter": "python",
   "pygments_lexer": "ipython3",
   "version": "3.7.3"
  }
 },
 "nbformat": 4,
 "nbformat_minor": 2
}

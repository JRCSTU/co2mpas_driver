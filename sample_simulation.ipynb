{
 "cells": [
  {
   "cell_type": "markdown",
   "metadata": {},
   "source": [
    "# Welcome to Vehicle simulation example"
   ]
  },
  {
   "cell_type": "markdown",
   "metadata": {},
   "source": [
    "This is an ipython notebook to present how to use the co2mpas driver model (i.e., MFC) to simulate the driver behaviour of a vehicle."
   ]
  },
  {
   "cell_type": "markdown",
   "metadata": {},
   "source": [
    "# Import co2mpas driver model and other libraries"
   ]
  },
  {
   "cell_type": "code",
   "execution_count": 9,
   "metadata": {},
   "outputs": [
    {
     "data": {
      "text/html": [
       "        <script type=\"text/javascript\">\n",
       "        window.PlotlyConfig = {MathJaxConfig: 'local'};\n",
       "        if (window.MathJax) {MathJax.Hub.Config({SVG: {font: \"STIX-Web\"}});}\n",
       "        if (typeof require !== 'undefined') {\n",
       "        require.undef(\"plotly\");\n",
       "        requirejs.config({\n",
       "            paths: {\n",
       "                'plotly': ['https://cdn.plot.ly/plotly-latest.min']\n",
       "            }\n",
       "        });\n",
       "        require(['plotly'], function(Plotly) {\n",
       "            window._Plotly = Plotly;\n",
       "        });\n",
       "        }\n",
       "        </script>\n",
       "        "
      ]
     },
     "metadata": {},
     "output_type": "display_data"
    }
   ],
   "source": [
    "import numpy as np\n",
    "import schedula as sh\n",
    "from plotly import graph_objs as go\n",
    "from co2mpas_driver import dsp as driver\n",
    "from plotly.offline import download_plotlyjs, init_notebook_mode, plot, iplot\n",
    "init_notebook_mode(connected=True)"
   ]
  },
  {
   "cell_type": "markdown",
   "metadata": {},
   "source": [
    "# Processing chain model"
   ]
  },
  {
   "cell_type": "code",
   "execution_count": 10,
   "metadata": {},
   "outputs": [
    {
     "name": "stdout",
     "output_type": "stream",
     "text": [
      " * Serving Flask app \"C:\\Users\\makieas\\AppData\\Local\\Temp\\tmpglr54tuv\" (lazy loading)\n",
      " * Environment: production\n",
      "   WARNING: Do not use the development server in a production environment.\n",
      "   Use a production WSGI server instead.\n",
      " * Debug mode: off\n"
     ]
    },
    {
     "name": "stderr",
     "output_type": "stream",
     "text": [
      " * Running on http://localhost:52779/ (Press CTRL+C to quit)\n"
     ]
    },
    {
     "data": {
      "text/html": [
       "\n",
       "<iframe width=\"100%\" height=\"500\" id=\"2265644687256\" src=\"http://localhost:52779/\">\n",
       "</iframe>\n"
      ],
      "text/plain": [
       "Site(SiteMap([(Dispatcher 2267680917432, SiteMap([(load, SiteMap()), (model, SiteMap()), (plot, SiteMap())]))]), host='localhost', port=0, depth=-1, index=False, root_path=None)"
      ]
     },
     "execution_count": 10,
     "metadata": {},
     "output_type": "execute_result"
    }
   ],
   "source": [
    "driver.plot(view=False).site(index=False)  # Click on the graph to see the model."
   ]
  },
  {
   "cell_type": "markdown",
   "metadata": {},
   "source": [
    "# Plot co2mpas driver model graph"
   ]
  },
  {
   "cell_type": "code",
   "execution_count": 11,
   "metadata": {},
   "outputs": [
    {
     "name": "stdout",
     "output_type": "stream",
     "text": [
      " * Serving Flask app \"C:\\Users\\makieas\\AppData\\Local\\Temp\\tmpeap8ppms\" (lazy loading)\n",
      " * Environment: production\n",
      "   WARNING: Do not use the development server in a production environment.\n",
      "   Use a production WSGI server instead.\n",
      " * Debug mode: off\n"
     ]
    },
    {
     "name": "stderr",
     "output_type": "stream",
     "text": [
      " * Running on http://localhost:52783/ (Press CTRL+C to quit)\n",
      "127.0.0.1 - - [04/Nov/2019 09:54:32] \"GET / HTTP/1.1\" 200 -\n"
     ]
    },
    {
     "data": {
      "text/html": [
       "\n",
       "<iframe width=\"100%\" height=\"500\" id=\"2265645397888\" src=\"http://localhost:52783/\">\n",
       "</iframe>\n"
      ],
      "text/plain": [
       "Site(SiteMap([(model, SiteMap())]), host='localhost', port=0, depth=-1, index=False, root_path=None)"
      ]
     },
     "execution_count": 11,
     "metadata": {},
     "output_type": "execute_result"
    }
   ],
   "source": [
    "driver.get_node('model')[0].plot(view=False).site(index=False)  # Click on the graph to see the model."
   ]
  },
  {
   "cell_type": "markdown",
   "metadata": {},
   "source": [
    "# User inputs to co2mpas driver model in order to extract the drivers acceleration behavior as approaching the desired velocity"
   ]
  },
  {
   "cell_type": "code",
   "execution_count": 12,
   "metadata": {},
   "outputs": [
    {
     "name": "stdout",
     "output_type": "stream",
     "text": [
      " * Serving Flask app \"C:\\Users\\makieas\\AppData\\Local\\Temp\\tmp93sqwjoe\" (lazy loading)\n",
      " * Environment: production\n",
      "   WARNING: Do not use the development server in a production environment.\n",
      "   Use a production WSGI server instead.\n",
      " * Debug mode: off\n"
     ]
    },
    {
     "name": "stderr",
     "output_type": "stream",
     "text": [
      " * Running on http://localhost:52791/ (Press CTRL+C to quit)\n",
      "127.0.0.1 - - [04/Nov/2019 09:54:33] \"GET / HTTP/1.1\" 200 -\n"
     ]
    },
    {
     "data": {
      "text/html": [
       "\n",
       "<iframe width=\"100%\" height=\"500\" id=\"2265662548400\" src=\"http://localhost:52791/\">\n",
       "</iframe>\n"
      ],
      "text/plain": [
       "Site(SiteMap([(Dispatcher 2267680917432, SiteMap([(load, SiteMap()), (model, SiteMap()), (plot, SiteMap())]))]), host='localhost', port=0, depth=-1, index=False, root_path=None)"
      ]
     },
     "execution_count": 12,
     "metadata": {},
     "output_type": "execute_result"
    }
   ],
   "source": [
    "sol = driver(dict(vehicle_id=39393, inputs=dict(inputs={'gear_shifting_style': 0.9, 'desired_velocity': 40, 'starting_velocity': 0,\n",
    "                                                        'driver_style': 1, 'sim_step': 0.1})))\n",
    "sol.plot(view=False).site(index=False)"
   ]
  },
  {
   "cell_type": "code",
   "execution_count": 13,
   "metadata": {
    "scrolled": true
   },
   "outputs": [
    {
     "data": {
      "text/plain": [
       "['ignition_type',\n",
       " 'full_load_curve',\n",
       " 'engine_max_power',\n",
       " 'engine_max_speed_at_max_power',\n",
       " 'idle_engine_speed',\n",
       " 'full_load_speeds',\n",
       " 'full_load_powers',\n",
       " 'full_load_torques',\n",
       " 'vehicle_mass',\n",
       " 'r_dynamic',\n",
       " 'car_type',\n",
       " 'final_drive',\n",
       " 'gear_box_ratios',\n",
       " 'veh_params',\n",
       " 'engine_max_torque',\n",
       " 'fuel_eng_capacity',\n",
       " 'speed',\n",
       " 'acceleration',\n",
       " 'max_power',\n",
       " 'fuel_engine_stroke',\n",
       " 'fuel_type',\n",
       " 'fuel_turbo',\n",
       " 'hardcoded_params',\n",
       " 'road_loads',\n",
       " 'slope',\n",
       " 'gear',\n",
       " 'gear_count',\n",
       " 'sim_step',\n",
       " 'fc',\n",
       " 'tyre_radius',\n",
       " 'driveline_slippage',\n",
       " 'final_drive_ratio',\n",
       " 'driveline_efficiency',\n",
       " 'speed_per_gear',\n",
       " 'acc_per_gear',\n",
       " 'degree',\n",
       " 'coefs_per_gear',\n",
       " 'motor_max_power',\n",
       " 'motor_max_torque',\n",
       " 'vehicle_max_speed',\n",
       " 'poly_spline',\n",
       " 'start',\n",
       " 'stop',\n",
       " 'use_cubic',\n",
       " 'sp_bins',\n",
       " 'discrete_poly_spline',\n",
       " 'car_res_curve_force',\n",
       " 'discrete_car_res_curve_force',\n",
       " 'car_res_curve',\n",
       " 'discrete_car_res_curve',\n",
       " 'type_of_car',\n",
       " 'car_width',\n",
       " 'car_height',\n",
       " 'Alimit',\n",
       " 'curves',\n",
       " 'discrete_acceleration_curves',\n",
       " 'gear_shifting_style',\n",
       " 'use_linear_gs',\n",
       " 'gs',\n",
       " 'idle_engine_speed_median',\n",
       " 'idle_engine_speed_std',\n",
       " 'Tans',\n",
       " 'tans',\n",
       " 'duration',\n",
       " 'times',\n",
       " 'transmission',\n",
       " 'driver_style',\n",
       " 'driver_simulation_model',\n",
       " 'starting_velocity',\n",
       " 'desired_velocity',\n",
       " 'gears',\n",
       " 'velocities',\n",
       " 'accelerations']"
      ]
     },
     "execution_count": 13,
     "metadata": {},
     "output_type": "execute_result"
    }
   ],
   "source": [
    "list(driver.get_node('model')[0].dsp.data_nodes)"
   ]
  },
  {
   "cell_type": "markdown",
   "metadata": {},
   "source": [
    "# Compute and plot velocity versus time graph"
   ]
  },
  {
   "cell_type": "code",
   "execution_count": 14,
   "metadata": {},
   "outputs": [
    {
     "name": "stderr",
     "output_type": "stream",
     "text": [
      "127.0.0.1 - - [04/Nov/2019 09:54:33] \"GET / HTTP/1.1\" 200 -\n"
     ]
    },
    {
     "ename": "KeyError",
     "evalue": "'times'",
     "output_type": "error",
     "traceback": [
      "\u001b[1;31m---------------------------------------------------------------------------\u001b[0m",
      "\u001b[1;31mKeyError\u001b[0m                                  Traceback (most recent call last)",
      "\u001b[1;32m<ipython-input-14-e55b8ed77aed>\u001b[0m in \u001b[0;36m<module>\u001b[1;34m\u001b[0m\n\u001b[0;32m      3\u001b[0m                 \u001b[0mxaxis\u001b[0m\u001b[1;33m=\u001b[0m\u001b[0mdict\u001b[0m\u001b[1;33m(\u001b[0m\u001b[0mtitle\u001b[0m\u001b[1;33m=\u001b[0m\u001b[1;34m'Time (in s)'\u001b[0m\u001b[1;33m)\u001b[0m\u001b[1;33m,\u001b[0m\u001b[1;33m\u001b[0m\u001b[1;33m\u001b[0m\u001b[0m\n\u001b[0;32m      4\u001b[0m                 yaxis=dict(title='velocity (in m/s)'))\n\u001b[1;32m----> 5\u001b[1;33m \u001b[0mdata\u001b[0m \u001b[1;33m=\u001b[0m \u001b[1;33m[\u001b[0m\u001b[0mdict\u001b[0m\u001b[1;33m(\u001b[0m\u001b[0mx\u001b[0m\u001b[1;33m=\u001b[0m\u001b[0moutputs\u001b[0m\u001b[1;33m[\u001b[0m\u001b[1;34m'times'\u001b[0m\u001b[1;33m]\u001b[0m\u001b[1;33m,\u001b[0m \u001b[0my\u001b[0m\u001b[1;33m=\u001b[0m\u001b[0moutputs\u001b[0m\u001b[1;33m[\u001b[0m\u001b[1;34m'velocities'\u001b[0m\u001b[1;33m]\u001b[0m\u001b[1;33m)\u001b[0m\u001b[1;33m]\u001b[0m \u001b[1;31m# select the desired outputs\u001b[0m\u001b[1;33m\u001b[0m\u001b[1;33m\u001b[0m\u001b[0m\n\u001b[0m\u001b[0;32m      6\u001b[0m \u001b[0mfig\u001b[0m \u001b[1;33m=\u001b[0m \u001b[0mgo\u001b[0m\u001b[1;33m.\u001b[0m\u001b[0mFigure\u001b[0m\u001b[1;33m(\u001b[0m\u001b[0mdata\u001b[0m\u001b[1;33m=\u001b[0m\u001b[0mdata\u001b[0m\u001b[1;33m,\u001b[0m \u001b[0mlayout\u001b[0m\u001b[1;33m=\u001b[0m\u001b[0mlayout\u001b[0m\u001b[1;33m)\u001b[0m\u001b[1;33m\u001b[0m\u001b[1;33m\u001b[0m\u001b[0m\n\u001b[0;32m      7\u001b[0m \u001b[0miplot\u001b[0m\u001b[1;33m(\u001b[0m\u001b[0mfig\u001b[0m\u001b[1;33m)\u001b[0m\u001b[1;33m\u001b[0m\u001b[1;33m\u001b[0m\u001b[0m\n",
      "\u001b[1;31mKeyError\u001b[0m: 'times'"
     ]
    }
   ],
   "source": [
    "outputs = sol['outputs'] # outputs of the dispatcher\n",
    "layout = go.Layout(title=\"Velocity-Time\",\n",
    "                xaxis=dict(title='Time (in s)'),\n",
    "                yaxis=dict(title='velocity (in m/s)'))\n",
    "data = [dict(x=outputs['times'], y=outputs['velocities'])] # select the desired outputs\n",
    "fig = go.Figure(data=data, layout=layout)\n",
    "iplot(fig)"
   ]
  },
  {
   "cell_type": "markdown",
   "metadata": {},
   "source": [
    "# Compute and plot acceleration versus velocity graph of the vehicle"
   ]
  },
  {
   "cell_type": "code",
   "execution_count": null,
   "metadata": {},
   "outputs": [],
   "source": [
    "layout = go.Layout(title=\"Acceleration-Velocity\",\n",
    "                xaxis=dict(title='velocity (in m/s)'),\n",
    "                yaxis=dict(title='Acceleration (in m/s2'))\n",
    "data = [dict(x=outputs['velocities'], y=outputs['accelerations'], line=dict(color='#0D1A00'))] + outputs['discrete_acceleration_curves']\n",
    "fig = go.Figure(data=data, layout=layout)\n",
    "iplot(fig)"
   ]
  },
  {
   "cell_type": "markdown",
   "metadata": {},
   "source": [
    "# Compute and plots acceleration versus time graph of the vehicle"
   ]
  },
  {
   "cell_type": "code",
   "execution_count": null,
   "metadata": {},
   "outputs": [],
   "source": [
    "layout = go.Layout(title=\"Acceleration-Time\",\n",
    "                xaxis=dict(title='Time (in s)'),\n",
    "                yaxis=dict(title='Acceleration (in m/s2)'))\n",
    "data = [dict(x=outputs['times'], y=outputs['accelerations'])]\n",
    "fig = go.Figure(data=data, layout=layout)\n",
    "iplot(fig)"
   ]
  },
  {
   "cell_type": "code",
   "execution_count": null,
   "metadata": {},
   "outputs": [],
   "source": []
  }
 ],
 "metadata": {
  "kernelspec": {
   "display_name": "Python 3",
   "language": "python",
   "name": "python3"
  },
  "language_info": {
   "codemirror_mode": {
    "name": "ipython",
    "version": 3
   },
   "file_extension": ".py",
   "mimetype": "text/x-python",
   "name": "python",
   "nbconvert_exporter": "python",
   "pygments_lexer": "ipython3",
   "version": "3.7.1"
  }
 },
 "nbformat": 4,
 "nbformat_minor": 2
}

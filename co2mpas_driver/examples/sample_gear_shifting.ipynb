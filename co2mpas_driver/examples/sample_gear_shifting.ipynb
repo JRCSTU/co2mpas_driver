{
 "cells": [
  {
   "cell_type": "markdown",
   "metadata": {},
   "source": [
    "# Vehicle simulation for different gear shifting"
   ]
  },
  {
   "cell_type": "markdown",
   "metadata": {},
   "source": [
    "This is an ipython notebook to present how to use the co2mpas driver model (i.e., MFC) to simulate the driver behaviour on an electric vehicle."
   ]
  },
  {
   "cell_type": "markdown",
   "metadata": {},
   "source": [
    "# Import co2mpas driver model and other libraries"
   ]
  },
  {
   "cell_type": "code",
   "execution_count": 1,
   "metadata": {},
   "outputs": [
    {
     "data": {
      "text/html": [
       "        <script type=\"text/javascript\">\n",
       "        window.PlotlyConfig = {MathJaxConfig: 'local'};\n",
       "        if (window.MathJax) {MathJax.Hub.Config({SVG: {font: \"STIX-Web\"}});}\n",
       "        if (typeof require !== 'undefined') {\n",
       "        require.undef(\"plotly\");\n",
       "        requirejs.config({\n",
       "            paths: {\n",
       "                'plotly': ['https://cdn.plot.ly/plotly-latest.min']\n",
       "            }\n",
       "        });\n",
       "        require(['plotly'], function(Plotly) {\n",
       "            window._Plotly = Plotly;\n",
       "        });\n",
       "        }\n",
       "        </script>\n",
       "        "
      ]
     },
     "metadata": {},
     "output_type": "display_data"
    }
   ],
   "source": [
    "import sys;\n",
    "sys.path.extend(['..'])\n",
    "import numpy as np\n",
    "import schedula as sh\n",
    "from plotly import graph_objs as go\n",
    "from co2mpas_driver import dsp as driver\n",
    "from plotly.offline import download_plotlyjs, init_notebook_mode, plot, iplot\n",
    "init_notebook_mode(connected=True)"
   ]
  },
  {
   "cell_type": "markdown",
   "metadata": {},
   "source": [
    "# Processing chain model"
   ]
  },
  {
   "cell_type": "code",
   "execution_count": 2,
   "metadata": {},
   "outputs": [
    {
     "name": "stdout",
     "output_type": "stream",
     "text": [
      " * Serving Flask app \"C:\\Users\\makieas\\AppData\\Local\\Temp\\tmplf54mgny\" (lazy loading)\n",
      " * Environment: production\n",
      "   WARNING: Do not use the development server in a production environment.\n",
      "   Use a production WSGI server instead.\n",
      " * Debug mode: off\n"
     ]
    },
    {
     "name": "stderr",
     "output_type": "stream",
     "text": [
      " * Running on http://localhost:58919/ (Press CTRL+C to quit)\n"
     ]
    },
    {
     "data": {
      "text/html": [
       "\n",
       "<iframe width=\"100%\" height=\"500\" id=\"2076443318480\" src=\"http://localhost:58919/\">\n",
       "</iframe>\n"
      ],
      "text/plain": [
       "Site(SiteMap([(Dispatcher 2076402300296, SiteMap([(load, SiteMap()), (model, SiteMap()), (plot, SiteMap())]))]), host='localhost', port=0, depth=-1, index=False, root_path=None)"
      ]
     },
     "execution_count": 2,
     "metadata": {},
     "output_type": "execute_result"
    }
   ],
   "source": [
    "driver.plot(view=False).site(index=False)  # Click on the graph to see the model."
   ]
  },
  {
   "cell_type": "markdown",
   "metadata": {},
   "source": [
    "# Plot co2mpas driver model graph"
   ]
  },
  {
   "cell_type": "code",
   "execution_count": 3,
   "metadata": {},
   "outputs": [
    {
     "name": "stdout",
     "output_type": "stream",
     "text": [
      " * Serving Flask app \"C:\\Users\\makieas\\AppData\\Local\\Temp\\tmp2tog6avj\" (lazy loading)\n",
      " * Environment: production\n",
      "   WARNING: Do not use the development server in a production environment.\n",
      "   Use a production WSGI server instead.\n",
      " * Debug mode: off\n"
     ]
    },
    {
     "name": "stderr",
     "output_type": "stream",
     "text": [
      " * Running on http://localhost:58926/ (Press CTRL+C to quit)\n"
     ]
    },
    {
     "data": {
      "text/html": [
       "\n",
       "<iframe width=\"100%\" height=\"500\" id=\"2076447653112\" src=\"http://localhost:58926/\">\n",
       "</iframe>\n"
      ],
      "text/plain": [
       "Site(SiteMap([(model, SiteMap())]), host='localhost', port=0, depth=-1, index=False, root_path=None)"
      ]
     },
     "execution_count": 3,
     "metadata": {},
     "output_type": "execute_result"
    }
   ],
   "source": [
    "driver.get_node('model')[0].plot(view=False).site(index=False)  # Click on the graph to see the model."
   ]
  },
  {
   "cell_type": "markdown",
   "metadata": {},
   "source": [
    "# User inputs to co2mpas driver model in order to extract the drivers acceleration behavior"
   ]
  },
  {
   "cell_type": "code",
   "execution_count": 4,
   "metadata": {},
   "outputs": [
    {
     "name": "stdout",
     "output_type": "stream",
     "text": [
      " * Serving Flask app \"C:\\Users\\makieas\\AppData\\Local\\Temp\\tmp7jkll8ds\" (lazy loading)\n",
      " * Environment: production\n",
      "   WARNING: Do not use the development server in a production environment.\n",
      "   Use a production WSGI server instead.\n",
      " * Debug mode: off\n"
     ]
    },
    {
     "name": "stderr",
     "output_type": "stream",
     "text": [
      " * Running on http://localhost:58931/ (Press CTRL+C to quit)\n",
      "127.0.0.1 - - [24/Feb/2020 14:36:42] \"GET / HTTP/1.1\" 200 -\n"
     ]
    },
    {
     "data": {
      "text/html": [
       "\n",
       "<iframe width=\"100%\" height=\"500\" id=\"2076477269776\" src=\"http://localhost:58931/\">\n",
       "</iframe>\n"
      ],
      "text/plain": [
       "Site(SiteMap([(Dispatcher 2076402300296, SiteMap([(load, SiteMap()), (model, SiteMap()), (plot, SiteMap())]))]), host='localhost', port=0, depth=-1, index=False, root_path=None)"
      ]
     },
     "execution_count": 4,
     "metadata": {},
     "output_type": "execute_result"
    }
   ],
   "source": [
    "# Remember to Insert vehicle data base path (db_path)\n",
    "db_path='../co2mpas_driver/db/EuroSegmentCar_cleaned.csv'\n",
    "car_id = 27748\n",
    "sol = driver(dict(vehicle_id=car_id, inputs=dict(inputs=dict(gear_shifting_style=1, gedree=2, use_linear_gs=False, \n",
    "                                                             use_cubic=True))))\n",
    "sol.plot(view=False).site(index=False)"
   ]
  },
  {
   "cell_type": "code",
   "execution_count": 5,
   "metadata": {},
   "outputs": [
    {
     "data": {
      "text/plain": [
       "['ignition_type',\n",
       " 'full_load_curve',\n",
       " 'engine_max_power',\n",
       " 'engine_max_speed_at_max_power',\n",
       " 'idle_engine_speed',\n",
       " 'full_load_speeds',\n",
       " 'full_load_powers',\n",
       " 'full_load_torques',\n",
       " 'gear_box_ratios',\n",
       " 'tyre_radius',\n",
       " 'driveline_slippage',\n",
       " 'final_drive_ratio',\n",
       " 'driveline_efficiency',\n",
       " 'vehicle_mass',\n",
       " 'speed_per_gear',\n",
       " 'acc_per_gear',\n",
       " 'degree',\n",
       " 'coefs_per_gear',\n",
       " 'motor_max_power',\n",
       " 'fuel_type',\n",
       " 'motor_max_torque',\n",
       " 'vehicle_max_speed',\n",
       " 'poly_spline',\n",
       " 'start',\n",
       " 'stop',\n",
       " 'use_cubic',\n",
       " 'sp_bins',\n",
       " 'discrete_poly_spline',\n",
       " 'speed_per_gear_updated',\n",
       " 'acc_per_gear_updated',\n",
       " 'car_res_curve_force',\n",
       " 'discrete_car_res_curve_force',\n",
       " 'car_res_curve',\n",
       " 'discrete_car_res_curve',\n",
       " 'type_of_car',\n",
       " 'car_width',\n",
       " 'car_height',\n",
       " 'car_type',\n",
       " 'Alimit',\n",
       " 'curves',\n",
       " 'curves_dec',\n",
       " 'discrete_acceleration_curves',\n",
       " 'discrete_deceleration_curves',\n",
       " 'gear_shifting_style',\n",
       " 'use_linear_gs',\n",
       " 'gs',\n",
       " 'idle_engine_speed_median',\n",
       " 'idle_engine_speed_std',\n",
       " 'tans',\n",
       " 'sim_start',\n",
       " 'duration',\n",
       " 'sim_step',\n",
       " 'times',\n",
       " 'transmission',\n",
       " 'driver_style',\n",
       " 'driver_simulation_model',\n",
       " 'starting_velocity',\n",
       " 'desired_velocity',\n",
       " 'gears',\n",
       " 'velocities',\n",
       " 'accelerations',\n",
       " 'positions',\n",
       " 'r_dynamic',\n",
       " 'gearbox_type',\n",
       " 'engine_max_torque',\n",
       " 'fuel_eng_capacity',\n",
       " 'max_power',\n",
       " 'fuel_engine_stroke',\n",
       " 'fuel_turbo',\n",
       " 'fp']"
      ]
     },
     "execution_count": 5,
     "metadata": {},
     "output_type": "execute_result"
    }
   ],
   "source": [
    "list(driver.get_node('model')[0].dsp.data_nodes)"
   ]
  },
  {
   "cell_type": "markdown",
   "metadata": {},
   "source": [
    "# Compute and plot final acceleration curve per gear"
   ]
  },
  {
   "cell_type": "code",
   "execution_count": 6,
   "metadata": {},
   "outputs": [
    {
     "name": "stderr",
     "output_type": "stream",
     "text": [
      "127.0.0.1 - - [24/Feb/2020 14:36:42] \"GET / HTTP/1.1\" 200 -\n"
     ]
    },
    {
     "data": {
      "application/vnd.plotly.v1+json": {
       "config": {
        "linkText": "Export to plot.ly",
        "plotlyServerURL": "https://plot.ly",
        "showLink": false
       },
       "data": [
        {
         "name": "gear 0",
         "type": "scatter",
         "x": [
          2.2958600188144596,
          3.267185411389808,
          4.2385108039651564,
          5.209836196540505,
          6.181161589115853,
          7.152486981691203,
          8.12381237426655,
          9.095137766841898,
          10.066463159417246,
          11.037788551992595,
          12.009113944567945,
          12.980439337143293
         ],
         "y": [
          3.7992303208904437,
          4.08238003068405,
          4.257298160268732,
          4.365687546779893,
          4.42266932418285,
          4.449612237738712,
          4.4454911719032095,
          4.362441556042206,
          4.209086463934654,
          3.9698335558430076,
          3.492986397632949,
          2.8812584095655813
         ]
        },
        {
         "name": "gear 1",
         "type": "scatter",
         "x": [
          4.3578824431200385,
          6.20160193828621,
          8.04532143345238,
          9.88904092861855,
          11.73276042378472,
          13.576479918950893,
          15.42019941411706,
          17.26391890928323,
          19.107638404449403,
          20.951357899615573,
          22.795077394781742,
          24.638796889947916
         ],
         "y": [
          2.0015457300300876,
          2.1507172844579383,
          2.2428692746781613,
          2.299971975864529,
          2.3299916439597457,
          2.344185959394054,
          2.3420148612953495,
          2.298261892939309,
          2.2174699419753297,
          2.091424507468511,
          1.8402074680212612,
          1.5179312596735748
         ]
        },
        {
         "name": "gear 2",
         "type": "scatter",
         "x": [
          7.024646326223346,
          9.996612079625532,
          12.968577833027718,
          15.940543586429904,
          18.912509339832088,
          21.884475093234276,
          24.856440846636456,
          27.82840660003864,
          30.800372353440828,
          33.772338106843016,
          36.7443038602452
         ],
         "y": [
          1.241699665851999,
          1.3342412783211286,
          1.3914096426244147,
          1.4268344665085502,
          1.4454577791231757,
          1.454263511846311,
          1.4529166269147076,
          1.4257735817308674,
          1.375652649188399,
          1.2974577962999096,
          1.1416101884946712
         ]
        },
        {
         "name": "gear 3",
         "type": "scatter",
         "x": [
          9.704150594988954,
          13.809752769791974,
          17.91535494459499,
          22.020957119398012,
          26.12655929420103,
          30.232161469004055,
          34.337763643807065,
          38.44336581861008,
          42.54896799341311,
          46.654570168216125,
          50.76017234301915
         ],
         "y": [
          0.8988422954301782,
          0.9658313731130557,
          1.0072144427952854,
          1.0328577854576821,
          1.0463388401115525,
          1.0527131391723297,
          1.0517381553039302,
          1.0320898315514488,
          0.9958082609796619,
          0.9392045241872482,
          0.8263894648058441
         ]
        },
        {
         "name": "gear 4",
         "type": "scatter",
         "x": [
          12.224709191089978,
          17.39670154116651,
          22.56869389124304,
          27.740686241319573,
          32.9126785913961,
          38.08467094147264,
          43.25666329154916,
          48.42865564162569,
          53.600647991702225,
          58.77264034177875,
          63.94463269185528,
          69.11662504193183
         ],
         "y": [
          0.7135139870940589,
          0.7666908838113946,
          0.7995413618065667,
          0.8198974173220772,
          0.8305988730782425,
          0.8356588836728801,
          0.8348849274062126,
          0.8192878044274386,
          0.7904869700560204,
          0.7455541068290525,
          0.6559998844335051,
          0.5411143842354873
         ]
        },
        {
         "name": "gear 0",
         "type": "scatter",
         "x": [
          2.2958600188144596,
          3.267185411389808,
          4.2385108039651564,
          5.209836196540505,
          6.181161589115853,
          7.152486981691203,
          8.12381237426655,
          9.095137766841898,
          10.066463159417246,
          11.037788551992595,
          12.009113944567945,
          12.980439337143293
         ],
         "y": [
          3.7427059058788954,
          4.0451399878332595,
          4.274232501132766,
          4.429983445777416,
          4.512392821767209,
          4.521460629102146,
          4.457186867782226,
          4.319571537807448,
          4.108614639177815,
          3.8243161718933245,
          3.4666761359539766,
          3.035694531359772
         ]
        },
        {
         "name": "gear 1",
         "type": "scatter",
         "x": [
          4.3578824431200385,
          6.20160193828621,
          8.04532143345238,
          9.88904092861855,
          11.73276042378472,
          13.576479918950893,
          15.42019941411706,
          17.26391890928323,
          19.107638404449403,
          20.951357899615573,
          22.795077394781742,
          24.638796889947916
         ],
         "y": [
          1.9717670138288796,
          2.1310981399316664,
          2.2517907810845776,
          2.333844937287613,
          2.3772606085407726,
          2.3820377948440568,
          2.348176496197465,
          2.275676712600997,
          2.164538444054654,
          2.0147616905584345,
          1.82634645211234,
          1.599292728716369
         ]
        },
        {
         "name": "gear 2",
         "type": "scatter",
         "x": [
          7.024646326223346,
          9.996612079625532,
          12.968577833027718,
          15.940543586429904,
          18.912509339832088,
          21.884475093234276,
          24.856440846636456,
          27.82840660003864,
          30.800372353440828,
          33.772338106843016,
          36.7443038602452
         ],
         "y": [
          1.2232258326531025,
          1.3220701423650163,
          1.3969442808580257,
          1.4478482481321309,
          1.4747820441873314,
          1.477745669023628,
          1.45673912264102,
          1.4117624050395077,
          1.3428155162190911,
          1.2498984561797701,
          1.1330112249215447
         ]
        },
        {
         "name": "gear 3",
         "type": "scatter",
         "x": [
          9.704150594988954,
          13.809752769791974,
          17.91535494459499,
          22.020957119398012,
          26.12655929420103,
          30.232161469004055,
          34.337763643807065,
          38.44336581861008,
          42.54896799341311,
          46.654570168216125,
          50.76017234301915
         ],
         "y": [
          0.8854694460250061,
          0.9570209239507947,
          1.0112208600240926,
          1.0480692542449004,
          1.0675661066132174,
          1.069711417129044,
          1.05450518579238,
          1.0219474126032257,
          0.9720380975615808,
          0.9047772406674454,
          0.8201648419208193
         ]
        },
        {
         "name": "gear 4",
         "type": "scatter",
         "x": [
          12.224709191089978,
          17.39670154116651,
          22.56869389124304,
          27.740686241319573,
          32.9126785913961,
          38.08467094147264,
          43.25666329154916,
          48.42865564162569,
          53.600647991702225,
          58.77264034177875,
          63.94463269185528,
          69.11662504193183
         ],
         "y": [
          0.7028984262260358,
          0.75969702210527,
          0.8027217136273725,
          0.8319725007923435,
          0.8474493836001827,
          0.8491523620508904,
          0.8370814361444665,
          0.8112366058809108,
          0.7716178712602235,
          0.7182252322824045,
          0.6510586889474539,
          0.5701182412553716
         ]
        },
        {
         "line": {
          "color": "#0D1A00"
         },
         "type": "scatter",
         "x": [
          12.9,
          12.9
         ],
         "y": [
          0,
          5
         ]
        },
        {
         "line": {
          "color": "#0D1A00"
         },
         "type": "scatter",
         "x": [
          24.557882443120043,
          24.557882443120043
         ],
         "y": [
          0,
          5
         ]
        },
        {
         "line": {
          "color": "#0D1A00"
         },
         "type": "scatter",
         "x": [
          36.72464632622335,
          36.72464632622335
         ],
         "y": [
          0,
          5
         ]
        },
        {
         "line": {
          "color": "#0D1A00"
         },
         "type": "scatter",
         "x": [
          42.904150594988955,
          42.904150594988955
         ],
         "y": [
          0,
          5
         ]
        }
       ],
       "layout": {
        "template": {
         "data": {
          "bar": [
           {
            "error_x": {
             "color": "#2a3f5f"
            },
            "error_y": {
             "color": "#2a3f5f"
            },
            "marker": {
             "line": {
              "color": "#E5ECF6",
              "width": 0.5
             }
            },
            "type": "bar"
           }
          ],
          "barpolar": [
           {
            "marker": {
             "line": {
              "color": "#E5ECF6",
              "width": 0.5
             }
            },
            "type": "barpolar"
           }
          ],
          "carpet": [
           {
            "aaxis": {
             "endlinecolor": "#2a3f5f",
             "gridcolor": "white",
             "linecolor": "white",
             "minorgridcolor": "white",
             "startlinecolor": "#2a3f5f"
            },
            "baxis": {
             "endlinecolor": "#2a3f5f",
             "gridcolor": "white",
             "linecolor": "white",
             "minorgridcolor": "white",
             "startlinecolor": "#2a3f5f"
            },
            "type": "carpet"
           }
          ],
          "choropleth": [
           {
            "colorbar": {
             "outlinewidth": 0,
             "ticks": ""
            },
            "type": "choropleth"
           }
          ],
          "contour": [
           {
            "colorbar": {
             "outlinewidth": 0,
             "ticks": ""
            },
            "colorscale": [
             [
              0,
              "#0d0887"
             ],
             [
              0.1111111111111111,
              "#46039f"
             ],
             [
              0.2222222222222222,
              "#7201a8"
             ],
             [
              0.3333333333333333,
              "#9c179e"
             ],
             [
              0.4444444444444444,
              "#bd3786"
             ],
             [
              0.5555555555555556,
              "#d8576b"
             ],
             [
              0.6666666666666666,
              "#ed7953"
             ],
             [
              0.7777777777777778,
              "#fb9f3a"
             ],
             [
              0.8888888888888888,
              "#fdca26"
             ],
             [
              1,
              "#f0f921"
             ]
            ],
            "type": "contour"
           }
          ],
          "contourcarpet": [
           {
            "colorbar": {
             "outlinewidth": 0,
             "ticks": ""
            },
            "type": "contourcarpet"
           }
          ],
          "heatmap": [
           {
            "colorbar": {
             "outlinewidth": 0,
             "ticks": ""
            },
            "colorscale": [
             [
              0,
              "#0d0887"
             ],
             [
              0.1111111111111111,
              "#46039f"
             ],
             [
              0.2222222222222222,
              "#7201a8"
             ],
             [
              0.3333333333333333,
              "#9c179e"
             ],
             [
              0.4444444444444444,
              "#bd3786"
             ],
             [
              0.5555555555555556,
              "#d8576b"
             ],
             [
              0.6666666666666666,
              "#ed7953"
             ],
             [
              0.7777777777777778,
              "#fb9f3a"
             ],
             [
              0.8888888888888888,
              "#fdca26"
             ],
             [
              1,
              "#f0f921"
             ]
            ],
            "type": "heatmap"
           }
          ],
          "heatmapgl": [
           {
            "colorbar": {
             "outlinewidth": 0,
             "ticks": ""
            },
            "colorscale": [
             [
              0,
              "#0d0887"
             ],
             [
              0.1111111111111111,
              "#46039f"
             ],
             [
              0.2222222222222222,
              "#7201a8"
             ],
             [
              0.3333333333333333,
              "#9c179e"
             ],
             [
              0.4444444444444444,
              "#bd3786"
             ],
             [
              0.5555555555555556,
              "#d8576b"
             ],
             [
              0.6666666666666666,
              "#ed7953"
             ],
             [
              0.7777777777777778,
              "#fb9f3a"
             ],
             [
              0.8888888888888888,
              "#fdca26"
             ],
             [
              1,
              "#f0f921"
             ]
            ],
            "type": "heatmapgl"
           }
          ],
          "histogram": [
           {
            "marker": {
             "colorbar": {
              "outlinewidth": 0,
              "ticks": ""
             }
            },
            "type": "histogram"
           }
          ],
          "histogram2d": [
           {
            "colorbar": {
             "outlinewidth": 0,
             "ticks": ""
            },
            "colorscale": [
             [
              0,
              "#0d0887"
             ],
             [
              0.1111111111111111,
              "#46039f"
             ],
             [
              0.2222222222222222,
              "#7201a8"
             ],
             [
              0.3333333333333333,
              "#9c179e"
             ],
             [
              0.4444444444444444,
              "#bd3786"
             ],
             [
              0.5555555555555556,
              "#d8576b"
             ],
             [
              0.6666666666666666,
              "#ed7953"
             ],
             [
              0.7777777777777778,
              "#fb9f3a"
             ],
             [
              0.8888888888888888,
              "#fdca26"
             ],
             [
              1,
              "#f0f921"
             ]
            ],
            "type": "histogram2d"
           }
          ],
          "histogram2dcontour": [
           {
            "colorbar": {
             "outlinewidth": 0,
             "ticks": ""
            },
            "colorscale": [
             [
              0,
              "#0d0887"
             ],
             [
              0.1111111111111111,
              "#46039f"
             ],
             [
              0.2222222222222222,
              "#7201a8"
             ],
             [
              0.3333333333333333,
              "#9c179e"
             ],
             [
              0.4444444444444444,
              "#bd3786"
             ],
             [
              0.5555555555555556,
              "#d8576b"
             ],
             [
              0.6666666666666666,
              "#ed7953"
             ],
             [
              0.7777777777777778,
              "#fb9f3a"
             ],
             [
              0.8888888888888888,
              "#fdca26"
             ],
             [
              1,
              "#f0f921"
             ]
            ],
            "type": "histogram2dcontour"
           }
          ],
          "mesh3d": [
           {
            "colorbar": {
             "outlinewidth": 0,
             "ticks": ""
            },
            "type": "mesh3d"
           }
          ],
          "parcoords": [
           {
            "line": {
             "colorbar": {
              "outlinewidth": 0,
              "ticks": ""
             }
            },
            "type": "parcoords"
           }
          ],
          "scatter": [
           {
            "marker": {
             "colorbar": {
              "outlinewidth": 0,
              "ticks": ""
             }
            },
            "type": "scatter"
           }
          ],
          "scatter3d": [
           {
            "line": {
             "colorbar": {
              "outlinewidth": 0,
              "ticks": ""
             }
            },
            "marker": {
             "colorbar": {
              "outlinewidth": 0,
              "ticks": ""
             }
            },
            "type": "scatter3d"
           }
          ],
          "scattercarpet": [
           {
            "marker": {
             "colorbar": {
              "outlinewidth": 0,
              "ticks": ""
             }
            },
            "type": "scattercarpet"
           }
          ],
          "scattergeo": [
           {
            "marker": {
             "colorbar": {
              "outlinewidth": 0,
              "ticks": ""
             }
            },
            "type": "scattergeo"
           }
          ],
          "scattergl": [
           {
            "marker": {
             "colorbar": {
              "outlinewidth": 0,
              "ticks": ""
             }
            },
            "type": "scattergl"
           }
          ],
          "scattermapbox": [
           {
            "marker": {
             "colorbar": {
              "outlinewidth": 0,
              "ticks": ""
             }
            },
            "type": "scattermapbox"
           }
          ],
          "scatterpolar": [
           {
            "marker": {
             "colorbar": {
              "outlinewidth": 0,
              "ticks": ""
             }
            },
            "type": "scatterpolar"
           }
          ],
          "scatterpolargl": [
           {
            "marker": {
             "colorbar": {
              "outlinewidth": 0,
              "ticks": ""
             }
            },
            "type": "scatterpolargl"
           }
          ],
          "scatterternary": [
           {
            "marker": {
             "colorbar": {
              "outlinewidth": 0,
              "ticks": ""
             }
            },
            "type": "scatterternary"
           }
          ],
          "surface": [
           {
            "colorbar": {
             "outlinewidth": 0,
             "ticks": ""
            },
            "colorscale": [
             [
              0,
              "#0d0887"
             ],
             [
              0.1111111111111111,
              "#46039f"
             ],
             [
              0.2222222222222222,
              "#7201a8"
             ],
             [
              0.3333333333333333,
              "#9c179e"
             ],
             [
              0.4444444444444444,
              "#bd3786"
             ],
             [
              0.5555555555555556,
              "#d8576b"
             ],
             [
              0.6666666666666666,
              "#ed7953"
             ],
             [
              0.7777777777777778,
              "#fb9f3a"
             ],
             [
              0.8888888888888888,
              "#fdca26"
             ],
             [
              1,
              "#f0f921"
             ]
            ],
            "type": "surface"
           }
          ],
          "table": [
           {
            "cells": {
             "fill": {
              "color": "#EBF0F8"
             },
             "line": {
              "color": "white"
             }
            },
            "header": {
             "fill": {
              "color": "#C8D4E3"
             },
             "line": {
              "color": "white"
             }
            },
            "type": "table"
           }
          ]
         },
         "layout": {
          "annotationdefaults": {
           "arrowcolor": "#2a3f5f",
           "arrowhead": 0,
           "arrowwidth": 1
          },
          "colorscale": {
           "diverging": [
            [
             0,
             "#8e0152"
            ],
            [
             0.1,
             "#c51b7d"
            ],
            [
             0.2,
             "#de77ae"
            ],
            [
             0.3,
             "#f1b6da"
            ],
            [
             0.4,
             "#fde0ef"
            ],
            [
             0.5,
             "#f7f7f7"
            ],
            [
             0.6,
             "#e6f5d0"
            ],
            [
             0.7,
             "#b8e186"
            ],
            [
             0.8,
             "#7fbc41"
            ],
            [
             0.9,
             "#4d9221"
            ],
            [
             1,
             "#276419"
            ]
           ],
           "sequential": [
            [
             0,
             "#0d0887"
            ],
            [
             0.1111111111111111,
             "#46039f"
            ],
            [
             0.2222222222222222,
             "#7201a8"
            ],
            [
             0.3333333333333333,
             "#9c179e"
            ],
            [
             0.4444444444444444,
             "#bd3786"
            ],
            [
             0.5555555555555556,
             "#d8576b"
            ],
            [
             0.6666666666666666,
             "#ed7953"
            ],
            [
             0.7777777777777778,
             "#fb9f3a"
            ],
            [
             0.8888888888888888,
             "#fdca26"
            ],
            [
             1,
             "#f0f921"
            ]
           ],
           "sequentialminus": [
            [
             0,
             "#0d0887"
            ],
            [
             0.1111111111111111,
             "#46039f"
            ],
            [
             0.2222222222222222,
             "#7201a8"
            ],
            [
             0.3333333333333333,
             "#9c179e"
            ],
            [
             0.4444444444444444,
             "#bd3786"
            ],
            [
             0.5555555555555556,
             "#d8576b"
            ],
            [
             0.6666666666666666,
             "#ed7953"
            ],
            [
             0.7777777777777778,
             "#fb9f3a"
            ],
            [
             0.8888888888888888,
             "#fdca26"
            ],
            [
             1,
             "#f0f921"
            ]
           ]
          },
          "colorway": [
           "#636efa",
           "#EF553B",
           "#00cc96",
           "#ab63fa",
           "#FFA15A",
           "#19d3f3",
           "#FF6692",
           "#B6E880",
           "#FF97FF",
           "#FECB52"
          ],
          "font": {
           "color": "#2a3f5f"
          },
          "geo": {
           "bgcolor": "white",
           "lakecolor": "white",
           "landcolor": "#E5ECF6",
           "showlakes": true,
           "showland": true,
           "subunitcolor": "white"
          },
          "hoverlabel": {
           "align": "left"
          },
          "hovermode": "closest",
          "mapbox": {
           "style": "light"
          },
          "paper_bgcolor": "white",
          "plot_bgcolor": "#E5ECF6",
          "polar": {
           "angularaxis": {
            "gridcolor": "white",
            "linecolor": "white",
            "ticks": ""
           },
           "bgcolor": "#E5ECF6",
           "radialaxis": {
            "gridcolor": "white",
            "linecolor": "white",
            "ticks": ""
           }
          },
          "scene": {
           "xaxis": {
            "backgroundcolor": "#E5ECF6",
            "gridcolor": "white",
            "gridwidth": 2,
            "linecolor": "white",
            "showbackground": true,
            "ticks": "",
            "zerolinecolor": "white"
           },
           "yaxis": {
            "backgroundcolor": "#E5ECF6",
            "gridcolor": "white",
            "gridwidth": 2,
            "linecolor": "white",
            "showbackground": true,
            "ticks": "",
            "zerolinecolor": "white"
           },
           "zaxis": {
            "backgroundcolor": "#E5ECF6",
            "gridcolor": "white",
            "gridwidth": 2,
            "linecolor": "white",
            "showbackground": true,
            "ticks": "",
            "zerolinecolor": "white"
           }
          },
          "shapedefaults": {
           "line": {
            "color": "#2a3f5f"
           }
          },
          "ternary": {
           "aaxis": {
            "gridcolor": "white",
            "linecolor": "white",
            "ticks": ""
           },
           "baxis": {
            "gridcolor": "white",
            "linecolor": "white",
            "ticks": ""
           },
           "bgcolor": "#E5ECF6",
           "caxis": {
            "gridcolor": "white",
            "linecolor": "white",
            "ticks": ""
           }
          },
          "title": {
           "x": 0.05
          },
          "xaxis": {
           "automargin": true,
           "gridcolor": "white",
           "linecolor": "white",
           "ticks": "",
           "zerolinecolor": "white",
           "zerolinewidth": 2
          },
          "yaxis": {
           "automargin": true,
           "gridcolor": "white",
           "linecolor": "white",
           "ticks": "",
           "zerolinecolor": "white",
           "zerolinewidth": 2
          }
         }
        },
        "title": {
         "text": "Acceleration-Velocity per gear"
        },
        "xaxis": {
         "title": {
          "text": "velocity (in m/s)"
         }
        },
        "yaxis": {
         "title": {
          "text": "Acceleration (in m/s2"
         }
        }
       }
      },
      "text/html": [
       "<div>\n",
       "        \n",
       "        \n",
       "            <div id=\"7dff5f6d-1b24-4249-b4ce-33d9f4279c2d\" class=\"plotly-graph-div\" style=\"height:525px; width:100%;\"></div>\n",
       "            <script type=\"text/javascript\">\n",
       "                require([\"plotly\"], function(Plotly) {\n",
       "                    window.PLOTLYENV=window.PLOTLYENV || {};\n",
       "                    \n",
       "                if (document.getElementById(\"7dff5f6d-1b24-4249-b4ce-33d9f4279c2d\")) {\n",
       "                    Plotly.newPlot(\n",
       "                        '7dff5f6d-1b24-4249-b4ce-33d9f4279c2d',\n",
       "                        [{\"name\": \"gear 0\", \"type\": \"scatter\", \"x\": [2.2958600188144596, 3.267185411389808, 4.2385108039651564, 5.209836196540505, 6.181161589115853, 7.152486981691203, 8.12381237426655, 9.095137766841898, 10.066463159417246, 11.037788551992595, 12.009113944567945, 12.980439337143293], \"y\": [3.7992303208904437, 4.08238003068405, 4.257298160268732, 4.365687546779893, 4.42266932418285, 4.449612237738712, 4.4454911719032095, 4.362441556042206, 4.209086463934654, 3.9698335558430076, 3.492986397632949, 2.8812584095655813]}, {\"name\": \"gear 1\", \"type\": \"scatter\", \"x\": [4.3578824431200385, 6.20160193828621, 8.04532143345238, 9.88904092861855, 11.73276042378472, 13.576479918950893, 15.42019941411706, 17.26391890928323, 19.107638404449403, 20.951357899615573, 22.795077394781742, 24.638796889947916], \"y\": [2.0015457300300876, 2.1507172844579383, 2.2428692746781613, 2.299971975864529, 2.3299916439597457, 2.344185959394054, 2.3420148612953495, 2.298261892939309, 2.2174699419753297, 2.091424507468511, 1.8402074680212612, 1.5179312596735748]}, {\"name\": \"gear 2\", \"type\": \"scatter\", \"x\": [7.024646326223346, 9.996612079625532, 12.968577833027718, 15.940543586429904, 18.912509339832088, 21.884475093234276, 24.856440846636456, 27.82840660003864, 30.800372353440828, 33.772338106843016, 36.7443038602452], \"y\": [1.241699665851999, 1.3342412783211286, 1.3914096426244147, 1.4268344665085502, 1.4454577791231757, 1.454263511846311, 1.4529166269147076, 1.4257735817308674, 1.375652649188399, 1.2974577962999096, 1.1416101884946712]}, {\"name\": \"gear 3\", \"type\": \"scatter\", \"x\": [9.704150594988954, 13.809752769791974, 17.91535494459499, 22.020957119398012, 26.12655929420103, 30.232161469004055, 34.337763643807065, 38.44336581861008, 42.54896799341311, 46.654570168216125, 50.76017234301915], \"y\": [0.8988422954301782, 0.9658313731130557, 1.0072144427952854, 1.0328577854576821, 1.0463388401115525, 1.0527131391723297, 1.0517381553039302, 1.0320898315514488, 0.9958082609796619, 0.9392045241872482, 0.8263894648058441]}, {\"name\": \"gear 4\", \"type\": \"scatter\", \"x\": [12.224709191089978, 17.39670154116651, 22.56869389124304, 27.740686241319573, 32.9126785913961, 38.08467094147264, 43.25666329154916, 48.42865564162569, 53.600647991702225, 58.77264034177875, 63.94463269185528, 69.11662504193183], \"y\": [0.7135139870940589, 0.7666908838113946, 0.7995413618065667, 0.8198974173220772, 0.8305988730782425, 0.8356588836728801, 0.8348849274062126, 0.8192878044274386, 0.7904869700560204, 0.7455541068290525, 0.6559998844335051, 0.5411143842354873]}, {\"name\": \"gear 0\", \"type\": \"scatter\", \"x\": [2.2958600188144596, 3.267185411389808, 4.2385108039651564, 5.209836196540505, 6.181161589115853, 7.152486981691203, 8.12381237426655, 9.095137766841898, 10.066463159417246, 11.037788551992595, 12.009113944567945, 12.980439337143293], \"y\": [3.7427059058788954, 4.0451399878332595, 4.274232501132766, 4.429983445777416, 4.512392821767209, 4.521460629102146, 4.457186867782226, 4.319571537807448, 4.108614639177815, 3.8243161718933245, 3.4666761359539766, 3.035694531359772]}, {\"name\": \"gear 1\", \"type\": \"scatter\", \"x\": [4.3578824431200385, 6.20160193828621, 8.04532143345238, 9.88904092861855, 11.73276042378472, 13.576479918950893, 15.42019941411706, 17.26391890928323, 19.107638404449403, 20.951357899615573, 22.795077394781742, 24.638796889947916], \"y\": [1.9717670138288796, 2.1310981399316664, 2.2517907810845776, 2.333844937287613, 2.3772606085407726, 2.3820377948440568, 2.348176496197465, 2.275676712600997, 2.164538444054654, 2.0147616905584345, 1.82634645211234, 1.599292728716369]}, {\"name\": \"gear 2\", \"type\": \"scatter\", \"x\": [7.024646326223346, 9.996612079625532, 12.968577833027718, 15.940543586429904, 18.912509339832088, 21.884475093234276, 24.856440846636456, 27.82840660003864, 30.800372353440828, 33.772338106843016, 36.7443038602452], \"y\": [1.2232258326531025, 1.3220701423650163, 1.3969442808580257, 1.4478482481321309, 1.4747820441873314, 1.477745669023628, 1.45673912264102, 1.4117624050395077, 1.3428155162190911, 1.2498984561797701, 1.1330112249215447]}, {\"name\": \"gear 3\", \"type\": \"scatter\", \"x\": [9.704150594988954, 13.809752769791974, 17.91535494459499, 22.020957119398012, 26.12655929420103, 30.232161469004055, 34.337763643807065, 38.44336581861008, 42.54896799341311, 46.654570168216125, 50.76017234301915], \"y\": [0.8854694460250061, 0.9570209239507947, 1.0112208600240926, 1.0480692542449004, 1.0675661066132174, 1.069711417129044, 1.05450518579238, 1.0219474126032257, 0.9720380975615808, 0.9047772406674454, 0.8201648419208193]}, {\"name\": \"gear 4\", \"type\": \"scatter\", \"x\": [12.224709191089978, 17.39670154116651, 22.56869389124304, 27.740686241319573, 32.9126785913961, 38.08467094147264, 43.25666329154916, 48.42865564162569, 53.600647991702225, 58.77264034177875, 63.94463269185528, 69.11662504193183], \"y\": [0.7028984262260358, 0.75969702210527, 0.8027217136273725, 0.8319725007923435, 0.8474493836001827, 0.8491523620508904, 0.8370814361444665, 0.8112366058809108, 0.7716178712602235, 0.7182252322824045, 0.6510586889474539, 0.5701182412553716]}, {\"line\": {\"color\": \"#0D1A00\"}, \"type\": \"scatter\", \"x\": [12.9, 12.9], \"y\": [0, 5]}, {\"line\": {\"color\": \"#0D1A00\"}, \"type\": \"scatter\", \"x\": [24.557882443120043, 24.557882443120043], \"y\": [0, 5]}, {\"line\": {\"color\": \"#0D1A00\"}, \"type\": \"scatter\", \"x\": [36.72464632622335, 36.72464632622335], \"y\": [0, 5]}, {\"line\": {\"color\": \"#0D1A00\"}, \"type\": \"scatter\", \"x\": [42.904150594988955, 42.904150594988955], \"y\": [0, 5]}],\n",
       "                        {\"template\": {\"data\": {\"bar\": [{\"error_x\": {\"color\": \"#2a3f5f\"}, \"error_y\": {\"color\": \"#2a3f5f\"}, \"marker\": {\"line\": {\"color\": \"#E5ECF6\", \"width\": 0.5}}, \"type\": \"bar\"}], \"barpolar\": [{\"marker\": {\"line\": {\"color\": \"#E5ECF6\", \"width\": 0.5}}, \"type\": \"barpolar\"}], \"carpet\": [{\"aaxis\": {\"endlinecolor\": \"#2a3f5f\", \"gridcolor\": \"white\", \"linecolor\": \"white\", \"minorgridcolor\": \"white\", \"startlinecolor\": \"#2a3f5f\"}, \"baxis\": {\"endlinecolor\": \"#2a3f5f\", \"gridcolor\": \"white\", \"linecolor\": \"white\", \"minorgridcolor\": \"white\", \"startlinecolor\": \"#2a3f5f\"}, \"type\": \"carpet\"}], \"choropleth\": [{\"colorbar\": {\"outlinewidth\": 0, \"ticks\": \"\"}, \"type\": \"choropleth\"}], \"contour\": [{\"colorbar\": {\"outlinewidth\": 0, \"ticks\": \"\"}, \"colorscale\": [[0.0, \"#0d0887\"], [0.1111111111111111, \"#46039f\"], [0.2222222222222222, \"#7201a8\"], [0.3333333333333333, \"#9c179e\"], [0.4444444444444444, \"#bd3786\"], [0.5555555555555556, \"#d8576b\"], [0.6666666666666666, \"#ed7953\"], [0.7777777777777778, \"#fb9f3a\"], [0.8888888888888888, \"#fdca26\"], [1.0, \"#f0f921\"]], \"type\": \"contour\"}], \"contourcarpet\": [{\"colorbar\": {\"outlinewidth\": 0, \"ticks\": \"\"}, \"type\": \"contourcarpet\"}], \"heatmap\": [{\"colorbar\": {\"outlinewidth\": 0, \"ticks\": \"\"}, \"colorscale\": [[0.0, \"#0d0887\"], [0.1111111111111111, \"#46039f\"], [0.2222222222222222, \"#7201a8\"], [0.3333333333333333, \"#9c179e\"], [0.4444444444444444, \"#bd3786\"], [0.5555555555555556, \"#d8576b\"], [0.6666666666666666, \"#ed7953\"], [0.7777777777777778, \"#fb9f3a\"], [0.8888888888888888, \"#fdca26\"], [1.0, \"#f0f921\"]], \"type\": \"heatmap\"}], \"heatmapgl\": [{\"colorbar\": {\"outlinewidth\": 0, \"ticks\": \"\"}, \"colorscale\": [[0.0, \"#0d0887\"], [0.1111111111111111, \"#46039f\"], [0.2222222222222222, \"#7201a8\"], [0.3333333333333333, \"#9c179e\"], [0.4444444444444444, \"#bd3786\"], [0.5555555555555556, \"#d8576b\"], [0.6666666666666666, \"#ed7953\"], [0.7777777777777778, \"#fb9f3a\"], [0.8888888888888888, \"#fdca26\"], [1.0, \"#f0f921\"]], \"type\": \"heatmapgl\"}], \"histogram\": [{\"marker\": {\"colorbar\": {\"outlinewidth\": 0, \"ticks\": \"\"}}, \"type\": \"histogram\"}], \"histogram2d\": [{\"colorbar\": {\"outlinewidth\": 0, \"ticks\": \"\"}, \"colorscale\": [[0.0, \"#0d0887\"], [0.1111111111111111, \"#46039f\"], [0.2222222222222222, \"#7201a8\"], [0.3333333333333333, \"#9c179e\"], [0.4444444444444444, \"#bd3786\"], [0.5555555555555556, \"#d8576b\"], [0.6666666666666666, \"#ed7953\"], [0.7777777777777778, \"#fb9f3a\"], [0.8888888888888888, \"#fdca26\"], [1.0, \"#f0f921\"]], \"type\": \"histogram2d\"}], \"histogram2dcontour\": [{\"colorbar\": {\"outlinewidth\": 0, \"ticks\": \"\"}, \"colorscale\": [[0.0, \"#0d0887\"], [0.1111111111111111, \"#46039f\"], [0.2222222222222222, \"#7201a8\"], [0.3333333333333333, \"#9c179e\"], [0.4444444444444444, \"#bd3786\"], [0.5555555555555556, \"#d8576b\"], [0.6666666666666666, \"#ed7953\"], [0.7777777777777778, \"#fb9f3a\"], [0.8888888888888888, \"#fdca26\"], [1.0, \"#f0f921\"]], \"type\": \"histogram2dcontour\"}], \"mesh3d\": [{\"colorbar\": {\"outlinewidth\": 0, \"ticks\": \"\"}, \"type\": \"mesh3d\"}], \"parcoords\": [{\"line\": {\"colorbar\": {\"outlinewidth\": 0, \"ticks\": \"\"}}, \"type\": \"parcoords\"}], \"scatter\": [{\"marker\": {\"colorbar\": {\"outlinewidth\": 0, \"ticks\": \"\"}}, \"type\": \"scatter\"}], \"scatter3d\": [{\"line\": {\"colorbar\": {\"outlinewidth\": 0, \"ticks\": \"\"}}, \"marker\": {\"colorbar\": {\"outlinewidth\": 0, \"ticks\": \"\"}}, \"type\": \"scatter3d\"}], \"scattercarpet\": [{\"marker\": {\"colorbar\": {\"outlinewidth\": 0, \"ticks\": \"\"}}, \"type\": \"scattercarpet\"}], \"scattergeo\": [{\"marker\": {\"colorbar\": {\"outlinewidth\": 0, \"ticks\": \"\"}}, \"type\": \"scattergeo\"}], \"scattergl\": [{\"marker\": {\"colorbar\": {\"outlinewidth\": 0, \"ticks\": \"\"}}, \"type\": \"scattergl\"}], \"scattermapbox\": [{\"marker\": {\"colorbar\": {\"outlinewidth\": 0, \"ticks\": \"\"}}, \"type\": \"scattermapbox\"}], \"scatterpolar\": [{\"marker\": {\"colorbar\": {\"outlinewidth\": 0, \"ticks\": \"\"}}, \"type\": \"scatterpolar\"}], \"scatterpolargl\": [{\"marker\": {\"colorbar\": {\"outlinewidth\": 0, \"ticks\": \"\"}}, \"type\": \"scatterpolargl\"}], \"scatterternary\": [{\"marker\": {\"colorbar\": {\"outlinewidth\": 0, \"ticks\": \"\"}}, \"type\": \"scatterternary\"}], \"surface\": [{\"colorbar\": {\"outlinewidth\": 0, \"ticks\": \"\"}, \"colorscale\": [[0.0, \"#0d0887\"], [0.1111111111111111, \"#46039f\"], [0.2222222222222222, \"#7201a8\"], [0.3333333333333333, \"#9c179e\"], [0.4444444444444444, \"#bd3786\"], [0.5555555555555556, \"#d8576b\"], [0.6666666666666666, \"#ed7953\"], [0.7777777777777778, \"#fb9f3a\"], [0.8888888888888888, \"#fdca26\"], [1.0, \"#f0f921\"]], \"type\": \"surface\"}], \"table\": [{\"cells\": {\"fill\": {\"color\": \"#EBF0F8\"}, \"line\": {\"color\": \"white\"}}, \"header\": {\"fill\": {\"color\": \"#C8D4E3\"}, \"line\": {\"color\": \"white\"}}, \"type\": \"table\"}]}, \"layout\": {\"annotationdefaults\": {\"arrowcolor\": \"#2a3f5f\", \"arrowhead\": 0, \"arrowwidth\": 1}, \"colorscale\": {\"diverging\": [[0, \"#8e0152\"], [0.1, \"#c51b7d\"], [0.2, \"#de77ae\"], [0.3, \"#f1b6da\"], [0.4, \"#fde0ef\"], [0.5, \"#f7f7f7\"], [0.6, \"#e6f5d0\"], [0.7, \"#b8e186\"], [0.8, \"#7fbc41\"], [0.9, \"#4d9221\"], [1, \"#276419\"]], \"sequential\": [[0.0, \"#0d0887\"], [0.1111111111111111, \"#46039f\"], [0.2222222222222222, \"#7201a8\"], [0.3333333333333333, \"#9c179e\"], [0.4444444444444444, \"#bd3786\"], [0.5555555555555556, \"#d8576b\"], [0.6666666666666666, \"#ed7953\"], [0.7777777777777778, \"#fb9f3a\"], [0.8888888888888888, \"#fdca26\"], [1.0, \"#f0f921\"]], \"sequentialminus\": [[0.0, \"#0d0887\"], [0.1111111111111111, \"#46039f\"], [0.2222222222222222, \"#7201a8\"], [0.3333333333333333, \"#9c179e\"], [0.4444444444444444, \"#bd3786\"], [0.5555555555555556, \"#d8576b\"], [0.6666666666666666, \"#ed7953\"], [0.7777777777777778, \"#fb9f3a\"], [0.8888888888888888, \"#fdca26\"], [1.0, \"#f0f921\"]]}, \"colorway\": [\"#636efa\", \"#EF553B\", \"#00cc96\", \"#ab63fa\", \"#FFA15A\", \"#19d3f3\", \"#FF6692\", \"#B6E880\", \"#FF97FF\", \"#FECB52\"], \"font\": {\"color\": \"#2a3f5f\"}, \"geo\": {\"bgcolor\": \"white\", \"lakecolor\": \"white\", \"landcolor\": \"#E5ECF6\", \"showlakes\": true, \"showland\": true, \"subunitcolor\": \"white\"}, \"hoverlabel\": {\"align\": \"left\"}, \"hovermode\": \"closest\", \"mapbox\": {\"style\": \"light\"}, \"paper_bgcolor\": \"white\", \"plot_bgcolor\": \"#E5ECF6\", \"polar\": {\"angularaxis\": {\"gridcolor\": \"white\", \"linecolor\": \"white\", \"ticks\": \"\"}, \"bgcolor\": \"#E5ECF6\", \"radialaxis\": {\"gridcolor\": \"white\", \"linecolor\": \"white\", \"ticks\": \"\"}}, \"scene\": {\"xaxis\": {\"backgroundcolor\": \"#E5ECF6\", \"gridcolor\": \"white\", \"gridwidth\": 2, \"linecolor\": \"white\", \"showbackground\": true, \"ticks\": \"\", \"zerolinecolor\": \"white\"}, \"yaxis\": {\"backgroundcolor\": \"#E5ECF6\", \"gridcolor\": \"white\", \"gridwidth\": 2, \"linecolor\": \"white\", \"showbackground\": true, \"ticks\": \"\", \"zerolinecolor\": \"white\"}, \"zaxis\": {\"backgroundcolor\": \"#E5ECF6\", \"gridcolor\": \"white\", \"gridwidth\": 2, \"linecolor\": \"white\", \"showbackground\": true, \"ticks\": \"\", \"zerolinecolor\": \"white\"}}, \"shapedefaults\": {\"line\": {\"color\": \"#2a3f5f\"}}, \"ternary\": {\"aaxis\": {\"gridcolor\": \"white\", \"linecolor\": \"white\", \"ticks\": \"\"}, \"baxis\": {\"gridcolor\": \"white\", \"linecolor\": \"white\", \"ticks\": \"\"}, \"bgcolor\": \"#E5ECF6\", \"caxis\": {\"gridcolor\": \"white\", \"linecolor\": \"white\", \"ticks\": \"\"}}, \"title\": {\"x\": 0.05}, \"xaxis\": {\"automargin\": true, \"gridcolor\": \"white\", \"linecolor\": \"white\", \"ticks\": \"\", \"zerolinecolor\": \"white\", \"zerolinewidth\": 2}, \"yaxis\": {\"automargin\": true, \"gridcolor\": \"white\", \"linecolor\": \"white\", \"ticks\": \"\", \"zerolinecolor\": \"white\", \"zerolinewidth\": 2}}}, \"title\": {\"text\": \"Acceleration-Velocity per gear\"}, \"xaxis\": {\"title\": {\"text\": \"velocity (in m/s)\"}}, \"yaxis\": {\"title\": {\"text\": \"Acceleration (in m/s2\"}}},\n",
       "                        {\"responsive\": true}\n",
       "                    ).then(function(){\n",
       "                            \n",
       "var gd = document.getElementById('7dff5f6d-1b24-4249-b4ce-33d9f4279c2d');\n",
       "var x = new MutationObserver(function (mutations, observer) {{\n",
       "        var display = window.getComputedStyle(gd).display;\n",
       "        if (!display || display === 'none') {{\n",
       "            console.log([gd, 'removed!']);\n",
       "            Plotly.purge(gd);\n",
       "            observer.disconnect();\n",
       "        }}\n",
       "}});\n",
       "\n",
       "// Listen for the removal of the full notebook cells\n",
       "var notebookContainer = gd.closest('#notebook-container');\n",
       "if (notebookContainer) {{\n",
       "    x.observe(notebookContainer, {childList: true});\n",
       "}}\n",
       "\n",
       "// Listen for the clearing of the current output cell\n",
       "var outputEl = gd.closest('.output');\n",
       "if (outputEl) {{\n",
       "    x.observe(outputEl, {childList: true});\n",
       "}}\n",
       "\n",
       "                        })\n",
       "                };\n",
       "                });\n",
       "            </script>\n",
       "        </div>"
      ]
     },
     "metadata": {},
     "output_type": "display_data"
    },
    {
     "name": "stderr",
     "output_type": "stream",
     "text": [
      "127.0.0.1 - - [24/Feb/2020 14:36:43] \"GET / HTTP/1.1\" 200 -\n"
     ]
    }
   ],
   "source": [
    "outputs = sol['outputs'] # outputs of the dispatcher\n",
    "layout = go.Layout(title=\"Acceleration-Velocity per gear\",\n",
    "                xaxis=dict(title='velocity (in m/s)'),\n",
    "                yaxis=dict(title='Acceleration (in m/s2'))\n",
    "data = [\n",
    "    dict(x=x , y=y, name='gear %d'%i) for i, (x, y) in enumerate(zip(outputs['speed_per_gear'],outputs['acc_per_gear']))\n",
    "] + [\n",
    "    dict(x=x, y=np.polyval(p, x), name='gear %d'%i) for i, (x, p) in enumerate(zip(outputs['speed_per_gear'], outputs['coefs_per_gear']))\n",
    "] + [dict(x=[gear, gear], y=[0,5], line=dict(color='#0D1A00')) for gear in outputs['gs']]\n",
    "fig = go.Figure(data=data, layout=layout)\n",
    "iplot(fig)"
   ]
  },
  {
   "cell_type": "code",
   "execution_count": null,
   "metadata": {},
   "outputs": [],
   "source": []
  }
 ],
 "metadata": {
  "kernelspec": {
   "display_name": "Python 3",
   "language": "python",
   "name": "python3"
  },
  "language_info": {
   "codemirror_mode": {
    "name": "ipython",
    "version": 3
   },
   "file_extension": ".py",
   "mimetype": "text/x-python",
   "name": "python",
   "nbconvert_exporter": "python",
   "pygments_lexer": "ipython3",
   "version": "3.7.1"
  }
 },
 "nbformat": 4,
 "nbformat_minor": 2
}

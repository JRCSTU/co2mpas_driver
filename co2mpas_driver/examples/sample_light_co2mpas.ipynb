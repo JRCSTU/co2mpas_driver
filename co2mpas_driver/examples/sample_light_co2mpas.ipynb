{
 "cells": [
  {
   "cell_type": "markdown",
   "metadata": {},
   "source": [
    "# How to compute the CO2 emissions in grams for a series of speed profile"
   ]
  },
  {
   "cell_type": "markdown",
   "metadata": {},
   "source": [
    "This is an ipython notebook to present how to use the co2mpas driver model (i.e., MFC) to estimate co2 emission."
   ]
  },
  {
   "cell_type": "markdown",
   "metadata": {},
   "source": [
    "# Import co2mpas driver model and other libraries"
   ]
  },
  {
   "cell_type": "code",
   "execution_count": 1,
   "metadata": {},
   "outputs": [
    {
     "data": {
      "text/html": [
       "        <script type=\"text/javascript\">\n",
       "        window.PlotlyConfig = {MathJaxConfig: 'local'};\n",
       "        if (window.MathJax) {MathJax.Hub.Config({SVG: {font: \"STIX-Web\"}});}\n",
       "        if (typeof require !== 'undefined') {\n",
       "        require.undef(\"plotly\");\n",
       "        requirejs.config({\n",
       "            paths: {\n",
       "                'plotly': ['https://cdn.plot.ly/plotly-latest.min']\n",
       "            }\n",
       "        });\n",
       "        require(['plotly'], function(Plotly) {\n",
       "            window._Plotly = Plotly;\n",
       "        });\n",
       "        }\n",
       "        </script>\n",
       "        "
      ]
     },
     "metadata": {},
     "output_type": "display_data"
    }
   ],
   "source": [
    "import sys;\n",
    "sys.path.extend(['..'])\n",
    "import schedula as sh\n",
    "from plotly import graph_objs as go\n",
    "from co2mpas_driver import dsp as driver\n",
    "from plotly.offline import download_plotlyjs, init_notebook_mode, plot, iplot\n",
    "init_notebook_mode(connected=True)"
   ]
  },
  {
   "cell_type": "markdown",
   "metadata": {},
   "source": [
    "# Processing chain model"
   ]
  },
  {
   "cell_type": "code",
   "execution_count": 2,
   "metadata": {},
   "outputs": [
    {
     "name": "stdout",
     "output_type": "stream",
     "text": [
      " * Serving Flask app \"C:\\Users\\makieas\\AppData\\Local\\Temp\\tmpu6vdrmaa\" (lazy loading)\n",
      " * Environment: production\n",
      "   WARNING: Do not use the development server in a production environment.\n",
      "   Use a production WSGI server instead.\n",
      " * Debug mode: off\n"
     ]
    },
    {
     "name": "stderr",
     "output_type": "stream",
     "text": [
      " * Running on http://localhost:59288/ (Press CTRL+C to quit)\n"
     ]
    },
    {
     "data": {
      "text/html": [
       "\n",
       "<iframe width=\"100%\" height=\"500\" id=\"1689923713344\" src=\"http://localhost:59288/\">\n",
       "</iframe>\n"
      ],
      "text/plain": [
       "Site(SiteMap([(Dispatcher 1689882699200, SiteMap([(load, SiteMap()), (model, SiteMap()), (plot, SiteMap())]))]), host='localhost', port=0, depth=-1, index=False, root_path=None)"
      ]
     },
     "execution_count": 2,
     "metadata": {},
     "output_type": "execute_result"
    }
   ],
   "source": [
    "driver.plot(view=False).site(index=False)  # Click on the graph to see the model."
   ]
  },
  {
   "cell_type": "markdown",
   "metadata": {},
   "source": [
    "# Plot co2mpas driver model graph"
   ]
  },
  {
   "cell_type": "code",
   "execution_count": 3,
   "metadata": {},
   "outputs": [
    {
     "name": "stdout",
     "output_type": "stream",
     "text": [
      " * Serving Flask app \"C:\\Users\\makieas\\AppData\\Local\\Temp\\tmpmn_d3ms0\" (lazy loading)\n",
      " * Environment: production\n",
      "   WARNING: Do not use the development server in a production environment.\n",
      "   Use a production WSGI server instead.\n",
      " * Debug mode: off\n"
     ]
    },
    {
     "name": "stderr",
     "output_type": "stream",
     "text": [
      " * Running on http://localhost:59295/ (Press CTRL+C to quit)\n",
      "127.0.0.1 - - [24/Feb/2020 14:41:56] \"GET / HTTP/1.1\" 200 -\n"
     ]
    },
    {
     "data": {
      "text/html": [
       "\n",
       "<iframe width=\"100%\" height=\"500\" id=\"1689928060544\" src=\"http://localhost:59295/\">\n",
       "</iframe>\n"
      ],
      "text/plain": [
       "Site(SiteMap([(model, SiteMap())]), host='localhost', port=0, depth=-1, index=False, root_path=None)"
      ]
     },
     "execution_count": 3,
     "metadata": {},
     "output_type": "execute_result"
    }
   ],
   "source": [
    "driver.get_node('model')[0].plot(view=False).site(index=False)  # Click on the graph to see the model."
   ]
  },
  {
   "cell_type": "markdown",
   "metadata": {},
   "source": [
    "# User inputs to co2mpas driver model in order to estimate co2 emission"
   ]
  },
  {
   "cell_type": "code",
   "execution_count": 4,
   "metadata": {},
   "outputs": [
    {
     "name": "stdout",
     "output_type": "stream",
     "text": [
      " * Serving Flask app \"C:\\Users\\makieas\\AppData\\Local\\Temp\\tmp2n6rpqvf\" (lazy loading)\n",
      " * Environment: production\n",
      "   WARNING: Do not use the development server in a production environment.\n",
      "   Use a production WSGI server instead.\n",
      " * Debug mode: off\n"
     ]
    },
    {
     "name": "stderr",
     "output_type": "stream",
     "text": [
      " * Running on http://localhost:59302/ (Press CTRL+C to quit)\n",
      "127.0.0.1 - - [24/Feb/2020 14:41:56] \"GET / HTTP/1.1\" 200 -\n"
     ]
    },
    {
     "data": {
      "text/html": [
       "\n",
       "<iframe width=\"100%\" height=\"500\" id=\"1689959928664\" src=\"http://localhost:59302/\">\n",
       "</iframe>\n"
      ],
      "text/plain": [
       "Site(SiteMap([(Dispatcher 1689882699200, SiteMap([(load, SiteMap()), (model, SiteMap()), (plot, SiteMap())]))]), host='localhost', port=0, depth=-1, index=False, root_path=None)"
      ]
     },
     "execution_count": 4,
     "metadata": {},
     "output_type": "execute_result"
    }
   ],
   "source": [
    "# Remember to Insert vehicle data base path (db_path)\n",
    "# Sample speed profile\n",
    "speed = [0.075647222, 0.138130556, 0.165027778, 0.093338889, 0.050647222,\n",
    "          0.073841667, 0.067722222, 0.041172222, 0.094272222, 0.240147222,\n",
    "          0.421988889, 0.601022222, 0.805477778, 1.067511111, 1.360083333,\n",
    "          1.650283333, 1.913175, 2.176333333, 2.444797222, 2.700288889,\n",
    "          2.946313889, 3.189297222, 3.448358333, 3.704702778, 3.940416667,\n",
    "          4.130133333, 4.260580556, 4.3409, 4.388002778, 4.426941667,\n",
    "          4.455319444, 4.476166667, 4.515033333, 4.539722222, 4.54225,\n",
    "          4.563194444, 4.616366667, 4.794819444, 4.925277778, 5.010258333,\n",
    "          5.270727778, 5.526880556, 5.698258333, 5.863777778, 6.025444444,\n",
    "          6.178002778, 6.320294444, 6.455533333, 6.586655556, 6.7208,\n",
    "          6.850394444, 6.973597222, 7.076808333, 7.125569444, 7.125688889,\n",
    "          7.095327778, 7.045141667, 6.987052778, 6.942780556, 6.943469444,\n",
    "          6.972669444, 6.987636111, 6.995147222, 7.01125, 7.034722222,\n",
    "          7.064722222, 7.095263889, 7.144930556, 7.228544444, 7.351388889,\n",
    "          7.516902778, 7.705436111, 7.912636111, 8.142141667, 8.384738889,\n",
    "          8.638480556, 8.896288889, 9.157808333, 9.427988889, 9.695,\n",
    "          9.931672222, 10.09765, 10.17970556, 10.211575, 10.22029444,\n",
    "          10.21634444, 10.22308056, 10.25685278, 10.32316667, 10.43054444,\n",
    "          10.55200833, 10.67687222, 10.81433889, 10.94932778, 11.08748889,\n",
    "          11.23079444, 11.37732778, 11.52675278, 11.67602222, 11.83357778,\n",
    "          11.99132222, 12.127225, 12.217525, 12.27826111, 12.33689444,\n",
    "          12.41279167, 12.52231944, 12.648375,\n",
    "          12.78034722, 12.91521111, 13.04194444, 13.16066111, 13.28333333,\n",
    "          13.40571944, 13.53175556, 13.64644444, 13.75571111, 13.8666,\n",
    "          13.93222222, 13.95751111, 13.96354444, 13.95462222, 13.92623333,\n",
    "          13.89566111, 13.88161111, 13.90078611, 13.92424167, 13.95039722,\n",
    "          13.98454444, 14.02729722, 14.07866111, 14.15, 14.24663333, 14.3537,\n",
    "          14.45984444, 14.58112778, 14.7043, 14.83035556, 14.96040278,\n",
    "          15.09104722, 15.22573889, 15.36123611, 15.49455833, 15.63419444,\n",
    "          15.77003889, 15.90303333, 16.04134167, 16.17628056, 16.30461111,\n",
    "          16.4286, 16.54910556, 16.66977778, 16.77255278, 16.85622222,\n",
    "          16.94144444, 17.02344444, 17.09977778, 17.17553056, 17.24705278,\n",
    "          17.31889444, 17.39001389, 17.44721389]\n",
    "# Gear shifting points\n",
    "gs = [5.715589018826222, 10.974960637586783, 16.396951475513028,\n",
    "          22.832902038337586]\n",
    "sim_step = 0.1\n",
    "vehicle_id = 35135\n",
    "db_path='../co2mpas_driver/db/EuroSegmentCar_cleaned.csv'\n",
    "sol = driver(dict(vehicle_id=vehicle_id, inputs=dict(inputs=dict(gs=gs, velocities=speed, sim_step=sim_step))))\n",
    "sol.plot(view=False).site(index=False)"
   ]
  },
  {
   "cell_type": "code",
   "execution_count": 5,
   "metadata": {},
   "outputs": [
    {
     "data": {
      "text/plain": [
       "['ignition_type',\n",
       " 'full_load_curve',\n",
       " 'engine_max_power',\n",
       " 'engine_max_speed_at_max_power',\n",
       " 'idle_engine_speed',\n",
       " 'full_load_speeds',\n",
       " 'full_load_powers',\n",
       " 'full_load_torques',\n",
       " 'gear_box_ratios',\n",
       " 'tyre_radius',\n",
       " 'driveline_slippage',\n",
       " 'final_drive_ratio',\n",
       " 'driveline_efficiency',\n",
       " 'vehicle_mass',\n",
       " 'speed_per_gear',\n",
       " 'acc_per_gear',\n",
       " 'degree',\n",
       " 'coefs_per_gear',\n",
       " 'motor_max_power',\n",
       " 'fuel_type',\n",
       " 'motor_max_torque',\n",
       " 'vehicle_max_speed',\n",
       " 'poly_spline',\n",
       " 'start',\n",
       " 'stop',\n",
       " 'use_cubic',\n",
       " 'sp_bins',\n",
       " 'discrete_poly_spline',\n",
       " 'speed_per_gear_updated',\n",
       " 'acc_per_gear_updated',\n",
       " 'car_res_curve_force',\n",
       " 'discrete_car_res_curve_force',\n",
       " 'car_res_curve',\n",
       " 'discrete_car_res_curve',\n",
       " 'type_of_car',\n",
       " 'car_width',\n",
       " 'car_height',\n",
       " 'car_type',\n",
       " 'Alimit',\n",
       " 'curves',\n",
       " 'curves_dec',\n",
       " 'discrete_acceleration_curves',\n",
       " 'discrete_deceleration_curves',\n",
       " 'gear_shifting_style',\n",
       " 'use_linear_gs',\n",
       " 'gs',\n",
       " 'idle_engine_speed_median',\n",
       " 'idle_engine_speed_std',\n",
       " 'tans',\n",
       " 'sim_start',\n",
       " 'duration',\n",
       " 'sim_step',\n",
       " 'times',\n",
       " 'transmission',\n",
       " 'driver_style',\n",
       " 'driver_simulation_model',\n",
       " 'starting_velocity',\n",
       " 'desired_velocity',\n",
       " 'gears',\n",
       " 'velocities',\n",
       " 'accelerations',\n",
       " 'positions',\n",
       " 'r_dynamic',\n",
       " 'gearbox_type',\n",
       " 'engine_max_torque',\n",
       " 'fuel_eng_capacity',\n",
       " 'max_power',\n",
       " 'fuel_engine_stroke',\n",
       " 'fuel_turbo',\n",
       " 'fp']"
      ]
     },
     "execution_count": 5,
     "metadata": {},
     "output_type": "execute_result"
    }
   ],
   "source": [
    "list(driver.get_node('model')[0].dsp.data_nodes)"
   ]
  },
  {
   "cell_type": "markdown",
   "metadata": {},
   "source": [
    "# Compute and plot CO2 emission for a series of speed profile graph"
   ]
  },
  {
   "cell_type": "code",
   "execution_count": 6,
   "metadata": {},
   "outputs": [
    {
     "name": "stderr",
     "output_type": "stream",
     "text": [
      "127.0.0.1 - - [24/Feb/2020 14:41:57] \"GET / HTTP/1.1\" 200 -\n"
     ]
    },
    {
     "data": {
      "application/vnd.plotly.v1+json": {
       "config": {
        "linkText": "Export to plot.ly",
        "plotlyServerURL": "https://plot.ly",
        "showLink": false
       },
       "data": [
        {
         "type": "scatter",
         "y": [
          0.00017718243776459295,
          0.00021161566168057466,
          0.00011979199664227422,
          6.503469187907496e-05,
          9.479140851807044e-05,
          8.694224209726622e-05,
          5.28741834015631e-05,
          0.00012098848192565177,
          0.00030766559425781943,
          0.0005394761564188719,
          0.0007667665997866313,
          0.0010252288105271875,
          0.0013548252680101232,
          0.0017207434723314704,
          0.0020816317728815665,
          0.002406884852813553,
          0.0027309622265403477,
          0.003060108998472662,
          0.003372058234296658,
          0.003671328412133726,
          0.0039658851143644725,
          0.0042788937546666935,
          0.004587637350305639,
          0.004870732593284663,
          0.009710131576486843,
          0.008866690465411626,
          0.008065097807084266,
          0.007513888675095866,
          0.007422812550647202,
          0.0072662364248225995,
          0.0071544751291477615,
          0.007567305892312536,
          0.007330117075695197,
          0.006901834178771076,
          0.007294023060692179,
          0.008021543796565233,
          0.010990978640072278,
          0.01022289586398227,
          0.00939095440478463,
          0.014036528097842588,
          0.01459029946037124,
          0.012834102597976552,
          0.013046039080796025,
          0.013295514677934018,
          0.013376339020803905,
          0.013392609944659887,
          0.013474456598226934,
          0.013625287736526,
          0.013987957784907698,
          0.014117812793433196,
          0.014174272469928032,
          0.013768103356440901,
          0.012200190002985707,
          0.01073971770482006,
          0.009793126123397826,
          0.008899541804200451,
          0.008609422045350824,
          0.008933972043095163,
          0.010480288958641788,
          0.011360847279483067,
          0.010965967498430956,
          0.010758681560780182,
          0.011036618704995525,
          0.011291961363244648,
          0.011534760600717993,
          0.011600891954730541,
          0.012260763259118498,
          0.013451178789428933,
          0.014922688416167278,
          0.016656301759820257,
          0.017850921430192526,
          0.018979224435627308,
          0.0203313091432284,
          0.02141939356115504,
          0.022490009341757173,
          0.023314230641425533,
          0.02414338029036319,
          0.02521410447310667,
          0.02578326527305266,
          0.0250671063396398,
          0.022366076760352994,
          0.018911411437035473,
          0.016835266956974567,
          0.015874593259194332,
          0.01533739465221973,
          0.0157957954935294,
          0.016992990711729057,
          0.01850299439307909,
          0.020500309502844778,
          0.02137325690288267,
          0.021784926068346377,
          0.02265033196691643,
          0.022822955209450654,
          0.023266519254825913,
          0.02381967941557565,
          0.024293900023871932,
          0.02476256623977169,
          0.025083633704709365,
          0.025848957354089205,
          0.0262127698736208,
          0.02539445527223362,
          0.023251193677136482,
          0.021865948276949137,
          0.021868782298722175,
          0.02289699049827882,
          0.024863986139697168,
          0.02600294563094012,
          0.026604500854735442,
          0.027055179714201374,
          0.026886948859107137,
          0.02670141694954737,
          0.027183669686786666,
          0.027431652792955036,
          0.02791099944367836,
          0.02751337413129461,
          0.027436159816866847,
          0.027765347232019157,
          0.02529535811609747,
          0.02304465321977116,
          0.021966397563713255,
          0.021109748186107863,
          0.01997486611715965,
          0.01980487156550525,
          0.020701926157665928,
          0.022597643947020647,
          0.022881117244759153,
          0.023080967039505032,
          0.023597124175523284,
          0.024167734437427597,
          0.024759267127605594,
          0.02605495436774692,
          0.027735181161375178,
          0.028580884671636726,
          0.02875269684348196,
          0.02993120065774357,
          0.030319022455064317,
          0.03077747535886719,
          0.03131801304413348,
          0.031651091913193014,
          0.032214371412692115,
          0.03257682802905297,
          0.03274310290297991,
          0.03347704169135651,
          0.033544199847666954,
          0.03366434681548855,
          0.03434132758274639,
          0.034430970382053394,
          0.03428277622882518,
          0.03427429805883161,
          0.03431367880873225,
          0.03460356155441482,
          0.0335988022592363,
          0.03246124134585852,
          0.03275457873439964,
          0.03270874641304365,
          0.03247792110071188,
          0.03260068067519313,
          0.03245682124342576,
          0.03263379351337803,
          0.032735662044607934,
          0.03186855182545858
         ]
        }
       ],
       "layout": {
        "template": {
         "data": {
          "bar": [
           {
            "error_x": {
             "color": "#2a3f5f"
            },
            "error_y": {
             "color": "#2a3f5f"
            },
            "marker": {
             "line": {
              "color": "#E5ECF6",
              "width": 0.5
             }
            },
            "type": "bar"
           }
          ],
          "barpolar": [
           {
            "marker": {
             "line": {
              "color": "#E5ECF6",
              "width": 0.5
             }
            },
            "type": "barpolar"
           }
          ],
          "carpet": [
           {
            "aaxis": {
             "endlinecolor": "#2a3f5f",
             "gridcolor": "white",
             "linecolor": "white",
             "minorgridcolor": "white",
             "startlinecolor": "#2a3f5f"
            },
            "baxis": {
             "endlinecolor": "#2a3f5f",
             "gridcolor": "white",
             "linecolor": "white",
             "minorgridcolor": "white",
             "startlinecolor": "#2a3f5f"
            },
            "type": "carpet"
           }
          ],
          "choropleth": [
           {
            "colorbar": {
             "outlinewidth": 0,
             "ticks": ""
            },
            "type": "choropleth"
           }
          ],
          "contour": [
           {
            "colorbar": {
             "outlinewidth": 0,
             "ticks": ""
            },
            "colorscale": [
             [
              0,
              "#0d0887"
             ],
             [
              0.1111111111111111,
              "#46039f"
             ],
             [
              0.2222222222222222,
              "#7201a8"
             ],
             [
              0.3333333333333333,
              "#9c179e"
             ],
             [
              0.4444444444444444,
              "#bd3786"
             ],
             [
              0.5555555555555556,
              "#d8576b"
             ],
             [
              0.6666666666666666,
              "#ed7953"
             ],
             [
              0.7777777777777778,
              "#fb9f3a"
             ],
             [
              0.8888888888888888,
              "#fdca26"
             ],
             [
              1,
              "#f0f921"
             ]
            ],
            "type": "contour"
           }
          ],
          "contourcarpet": [
           {
            "colorbar": {
             "outlinewidth": 0,
             "ticks": ""
            },
            "type": "contourcarpet"
           }
          ],
          "heatmap": [
           {
            "colorbar": {
             "outlinewidth": 0,
             "ticks": ""
            },
            "colorscale": [
             [
              0,
              "#0d0887"
             ],
             [
              0.1111111111111111,
              "#46039f"
             ],
             [
              0.2222222222222222,
              "#7201a8"
             ],
             [
              0.3333333333333333,
              "#9c179e"
             ],
             [
              0.4444444444444444,
              "#bd3786"
             ],
             [
              0.5555555555555556,
              "#d8576b"
             ],
             [
              0.6666666666666666,
              "#ed7953"
             ],
             [
              0.7777777777777778,
              "#fb9f3a"
             ],
             [
              0.8888888888888888,
              "#fdca26"
             ],
             [
              1,
              "#f0f921"
             ]
            ],
            "type": "heatmap"
           }
          ],
          "heatmapgl": [
           {
            "colorbar": {
             "outlinewidth": 0,
             "ticks": ""
            },
            "colorscale": [
             [
              0,
              "#0d0887"
             ],
             [
              0.1111111111111111,
              "#46039f"
             ],
             [
              0.2222222222222222,
              "#7201a8"
             ],
             [
              0.3333333333333333,
              "#9c179e"
             ],
             [
              0.4444444444444444,
              "#bd3786"
             ],
             [
              0.5555555555555556,
              "#d8576b"
             ],
             [
              0.6666666666666666,
              "#ed7953"
             ],
             [
              0.7777777777777778,
              "#fb9f3a"
             ],
             [
              0.8888888888888888,
              "#fdca26"
             ],
             [
              1,
              "#f0f921"
             ]
            ],
            "type": "heatmapgl"
           }
          ],
          "histogram": [
           {
            "marker": {
             "colorbar": {
              "outlinewidth": 0,
              "ticks": ""
             }
            },
            "type": "histogram"
           }
          ],
          "histogram2d": [
           {
            "colorbar": {
             "outlinewidth": 0,
             "ticks": ""
            },
            "colorscale": [
             [
              0,
              "#0d0887"
             ],
             [
              0.1111111111111111,
              "#46039f"
             ],
             [
              0.2222222222222222,
              "#7201a8"
             ],
             [
              0.3333333333333333,
              "#9c179e"
             ],
             [
              0.4444444444444444,
              "#bd3786"
             ],
             [
              0.5555555555555556,
              "#d8576b"
             ],
             [
              0.6666666666666666,
              "#ed7953"
             ],
             [
              0.7777777777777778,
              "#fb9f3a"
             ],
             [
              0.8888888888888888,
              "#fdca26"
             ],
             [
              1,
              "#f0f921"
             ]
            ],
            "type": "histogram2d"
           }
          ],
          "histogram2dcontour": [
           {
            "colorbar": {
             "outlinewidth": 0,
             "ticks": ""
            },
            "colorscale": [
             [
              0,
              "#0d0887"
             ],
             [
              0.1111111111111111,
              "#46039f"
             ],
             [
              0.2222222222222222,
              "#7201a8"
             ],
             [
              0.3333333333333333,
              "#9c179e"
             ],
             [
              0.4444444444444444,
              "#bd3786"
             ],
             [
              0.5555555555555556,
              "#d8576b"
             ],
             [
              0.6666666666666666,
              "#ed7953"
             ],
             [
              0.7777777777777778,
              "#fb9f3a"
             ],
             [
              0.8888888888888888,
              "#fdca26"
             ],
             [
              1,
              "#f0f921"
             ]
            ],
            "type": "histogram2dcontour"
           }
          ],
          "mesh3d": [
           {
            "colorbar": {
             "outlinewidth": 0,
             "ticks": ""
            },
            "type": "mesh3d"
           }
          ],
          "parcoords": [
           {
            "line": {
             "colorbar": {
              "outlinewidth": 0,
              "ticks": ""
             }
            },
            "type": "parcoords"
           }
          ],
          "scatter": [
           {
            "marker": {
             "colorbar": {
              "outlinewidth": 0,
              "ticks": ""
             }
            },
            "type": "scatter"
           }
          ],
          "scatter3d": [
           {
            "line": {
             "colorbar": {
              "outlinewidth": 0,
              "ticks": ""
             }
            },
            "marker": {
             "colorbar": {
              "outlinewidth": 0,
              "ticks": ""
             }
            },
            "type": "scatter3d"
           }
          ],
          "scattercarpet": [
           {
            "marker": {
             "colorbar": {
              "outlinewidth": 0,
              "ticks": ""
             }
            },
            "type": "scattercarpet"
           }
          ],
          "scattergeo": [
           {
            "marker": {
             "colorbar": {
              "outlinewidth": 0,
              "ticks": ""
             }
            },
            "type": "scattergeo"
           }
          ],
          "scattergl": [
           {
            "marker": {
             "colorbar": {
              "outlinewidth": 0,
              "ticks": ""
             }
            },
            "type": "scattergl"
           }
          ],
          "scattermapbox": [
           {
            "marker": {
             "colorbar": {
              "outlinewidth": 0,
              "ticks": ""
             }
            },
            "type": "scattermapbox"
           }
          ],
          "scatterpolar": [
           {
            "marker": {
             "colorbar": {
              "outlinewidth": 0,
              "ticks": ""
             }
            },
            "type": "scatterpolar"
           }
          ],
          "scatterpolargl": [
           {
            "marker": {
             "colorbar": {
              "outlinewidth": 0,
              "ticks": ""
             }
            },
            "type": "scatterpolargl"
           }
          ],
          "scatterternary": [
           {
            "marker": {
             "colorbar": {
              "outlinewidth": 0,
              "ticks": ""
             }
            },
            "type": "scatterternary"
           }
          ],
          "surface": [
           {
            "colorbar": {
             "outlinewidth": 0,
             "ticks": ""
            },
            "colorscale": [
             [
              0,
              "#0d0887"
             ],
             [
              0.1111111111111111,
              "#46039f"
             ],
             [
              0.2222222222222222,
              "#7201a8"
             ],
             [
              0.3333333333333333,
              "#9c179e"
             ],
             [
              0.4444444444444444,
              "#bd3786"
             ],
             [
              0.5555555555555556,
              "#d8576b"
             ],
             [
              0.6666666666666666,
              "#ed7953"
             ],
             [
              0.7777777777777778,
              "#fb9f3a"
             ],
             [
              0.8888888888888888,
              "#fdca26"
             ],
             [
              1,
              "#f0f921"
             ]
            ],
            "type": "surface"
           }
          ],
          "table": [
           {
            "cells": {
             "fill": {
              "color": "#EBF0F8"
             },
             "line": {
              "color": "white"
             }
            },
            "header": {
             "fill": {
              "color": "#C8D4E3"
             },
             "line": {
              "color": "white"
             }
            },
            "type": "table"
           }
          ]
         },
         "layout": {
          "annotationdefaults": {
           "arrowcolor": "#2a3f5f",
           "arrowhead": 0,
           "arrowwidth": 1
          },
          "colorscale": {
           "diverging": [
            [
             0,
             "#8e0152"
            ],
            [
             0.1,
             "#c51b7d"
            ],
            [
             0.2,
             "#de77ae"
            ],
            [
             0.3,
             "#f1b6da"
            ],
            [
             0.4,
             "#fde0ef"
            ],
            [
             0.5,
             "#f7f7f7"
            ],
            [
             0.6,
             "#e6f5d0"
            ],
            [
             0.7,
             "#b8e186"
            ],
            [
             0.8,
             "#7fbc41"
            ],
            [
             0.9,
             "#4d9221"
            ],
            [
             1,
             "#276419"
            ]
           ],
           "sequential": [
            [
             0,
             "#0d0887"
            ],
            [
             0.1111111111111111,
             "#46039f"
            ],
            [
             0.2222222222222222,
             "#7201a8"
            ],
            [
             0.3333333333333333,
             "#9c179e"
            ],
            [
             0.4444444444444444,
             "#bd3786"
            ],
            [
             0.5555555555555556,
             "#d8576b"
            ],
            [
             0.6666666666666666,
             "#ed7953"
            ],
            [
             0.7777777777777778,
             "#fb9f3a"
            ],
            [
             0.8888888888888888,
             "#fdca26"
            ],
            [
             1,
             "#f0f921"
            ]
           ],
           "sequentialminus": [
            [
             0,
             "#0d0887"
            ],
            [
             0.1111111111111111,
             "#46039f"
            ],
            [
             0.2222222222222222,
             "#7201a8"
            ],
            [
             0.3333333333333333,
             "#9c179e"
            ],
            [
             0.4444444444444444,
             "#bd3786"
            ],
            [
             0.5555555555555556,
             "#d8576b"
            ],
            [
             0.6666666666666666,
             "#ed7953"
            ],
            [
             0.7777777777777778,
             "#fb9f3a"
            ],
            [
             0.8888888888888888,
             "#fdca26"
            ],
            [
             1,
             "#f0f921"
            ]
           ]
          },
          "colorway": [
           "#636efa",
           "#EF553B",
           "#00cc96",
           "#ab63fa",
           "#FFA15A",
           "#19d3f3",
           "#FF6692",
           "#B6E880",
           "#FF97FF",
           "#FECB52"
          ],
          "font": {
           "color": "#2a3f5f"
          },
          "geo": {
           "bgcolor": "white",
           "lakecolor": "white",
           "landcolor": "#E5ECF6",
           "showlakes": true,
           "showland": true,
           "subunitcolor": "white"
          },
          "hoverlabel": {
           "align": "left"
          },
          "hovermode": "closest",
          "mapbox": {
           "style": "light"
          },
          "paper_bgcolor": "white",
          "plot_bgcolor": "#E5ECF6",
          "polar": {
           "angularaxis": {
            "gridcolor": "white",
            "linecolor": "white",
            "ticks": ""
           },
           "bgcolor": "#E5ECF6",
           "radialaxis": {
            "gridcolor": "white",
            "linecolor": "white",
            "ticks": ""
           }
          },
          "scene": {
           "xaxis": {
            "backgroundcolor": "#E5ECF6",
            "gridcolor": "white",
            "gridwidth": 2,
            "linecolor": "white",
            "showbackground": true,
            "ticks": "",
            "zerolinecolor": "white"
           },
           "yaxis": {
            "backgroundcolor": "#E5ECF6",
            "gridcolor": "white",
            "gridwidth": 2,
            "linecolor": "white",
            "showbackground": true,
            "ticks": "",
            "zerolinecolor": "white"
           },
           "zaxis": {
            "backgroundcolor": "#E5ECF6",
            "gridcolor": "white",
            "gridwidth": 2,
            "linecolor": "white",
            "showbackground": true,
            "ticks": "",
            "zerolinecolor": "white"
           }
          },
          "shapedefaults": {
           "line": {
            "color": "#2a3f5f"
           }
          },
          "ternary": {
           "aaxis": {
            "gridcolor": "white",
            "linecolor": "white",
            "ticks": ""
           },
           "baxis": {
            "gridcolor": "white",
            "linecolor": "white",
            "ticks": ""
           },
           "bgcolor": "#E5ECF6",
           "caxis": {
            "gridcolor": "white",
            "linecolor": "white",
            "ticks": ""
           }
          },
          "title": {
           "x": 0.05
          },
          "xaxis": {
           "automargin": true,
           "gridcolor": "white",
           "linecolor": "white",
           "ticks": "",
           "zerolinecolor": "white",
           "zerolinewidth": 2
          },
          "yaxis": {
           "automargin": true,
           "gridcolor": "white",
           "linecolor": "white",
           "ticks": "",
           "zerolinecolor": "white",
           "zerolinewidth": 2
          }
         }
        },
        "title": {
         "text": "CO2_emission_for_vehicle_id_35135"
        },
        "yaxis": {
         "title": {
          "text": "Co2 emission (in gms)"
         }
        }
       }
      },
      "text/html": [
       "<div>\n",
       "        \n",
       "        \n",
       "            <div id=\"8ba8ef01-926c-437d-865c-e4ed3c8a6678\" class=\"plotly-graph-div\" style=\"height:525px; width:100%;\"></div>\n",
       "            <script type=\"text/javascript\">\n",
       "                require([\"plotly\"], function(Plotly) {\n",
       "                    window.PLOTLYENV=window.PLOTLYENV || {};\n",
       "                    \n",
       "                if (document.getElementById(\"8ba8ef01-926c-437d-865c-e4ed3c8a6678\")) {\n",
       "                    Plotly.newPlot(\n",
       "                        '8ba8ef01-926c-437d-865c-e4ed3c8a6678',\n",
       "                        [{\"type\": \"scatter\", \"y\": [0.00017718243776459295, 0.00021161566168057466, 0.00011979199664227422, 6.503469187907496e-05, 9.479140851807044e-05, 8.694224209726622e-05, 5.28741834015631e-05, 0.00012098848192565177, 0.00030766559425781943, 0.0005394761564188719, 0.0007667665997866313, 0.0010252288105271875, 0.0013548252680101232, 0.0017207434723314704, 0.0020816317728815665, 0.002406884852813553, 0.0027309622265403477, 0.003060108998472662, 0.003372058234296658, 0.003671328412133726, 0.0039658851143644725, 0.0042788937546666935, 0.004587637350305639, 0.004870732593284663, 0.009710131576486843, 0.008866690465411626, 0.008065097807084266, 0.007513888675095866, 0.007422812550647202, 0.0072662364248225995, 0.0071544751291477615, 0.007567305892312536, 0.007330117075695197, 0.006901834178771076, 0.007294023060692179, 0.008021543796565233, 0.010990978640072278, 0.01022289586398227, 0.00939095440478463, 0.014036528097842588, 0.01459029946037124, 0.012834102597976552, 0.013046039080796025, 0.013295514677934018, 0.013376339020803905, 0.013392609944659887, 0.013474456598226934, 0.013625287736526, 0.013987957784907698, 0.014117812793433196, 0.014174272469928032, 0.013768103356440901, 0.012200190002985707, 0.01073971770482006, 0.009793126123397826, 0.008899541804200451, 0.008609422045350824, 0.008933972043095163, 0.010480288958641788, 0.011360847279483067, 0.010965967498430956, 0.010758681560780182, 0.011036618704995525, 0.011291961363244648, 0.011534760600717993, 0.011600891954730541, 0.012260763259118498, 0.013451178789428933, 0.014922688416167278, 0.016656301759820257, 0.017850921430192526, 0.018979224435627308, 0.0203313091432284, 0.02141939356115504, 0.022490009341757173, 0.023314230641425533, 0.02414338029036319, 0.02521410447310667, 0.02578326527305266, 0.0250671063396398, 0.022366076760352994, 0.018911411437035473, 0.016835266956974567, 0.015874593259194332, 0.01533739465221973, 0.0157957954935294, 0.016992990711729057, 0.01850299439307909, 0.020500309502844778, 0.02137325690288267, 0.021784926068346377, 0.02265033196691643, 0.022822955209450654, 0.023266519254825913, 0.02381967941557565, 0.024293900023871932, 0.02476256623977169, 0.025083633704709365, 0.025848957354089205, 0.0262127698736208, 0.02539445527223362, 0.023251193677136482, 0.021865948276949137, 0.021868782298722175, 0.02289699049827882, 0.024863986139697168, 0.02600294563094012, 0.026604500854735442, 0.027055179714201374, 0.026886948859107137, 0.02670141694954737, 0.027183669686786666, 0.027431652792955036, 0.02791099944367836, 0.02751337413129461, 0.027436159816866847, 0.027765347232019157, 0.02529535811609747, 0.02304465321977116, 0.021966397563713255, 0.021109748186107863, 0.01997486611715965, 0.01980487156550525, 0.020701926157665928, 0.022597643947020647, 0.022881117244759153, 0.023080967039505032, 0.023597124175523284, 0.024167734437427597, 0.024759267127605594, 0.02605495436774692, 0.027735181161375178, 0.028580884671636726, 0.02875269684348196, 0.02993120065774357, 0.030319022455064317, 0.03077747535886719, 0.03131801304413348, 0.031651091913193014, 0.032214371412692115, 0.03257682802905297, 0.03274310290297991, 0.03347704169135651, 0.033544199847666954, 0.03366434681548855, 0.03434132758274639, 0.034430970382053394, 0.03428277622882518, 0.03427429805883161, 0.03431367880873225, 0.03460356155441482, 0.0335988022592363, 0.03246124134585852, 0.03275457873439964, 0.03270874641304365, 0.03247792110071188, 0.03260068067519313, 0.03245682124342576, 0.03263379351337803, 0.032735662044607934, 0.03186855182545858]}],\n",
       "                        {\"template\": {\"data\": {\"bar\": [{\"error_x\": {\"color\": \"#2a3f5f\"}, \"error_y\": {\"color\": \"#2a3f5f\"}, \"marker\": {\"line\": {\"color\": \"#E5ECF6\", \"width\": 0.5}}, \"type\": \"bar\"}], \"barpolar\": [{\"marker\": {\"line\": {\"color\": \"#E5ECF6\", \"width\": 0.5}}, \"type\": \"barpolar\"}], \"carpet\": [{\"aaxis\": {\"endlinecolor\": \"#2a3f5f\", \"gridcolor\": \"white\", \"linecolor\": \"white\", \"minorgridcolor\": \"white\", \"startlinecolor\": \"#2a3f5f\"}, \"baxis\": {\"endlinecolor\": \"#2a3f5f\", \"gridcolor\": \"white\", \"linecolor\": \"white\", \"minorgridcolor\": \"white\", \"startlinecolor\": \"#2a3f5f\"}, \"type\": \"carpet\"}], \"choropleth\": [{\"colorbar\": {\"outlinewidth\": 0, \"ticks\": \"\"}, \"type\": \"choropleth\"}], \"contour\": [{\"colorbar\": {\"outlinewidth\": 0, \"ticks\": \"\"}, \"colorscale\": [[0.0, \"#0d0887\"], [0.1111111111111111, \"#46039f\"], [0.2222222222222222, \"#7201a8\"], [0.3333333333333333, \"#9c179e\"], [0.4444444444444444, \"#bd3786\"], [0.5555555555555556, \"#d8576b\"], [0.6666666666666666, \"#ed7953\"], [0.7777777777777778, \"#fb9f3a\"], [0.8888888888888888, \"#fdca26\"], [1.0, \"#f0f921\"]], \"type\": \"contour\"}], \"contourcarpet\": [{\"colorbar\": {\"outlinewidth\": 0, \"ticks\": \"\"}, \"type\": \"contourcarpet\"}], \"heatmap\": [{\"colorbar\": {\"outlinewidth\": 0, \"ticks\": \"\"}, \"colorscale\": [[0.0, \"#0d0887\"], [0.1111111111111111, \"#46039f\"], [0.2222222222222222, \"#7201a8\"], [0.3333333333333333, \"#9c179e\"], [0.4444444444444444, \"#bd3786\"], [0.5555555555555556, \"#d8576b\"], [0.6666666666666666, \"#ed7953\"], [0.7777777777777778, \"#fb9f3a\"], [0.8888888888888888, \"#fdca26\"], [1.0, \"#f0f921\"]], \"type\": \"heatmap\"}], \"heatmapgl\": [{\"colorbar\": {\"outlinewidth\": 0, \"ticks\": \"\"}, \"colorscale\": [[0.0, \"#0d0887\"], [0.1111111111111111, \"#46039f\"], [0.2222222222222222, \"#7201a8\"], [0.3333333333333333, \"#9c179e\"], [0.4444444444444444, \"#bd3786\"], [0.5555555555555556, \"#d8576b\"], [0.6666666666666666, \"#ed7953\"], [0.7777777777777778, \"#fb9f3a\"], [0.8888888888888888, \"#fdca26\"], [1.0, \"#f0f921\"]], \"type\": \"heatmapgl\"}], \"histogram\": [{\"marker\": {\"colorbar\": {\"outlinewidth\": 0, \"ticks\": \"\"}}, \"type\": \"histogram\"}], \"histogram2d\": [{\"colorbar\": {\"outlinewidth\": 0, \"ticks\": \"\"}, \"colorscale\": [[0.0, \"#0d0887\"], [0.1111111111111111, \"#46039f\"], [0.2222222222222222, \"#7201a8\"], [0.3333333333333333, \"#9c179e\"], [0.4444444444444444, \"#bd3786\"], [0.5555555555555556, \"#d8576b\"], [0.6666666666666666, \"#ed7953\"], [0.7777777777777778, \"#fb9f3a\"], [0.8888888888888888, \"#fdca26\"], [1.0, \"#f0f921\"]], \"type\": \"histogram2d\"}], \"histogram2dcontour\": [{\"colorbar\": {\"outlinewidth\": 0, \"ticks\": \"\"}, \"colorscale\": [[0.0, \"#0d0887\"], [0.1111111111111111, \"#46039f\"], [0.2222222222222222, \"#7201a8\"], [0.3333333333333333, \"#9c179e\"], [0.4444444444444444, \"#bd3786\"], [0.5555555555555556, \"#d8576b\"], [0.6666666666666666, \"#ed7953\"], [0.7777777777777778, \"#fb9f3a\"], [0.8888888888888888, \"#fdca26\"], [1.0, \"#f0f921\"]], \"type\": \"histogram2dcontour\"}], \"mesh3d\": [{\"colorbar\": {\"outlinewidth\": 0, \"ticks\": \"\"}, \"type\": \"mesh3d\"}], \"parcoords\": [{\"line\": {\"colorbar\": {\"outlinewidth\": 0, \"ticks\": \"\"}}, \"type\": \"parcoords\"}], \"scatter\": [{\"marker\": {\"colorbar\": {\"outlinewidth\": 0, \"ticks\": \"\"}}, \"type\": \"scatter\"}], \"scatter3d\": [{\"line\": {\"colorbar\": {\"outlinewidth\": 0, \"ticks\": \"\"}}, \"marker\": {\"colorbar\": {\"outlinewidth\": 0, \"ticks\": \"\"}}, \"type\": \"scatter3d\"}], \"scattercarpet\": [{\"marker\": {\"colorbar\": {\"outlinewidth\": 0, \"ticks\": \"\"}}, \"type\": \"scattercarpet\"}], \"scattergeo\": [{\"marker\": {\"colorbar\": {\"outlinewidth\": 0, \"ticks\": \"\"}}, \"type\": \"scattergeo\"}], \"scattergl\": [{\"marker\": {\"colorbar\": {\"outlinewidth\": 0, \"ticks\": \"\"}}, \"type\": \"scattergl\"}], \"scattermapbox\": [{\"marker\": {\"colorbar\": {\"outlinewidth\": 0, \"ticks\": \"\"}}, \"type\": \"scattermapbox\"}], \"scatterpolar\": [{\"marker\": {\"colorbar\": {\"outlinewidth\": 0, \"ticks\": \"\"}}, \"type\": \"scatterpolar\"}], \"scatterpolargl\": [{\"marker\": {\"colorbar\": {\"outlinewidth\": 0, \"ticks\": \"\"}}, \"type\": \"scatterpolargl\"}], \"scatterternary\": [{\"marker\": {\"colorbar\": {\"outlinewidth\": 0, \"ticks\": \"\"}}, \"type\": \"scatterternary\"}], \"surface\": [{\"colorbar\": {\"outlinewidth\": 0, \"ticks\": \"\"}, \"colorscale\": [[0.0, \"#0d0887\"], [0.1111111111111111, \"#46039f\"], [0.2222222222222222, \"#7201a8\"], [0.3333333333333333, \"#9c179e\"], [0.4444444444444444, \"#bd3786\"], [0.5555555555555556, \"#d8576b\"], [0.6666666666666666, \"#ed7953\"], [0.7777777777777778, \"#fb9f3a\"], [0.8888888888888888, \"#fdca26\"], [1.0, \"#f0f921\"]], \"type\": \"surface\"}], \"table\": [{\"cells\": {\"fill\": {\"color\": \"#EBF0F8\"}, \"line\": {\"color\": \"white\"}}, \"header\": {\"fill\": {\"color\": \"#C8D4E3\"}, \"line\": {\"color\": \"white\"}}, \"type\": \"table\"}]}, \"layout\": {\"annotationdefaults\": {\"arrowcolor\": \"#2a3f5f\", \"arrowhead\": 0, \"arrowwidth\": 1}, \"colorscale\": {\"diverging\": [[0, \"#8e0152\"], [0.1, \"#c51b7d\"], [0.2, \"#de77ae\"], [0.3, \"#f1b6da\"], [0.4, \"#fde0ef\"], [0.5, \"#f7f7f7\"], [0.6, \"#e6f5d0\"], [0.7, \"#b8e186\"], [0.8, \"#7fbc41\"], [0.9, \"#4d9221\"], [1, \"#276419\"]], \"sequential\": [[0.0, \"#0d0887\"], [0.1111111111111111, \"#46039f\"], [0.2222222222222222, \"#7201a8\"], [0.3333333333333333, \"#9c179e\"], [0.4444444444444444, \"#bd3786\"], [0.5555555555555556, \"#d8576b\"], [0.6666666666666666, \"#ed7953\"], [0.7777777777777778, \"#fb9f3a\"], [0.8888888888888888, \"#fdca26\"], [1.0, \"#f0f921\"]], \"sequentialminus\": [[0.0, \"#0d0887\"], [0.1111111111111111, \"#46039f\"], [0.2222222222222222, \"#7201a8\"], [0.3333333333333333, \"#9c179e\"], [0.4444444444444444, \"#bd3786\"], [0.5555555555555556, \"#d8576b\"], [0.6666666666666666, \"#ed7953\"], [0.7777777777777778, \"#fb9f3a\"], [0.8888888888888888, \"#fdca26\"], [1.0, \"#f0f921\"]]}, \"colorway\": [\"#636efa\", \"#EF553B\", \"#00cc96\", \"#ab63fa\", \"#FFA15A\", \"#19d3f3\", \"#FF6692\", \"#B6E880\", \"#FF97FF\", \"#FECB52\"], \"font\": {\"color\": \"#2a3f5f\"}, \"geo\": {\"bgcolor\": \"white\", \"lakecolor\": \"white\", \"landcolor\": \"#E5ECF6\", \"showlakes\": true, \"showland\": true, \"subunitcolor\": \"white\"}, \"hoverlabel\": {\"align\": \"left\"}, \"hovermode\": \"closest\", \"mapbox\": {\"style\": \"light\"}, \"paper_bgcolor\": \"white\", \"plot_bgcolor\": \"#E5ECF6\", \"polar\": {\"angularaxis\": {\"gridcolor\": \"white\", \"linecolor\": \"white\", \"ticks\": \"\"}, \"bgcolor\": \"#E5ECF6\", \"radialaxis\": {\"gridcolor\": \"white\", \"linecolor\": \"white\", \"ticks\": \"\"}}, \"scene\": {\"xaxis\": {\"backgroundcolor\": \"#E5ECF6\", \"gridcolor\": \"white\", \"gridwidth\": 2, \"linecolor\": \"white\", \"showbackground\": true, \"ticks\": \"\", \"zerolinecolor\": \"white\"}, \"yaxis\": {\"backgroundcolor\": \"#E5ECF6\", \"gridcolor\": \"white\", \"gridwidth\": 2, \"linecolor\": \"white\", \"showbackground\": true, \"ticks\": \"\", \"zerolinecolor\": \"white\"}, \"zaxis\": {\"backgroundcolor\": \"#E5ECF6\", \"gridcolor\": \"white\", \"gridwidth\": 2, \"linecolor\": \"white\", \"showbackground\": true, \"ticks\": \"\", \"zerolinecolor\": \"white\"}}, \"shapedefaults\": {\"line\": {\"color\": \"#2a3f5f\"}}, \"ternary\": {\"aaxis\": {\"gridcolor\": \"white\", \"linecolor\": \"white\", \"ticks\": \"\"}, \"baxis\": {\"gridcolor\": \"white\", \"linecolor\": \"white\", \"ticks\": \"\"}, \"bgcolor\": \"#E5ECF6\", \"caxis\": {\"gridcolor\": \"white\", \"linecolor\": \"white\", \"ticks\": \"\"}}, \"title\": {\"x\": 0.05}, \"xaxis\": {\"automargin\": true, \"gridcolor\": \"white\", \"linecolor\": \"white\", \"ticks\": \"\", \"zerolinecolor\": \"white\", \"zerolinewidth\": 2}, \"yaxis\": {\"automargin\": true, \"gridcolor\": \"white\", \"linecolor\": \"white\", \"ticks\": \"\", \"zerolinecolor\": \"white\", \"zerolinewidth\": 2}}}, \"title\": {\"text\": \"CO2_emission_for_vehicle_id_35135\"}, \"yaxis\": {\"title\": {\"text\": \"Co2 emission (in gms)\"}}},\n",
       "                        {\"responsive\": true}\n",
       "                    ).then(function(){\n",
       "                            \n",
       "var gd = document.getElementById('8ba8ef01-926c-437d-865c-e4ed3c8a6678');\n",
       "var x = new MutationObserver(function (mutations, observer) {{\n",
       "        var display = window.getComputedStyle(gd).display;\n",
       "        if (!display || display === 'none') {{\n",
       "            console.log([gd, 'removed!']);\n",
       "            Plotly.purge(gd);\n",
       "            observer.disconnect();\n",
       "        }}\n",
       "}});\n",
       "\n",
       "// Listen for the removal of the full notebook cells\n",
       "var notebookContainer = gd.closest('#notebook-container');\n",
       "if (notebookContainer) {{\n",
       "    x.observe(notebookContainer, {childList: true});\n",
       "}}\n",
       "\n",
       "// Listen for the clearing of the current output cell\n",
       "var outputEl = gd.closest('.output');\n",
       "if (outputEl) {{\n",
       "    x.observe(outputEl, {childList: true});\n",
       "}}\n",
       "\n",
       "                        })\n",
       "                };\n",
       "                });\n",
       "            </script>\n",
       "        </div>"
      ]
     },
     "metadata": {},
     "output_type": "display_data"
    }
   ],
   "source": [
    "outputs = sol['outputs'] # outputs of the dispatcher\n",
    "layout = go.Layout(title=f\"CO2_emission_for_vehicle_id_{vehicle_id}\",\n",
    "                yaxis=dict(title='Co2 emission (in gms)'))\n",
    "data = [dict(y=outputs['fp'])] # select the desired outputs\n",
    "fig = go.Figure(data=data, layout=layout)\n",
    "iplot(fig)"
   ]
  },
  {
   "cell_type": "code",
   "execution_count": 7,
   "metadata": {},
   "outputs": [
    {
     "data": {
      "application/vnd.plotly.v1+json": {
       "config": {
        "linkText": "Export to plot.ly",
        "plotlyServerURL": "https://plot.ly",
        "showLink": false
       },
       "data": [
        {
         "type": "scatter",
         "x": [
          0.075647222,
          0.138130556,
          0.165027778,
          0.093338889,
          0.050647222,
          0.073841667,
          0.067722222,
          0.041172222,
          0.094272222,
          0.240147222,
          0.421988889,
          0.601022222,
          0.805477778,
          1.067511111,
          1.360083333,
          1.650283333,
          1.913175,
          2.176333333,
          2.444797222,
          2.700288889,
          2.946313889,
          3.189297222,
          3.448358333,
          3.704702778,
          3.940416667,
          4.130133333,
          4.260580556,
          4.3409,
          4.388002778,
          4.426941667,
          4.455319444,
          4.476166667,
          4.515033333,
          4.539722222,
          4.54225,
          4.563194444,
          4.616366667,
          4.794819444,
          4.925277778,
          5.010258333,
          5.270727778,
          5.526880556,
          5.698258333,
          5.863777778,
          6.025444444,
          6.178002778,
          6.320294444,
          6.455533333,
          6.586655556,
          6.7208,
          6.850394444,
          6.973597222,
          7.076808333,
          7.125569444,
          7.125688889,
          7.095327778,
          7.045141667,
          6.987052778,
          6.942780556,
          6.943469444,
          6.972669444,
          6.987636111,
          6.995147222,
          7.01125,
          7.034722222,
          7.064722222,
          7.095263889,
          7.144930556,
          7.228544444,
          7.351388889,
          7.516902778,
          7.705436111,
          7.912636111,
          8.142141667,
          8.384738889,
          8.638480556,
          8.896288889,
          9.157808333,
          9.427988889,
          9.695,
          9.931672222,
          10.09765,
          10.17970556,
          10.211575,
          10.22029444,
          10.21634444,
          10.22308056,
          10.25685278,
          10.32316667,
          10.43054444,
          10.55200833,
          10.67687222,
          10.81433889,
          10.94932778,
          11.08748889,
          11.23079444,
          11.37732778,
          11.52675278,
          11.67602222,
          11.83357778,
          11.99132222,
          12.127225,
          12.217525,
          12.27826111,
          12.33689444,
          12.41279167,
          12.52231944,
          12.648375,
          12.78034722,
          12.91521111,
          13.04194444,
          13.16066111,
          13.28333333,
          13.40571944,
          13.53175556,
          13.64644444,
          13.75571111,
          13.8666,
          13.93222222,
          13.95751111,
          13.96354444,
          13.95462222,
          13.92623333,
          13.89566111,
          13.88161111,
          13.90078611,
          13.92424167,
          13.95039722,
          13.98454444,
          14.02729722,
          14.07866111,
          14.15,
          14.24663333,
          14.3537,
          14.45984444,
          14.58112778,
          14.7043,
          14.83035556,
          14.96040278,
          15.09104722,
          15.22573889,
          15.36123611,
          15.49455833,
          15.63419444,
          15.77003889,
          15.90303333,
          16.04134167,
          16.17628056,
          16.30461111,
          16.4286,
          16.54910556,
          16.66977778,
          16.77255278,
          16.85622222,
          16.94144444,
          17.02344444,
          17.09977778,
          17.17553056,
          17.24705278,
          17.31889444,
          17.39001389,
          17.44721389
         ],
         "y": [
          0.00017718243776459295,
          0.00021161566168057466,
          0.00011979199664227422,
          6.503469187907496e-05,
          9.479140851807044e-05,
          8.694224209726622e-05,
          5.28741834015631e-05,
          0.00012098848192565177,
          0.00030766559425781943,
          0.0005394761564188719,
          0.0007667665997866313,
          0.0010252288105271875,
          0.0013548252680101232,
          0.0017207434723314704,
          0.0020816317728815665,
          0.002406884852813553,
          0.0027309622265403477,
          0.003060108998472662,
          0.003372058234296658,
          0.003671328412133726,
          0.0039658851143644725,
          0.0042788937546666935,
          0.004587637350305639,
          0.004870732593284663,
          0.009710131576486843,
          0.008866690465411626,
          0.008065097807084266,
          0.007513888675095866,
          0.007422812550647202,
          0.0072662364248225995,
          0.0071544751291477615,
          0.007567305892312536,
          0.007330117075695197,
          0.006901834178771076,
          0.007294023060692179,
          0.008021543796565233,
          0.010990978640072278,
          0.01022289586398227,
          0.00939095440478463,
          0.014036528097842588,
          0.01459029946037124,
          0.012834102597976552,
          0.013046039080796025,
          0.013295514677934018,
          0.013376339020803905,
          0.013392609944659887,
          0.013474456598226934,
          0.013625287736526,
          0.013987957784907698,
          0.014117812793433196,
          0.014174272469928032,
          0.013768103356440901,
          0.012200190002985707,
          0.01073971770482006,
          0.009793126123397826,
          0.008899541804200451,
          0.008609422045350824,
          0.008933972043095163,
          0.010480288958641788,
          0.011360847279483067,
          0.010965967498430956,
          0.010758681560780182,
          0.011036618704995525,
          0.011291961363244648,
          0.011534760600717993,
          0.011600891954730541,
          0.012260763259118498,
          0.013451178789428933,
          0.014922688416167278,
          0.016656301759820257,
          0.017850921430192526,
          0.018979224435627308,
          0.0203313091432284,
          0.02141939356115504,
          0.022490009341757173,
          0.023314230641425533,
          0.02414338029036319,
          0.02521410447310667,
          0.02578326527305266,
          0.0250671063396398,
          0.022366076760352994,
          0.018911411437035473,
          0.016835266956974567,
          0.015874593259194332,
          0.01533739465221973,
          0.0157957954935294,
          0.016992990711729057,
          0.01850299439307909,
          0.020500309502844778,
          0.02137325690288267,
          0.021784926068346377,
          0.02265033196691643,
          0.022822955209450654,
          0.023266519254825913,
          0.02381967941557565,
          0.024293900023871932,
          0.02476256623977169,
          0.025083633704709365,
          0.025848957354089205,
          0.0262127698736208,
          0.02539445527223362,
          0.023251193677136482,
          0.021865948276949137,
          0.021868782298722175,
          0.02289699049827882,
          0.024863986139697168,
          0.02600294563094012,
          0.026604500854735442,
          0.027055179714201374,
          0.026886948859107137,
          0.02670141694954737,
          0.027183669686786666,
          0.027431652792955036,
          0.02791099944367836,
          0.02751337413129461,
          0.027436159816866847,
          0.027765347232019157,
          0.02529535811609747,
          0.02304465321977116,
          0.021966397563713255,
          0.021109748186107863,
          0.01997486611715965,
          0.01980487156550525,
          0.020701926157665928,
          0.022597643947020647,
          0.022881117244759153,
          0.023080967039505032,
          0.023597124175523284,
          0.024167734437427597,
          0.024759267127605594,
          0.02605495436774692,
          0.027735181161375178,
          0.028580884671636726,
          0.02875269684348196,
          0.02993120065774357,
          0.030319022455064317,
          0.03077747535886719,
          0.03131801304413348,
          0.031651091913193014,
          0.032214371412692115,
          0.03257682802905297,
          0.03274310290297991,
          0.03347704169135651,
          0.033544199847666954,
          0.03366434681548855,
          0.03434132758274639,
          0.034430970382053394,
          0.03428277622882518,
          0.03427429805883161,
          0.03431367880873225,
          0.03460356155441482,
          0.0335988022592363,
          0.03246124134585852,
          0.03275457873439964,
          0.03270874641304365,
          0.03247792110071188,
          0.03260068067519313,
          0.03245682124342576,
          0.03263379351337803,
          0.032735662044607934,
          0.03186855182545858
         ]
        }
       ],
       "layout": {
        "template": {
         "data": {
          "bar": [
           {
            "error_x": {
             "color": "#2a3f5f"
            },
            "error_y": {
             "color": "#2a3f5f"
            },
            "marker": {
             "line": {
              "color": "#E5ECF6",
              "width": 0.5
             }
            },
            "type": "bar"
           }
          ],
          "barpolar": [
           {
            "marker": {
             "line": {
              "color": "#E5ECF6",
              "width": 0.5
             }
            },
            "type": "barpolar"
           }
          ],
          "carpet": [
           {
            "aaxis": {
             "endlinecolor": "#2a3f5f",
             "gridcolor": "white",
             "linecolor": "white",
             "minorgridcolor": "white",
             "startlinecolor": "#2a3f5f"
            },
            "baxis": {
             "endlinecolor": "#2a3f5f",
             "gridcolor": "white",
             "linecolor": "white",
             "minorgridcolor": "white",
             "startlinecolor": "#2a3f5f"
            },
            "type": "carpet"
           }
          ],
          "choropleth": [
           {
            "colorbar": {
             "outlinewidth": 0,
             "ticks": ""
            },
            "type": "choropleth"
           }
          ],
          "contour": [
           {
            "colorbar": {
             "outlinewidth": 0,
             "ticks": ""
            },
            "colorscale": [
             [
              0,
              "#0d0887"
             ],
             [
              0.1111111111111111,
              "#46039f"
             ],
             [
              0.2222222222222222,
              "#7201a8"
             ],
             [
              0.3333333333333333,
              "#9c179e"
             ],
             [
              0.4444444444444444,
              "#bd3786"
             ],
             [
              0.5555555555555556,
              "#d8576b"
             ],
             [
              0.6666666666666666,
              "#ed7953"
             ],
             [
              0.7777777777777778,
              "#fb9f3a"
             ],
             [
              0.8888888888888888,
              "#fdca26"
             ],
             [
              1,
              "#f0f921"
             ]
            ],
            "type": "contour"
           }
          ],
          "contourcarpet": [
           {
            "colorbar": {
             "outlinewidth": 0,
             "ticks": ""
            },
            "type": "contourcarpet"
           }
          ],
          "heatmap": [
           {
            "colorbar": {
             "outlinewidth": 0,
             "ticks": ""
            },
            "colorscale": [
             [
              0,
              "#0d0887"
             ],
             [
              0.1111111111111111,
              "#46039f"
             ],
             [
              0.2222222222222222,
              "#7201a8"
             ],
             [
              0.3333333333333333,
              "#9c179e"
             ],
             [
              0.4444444444444444,
              "#bd3786"
             ],
             [
              0.5555555555555556,
              "#d8576b"
             ],
             [
              0.6666666666666666,
              "#ed7953"
             ],
             [
              0.7777777777777778,
              "#fb9f3a"
             ],
             [
              0.8888888888888888,
              "#fdca26"
             ],
             [
              1,
              "#f0f921"
             ]
            ],
            "type": "heatmap"
           }
          ],
          "heatmapgl": [
           {
            "colorbar": {
             "outlinewidth": 0,
             "ticks": ""
            },
            "colorscale": [
             [
              0,
              "#0d0887"
             ],
             [
              0.1111111111111111,
              "#46039f"
             ],
             [
              0.2222222222222222,
              "#7201a8"
             ],
             [
              0.3333333333333333,
              "#9c179e"
             ],
             [
              0.4444444444444444,
              "#bd3786"
             ],
             [
              0.5555555555555556,
              "#d8576b"
             ],
             [
              0.6666666666666666,
              "#ed7953"
             ],
             [
              0.7777777777777778,
              "#fb9f3a"
             ],
             [
              0.8888888888888888,
              "#fdca26"
             ],
             [
              1,
              "#f0f921"
             ]
            ],
            "type": "heatmapgl"
           }
          ],
          "histogram": [
           {
            "marker": {
             "colorbar": {
              "outlinewidth": 0,
              "ticks": ""
             }
            },
            "type": "histogram"
           }
          ],
          "histogram2d": [
           {
            "colorbar": {
             "outlinewidth": 0,
             "ticks": ""
            },
            "colorscale": [
             [
              0,
              "#0d0887"
             ],
             [
              0.1111111111111111,
              "#46039f"
             ],
             [
              0.2222222222222222,
              "#7201a8"
             ],
             [
              0.3333333333333333,
              "#9c179e"
             ],
             [
              0.4444444444444444,
              "#bd3786"
             ],
             [
              0.5555555555555556,
              "#d8576b"
             ],
             [
              0.6666666666666666,
              "#ed7953"
             ],
             [
              0.7777777777777778,
              "#fb9f3a"
             ],
             [
              0.8888888888888888,
              "#fdca26"
             ],
             [
              1,
              "#f0f921"
             ]
            ],
            "type": "histogram2d"
           }
          ],
          "histogram2dcontour": [
           {
            "colorbar": {
             "outlinewidth": 0,
             "ticks": ""
            },
            "colorscale": [
             [
              0,
              "#0d0887"
             ],
             [
              0.1111111111111111,
              "#46039f"
             ],
             [
              0.2222222222222222,
              "#7201a8"
             ],
             [
              0.3333333333333333,
              "#9c179e"
             ],
             [
              0.4444444444444444,
              "#bd3786"
             ],
             [
              0.5555555555555556,
              "#d8576b"
             ],
             [
              0.6666666666666666,
              "#ed7953"
             ],
             [
              0.7777777777777778,
              "#fb9f3a"
             ],
             [
              0.8888888888888888,
              "#fdca26"
             ],
             [
              1,
              "#f0f921"
             ]
            ],
            "type": "histogram2dcontour"
           }
          ],
          "mesh3d": [
           {
            "colorbar": {
             "outlinewidth": 0,
             "ticks": ""
            },
            "type": "mesh3d"
           }
          ],
          "parcoords": [
           {
            "line": {
             "colorbar": {
              "outlinewidth": 0,
              "ticks": ""
             }
            },
            "type": "parcoords"
           }
          ],
          "scatter": [
           {
            "marker": {
             "colorbar": {
              "outlinewidth": 0,
              "ticks": ""
             }
            },
            "type": "scatter"
           }
          ],
          "scatter3d": [
           {
            "line": {
             "colorbar": {
              "outlinewidth": 0,
              "ticks": ""
             }
            },
            "marker": {
             "colorbar": {
              "outlinewidth": 0,
              "ticks": ""
             }
            },
            "type": "scatter3d"
           }
          ],
          "scattercarpet": [
           {
            "marker": {
             "colorbar": {
              "outlinewidth": 0,
              "ticks": ""
             }
            },
            "type": "scattercarpet"
           }
          ],
          "scattergeo": [
           {
            "marker": {
             "colorbar": {
              "outlinewidth": 0,
              "ticks": ""
             }
            },
            "type": "scattergeo"
           }
          ],
          "scattergl": [
           {
            "marker": {
             "colorbar": {
              "outlinewidth": 0,
              "ticks": ""
             }
            },
            "type": "scattergl"
           }
          ],
          "scattermapbox": [
           {
            "marker": {
             "colorbar": {
              "outlinewidth": 0,
              "ticks": ""
             }
            },
            "type": "scattermapbox"
           }
          ],
          "scatterpolar": [
           {
            "marker": {
             "colorbar": {
              "outlinewidth": 0,
              "ticks": ""
             }
            },
            "type": "scatterpolar"
           }
          ],
          "scatterpolargl": [
           {
            "marker": {
             "colorbar": {
              "outlinewidth": 0,
              "ticks": ""
             }
            },
            "type": "scatterpolargl"
           }
          ],
          "scatterternary": [
           {
            "marker": {
             "colorbar": {
              "outlinewidth": 0,
              "ticks": ""
             }
            },
            "type": "scatterternary"
           }
          ],
          "surface": [
           {
            "colorbar": {
             "outlinewidth": 0,
             "ticks": ""
            },
            "colorscale": [
             [
              0,
              "#0d0887"
             ],
             [
              0.1111111111111111,
              "#46039f"
             ],
             [
              0.2222222222222222,
              "#7201a8"
             ],
             [
              0.3333333333333333,
              "#9c179e"
             ],
             [
              0.4444444444444444,
              "#bd3786"
             ],
             [
              0.5555555555555556,
              "#d8576b"
             ],
             [
              0.6666666666666666,
              "#ed7953"
             ],
             [
              0.7777777777777778,
              "#fb9f3a"
             ],
             [
              0.8888888888888888,
              "#fdca26"
             ],
             [
              1,
              "#f0f921"
             ]
            ],
            "type": "surface"
           }
          ],
          "table": [
           {
            "cells": {
             "fill": {
              "color": "#EBF0F8"
             },
             "line": {
              "color": "white"
             }
            },
            "header": {
             "fill": {
              "color": "#C8D4E3"
             },
             "line": {
              "color": "white"
             }
            },
            "type": "table"
           }
          ]
         },
         "layout": {
          "annotationdefaults": {
           "arrowcolor": "#2a3f5f",
           "arrowhead": 0,
           "arrowwidth": 1
          },
          "colorscale": {
           "diverging": [
            [
             0,
             "#8e0152"
            ],
            [
             0.1,
             "#c51b7d"
            ],
            [
             0.2,
             "#de77ae"
            ],
            [
             0.3,
             "#f1b6da"
            ],
            [
             0.4,
             "#fde0ef"
            ],
            [
             0.5,
             "#f7f7f7"
            ],
            [
             0.6,
             "#e6f5d0"
            ],
            [
             0.7,
             "#b8e186"
            ],
            [
             0.8,
             "#7fbc41"
            ],
            [
             0.9,
             "#4d9221"
            ],
            [
             1,
             "#276419"
            ]
           ],
           "sequential": [
            [
             0,
             "#0d0887"
            ],
            [
             0.1111111111111111,
             "#46039f"
            ],
            [
             0.2222222222222222,
             "#7201a8"
            ],
            [
             0.3333333333333333,
             "#9c179e"
            ],
            [
             0.4444444444444444,
             "#bd3786"
            ],
            [
             0.5555555555555556,
             "#d8576b"
            ],
            [
             0.6666666666666666,
             "#ed7953"
            ],
            [
             0.7777777777777778,
             "#fb9f3a"
            ],
            [
             0.8888888888888888,
             "#fdca26"
            ],
            [
             1,
             "#f0f921"
            ]
           ],
           "sequentialminus": [
            [
             0,
             "#0d0887"
            ],
            [
             0.1111111111111111,
             "#46039f"
            ],
            [
             0.2222222222222222,
             "#7201a8"
            ],
            [
             0.3333333333333333,
             "#9c179e"
            ],
            [
             0.4444444444444444,
             "#bd3786"
            ],
            [
             0.5555555555555556,
             "#d8576b"
            ],
            [
             0.6666666666666666,
             "#ed7953"
            ],
            [
             0.7777777777777778,
             "#fb9f3a"
            ],
            [
             0.8888888888888888,
             "#fdca26"
            ],
            [
             1,
             "#f0f921"
            ]
           ]
          },
          "colorway": [
           "#636efa",
           "#EF553B",
           "#00cc96",
           "#ab63fa",
           "#FFA15A",
           "#19d3f3",
           "#FF6692",
           "#B6E880",
           "#FF97FF",
           "#FECB52"
          ],
          "font": {
           "color": "#2a3f5f"
          },
          "geo": {
           "bgcolor": "white",
           "lakecolor": "white",
           "landcolor": "#E5ECF6",
           "showlakes": true,
           "showland": true,
           "subunitcolor": "white"
          },
          "hoverlabel": {
           "align": "left"
          },
          "hovermode": "closest",
          "mapbox": {
           "style": "light"
          },
          "paper_bgcolor": "white",
          "plot_bgcolor": "#E5ECF6",
          "polar": {
           "angularaxis": {
            "gridcolor": "white",
            "linecolor": "white",
            "ticks": ""
           },
           "bgcolor": "#E5ECF6",
           "radialaxis": {
            "gridcolor": "white",
            "linecolor": "white",
            "ticks": ""
           }
          },
          "scene": {
           "xaxis": {
            "backgroundcolor": "#E5ECF6",
            "gridcolor": "white",
            "gridwidth": 2,
            "linecolor": "white",
            "showbackground": true,
            "ticks": "",
            "zerolinecolor": "white"
           },
           "yaxis": {
            "backgroundcolor": "#E5ECF6",
            "gridcolor": "white",
            "gridwidth": 2,
            "linecolor": "white",
            "showbackground": true,
            "ticks": "",
            "zerolinecolor": "white"
           },
           "zaxis": {
            "backgroundcolor": "#E5ECF6",
            "gridcolor": "white",
            "gridwidth": 2,
            "linecolor": "white",
            "showbackground": true,
            "ticks": "",
            "zerolinecolor": "white"
           }
          },
          "shapedefaults": {
           "line": {
            "color": "#2a3f5f"
           }
          },
          "ternary": {
           "aaxis": {
            "gridcolor": "white",
            "linecolor": "white",
            "ticks": ""
           },
           "baxis": {
            "gridcolor": "white",
            "linecolor": "white",
            "ticks": ""
           },
           "bgcolor": "#E5ECF6",
           "caxis": {
            "gridcolor": "white",
            "linecolor": "white",
            "ticks": ""
           }
          },
          "title": {
           "x": 0.05
          },
          "xaxis": {
           "automargin": true,
           "gridcolor": "white",
           "linecolor": "white",
           "ticks": "",
           "zerolinecolor": "white",
           "zerolinewidth": 2
          },
          "yaxis": {
           "automargin": true,
           "gridcolor": "white",
           "linecolor": "white",
           "ticks": "",
           "zerolinecolor": "white",
           "zerolinewidth": 2
          }
         }
        },
        "title": {
         "text": "CO2_emission_Speed_for_vehicle_id_35135"
        },
        "xaxis": {
         "title": {
          "text": "speed (in m/s)"
         }
        },
        "yaxis": {
         "title": {
          "text": "Co2 emission (in gms)"
         }
        }
       }
      },
      "text/html": [
       "<div>\n",
       "        \n",
       "        \n",
       "            <div id=\"2873c755-0003-498b-98c2-8381e227af93\" class=\"plotly-graph-div\" style=\"height:525px; width:100%;\"></div>\n",
       "            <script type=\"text/javascript\">\n",
       "                require([\"plotly\"], function(Plotly) {\n",
       "                    window.PLOTLYENV=window.PLOTLYENV || {};\n",
       "                    \n",
       "                if (document.getElementById(\"2873c755-0003-498b-98c2-8381e227af93\")) {\n",
       "                    Plotly.newPlot(\n",
       "                        '2873c755-0003-498b-98c2-8381e227af93',\n",
       "                        [{\"type\": \"scatter\", \"x\": [0.075647222, 0.138130556, 0.165027778, 0.093338889, 0.050647222, 0.073841667, 0.067722222, 0.041172222, 0.094272222, 0.240147222, 0.421988889, 0.601022222, 0.805477778, 1.067511111, 1.360083333, 1.650283333, 1.913175, 2.176333333, 2.444797222, 2.700288889, 2.946313889, 3.189297222, 3.448358333, 3.704702778, 3.940416667, 4.130133333, 4.260580556, 4.3409, 4.388002778, 4.426941667, 4.455319444, 4.476166667, 4.515033333, 4.539722222, 4.54225, 4.563194444, 4.616366667, 4.794819444, 4.925277778, 5.010258333, 5.270727778, 5.526880556, 5.698258333, 5.863777778, 6.025444444, 6.178002778, 6.320294444, 6.455533333, 6.586655556, 6.7208, 6.850394444, 6.973597222, 7.076808333, 7.125569444, 7.125688889, 7.095327778, 7.045141667, 6.987052778, 6.942780556, 6.943469444, 6.972669444, 6.987636111, 6.995147222, 7.01125, 7.034722222, 7.064722222, 7.095263889, 7.144930556, 7.228544444, 7.351388889, 7.516902778, 7.705436111, 7.912636111, 8.142141667, 8.384738889, 8.638480556, 8.896288889, 9.157808333, 9.427988889, 9.695, 9.931672222, 10.09765, 10.17970556, 10.211575, 10.22029444, 10.21634444, 10.22308056, 10.25685278, 10.32316667, 10.43054444, 10.55200833, 10.67687222, 10.81433889, 10.94932778, 11.08748889, 11.23079444, 11.37732778, 11.52675278, 11.67602222, 11.83357778, 11.99132222, 12.127225, 12.217525, 12.27826111, 12.33689444, 12.41279167, 12.52231944, 12.648375, 12.78034722, 12.91521111, 13.04194444, 13.16066111, 13.28333333, 13.40571944, 13.53175556, 13.64644444, 13.75571111, 13.8666, 13.93222222, 13.95751111, 13.96354444, 13.95462222, 13.92623333, 13.89566111, 13.88161111, 13.90078611, 13.92424167, 13.95039722, 13.98454444, 14.02729722, 14.07866111, 14.15, 14.24663333, 14.3537, 14.45984444, 14.58112778, 14.7043, 14.83035556, 14.96040278, 15.09104722, 15.22573889, 15.36123611, 15.49455833, 15.63419444, 15.77003889, 15.90303333, 16.04134167, 16.17628056, 16.30461111, 16.4286, 16.54910556, 16.66977778, 16.77255278, 16.85622222, 16.94144444, 17.02344444, 17.09977778, 17.17553056, 17.24705278, 17.31889444, 17.39001389, 17.44721389], \"y\": [0.00017718243776459295, 0.00021161566168057466, 0.00011979199664227422, 6.503469187907496e-05, 9.479140851807044e-05, 8.694224209726622e-05, 5.28741834015631e-05, 0.00012098848192565177, 0.00030766559425781943, 0.0005394761564188719, 0.0007667665997866313, 0.0010252288105271875, 0.0013548252680101232, 0.0017207434723314704, 0.0020816317728815665, 0.002406884852813553, 0.0027309622265403477, 0.003060108998472662, 0.003372058234296658, 0.003671328412133726, 0.0039658851143644725, 0.0042788937546666935, 0.004587637350305639, 0.004870732593284663, 0.009710131576486843, 0.008866690465411626, 0.008065097807084266, 0.007513888675095866, 0.007422812550647202, 0.0072662364248225995, 0.0071544751291477615, 0.007567305892312536, 0.007330117075695197, 0.006901834178771076, 0.007294023060692179, 0.008021543796565233, 0.010990978640072278, 0.01022289586398227, 0.00939095440478463, 0.014036528097842588, 0.01459029946037124, 0.012834102597976552, 0.013046039080796025, 0.013295514677934018, 0.013376339020803905, 0.013392609944659887, 0.013474456598226934, 0.013625287736526, 0.013987957784907698, 0.014117812793433196, 0.014174272469928032, 0.013768103356440901, 0.012200190002985707, 0.01073971770482006, 0.009793126123397826, 0.008899541804200451, 0.008609422045350824, 0.008933972043095163, 0.010480288958641788, 0.011360847279483067, 0.010965967498430956, 0.010758681560780182, 0.011036618704995525, 0.011291961363244648, 0.011534760600717993, 0.011600891954730541, 0.012260763259118498, 0.013451178789428933, 0.014922688416167278, 0.016656301759820257, 0.017850921430192526, 0.018979224435627308, 0.0203313091432284, 0.02141939356115504, 0.022490009341757173, 0.023314230641425533, 0.02414338029036319, 0.02521410447310667, 0.02578326527305266, 0.0250671063396398, 0.022366076760352994, 0.018911411437035473, 0.016835266956974567, 0.015874593259194332, 0.01533739465221973, 0.0157957954935294, 0.016992990711729057, 0.01850299439307909, 0.020500309502844778, 0.02137325690288267, 0.021784926068346377, 0.02265033196691643, 0.022822955209450654, 0.023266519254825913, 0.02381967941557565, 0.024293900023871932, 0.02476256623977169, 0.025083633704709365, 0.025848957354089205, 0.0262127698736208, 0.02539445527223362, 0.023251193677136482, 0.021865948276949137, 0.021868782298722175, 0.02289699049827882, 0.024863986139697168, 0.02600294563094012, 0.026604500854735442, 0.027055179714201374, 0.026886948859107137, 0.02670141694954737, 0.027183669686786666, 0.027431652792955036, 0.02791099944367836, 0.02751337413129461, 0.027436159816866847, 0.027765347232019157, 0.02529535811609747, 0.02304465321977116, 0.021966397563713255, 0.021109748186107863, 0.01997486611715965, 0.01980487156550525, 0.020701926157665928, 0.022597643947020647, 0.022881117244759153, 0.023080967039505032, 0.023597124175523284, 0.024167734437427597, 0.024759267127605594, 0.02605495436774692, 0.027735181161375178, 0.028580884671636726, 0.02875269684348196, 0.02993120065774357, 0.030319022455064317, 0.03077747535886719, 0.03131801304413348, 0.031651091913193014, 0.032214371412692115, 0.03257682802905297, 0.03274310290297991, 0.03347704169135651, 0.033544199847666954, 0.03366434681548855, 0.03434132758274639, 0.034430970382053394, 0.03428277622882518, 0.03427429805883161, 0.03431367880873225, 0.03460356155441482, 0.0335988022592363, 0.03246124134585852, 0.03275457873439964, 0.03270874641304365, 0.03247792110071188, 0.03260068067519313, 0.03245682124342576, 0.03263379351337803, 0.032735662044607934, 0.03186855182545858]}],\n",
       "                        {\"template\": {\"data\": {\"bar\": [{\"error_x\": {\"color\": \"#2a3f5f\"}, \"error_y\": {\"color\": \"#2a3f5f\"}, \"marker\": {\"line\": {\"color\": \"#E5ECF6\", \"width\": 0.5}}, \"type\": \"bar\"}], \"barpolar\": [{\"marker\": {\"line\": {\"color\": \"#E5ECF6\", \"width\": 0.5}}, \"type\": \"barpolar\"}], \"carpet\": [{\"aaxis\": {\"endlinecolor\": \"#2a3f5f\", \"gridcolor\": \"white\", \"linecolor\": \"white\", \"minorgridcolor\": \"white\", \"startlinecolor\": \"#2a3f5f\"}, \"baxis\": {\"endlinecolor\": \"#2a3f5f\", \"gridcolor\": \"white\", \"linecolor\": \"white\", \"minorgridcolor\": \"white\", \"startlinecolor\": \"#2a3f5f\"}, \"type\": \"carpet\"}], \"choropleth\": [{\"colorbar\": {\"outlinewidth\": 0, \"ticks\": \"\"}, \"type\": \"choropleth\"}], \"contour\": [{\"colorbar\": {\"outlinewidth\": 0, \"ticks\": \"\"}, \"colorscale\": [[0.0, \"#0d0887\"], [0.1111111111111111, \"#46039f\"], [0.2222222222222222, \"#7201a8\"], [0.3333333333333333, \"#9c179e\"], [0.4444444444444444, \"#bd3786\"], [0.5555555555555556, \"#d8576b\"], [0.6666666666666666, \"#ed7953\"], [0.7777777777777778, \"#fb9f3a\"], [0.8888888888888888, \"#fdca26\"], [1.0, \"#f0f921\"]], \"type\": \"contour\"}], \"contourcarpet\": [{\"colorbar\": {\"outlinewidth\": 0, \"ticks\": \"\"}, \"type\": \"contourcarpet\"}], \"heatmap\": [{\"colorbar\": {\"outlinewidth\": 0, \"ticks\": \"\"}, \"colorscale\": [[0.0, \"#0d0887\"], [0.1111111111111111, \"#46039f\"], [0.2222222222222222, \"#7201a8\"], [0.3333333333333333, \"#9c179e\"], [0.4444444444444444, \"#bd3786\"], [0.5555555555555556, \"#d8576b\"], [0.6666666666666666, \"#ed7953\"], [0.7777777777777778, \"#fb9f3a\"], [0.8888888888888888, \"#fdca26\"], [1.0, \"#f0f921\"]], \"type\": \"heatmap\"}], \"heatmapgl\": [{\"colorbar\": {\"outlinewidth\": 0, \"ticks\": \"\"}, \"colorscale\": [[0.0, \"#0d0887\"], [0.1111111111111111, \"#46039f\"], [0.2222222222222222, \"#7201a8\"], [0.3333333333333333, \"#9c179e\"], [0.4444444444444444, \"#bd3786\"], [0.5555555555555556, \"#d8576b\"], [0.6666666666666666, \"#ed7953\"], [0.7777777777777778, \"#fb9f3a\"], [0.8888888888888888, \"#fdca26\"], [1.0, \"#f0f921\"]], \"type\": \"heatmapgl\"}], \"histogram\": [{\"marker\": {\"colorbar\": {\"outlinewidth\": 0, \"ticks\": \"\"}}, \"type\": \"histogram\"}], \"histogram2d\": [{\"colorbar\": {\"outlinewidth\": 0, \"ticks\": \"\"}, \"colorscale\": [[0.0, \"#0d0887\"], [0.1111111111111111, \"#46039f\"], [0.2222222222222222, \"#7201a8\"], [0.3333333333333333, \"#9c179e\"], [0.4444444444444444, \"#bd3786\"], [0.5555555555555556, \"#d8576b\"], [0.6666666666666666, \"#ed7953\"], [0.7777777777777778, \"#fb9f3a\"], [0.8888888888888888, \"#fdca26\"], [1.0, \"#f0f921\"]], \"type\": \"histogram2d\"}], \"histogram2dcontour\": [{\"colorbar\": {\"outlinewidth\": 0, \"ticks\": \"\"}, \"colorscale\": [[0.0, \"#0d0887\"], [0.1111111111111111, \"#46039f\"], [0.2222222222222222, \"#7201a8\"], [0.3333333333333333, \"#9c179e\"], [0.4444444444444444, \"#bd3786\"], [0.5555555555555556, \"#d8576b\"], [0.6666666666666666, \"#ed7953\"], [0.7777777777777778, \"#fb9f3a\"], [0.8888888888888888, \"#fdca26\"], [1.0, \"#f0f921\"]], \"type\": \"histogram2dcontour\"}], \"mesh3d\": [{\"colorbar\": {\"outlinewidth\": 0, \"ticks\": \"\"}, \"type\": \"mesh3d\"}], \"parcoords\": [{\"line\": {\"colorbar\": {\"outlinewidth\": 0, \"ticks\": \"\"}}, \"type\": \"parcoords\"}], \"scatter\": [{\"marker\": {\"colorbar\": {\"outlinewidth\": 0, \"ticks\": \"\"}}, \"type\": \"scatter\"}], \"scatter3d\": [{\"line\": {\"colorbar\": {\"outlinewidth\": 0, \"ticks\": \"\"}}, \"marker\": {\"colorbar\": {\"outlinewidth\": 0, \"ticks\": \"\"}}, \"type\": \"scatter3d\"}], \"scattercarpet\": [{\"marker\": {\"colorbar\": {\"outlinewidth\": 0, \"ticks\": \"\"}}, \"type\": \"scattercarpet\"}], \"scattergeo\": [{\"marker\": {\"colorbar\": {\"outlinewidth\": 0, \"ticks\": \"\"}}, \"type\": \"scattergeo\"}], \"scattergl\": [{\"marker\": {\"colorbar\": {\"outlinewidth\": 0, \"ticks\": \"\"}}, \"type\": \"scattergl\"}], \"scattermapbox\": [{\"marker\": {\"colorbar\": {\"outlinewidth\": 0, \"ticks\": \"\"}}, \"type\": \"scattermapbox\"}], \"scatterpolar\": [{\"marker\": {\"colorbar\": {\"outlinewidth\": 0, \"ticks\": \"\"}}, \"type\": \"scatterpolar\"}], \"scatterpolargl\": [{\"marker\": {\"colorbar\": {\"outlinewidth\": 0, \"ticks\": \"\"}}, \"type\": \"scatterpolargl\"}], \"scatterternary\": [{\"marker\": {\"colorbar\": {\"outlinewidth\": 0, \"ticks\": \"\"}}, \"type\": \"scatterternary\"}], \"surface\": [{\"colorbar\": {\"outlinewidth\": 0, \"ticks\": \"\"}, \"colorscale\": [[0.0, \"#0d0887\"], [0.1111111111111111, \"#46039f\"], [0.2222222222222222, \"#7201a8\"], [0.3333333333333333, \"#9c179e\"], [0.4444444444444444, \"#bd3786\"], [0.5555555555555556, \"#d8576b\"], [0.6666666666666666, \"#ed7953\"], [0.7777777777777778, \"#fb9f3a\"], [0.8888888888888888, \"#fdca26\"], [1.0, \"#f0f921\"]], \"type\": \"surface\"}], \"table\": [{\"cells\": {\"fill\": {\"color\": \"#EBF0F8\"}, \"line\": {\"color\": \"white\"}}, \"header\": {\"fill\": {\"color\": \"#C8D4E3\"}, \"line\": {\"color\": \"white\"}}, \"type\": \"table\"}]}, \"layout\": {\"annotationdefaults\": {\"arrowcolor\": \"#2a3f5f\", \"arrowhead\": 0, \"arrowwidth\": 1}, \"colorscale\": {\"diverging\": [[0, \"#8e0152\"], [0.1, \"#c51b7d\"], [0.2, \"#de77ae\"], [0.3, \"#f1b6da\"], [0.4, \"#fde0ef\"], [0.5, \"#f7f7f7\"], [0.6, \"#e6f5d0\"], [0.7, \"#b8e186\"], [0.8, \"#7fbc41\"], [0.9, \"#4d9221\"], [1, \"#276419\"]], \"sequential\": [[0.0, \"#0d0887\"], [0.1111111111111111, \"#46039f\"], [0.2222222222222222, \"#7201a8\"], [0.3333333333333333, \"#9c179e\"], [0.4444444444444444, \"#bd3786\"], [0.5555555555555556, \"#d8576b\"], [0.6666666666666666, \"#ed7953\"], [0.7777777777777778, \"#fb9f3a\"], [0.8888888888888888, \"#fdca26\"], [1.0, \"#f0f921\"]], \"sequentialminus\": [[0.0, \"#0d0887\"], [0.1111111111111111, \"#46039f\"], [0.2222222222222222, \"#7201a8\"], [0.3333333333333333, \"#9c179e\"], [0.4444444444444444, \"#bd3786\"], [0.5555555555555556, \"#d8576b\"], [0.6666666666666666, \"#ed7953\"], [0.7777777777777778, \"#fb9f3a\"], [0.8888888888888888, \"#fdca26\"], [1.0, \"#f0f921\"]]}, \"colorway\": [\"#636efa\", \"#EF553B\", \"#00cc96\", \"#ab63fa\", \"#FFA15A\", \"#19d3f3\", \"#FF6692\", \"#B6E880\", \"#FF97FF\", \"#FECB52\"], \"font\": {\"color\": \"#2a3f5f\"}, \"geo\": {\"bgcolor\": \"white\", \"lakecolor\": \"white\", \"landcolor\": \"#E5ECF6\", \"showlakes\": true, \"showland\": true, \"subunitcolor\": \"white\"}, \"hoverlabel\": {\"align\": \"left\"}, \"hovermode\": \"closest\", \"mapbox\": {\"style\": \"light\"}, \"paper_bgcolor\": \"white\", \"plot_bgcolor\": \"#E5ECF6\", \"polar\": {\"angularaxis\": {\"gridcolor\": \"white\", \"linecolor\": \"white\", \"ticks\": \"\"}, \"bgcolor\": \"#E5ECF6\", \"radialaxis\": {\"gridcolor\": \"white\", \"linecolor\": \"white\", \"ticks\": \"\"}}, \"scene\": {\"xaxis\": {\"backgroundcolor\": \"#E5ECF6\", \"gridcolor\": \"white\", \"gridwidth\": 2, \"linecolor\": \"white\", \"showbackground\": true, \"ticks\": \"\", \"zerolinecolor\": \"white\"}, \"yaxis\": {\"backgroundcolor\": \"#E5ECF6\", \"gridcolor\": \"white\", \"gridwidth\": 2, \"linecolor\": \"white\", \"showbackground\": true, \"ticks\": \"\", \"zerolinecolor\": \"white\"}, \"zaxis\": {\"backgroundcolor\": \"#E5ECF6\", \"gridcolor\": \"white\", \"gridwidth\": 2, \"linecolor\": \"white\", \"showbackground\": true, \"ticks\": \"\", \"zerolinecolor\": \"white\"}}, \"shapedefaults\": {\"line\": {\"color\": \"#2a3f5f\"}}, \"ternary\": {\"aaxis\": {\"gridcolor\": \"white\", \"linecolor\": \"white\", \"ticks\": \"\"}, \"baxis\": {\"gridcolor\": \"white\", \"linecolor\": \"white\", \"ticks\": \"\"}, \"bgcolor\": \"#E5ECF6\", \"caxis\": {\"gridcolor\": \"white\", \"linecolor\": \"white\", \"ticks\": \"\"}}, \"title\": {\"x\": 0.05}, \"xaxis\": {\"automargin\": true, \"gridcolor\": \"white\", \"linecolor\": \"white\", \"ticks\": \"\", \"zerolinecolor\": \"white\", \"zerolinewidth\": 2}, \"yaxis\": {\"automargin\": true, \"gridcolor\": \"white\", \"linecolor\": \"white\", \"ticks\": \"\", \"zerolinecolor\": \"white\", \"zerolinewidth\": 2}}}, \"title\": {\"text\": \"CO2_emission_Speed_for_vehicle_id_35135\"}, \"xaxis\": {\"title\": {\"text\": \"speed (in m/s)\"}}, \"yaxis\": {\"title\": {\"text\": \"Co2 emission (in gms)\"}}},\n",
       "                        {\"responsive\": true}\n",
       "                    ).then(function(){\n",
       "                            \n",
       "var gd = document.getElementById('2873c755-0003-498b-98c2-8381e227af93');\n",
       "var x = new MutationObserver(function (mutations, observer) {{\n",
       "        var display = window.getComputedStyle(gd).display;\n",
       "        if (!display || display === 'none') {{\n",
       "            console.log([gd, 'removed!']);\n",
       "            Plotly.purge(gd);\n",
       "            observer.disconnect();\n",
       "        }}\n",
       "}});\n",
       "\n",
       "// Listen for the removal of the full notebook cells\n",
       "var notebookContainer = gd.closest('#notebook-container');\n",
       "if (notebookContainer) {{\n",
       "    x.observe(notebookContainer, {childList: true});\n",
       "}}\n",
       "\n",
       "// Listen for the clearing of the current output cell\n",
       "var outputEl = gd.closest('.output');\n",
       "if (outputEl) {{\n",
       "    x.observe(outputEl, {childList: true});\n",
       "}}\n",
       "\n",
       "                        })\n",
       "                };\n",
       "                });\n",
       "            </script>\n",
       "        </div>"
      ]
     },
     "metadata": {},
     "output_type": "display_data"
    }
   ],
   "source": [
    "layout = go.Layout(title=f\"CO2_emission_Speed_for_vehicle_id_{vehicle_id}\",\n",
    "                xaxis=dict(title='speed (in m/s)'),\n",
    "                yaxis=dict(title='Co2 emission (in gms)'))\n",
    "data = [dict(x=outputs['velocities'], y=outputs['fp'])] # select the desired outputs\n",
    "fig = go.Figure(data=data, layout=layout)\n",
    "iplot(fig)"
   ]
  }
 ],
 "metadata": {
  "kernelspec": {
   "display_name": "Python 3",
   "language": "python",
   "name": "python3"
  },
  "language_info": {
   "codemirror_mode": {
    "name": "ipython",
    "version": 3
   },
   "file_extension": ".py",
   "mimetype": "text/x-python",
   "name": "python",
   "nbconvert_exporter": "python",
   "pygments_lexer": "ipython3",
   "version": "3.7.1"
  }
 },
 "nbformat": 4,
 "nbformat_minor": 2
}

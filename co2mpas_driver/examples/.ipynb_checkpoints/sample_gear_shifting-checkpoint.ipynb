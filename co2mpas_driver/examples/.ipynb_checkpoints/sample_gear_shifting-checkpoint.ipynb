{
 "cells": [
  {
   "cell_type": "markdown",
   "metadata": {},
   "source": [
    "# Vehicle simulation for different gear shifting"
   ]
  },
  {
   "cell_type": "markdown",
   "metadata": {},
   "source": [
    "This is an ipython notebook to present how to use the co2mpas driver model (i.e., MFC) to simulate the driver behaviour on an electric vehicle."
   ]
  },
  {
   "cell_type": "markdown",
   "metadata": {},
   "source": [
    "# Import co2mpas driver model and other libraries"
   ]
  },
  {
   "cell_type": "code",
   "execution_count": 1,
   "metadata": {},
   "outputs": [
    {
     "data": {
      "text/html": [
       "        <script type=\"text/javascript\">\n",
       "        window.PlotlyConfig = {MathJaxConfig: 'local'};\n",
       "        if (window.MathJax) {MathJax.Hub.Config({SVG: {font: \"STIX-Web\"}});}\n",
       "        if (typeof require !== 'undefined') {\n",
       "        require.undef(\"plotly\");\n",
       "        requirejs.config({\n",
       "            paths: {\n",
       "                'plotly': ['https://cdn.plot.ly/plotly-latest.min']\n",
       "            }\n",
       "        });\n",
       "        require(['plotly'], function(Plotly) {\n",
       "            window._Plotly = Plotly;\n",
       "        });\n",
       "        }\n",
       "        </script>\n",
       "        "
      ]
     },
     "metadata": {},
     "output_type": "display_data"
    }
   ],
   "source": [
    "import sys;\n",
    "sys.path.extend(['..'])\n",
    "import numpy as np\n",
    "import schedula as sh\n",
    "from plotly import graph_objs as go\n",
    "from co2mpas_driver import dsp as driver\n",
    "from plotly.offline import download_plotlyjs, init_notebook_mode, plot, iplot\n",
    "init_notebook_mode(connected=True)"
   ]
  },
  {
   "cell_type": "markdown",
   "metadata": {},
   "source": [
    "# Processing chain model"
   ]
  },
  {
   "cell_type": "code",
   "execution_count": 2,
   "metadata": {},
   "outputs": [
    {
     "name": "stdout",
     "output_type": "stream",
     "text": [
      " * Serving Flask app \"C:\\Users\\makieas\\AppData\\Local\\Temp\\tmprlaqlif6\" (lazy loading)\n",
      " * Environment: production\n",
      "   WARNING: Do not use the development server in a production environment.\n",
      "   Use a production WSGI server instead.\n",
      " * Debug mode: off\n"
     ]
    },
    {
     "name": "stderr",
     "output_type": "stream",
     "text": [
      " * Running on http://localhost:56150/ (Press CTRL+C to quit)\n"
     ]
    },
    {
     "data": {
      "text/html": [
       "\n",
       "<iframe width=\"100%\" height=\"500\" id=\"1777368980560\" src=\"http://localhost:56150/\">\n",
       "</iframe>\n"
      ],
      "text/plain": [
       "Site(SiteMap([(Dispatcher 1777328100184, SiteMap([(load, SiteMap()), (model, SiteMap()), (plot, SiteMap())]))]), host='localhost', port=0, depth=-1, index=False, root_path=None)"
      ]
     },
     "execution_count": 2,
     "metadata": {},
     "output_type": "execute_result"
    }
   ],
   "source": [
    "driver.plot(view=False).site(index=False)  # Click on the graph to see the model."
   ]
  },
  {
   "cell_type": "markdown",
   "metadata": {},
   "source": [
    "# Plot co2mpas driver model graph"
   ]
  },
  {
   "cell_type": "code",
   "execution_count": 3,
   "metadata": {},
   "outputs": [
    {
     "name": "stdout",
     "output_type": "stream",
     "text": [
      " * Serving Flask app \"C:\\Users\\makieas\\AppData\\Local\\Temp\\tmpt6lkbnlf\" (lazy loading)\n",
      " * Environment: production\n",
      "   WARNING: Do not use the development server in a production environment.\n",
      "   Use a production WSGI server instead.\n",
      " * Debug mode: off\n"
     ]
    },
    {
     "name": "stderr",
     "output_type": "stream",
     "text": [
      " * Running on http://localhost:56157/ (Press CTRL+C to quit)\n",
      "127.0.0.1 - - [21/Nov/2019 11:24:31] \"GET / HTTP/1.1\" 200 -\n"
     ]
    },
    {
     "data": {
      "text/html": [
       "\n",
       "<iframe width=\"100%\" height=\"500\" id=\"1777373354080\" src=\"http://localhost:56157/\">\n",
       "</iframe>\n"
      ],
      "text/plain": [
       "Site(SiteMap([(model, SiteMap())]), host='localhost', port=0, depth=-1, index=False, root_path=None)"
      ]
     },
     "execution_count": 3,
     "metadata": {},
     "output_type": "execute_result"
    }
   ],
   "source": [
    "driver.get_node('model')[0].plot(view=False).site(index=False)  # Click on the graph to see the model."
   ]
  },
  {
   "cell_type": "markdown",
   "metadata": {},
   "source": [
    "# User inputs to co2mpas driver model in order to extract the drivers acceleration behavior"
   ]
  },
  {
   "cell_type": "code",
   "execution_count": 4,
   "metadata": {},
   "outputs": [
    {
     "name": "stdout",
     "output_type": "stream",
     "text": [
      " * Serving Flask app \"C:\\Users\\makieas\\AppData\\Local\\Temp\\tmpmixt1plf\" (lazy loading)\n",
      " * Environment: production\n",
      "   WARNING: Do not use the development server in a production environment.\n",
      "   Use a production WSGI server instead.\n",
      " * Debug mode: off\n"
     ]
    },
    {
     "name": "stderr",
     "output_type": "stream",
     "text": [
      " * Running on http://localhost:56165/ (Press CTRL+C to quit)\n",
      "127.0.0.1 - - [21/Nov/2019 11:24:32] \"GET / HTTP/1.1\" 200 -\n"
     ]
    },
    {
     "data": {
      "text/html": [
       "\n",
       "<iframe width=\"100%\" height=\"500\" id=\"1777404807040\" src=\"http://localhost:56165/\">\n",
       "</iframe>\n"
      ],
      "text/plain": [
       "Site(SiteMap([(Dispatcher 1777328100184, SiteMap([(load, SiteMap()), (model, SiteMap()), (plot, SiteMap())]))]), host='localhost', port=0, depth=-1, index=False, root_path=None)"
      ]
     },
     "execution_count": 4,
     "metadata": {},
     "output_type": "execute_result"
    }
   ],
   "source": [
    "# Remember to Insert vehicle data base path (db_path)\n",
    "sol = driver(dict(vehicle_id=35476, db_path='../co2mpas_driver/db/EuroSegmentCar_cleaned.csv', \n",
    "                  inputs=dict(inputs={'gear_shifting_style': 1, 'desired_velocity': 40}))) # Insert vehicle data base path\n",
    "sol.plot(view=False).site(index=False)"
   ]
  },
  {
   "cell_type": "code",
   "execution_count": 5,
   "metadata": {},
   "outputs": [
    {
     "data": {
      "text/plain": [
       "['ignition_type',\n",
       " 'full_load_curve',\n",
       " 'engine_max_power',\n",
       " 'engine_max_speed_at_max_power',\n",
       " 'idle_engine_speed',\n",
       " 'full_load_speeds',\n",
       " 'full_load_powers',\n",
       " 'full_load_torques',\n",
       " 'vehicle_mass',\n",
       " 'r_dynamic',\n",
       " 'car_type',\n",
       " 'final_drive',\n",
       " 'gear_box_ratios',\n",
       " 'veh_params',\n",
       " 'engine_max_torque',\n",
       " 'fuel_eng_capacity',\n",
       " 'speed',\n",
       " 'acceleration',\n",
       " 'max_power',\n",
       " 'fuel_engine_stroke',\n",
       " 'fuel_type',\n",
       " 'fuel_turbo',\n",
       " 'hardcoded_params',\n",
       " 'road_loads',\n",
       " 'slope',\n",
       " 'gear',\n",
       " 'gear_count',\n",
       " 'sim_step',\n",
       " 'fc',\n",
       " 'tyre_radius',\n",
       " 'driveline_slippage',\n",
       " 'final_drive_ratio',\n",
       " 'driveline_efficiency',\n",
       " 'speed_per_gear',\n",
       " 'acc_per_gear',\n",
       " 'degree',\n",
       " 'coefs_per_gear',\n",
       " 'motor_max_power',\n",
       " 'motor_max_torque',\n",
       " 'vehicle_max_speed',\n",
       " 'poly_spline',\n",
       " 'start',\n",
       " 'stop',\n",
       " 'use_cubic',\n",
       " 'sp_bins',\n",
       " 'discrete_poly_spline',\n",
       " 'car_res_curve_force',\n",
       " 'discrete_car_res_curve_force',\n",
       " 'car_res_curve',\n",
       " 'discrete_car_res_curve',\n",
       " 'type_of_car',\n",
       " 'car_width',\n",
       " 'car_height',\n",
       " 'Alimit',\n",
       " 'curves',\n",
       " 'discrete_acceleration_curves',\n",
       " 'gear_shifting_style',\n",
       " 'use_linear_gs',\n",
       " 'gs',\n",
       " 'idle_engine_speed_median',\n",
       " 'idle_engine_speed_std',\n",
       " 'Tans',\n",
       " 'tans',\n",
       " 'sim_start',\n",
       " 'duration',\n",
       " 'times',\n",
       " 'transmission',\n",
       " 'driver_style',\n",
       " 'driver_simulation_model',\n",
       " 'starting_velocity',\n",
       " 'desired_velocity',\n",
       " 'gears',\n",
       " 'velocities',\n",
       " 'positions',\n",
       " 'accelerations']"
      ]
     },
     "execution_count": 5,
     "metadata": {},
     "output_type": "execute_result"
    }
   ],
   "source": [
    "list(driver.get_node('model')[0].dsp.data_nodes)"
   ]
  },
  {
   "cell_type": "markdown",
   "metadata": {},
   "source": [
    "# Compute and plot final acceleration curve per gear"
   ]
  },
  {
   "cell_type": "code",
   "execution_count": 6,
   "metadata": {},
   "outputs": [
    {
     "name": "stderr",
     "output_type": "stream",
     "text": [
      "127.0.0.1 - - [21/Nov/2019 11:24:33] \"GET / HTTP/1.1\" 200 -\n"
     ]
    },
    {
     "data": {
      "application/vnd.plotly.v1+json": {
       "config": {
        "linkText": "Export to plot.ly",
        "plotlyServerURL": "https://plot.ly",
        "showLink": false
       },
       "data": [
        {
         "name": "gear 0",
         "type": "scatter",
         "x": [
          2.374023515624224,
          3.2327128723393694,
          4.0914022290545145,
          4.950091585769659,
          5.8087809424848045,
          6.667470299199949,
          7.5261596559150945,
          8.384849012630239,
          9.243538369345384,
          10.10222772606053,
          10.960917082775675,
          11.81960643949082
         ],
         "y": [
          5.638940287668019,
          6.332301199273498,
          6.768877721177225,
          7.051880902402402,
          7.222890847742442,
          7.3258772372570045,
          7.364575082103895,
          7.262483212332574,
          7.035063015588951,
          6.657002174708331,
          5.873574099111984,
          4.856351025480445
         ]
        },
        {
         "name": "gear 1",
         "type": "scatter",
         "x": [
          4.407161603363944,
          6.001241332240266,
          7.595321061116587,
          9.189400789992906,
          10.783480518869228,
          12.377560247745548,
          13.97163997662187,
          15.565719705498188,
          17.159799434374506,
          18.75387916325083,
          20.34795889212715,
          21.942038621003473
         ],
         "y": [
          3.0375507074454795,
          3.411046226127989,
          3.6462186619601074,
          3.7986651269847194,
          3.8907837439496578,
          3.9462598377489386,
          3.967105361906794,
          3.912111122665337,
          3.7896057680658712,
          3.5859542101329405,
          3.1639418489691624,
          2.6159901932836656
         ]
        },
        {
         "name": "gear 2",
         "type": "scatter",
         "x": [
          6.714035255124759,
          9.14251609208478,
          11.5709969290448,
          13.999477766004818,
          16.427958602964836,
          18.856439439924856,
          21.28492027688488,
          23.713401113844895,
          26.141881950804912,
          28.570362787764935,
          30.99884362472495,
          33.427324461684975
         ],
         "y": [
          1.9938794387334433,
          2.239045727919911,
          2.3934153268250964,
          2.4934827500207395,
          2.553950355002853,
          2.590365431958278,
          2.604048647815742,
          2.56794986513417,
          2.4875360939099056,
          2.3538571225488023,
          2.076843880348989,
          1.7171627935400473
         ]
        },
        {
         "name": "gear 3",
         "type": "scatter",
         "x": [
          8.859757862432671,
          12.064351131823214,
          15.268944401213757,
          18.473537670604294,
          21.678130939994837,
          24.88272420938538,
          28.087317478775923,
          31.291910748166462,
          34.496504017557,
          37.701097286947544,
          40.90569055633809,
          44.11028382572863
         ],
         "y": [
          1.5109867621651876,
          1.6967768406893076,
          1.8137600523596433,
          1.8895923965000914,
          1.935415503400599,
          1.9630113039058823,
          1.973380615922867,
          1.9460245071719884,
          1.8850859461661003,
          1.7837823506815143,
          1.5738582530769682,
          1.3012874294795669
         ]
        },
        {
         "name": "gear 4",
         "type": "scatter",
         "x": [
          11.017904008409861,
          15.003103330600663,
          18.988302652791464,
          22.973501974982263,
          26.958701297173064,
          30.943900619363866,
          34.92909994155467,
          38.91429926374547,
          42.899498585936264,
          46.88469790812707,
          50.86989723031787,
          54.85509655250868
         ],
         "y": [
          1.215020282978192,
          1.3644184904511958,
          1.4584874647840431,
          1.519466050793888,
          1.5563134975798631,
          1.5785039350995755,
          1.5868421447627177,
          1.5648444490661348,
          1.5158423072263487,
          1.4343816840531765,
          1.2655767395876651,
          1.0463960773134662
         ]
        },
        {
         "name": "gear 5",
         "type": "scatter",
         "x": [
          13.221484810091832,
          18.003723996720794,
          22.785963183349757,
          27.568202369978717,
          32.35044155660768,
          37.13268074323664,
          41.914919929865604,
          46.69715911649456,
          51.47939830312352,
          56.26163748975249,
          61.043876676381444,
          65.82611586301041
         ],
         "y": [
          1.0125169024818268,
          1.1370154087093298,
          1.2154062206533693,
          1.2662217089949066,
          1.296927914649886,
          1.315419945916313,
          1.3223684539689315,
          1.3040370408884459,
          1.263201922688624,
          1.1953180700443136,
          1.0546472829897209,
          0.8719967310945552
         ]
        },
        {
         "name": "gear 0",
         "type": "scatter",
         "x": [
          2.374023515624224,
          3.2327128723393694,
          4.0914022290545145,
          4.950091585769659,
          5.8087809424848045,
          6.667470299199949,
          7.5261596559150945,
          8.384849012630239,
          9.243538369345384,
          10.10222772606053,
          10.960917082775675,
          11.81960643949082
         ],
         "y": [
          5.647581033475074,
          6.317503079779803,
          6.764526130006541,
          7.055769617304167,
          7.23716313779567,
          7.333446450578154,
          7.3481694777228315,
          7.263692304275028,
          7.041185178254189,
          6.6206285106538605,
          5.920812875441717,
          4.839339009559531
         ]
        },
        {
         "name": "gear 1",
         "type": "scatter",
         "x": [
          4.407161603363944,
          6.001241332240266,
          7.595321061116587,
          9.189400789992906,
          10.783480518869228,
          12.377560247745548,
          13.97163997662187,
          15.565719705498188,
          17.159799434374506,
          18.75387916325083,
          20.34795889212715,
          21.942038621003473
         ],
         "y": [
          3.0422052528387806,
          3.403074863417298,
          3.6438745727935813,
          3.800759876724623,
          3.8984718559949076,
          3.9503371764164097,
          3.9582680888285986,
          3.9127624290984278,
          3.792903618120353,
          3.5663606618163137,
          3.1893881511357436,
          2.606826262055568
         ]
        },
        {
         "name": "gear 2",
         "type": "scatter",
         "x": [
          6.714035255124759,
          9.14251609208478,
          11.5709969290448,
          13.999477766004818,
          16.427958602964836,
          18.856439439924856,
          21.28492027688488,
          23.713401113844895,
          26.141881950804912,
          28.570362787764935,
          30.99884362472495,
          33.427324461684975
         ],
         "y": [
          1.996934730068534,
          2.2338132436790494,
          2.391876642654251,
          2.494857765234628,
          2.558996910601789,
          2.593041838878469,
          2.59824777112852,
          2.5683773893569213,
          2.489700836509776,
          2.3409957164743034,
          2.0935470940788528,
          1.711147495092888
         ]
        },
        {
         "name": "gear 3",
         "type": "scatter",
         "x": [
          8.859757862432671,
          12.064351131823214,
          15.268944401213757,
          18.473537670604294,
          21.678130939994837,
          24.88272420938538,
          28.087317478775923,
          31.291910748166462,
          34.496504017557,
          37.701097286947544,
          40.90569055633809,
          44.11028382572863
         ],
         "y": [
          1.5133021001300546,
          1.6928115987255261,
          1.8125940182614226,
          1.8906344002168642,
          1.939239846315415,
          1.965039518525084,
          1.9689846390583237,
          1.9463484903720327,
          1.8867264151675538,
          1.774035816390672,
          1.5865161572316164,
          1.2967289611250654
         ]
        },
        {
         "name": "gear 4",
         "type": "scatter",
         "x": [
          11.017904008409861,
          15.003103330600663,
          18.988302652791464,
          22.973501974982263,
          26.958701297173064,
          30.943900619363866,
          34.92909994155467,
          38.91429926374547,
          42.899498585936264,
          46.88469790812707,
          50.86989723031787,
          54.85509655250868
         ],
         "y": [
          1.2168821011355109,
          1.3612299453669205,
          1.4575498291174347,
          1.5203039506898521,
          1.5593887423979658,
          1.5801348705665663,
          1.583307235531441,
          1.565104971639374,
          1.5171614472481443,
          1.426544264726529,
          1.2757552604543012,
          1.04273050482223
         ]
        },
        {
         "name": "gear 5",
         "type": "scatter",
         "x": [
          13.221484810091832,
          18.003723996720794,
          22.785963183349757,
          27.568202369978717,
          32.35044155660768,
          37.13268074323664,
          41.914919929865604,
          46.69715911649456,
          51.47939830312352,
          56.26163748975249,
          61.043876676381444,
          65.82611586301041
         ],
         "y": [
          1.0140684176129249,
          1.134358287805766,
          1.214624857597861,
          1.2669199589082083,
          1.2994906186649688,
          1.3167790588054689,
          1.319422696276197,
          1.304254143032807,
          1.2643012060401144,
          1.1887868872721001,
          1.0631293837119076,
          0.8689420873518447
         ]
        },
        {
         "line": {
          "color": "#0D1A00"
         },
         "type": "scatter",
         "x": [
          11.81960643949082,
          11.81960643949082
         ],
         "y": [
          0,
          5
         ]
        },
        {
         "line": {
          "color": "#0D1A00"
         },
         "type": "scatter",
         "x": [
          21.942038621003473,
          21.942038621003473
         ],
         "y": [
          0,
          5
         ]
        },
        {
         "line": {
          "color": "#0D1A00"
         },
         "type": "scatter",
         "x": [
          33.427324461684975,
          33.427324461684975
         ],
         "y": [
          0,
          5
         ]
        },
        {
         "line": {
          "color": "#0D1A00"
         },
         "type": "scatter",
         "x": [
          44.11028382572863,
          44.11028382572863
         ],
         "y": [
          0,
          5
         ]
        },
        {
         "line": {
          "color": "#0D1A00"
         },
         "type": "scatter",
         "x": [
          54.85509655250868,
          54.85509655250868
         ],
         "y": [
          0,
          5
         ]
        }
       ],
       "layout": {
        "template": {
         "data": {
          "bar": [
           {
            "error_x": {
             "color": "#2a3f5f"
            },
            "error_y": {
             "color": "#2a3f5f"
            },
            "marker": {
             "line": {
              "color": "#E5ECF6",
              "width": 0.5
             }
            },
            "type": "bar"
           }
          ],
          "barpolar": [
           {
            "marker": {
             "line": {
              "color": "#E5ECF6",
              "width": 0.5
             }
            },
            "type": "barpolar"
           }
          ],
          "carpet": [
           {
            "aaxis": {
             "endlinecolor": "#2a3f5f",
             "gridcolor": "white",
             "linecolor": "white",
             "minorgridcolor": "white",
             "startlinecolor": "#2a3f5f"
            },
            "baxis": {
             "endlinecolor": "#2a3f5f",
             "gridcolor": "white",
             "linecolor": "white",
             "minorgridcolor": "white",
             "startlinecolor": "#2a3f5f"
            },
            "type": "carpet"
           }
          ],
          "choropleth": [
           {
            "colorbar": {
             "outlinewidth": 0,
             "ticks": ""
            },
            "type": "choropleth"
           }
          ],
          "contour": [
           {
            "colorbar": {
             "outlinewidth": 0,
             "ticks": ""
            },
            "colorscale": [
             [
              0,
              "#0d0887"
             ],
             [
              0.1111111111111111,
              "#46039f"
             ],
             [
              0.2222222222222222,
              "#7201a8"
             ],
             [
              0.3333333333333333,
              "#9c179e"
             ],
             [
              0.4444444444444444,
              "#bd3786"
             ],
             [
              0.5555555555555556,
              "#d8576b"
             ],
             [
              0.6666666666666666,
              "#ed7953"
             ],
             [
              0.7777777777777778,
              "#fb9f3a"
             ],
             [
              0.8888888888888888,
              "#fdca26"
             ],
             [
              1,
              "#f0f921"
             ]
            ],
            "type": "contour"
           }
          ],
          "contourcarpet": [
           {
            "colorbar": {
             "outlinewidth": 0,
             "ticks": ""
            },
            "type": "contourcarpet"
           }
          ],
          "heatmap": [
           {
            "colorbar": {
             "outlinewidth": 0,
             "ticks": ""
            },
            "colorscale": [
             [
              0,
              "#0d0887"
             ],
             [
              0.1111111111111111,
              "#46039f"
             ],
             [
              0.2222222222222222,
              "#7201a8"
             ],
             [
              0.3333333333333333,
              "#9c179e"
             ],
             [
              0.4444444444444444,
              "#bd3786"
             ],
             [
              0.5555555555555556,
              "#d8576b"
             ],
             [
              0.6666666666666666,
              "#ed7953"
             ],
             [
              0.7777777777777778,
              "#fb9f3a"
             ],
             [
              0.8888888888888888,
              "#fdca26"
             ],
             [
              1,
              "#f0f921"
             ]
            ],
            "type": "heatmap"
           }
          ],
          "heatmapgl": [
           {
            "colorbar": {
             "outlinewidth": 0,
             "ticks": ""
            },
            "colorscale": [
             [
              0,
              "#0d0887"
             ],
             [
              0.1111111111111111,
              "#46039f"
             ],
             [
              0.2222222222222222,
              "#7201a8"
             ],
             [
              0.3333333333333333,
              "#9c179e"
             ],
             [
              0.4444444444444444,
              "#bd3786"
             ],
             [
              0.5555555555555556,
              "#d8576b"
             ],
             [
              0.6666666666666666,
              "#ed7953"
             ],
             [
              0.7777777777777778,
              "#fb9f3a"
             ],
             [
              0.8888888888888888,
              "#fdca26"
             ],
             [
              1,
              "#f0f921"
             ]
            ],
            "type": "heatmapgl"
           }
          ],
          "histogram": [
           {
            "marker": {
             "colorbar": {
              "outlinewidth": 0,
              "ticks": ""
             }
            },
            "type": "histogram"
           }
          ],
          "histogram2d": [
           {
            "colorbar": {
             "outlinewidth": 0,
             "ticks": ""
            },
            "colorscale": [
             [
              0,
              "#0d0887"
             ],
             [
              0.1111111111111111,
              "#46039f"
             ],
             [
              0.2222222222222222,
              "#7201a8"
             ],
             [
              0.3333333333333333,
              "#9c179e"
             ],
             [
              0.4444444444444444,
              "#bd3786"
             ],
             [
              0.5555555555555556,
              "#d8576b"
             ],
             [
              0.6666666666666666,
              "#ed7953"
             ],
             [
              0.7777777777777778,
              "#fb9f3a"
             ],
             [
              0.8888888888888888,
              "#fdca26"
             ],
             [
              1,
              "#f0f921"
             ]
            ],
            "type": "histogram2d"
           }
          ],
          "histogram2dcontour": [
           {
            "colorbar": {
             "outlinewidth": 0,
             "ticks": ""
            },
            "colorscale": [
             [
              0,
              "#0d0887"
             ],
             [
              0.1111111111111111,
              "#46039f"
             ],
             [
              0.2222222222222222,
              "#7201a8"
             ],
             [
              0.3333333333333333,
              "#9c179e"
             ],
             [
              0.4444444444444444,
              "#bd3786"
             ],
             [
              0.5555555555555556,
              "#d8576b"
             ],
             [
              0.6666666666666666,
              "#ed7953"
             ],
             [
              0.7777777777777778,
              "#fb9f3a"
             ],
             [
              0.8888888888888888,
              "#fdca26"
             ],
             [
              1,
              "#f0f921"
             ]
            ],
            "type": "histogram2dcontour"
           }
          ],
          "mesh3d": [
           {
            "colorbar": {
             "outlinewidth": 0,
             "ticks": ""
            },
            "type": "mesh3d"
           }
          ],
          "parcoords": [
           {
            "line": {
             "colorbar": {
              "outlinewidth": 0,
              "ticks": ""
             }
            },
            "type": "parcoords"
           }
          ],
          "scatter": [
           {
            "marker": {
             "colorbar": {
              "outlinewidth": 0,
              "ticks": ""
             }
            },
            "type": "scatter"
           }
          ],
          "scatter3d": [
           {
            "line": {
             "colorbar": {
              "outlinewidth": 0,
              "ticks": ""
             }
            },
            "marker": {
             "colorbar": {
              "outlinewidth": 0,
              "ticks": ""
             }
            },
            "type": "scatter3d"
           }
          ],
          "scattercarpet": [
           {
            "marker": {
             "colorbar": {
              "outlinewidth": 0,
              "ticks": ""
             }
            },
            "type": "scattercarpet"
           }
          ],
          "scattergeo": [
           {
            "marker": {
             "colorbar": {
              "outlinewidth": 0,
              "ticks": ""
             }
            },
            "type": "scattergeo"
           }
          ],
          "scattergl": [
           {
            "marker": {
             "colorbar": {
              "outlinewidth": 0,
              "ticks": ""
             }
            },
            "type": "scattergl"
           }
          ],
          "scattermapbox": [
           {
            "marker": {
             "colorbar": {
              "outlinewidth": 0,
              "ticks": ""
             }
            },
            "type": "scattermapbox"
           }
          ],
          "scatterpolar": [
           {
            "marker": {
             "colorbar": {
              "outlinewidth": 0,
              "ticks": ""
             }
            },
            "type": "scatterpolar"
           }
          ],
          "scatterpolargl": [
           {
            "marker": {
             "colorbar": {
              "outlinewidth": 0,
              "ticks": ""
             }
            },
            "type": "scatterpolargl"
           }
          ],
          "scatterternary": [
           {
            "marker": {
             "colorbar": {
              "outlinewidth": 0,
              "ticks": ""
             }
            },
            "type": "scatterternary"
           }
          ],
          "surface": [
           {
            "colorbar": {
             "outlinewidth": 0,
             "ticks": ""
            },
            "colorscale": [
             [
              0,
              "#0d0887"
             ],
             [
              0.1111111111111111,
              "#46039f"
             ],
             [
              0.2222222222222222,
              "#7201a8"
             ],
             [
              0.3333333333333333,
              "#9c179e"
             ],
             [
              0.4444444444444444,
              "#bd3786"
             ],
             [
              0.5555555555555556,
              "#d8576b"
             ],
             [
              0.6666666666666666,
              "#ed7953"
             ],
             [
              0.7777777777777778,
              "#fb9f3a"
             ],
             [
              0.8888888888888888,
              "#fdca26"
             ],
             [
              1,
              "#f0f921"
             ]
            ],
            "type": "surface"
           }
          ],
          "table": [
           {
            "cells": {
             "fill": {
              "color": "#EBF0F8"
             },
             "line": {
              "color": "white"
             }
            },
            "header": {
             "fill": {
              "color": "#C8D4E3"
             },
             "line": {
              "color": "white"
             }
            },
            "type": "table"
           }
          ]
         },
         "layout": {
          "annotationdefaults": {
           "arrowcolor": "#2a3f5f",
           "arrowhead": 0,
           "arrowwidth": 1
          },
          "colorscale": {
           "diverging": [
            [
             0,
             "#8e0152"
            ],
            [
             0.1,
             "#c51b7d"
            ],
            [
             0.2,
             "#de77ae"
            ],
            [
             0.3,
             "#f1b6da"
            ],
            [
             0.4,
             "#fde0ef"
            ],
            [
             0.5,
             "#f7f7f7"
            ],
            [
             0.6,
             "#e6f5d0"
            ],
            [
             0.7,
             "#b8e186"
            ],
            [
             0.8,
             "#7fbc41"
            ],
            [
             0.9,
             "#4d9221"
            ],
            [
             1,
             "#276419"
            ]
           ],
           "sequential": [
            [
             0,
             "#0d0887"
            ],
            [
             0.1111111111111111,
             "#46039f"
            ],
            [
             0.2222222222222222,
             "#7201a8"
            ],
            [
             0.3333333333333333,
             "#9c179e"
            ],
            [
             0.4444444444444444,
             "#bd3786"
            ],
            [
             0.5555555555555556,
             "#d8576b"
            ],
            [
             0.6666666666666666,
             "#ed7953"
            ],
            [
             0.7777777777777778,
             "#fb9f3a"
            ],
            [
             0.8888888888888888,
             "#fdca26"
            ],
            [
             1,
             "#f0f921"
            ]
           ],
           "sequentialminus": [
            [
             0,
             "#0d0887"
            ],
            [
             0.1111111111111111,
             "#46039f"
            ],
            [
             0.2222222222222222,
             "#7201a8"
            ],
            [
             0.3333333333333333,
             "#9c179e"
            ],
            [
             0.4444444444444444,
             "#bd3786"
            ],
            [
             0.5555555555555556,
             "#d8576b"
            ],
            [
             0.6666666666666666,
             "#ed7953"
            ],
            [
             0.7777777777777778,
             "#fb9f3a"
            ],
            [
             0.8888888888888888,
             "#fdca26"
            ],
            [
             1,
             "#f0f921"
            ]
           ]
          },
          "colorway": [
           "#636efa",
           "#EF553B",
           "#00cc96",
           "#ab63fa",
           "#FFA15A",
           "#19d3f3",
           "#FF6692",
           "#B6E880",
           "#FF97FF",
           "#FECB52"
          ],
          "font": {
           "color": "#2a3f5f"
          },
          "geo": {
           "bgcolor": "white",
           "lakecolor": "white",
           "landcolor": "#E5ECF6",
           "showlakes": true,
           "showland": true,
           "subunitcolor": "white"
          },
          "hoverlabel": {
           "align": "left"
          },
          "hovermode": "closest",
          "mapbox": {
           "style": "light"
          },
          "paper_bgcolor": "white",
          "plot_bgcolor": "#E5ECF6",
          "polar": {
           "angularaxis": {
            "gridcolor": "white",
            "linecolor": "white",
            "ticks": ""
           },
           "bgcolor": "#E5ECF6",
           "radialaxis": {
            "gridcolor": "white",
            "linecolor": "white",
            "ticks": ""
           }
          },
          "scene": {
           "xaxis": {
            "backgroundcolor": "#E5ECF6",
            "gridcolor": "white",
            "gridwidth": 2,
            "linecolor": "white",
            "showbackground": true,
            "ticks": "",
            "zerolinecolor": "white"
           },
           "yaxis": {
            "backgroundcolor": "#E5ECF6",
            "gridcolor": "white",
            "gridwidth": 2,
            "linecolor": "white",
            "showbackground": true,
            "ticks": "",
            "zerolinecolor": "white"
           },
           "zaxis": {
            "backgroundcolor": "#E5ECF6",
            "gridcolor": "white",
            "gridwidth": 2,
            "linecolor": "white",
            "showbackground": true,
            "ticks": "",
            "zerolinecolor": "white"
           }
          },
          "shapedefaults": {
           "line": {
            "color": "#2a3f5f"
           }
          },
          "ternary": {
           "aaxis": {
            "gridcolor": "white",
            "linecolor": "white",
            "ticks": ""
           },
           "baxis": {
            "gridcolor": "white",
            "linecolor": "white",
            "ticks": ""
           },
           "bgcolor": "#E5ECF6",
           "caxis": {
            "gridcolor": "white",
            "linecolor": "white",
            "ticks": ""
           }
          },
          "title": {
           "x": 0.05
          },
          "xaxis": {
           "automargin": true,
           "gridcolor": "white",
           "linecolor": "white",
           "ticks": "",
           "zerolinecolor": "white",
           "zerolinewidth": 2
          },
          "yaxis": {
           "automargin": true,
           "gridcolor": "white",
           "linecolor": "white",
           "ticks": "",
           "zerolinecolor": "white",
           "zerolinewidth": 2
          }
         }
        },
        "title": {
         "text": "Acceleration-Velocity per gear"
        },
        "xaxis": {
         "title": {
          "text": "velocity (in m/s)"
         }
        },
        "yaxis": {
         "title": {
          "text": "Acceleration (in m/s2"
         }
        }
       }
      },
      "text/html": [
       "<div>\n",
       "        \n",
       "        \n",
       "            <div id=\"4ee1b4b2-260d-4aff-9ebd-29320c8bdd25\" class=\"plotly-graph-div\" style=\"height:525px; width:100%;\"></div>\n",
       "            <script type=\"text/javascript\">\n",
       "                require([\"plotly\"], function(Plotly) {\n",
       "                    window.PLOTLYENV=window.PLOTLYENV || {};\n",
       "                    \n",
       "                if (document.getElementById(\"4ee1b4b2-260d-4aff-9ebd-29320c8bdd25\")) {\n",
       "                    Plotly.newPlot(\n",
       "                        '4ee1b4b2-260d-4aff-9ebd-29320c8bdd25',\n",
       "                        [{\"name\": \"gear 0\", \"type\": \"scatter\", \"x\": [2.374023515624224, 3.2327128723393694, 4.0914022290545145, 4.950091585769659, 5.8087809424848045, 6.667470299199949, 7.5261596559150945, 8.384849012630239, 9.243538369345384, 10.10222772606053, 10.960917082775675, 11.81960643949082], \"y\": [5.638940287668019, 6.332301199273498, 6.768877721177225, 7.051880902402402, 7.222890847742442, 7.3258772372570045, 7.364575082103895, 7.262483212332574, 7.035063015588951, 6.657002174708331, 5.873574099111984, 4.856351025480445]}, {\"name\": \"gear 1\", \"type\": \"scatter\", \"x\": [4.407161603363944, 6.001241332240266, 7.595321061116587, 9.189400789992906, 10.783480518869228, 12.377560247745548, 13.97163997662187, 15.565719705498188, 17.159799434374506, 18.75387916325083, 20.34795889212715, 21.942038621003473], \"y\": [3.0375507074454795, 3.411046226127989, 3.6462186619601074, 3.7986651269847194, 3.8907837439496578, 3.9462598377489386, 3.967105361906794, 3.912111122665337, 3.7896057680658712, 3.5859542101329405, 3.1639418489691624, 2.6159901932836656]}, {\"name\": \"gear 2\", \"type\": \"scatter\", \"x\": [6.714035255124759, 9.14251609208478, 11.5709969290448, 13.999477766004818, 16.427958602964836, 18.856439439924856, 21.28492027688488, 23.713401113844895, 26.141881950804912, 28.570362787764935, 30.99884362472495, 33.427324461684975], \"y\": [1.9938794387334433, 2.239045727919911, 2.3934153268250964, 2.4934827500207395, 2.553950355002853, 2.590365431958278, 2.604048647815742, 2.56794986513417, 2.4875360939099056, 2.3538571225488023, 2.076843880348989, 1.7171627935400473]}, {\"name\": \"gear 3\", \"type\": \"scatter\", \"x\": [8.859757862432671, 12.064351131823214, 15.268944401213757, 18.473537670604294, 21.678130939994837, 24.88272420938538, 28.087317478775923, 31.291910748166462, 34.496504017557, 37.701097286947544, 40.90569055633809, 44.11028382572863], \"y\": [1.5109867621651876, 1.6967768406893076, 1.8137600523596433, 1.8895923965000914, 1.935415503400599, 1.9630113039058823, 1.973380615922867, 1.9460245071719884, 1.8850859461661003, 1.7837823506815143, 1.5738582530769682, 1.3012874294795669]}, {\"name\": \"gear 4\", \"type\": \"scatter\", \"x\": [11.017904008409861, 15.003103330600663, 18.988302652791464, 22.973501974982263, 26.958701297173064, 30.943900619363866, 34.92909994155467, 38.91429926374547, 42.899498585936264, 46.88469790812707, 50.86989723031787, 54.85509655250868], \"y\": [1.215020282978192, 1.3644184904511958, 1.4584874647840431, 1.519466050793888, 1.5563134975798631, 1.5785039350995755, 1.5868421447627177, 1.5648444490661348, 1.5158423072263487, 1.4343816840531765, 1.2655767395876651, 1.0463960773134662]}, {\"name\": \"gear 5\", \"type\": \"scatter\", \"x\": [13.221484810091832, 18.003723996720794, 22.785963183349757, 27.568202369978717, 32.35044155660768, 37.13268074323664, 41.914919929865604, 46.69715911649456, 51.47939830312352, 56.26163748975249, 61.043876676381444, 65.82611586301041], \"y\": [1.0125169024818268, 1.1370154087093298, 1.2154062206533693, 1.2662217089949066, 1.296927914649886, 1.315419945916313, 1.3223684539689315, 1.3040370408884459, 1.263201922688624, 1.1953180700443136, 1.0546472829897209, 0.8719967310945552]}, {\"name\": \"gear 0\", \"type\": \"scatter\", \"x\": [2.374023515624224, 3.2327128723393694, 4.0914022290545145, 4.950091585769659, 5.8087809424848045, 6.667470299199949, 7.5261596559150945, 8.384849012630239, 9.243538369345384, 10.10222772606053, 10.960917082775675, 11.81960643949082], \"y\": [5.647581033475074, 6.317503079779803, 6.764526130006541, 7.055769617304167, 7.23716313779567, 7.333446450578154, 7.3481694777228315, 7.263692304275028, 7.041185178254189, 6.6206285106538605, 5.920812875441717, 4.839339009559531]}, {\"name\": \"gear 1\", \"type\": \"scatter\", \"x\": [4.407161603363944, 6.001241332240266, 7.595321061116587, 9.189400789992906, 10.783480518869228, 12.377560247745548, 13.97163997662187, 15.565719705498188, 17.159799434374506, 18.75387916325083, 20.34795889212715, 21.942038621003473], \"y\": [3.0422052528387806, 3.403074863417298, 3.6438745727935813, 3.800759876724623, 3.8984718559949076, 3.9503371764164097, 3.9582680888285986, 3.9127624290984278, 3.792903618120353, 3.5663606618163137, 3.1893881511357436, 2.606826262055568]}, {\"name\": \"gear 2\", \"type\": \"scatter\", \"x\": [6.714035255124759, 9.14251609208478, 11.5709969290448, 13.999477766004818, 16.427958602964836, 18.856439439924856, 21.28492027688488, 23.713401113844895, 26.141881950804912, 28.570362787764935, 30.99884362472495, 33.427324461684975], \"y\": [1.996934730068534, 2.2338132436790494, 2.391876642654251, 2.494857765234628, 2.558996910601789, 2.593041838878469, 2.59824777112852, 2.5683773893569213, 2.489700836509776, 2.3409957164743034, 2.0935470940788528, 1.711147495092888]}, {\"name\": \"gear 3\", \"type\": \"scatter\", \"x\": [8.859757862432671, 12.064351131823214, 15.268944401213757, 18.473537670604294, 21.678130939994837, 24.88272420938538, 28.087317478775923, 31.291910748166462, 34.496504017557, 37.701097286947544, 40.90569055633809, 44.11028382572863], \"y\": [1.5133021001300546, 1.6928115987255261, 1.8125940182614226, 1.8906344002168642, 1.939239846315415, 1.965039518525084, 1.9689846390583237, 1.9463484903720327, 1.8867264151675538, 1.774035816390672, 1.5865161572316164, 1.2967289611250654]}, {\"name\": \"gear 4\", \"type\": \"scatter\", \"x\": [11.017904008409861, 15.003103330600663, 18.988302652791464, 22.973501974982263, 26.958701297173064, 30.943900619363866, 34.92909994155467, 38.91429926374547, 42.899498585936264, 46.88469790812707, 50.86989723031787, 54.85509655250868], \"y\": [1.2168821011355109, 1.3612299453669205, 1.4575498291174347, 1.5203039506898521, 1.5593887423979658, 1.5801348705665663, 1.583307235531441, 1.565104971639374, 1.5171614472481443, 1.426544264726529, 1.2757552604543012, 1.04273050482223]}, {\"name\": \"gear 5\", \"type\": \"scatter\", \"x\": [13.221484810091832, 18.003723996720794, 22.785963183349757, 27.568202369978717, 32.35044155660768, 37.13268074323664, 41.914919929865604, 46.69715911649456, 51.47939830312352, 56.26163748975249, 61.043876676381444, 65.82611586301041], \"y\": [1.0140684176129249, 1.134358287805766, 1.214624857597861, 1.2669199589082083, 1.2994906186649688, 1.3167790588054689, 1.319422696276197, 1.304254143032807, 1.2643012060401144, 1.1887868872721001, 1.0631293837119076, 0.8689420873518447]}, {\"line\": {\"color\": \"#0D1A00\"}, \"type\": \"scatter\", \"x\": [11.81960643949082, 11.81960643949082], \"y\": [0, 5]}, {\"line\": {\"color\": \"#0D1A00\"}, \"type\": \"scatter\", \"x\": [21.942038621003473, 21.942038621003473], \"y\": [0, 5]}, {\"line\": {\"color\": \"#0D1A00\"}, \"type\": \"scatter\", \"x\": [33.427324461684975, 33.427324461684975], \"y\": [0, 5]}, {\"line\": {\"color\": \"#0D1A00\"}, \"type\": \"scatter\", \"x\": [44.11028382572863, 44.11028382572863], \"y\": [0, 5]}, {\"line\": {\"color\": \"#0D1A00\"}, \"type\": \"scatter\", \"x\": [54.85509655250868, 54.85509655250868], \"y\": [0, 5]}],\n",
       "                        {\"template\": {\"data\": {\"bar\": [{\"error_x\": {\"color\": \"#2a3f5f\"}, \"error_y\": {\"color\": \"#2a3f5f\"}, \"marker\": {\"line\": {\"color\": \"#E5ECF6\", \"width\": 0.5}}, \"type\": \"bar\"}], \"barpolar\": [{\"marker\": {\"line\": {\"color\": \"#E5ECF6\", \"width\": 0.5}}, \"type\": \"barpolar\"}], \"carpet\": [{\"aaxis\": {\"endlinecolor\": \"#2a3f5f\", \"gridcolor\": \"white\", \"linecolor\": \"white\", \"minorgridcolor\": \"white\", \"startlinecolor\": \"#2a3f5f\"}, \"baxis\": {\"endlinecolor\": \"#2a3f5f\", \"gridcolor\": \"white\", \"linecolor\": \"white\", \"minorgridcolor\": \"white\", \"startlinecolor\": \"#2a3f5f\"}, \"type\": \"carpet\"}], \"choropleth\": [{\"colorbar\": {\"outlinewidth\": 0, \"ticks\": \"\"}, \"type\": \"choropleth\"}], \"contour\": [{\"colorbar\": {\"outlinewidth\": 0, \"ticks\": \"\"}, \"colorscale\": [[0.0, \"#0d0887\"], [0.1111111111111111, \"#46039f\"], [0.2222222222222222, \"#7201a8\"], [0.3333333333333333, \"#9c179e\"], [0.4444444444444444, \"#bd3786\"], [0.5555555555555556, \"#d8576b\"], [0.6666666666666666, \"#ed7953\"], [0.7777777777777778, \"#fb9f3a\"], [0.8888888888888888, \"#fdca26\"], [1.0, \"#f0f921\"]], \"type\": \"contour\"}], \"contourcarpet\": [{\"colorbar\": {\"outlinewidth\": 0, \"ticks\": \"\"}, \"type\": \"contourcarpet\"}], \"heatmap\": [{\"colorbar\": {\"outlinewidth\": 0, \"ticks\": \"\"}, \"colorscale\": [[0.0, \"#0d0887\"], [0.1111111111111111, \"#46039f\"], [0.2222222222222222, \"#7201a8\"], [0.3333333333333333, \"#9c179e\"], [0.4444444444444444, \"#bd3786\"], [0.5555555555555556, \"#d8576b\"], [0.6666666666666666, \"#ed7953\"], [0.7777777777777778, \"#fb9f3a\"], [0.8888888888888888, \"#fdca26\"], [1.0, \"#f0f921\"]], \"type\": \"heatmap\"}], \"heatmapgl\": [{\"colorbar\": {\"outlinewidth\": 0, \"ticks\": \"\"}, \"colorscale\": [[0.0, \"#0d0887\"], [0.1111111111111111, \"#46039f\"], [0.2222222222222222, \"#7201a8\"], [0.3333333333333333, \"#9c179e\"], [0.4444444444444444, \"#bd3786\"], [0.5555555555555556, \"#d8576b\"], [0.6666666666666666, \"#ed7953\"], [0.7777777777777778, \"#fb9f3a\"], [0.8888888888888888, \"#fdca26\"], [1.0, \"#f0f921\"]], \"type\": \"heatmapgl\"}], \"histogram\": [{\"marker\": {\"colorbar\": {\"outlinewidth\": 0, \"ticks\": \"\"}}, \"type\": \"histogram\"}], \"histogram2d\": [{\"colorbar\": {\"outlinewidth\": 0, \"ticks\": \"\"}, \"colorscale\": [[0.0, \"#0d0887\"], [0.1111111111111111, \"#46039f\"], [0.2222222222222222, \"#7201a8\"], [0.3333333333333333, \"#9c179e\"], [0.4444444444444444, \"#bd3786\"], [0.5555555555555556, \"#d8576b\"], [0.6666666666666666, \"#ed7953\"], [0.7777777777777778, \"#fb9f3a\"], [0.8888888888888888, \"#fdca26\"], [1.0, \"#f0f921\"]], \"type\": \"histogram2d\"}], \"histogram2dcontour\": [{\"colorbar\": {\"outlinewidth\": 0, \"ticks\": \"\"}, \"colorscale\": [[0.0, \"#0d0887\"], [0.1111111111111111, \"#46039f\"], [0.2222222222222222, \"#7201a8\"], [0.3333333333333333, \"#9c179e\"], [0.4444444444444444, \"#bd3786\"], [0.5555555555555556, \"#d8576b\"], [0.6666666666666666, \"#ed7953\"], [0.7777777777777778, \"#fb9f3a\"], [0.8888888888888888, \"#fdca26\"], [1.0, \"#f0f921\"]], \"type\": \"histogram2dcontour\"}], \"mesh3d\": [{\"colorbar\": {\"outlinewidth\": 0, \"ticks\": \"\"}, \"type\": \"mesh3d\"}], \"parcoords\": [{\"line\": {\"colorbar\": {\"outlinewidth\": 0, \"ticks\": \"\"}}, \"type\": \"parcoords\"}], \"scatter\": [{\"marker\": {\"colorbar\": {\"outlinewidth\": 0, \"ticks\": \"\"}}, \"type\": \"scatter\"}], \"scatter3d\": [{\"line\": {\"colorbar\": {\"outlinewidth\": 0, \"ticks\": \"\"}}, \"marker\": {\"colorbar\": {\"outlinewidth\": 0, \"ticks\": \"\"}}, \"type\": \"scatter3d\"}], \"scattercarpet\": [{\"marker\": {\"colorbar\": {\"outlinewidth\": 0, \"ticks\": \"\"}}, \"type\": \"scattercarpet\"}], \"scattergeo\": [{\"marker\": {\"colorbar\": {\"outlinewidth\": 0, \"ticks\": \"\"}}, \"type\": \"scattergeo\"}], \"scattergl\": [{\"marker\": {\"colorbar\": {\"outlinewidth\": 0, \"ticks\": \"\"}}, \"type\": \"scattergl\"}], \"scattermapbox\": [{\"marker\": {\"colorbar\": {\"outlinewidth\": 0, \"ticks\": \"\"}}, \"type\": \"scattermapbox\"}], \"scatterpolar\": [{\"marker\": {\"colorbar\": {\"outlinewidth\": 0, \"ticks\": \"\"}}, \"type\": \"scatterpolar\"}], \"scatterpolargl\": [{\"marker\": {\"colorbar\": {\"outlinewidth\": 0, \"ticks\": \"\"}}, \"type\": \"scatterpolargl\"}], \"scatterternary\": [{\"marker\": {\"colorbar\": {\"outlinewidth\": 0, \"ticks\": \"\"}}, \"type\": \"scatterternary\"}], \"surface\": [{\"colorbar\": {\"outlinewidth\": 0, \"ticks\": \"\"}, \"colorscale\": [[0.0, \"#0d0887\"], [0.1111111111111111, \"#46039f\"], [0.2222222222222222, \"#7201a8\"], [0.3333333333333333, \"#9c179e\"], [0.4444444444444444, \"#bd3786\"], [0.5555555555555556, \"#d8576b\"], [0.6666666666666666, \"#ed7953\"], [0.7777777777777778, \"#fb9f3a\"], [0.8888888888888888, \"#fdca26\"], [1.0, \"#f0f921\"]], \"type\": \"surface\"}], \"table\": [{\"cells\": {\"fill\": {\"color\": \"#EBF0F8\"}, \"line\": {\"color\": \"white\"}}, \"header\": {\"fill\": {\"color\": \"#C8D4E3\"}, \"line\": {\"color\": \"white\"}}, \"type\": \"table\"}]}, \"layout\": {\"annotationdefaults\": {\"arrowcolor\": \"#2a3f5f\", \"arrowhead\": 0, \"arrowwidth\": 1}, \"colorscale\": {\"diverging\": [[0, \"#8e0152\"], [0.1, \"#c51b7d\"], [0.2, \"#de77ae\"], [0.3, \"#f1b6da\"], [0.4, \"#fde0ef\"], [0.5, \"#f7f7f7\"], [0.6, \"#e6f5d0\"], [0.7, \"#b8e186\"], [0.8, \"#7fbc41\"], [0.9, \"#4d9221\"], [1, \"#276419\"]], \"sequential\": [[0.0, \"#0d0887\"], [0.1111111111111111, \"#46039f\"], [0.2222222222222222, \"#7201a8\"], [0.3333333333333333, \"#9c179e\"], [0.4444444444444444, \"#bd3786\"], [0.5555555555555556, \"#d8576b\"], [0.6666666666666666, \"#ed7953\"], [0.7777777777777778, \"#fb9f3a\"], [0.8888888888888888, \"#fdca26\"], [1.0, \"#f0f921\"]], \"sequentialminus\": [[0.0, \"#0d0887\"], [0.1111111111111111, \"#46039f\"], [0.2222222222222222, \"#7201a8\"], [0.3333333333333333, \"#9c179e\"], [0.4444444444444444, \"#bd3786\"], [0.5555555555555556, \"#d8576b\"], [0.6666666666666666, \"#ed7953\"], [0.7777777777777778, \"#fb9f3a\"], [0.8888888888888888, \"#fdca26\"], [1.0, \"#f0f921\"]]}, \"colorway\": [\"#636efa\", \"#EF553B\", \"#00cc96\", \"#ab63fa\", \"#FFA15A\", \"#19d3f3\", \"#FF6692\", \"#B6E880\", \"#FF97FF\", \"#FECB52\"], \"font\": {\"color\": \"#2a3f5f\"}, \"geo\": {\"bgcolor\": \"white\", \"lakecolor\": \"white\", \"landcolor\": \"#E5ECF6\", \"showlakes\": true, \"showland\": true, \"subunitcolor\": \"white\"}, \"hoverlabel\": {\"align\": \"left\"}, \"hovermode\": \"closest\", \"mapbox\": {\"style\": \"light\"}, \"paper_bgcolor\": \"white\", \"plot_bgcolor\": \"#E5ECF6\", \"polar\": {\"angularaxis\": {\"gridcolor\": \"white\", \"linecolor\": \"white\", \"ticks\": \"\"}, \"bgcolor\": \"#E5ECF6\", \"radialaxis\": {\"gridcolor\": \"white\", \"linecolor\": \"white\", \"ticks\": \"\"}}, \"scene\": {\"xaxis\": {\"backgroundcolor\": \"#E5ECF6\", \"gridcolor\": \"white\", \"gridwidth\": 2, \"linecolor\": \"white\", \"showbackground\": true, \"ticks\": \"\", \"zerolinecolor\": \"white\"}, \"yaxis\": {\"backgroundcolor\": \"#E5ECF6\", \"gridcolor\": \"white\", \"gridwidth\": 2, \"linecolor\": \"white\", \"showbackground\": true, \"ticks\": \"\", \"zerolinecolor\": \"white\"}, \"zaxis\": {\"backgroundcolor\": \"#E5ECF6\", \"gridcolor\": \"white\", \"gridwidth\": 2, \"linecolor\": \"white\", \"showbackground\": true, \"ticks\": \"\", \"zerolinecolor\": \"white\"}}, \"shapedefaults\": {\"line\": {\"color\": \"#2a3f5f\"}}, \"ternary\": {\"aaxis\": {\"gridcolor\": \"white\", \"linecolor\": \"white\", \"ticks\": \"\"}, \"baxis\": {\"gridcolor\": \"white\", \"linecolor\": \"white\", \"ticks\": \"\"}, \"bgcolor\": \"#E5ECF6\", \"caxis\": {\"gridcolor\": \"white\", \"linecolor\": \"white\", \"ticks\": \"\"}}, \"title\": {\"x\": 0.05}, \"xaxis\": {\"automargin\": true, \"gridcolor\": \"white\", \"linecolor\": \"white\", \"ticks\": \"\", \"zerolinecolor\": \"white\", \"zerolinewidth\": 2}, \"yaxis\": {\"automargin\": true, \"gridcolor\": \"white\", \"linecolor\": \"white\", \"ticks\": \"\", \"zerolinecolor\": \"white\", \"zerolinewidth\": 2}}}, \"title\": {\"text\": \"Acceleration-Velocity per gear\"}, \"xaxis\": {\"title\": {\"text\": \"velocity (in m/s)\"}}, \"yaxis\": {\"title\": {\"text\": \"Acceleration (in m/s2\"}}},\n",
       "                        {\"responsive\": true}\n",
       "                    ).then(function(){\n",
       "                            \n",
       "var gd = document.getElementById('4ee1b4b2-260d-4aff-9ebd-29320c8bdd25');\n",
       "var x = new MutationObserver(function (mutations, observer) {{\n",
       "        var display = window.getComputedStyle(gd).display;\n",
       "        if (!display || display === 'none') {{\n",
       "            console.log([gd, 'removed!']);\n",
       "            Plotly.purge(gd);\n",
       "            observer.disconnect();\n",
       "        }}\n",
       "}});\n",
       "\n",
       "// Listen for the removal of the full notebook cells\n",
       "var notebookContainer = gd.closest('#notebook-container');\n",
       "if (notebookContainer) {{\n",
       "    x.observe(notebookContainer, {childList: true});\n",
       "}}\n",
       "\n",
       "// Listen for the clearing of the current output cell\n",
       "var outputEl = gd.closest('.output');\n",
       "if (outputEl) {{\n",
       "    x.observe(outputEl, {childList: true});\n",
       "}}\n",
       "\n",
       "                        })\n",
       "                };\n",
       "                });\n",
       "            </script>\n",
       "        </div>"
      ]
     },
     "metadata": {},
     "output_type": "display_data"
    }
   ],
   "source": [
    "outputs = sol['outputs'] # outputs of the dispatcher\n",
    "layout = go.Layout(title=\"Acceleration-Velocity per gear\",\n",
    "                xaxis=dict(title='velocity (in m/s)'),\n",
    "                yaxis=dict(title='Acceleration (in m/s2'))\n",
    "data = [\n",
    "    dict(x=x , y=y, name='gear %d'%i) for i, (x, y) in enumerate(zip(outputs['speed_per_gear'],outputs['acc_per_gear']))\n",
    "] + [\n",
    "    dict(x=x, y=np.polyval(p, x), name='gear %d'%i) for i, (x, p) in enumerate(zip(outputs['speed_per_gear'], outputs['coefs_per_gear']))\n",
    "] + [dict(x=[gear, gear], y=[0,5], line=dict(color='#0D1A00')) for gear in outputs['gs']]\n",
    "fig = go.Figure(data=data, layout=layout)\n",
    "iplot(fig)"
   ]
  },
  {
   "cell_type": "code",
   "execution_count": null,
   "metadata": {},
   "outputs": [],
   "source": []
  }
 ],
 "metadata": {
  "kernelspec": {
   "display_name": "Python 3",
   "language": "python",
   "name": "python3"
  },
  "language_info": {
   "codemirror_mode": {
    "name": "ipython",
    "version": 3
   },
   "file_extension": ".py",
   "mimetype": "text/x-python",
   "name": "python",
   "nbconvert_exporter": "python",
   "pygments_lexer": "ipython3",
   "version": "3.7.1"
  }
 },
 "nbformat": 4,
 "nbformat_minor": 2
}
